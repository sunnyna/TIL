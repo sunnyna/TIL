{
  "nbformat": 4,
  "nbformat_minor": 0,
  "metadata": {
    "colab": {
      "name": "making_token&ngram.ipynb",
      "provenance": [],
      "mount_file_id": "1R_Ryc_cqpoLljwKbPwaEFANHPnUbbRru",
      "authorship_tag": "ABX9TyN6Cpix+R3h8tVgKYTbCu/V",
      "include_colab_link": true
    },
    "kernelspec": {
      "name": "python3",
      "display_name": "Python 3"
    }
  },
  "cells": [
    {
      "cell_type": "markdown",
      "metadata": {
        "id": "view-in-github",
        "colab_type": "text"
      },
      "source": [
        "<a href=\"https://colab.research.google.com/github/sunnyna/TIL/blob/master/making_token%26ngram.ipynb\" target=\"_parent\"><img src=\"https://colab.research.google.com/assets/colab-badge.svg\" alt=\"Open In Colab\"/></a>"
      ]
    },
    {
      "cell_type": "markdown",
      "metadata": {
        "id": "awox1SxcS3SE",
        "colab_type": "text"
      },
      "source": [
        "### 패키지 설치"
      ]
    },
    {
      "cell_type": "code",
      "metadata": {
        "id": "jKU5aniHHvtB",
        "colab_type": "code",
        "colab": {}
      },
      "source": [
        "!pip install konlpy"
      ],
      "execution_count": null,
      "outputs": []
    },
    {
      "cell_type": "code",
      "metadata": {
        "id": "8dFAR1jRH-n0",
        "colab_type": "code",
        "colab": {}
      },
      "source": [
        "!sudo apt-get install g++ openjdk-7-jdk # Install Java 1.7+\n",
        "!sudo apt-get install python-dev; pip install konlpy     # Python 2.x\n",
        "!sudo apt-get install python3-dev; pip3 install konlpy   # Python 3.x\n",
        "!sudo apt-get install curl\n",
        "!bash <(curl -s https://raw.githubusercontent.com/konlpy/konlpy/master/scripts/mecab.sh)"
      ],
      "execution_count": null,
      "outputs": []
    },
    {
      "cell_type": "code",
      "metadata": {
        "id": "Y0Oy8ZdiKy_Y",
        "colab_type": "code",
        "colab": {}
      },
      "source": [
        "!git clone https://github.com/entelecheia/eKoNLPy.git\n",
        "!pip install ./eKoNLPy"
      ],
      "execution_count": null,
      "outputs": []
    },
    {
      "cell_type": "markdown",
      "metadata": {
        "id": "i5AmCIuqS_SC",
        "colab_type": "text"
      },
      "source": [
        "### token과 ngram을 만들어서 dataframe에 추가"
      ]
    },
    {
      "cell_type": "code",
      "metadata": {
        "id": "bJw4_-R100k7",
        "colab_type": "code",
        "colab": {}
      },
      "source": [
        "import konlpy as kn\n",
        "import MeCab as mc\n",
        "import ekonlpy as ek\n",
        "import pandas as pd\n",
        "import numpy as np\n",
        "from pandas import Series, DataFrame"
      ],
      "execution_count": 4,
      "outputs": []
    },
    {
      "cell_type": "code",
      "metadata": {
        "id": "QD3u-G9a1JUB",
        "colab_type": "code",
        "colab": {}
      },
      "source": [
        "from ekonlpy.tag import Mecab\n",
        "from ekonlpy.sentiment import MPCK\n",
        "mpck = MPCK()\n",
        "\n",
        "\n",
        "\n",
        "    \n",
        "df = pd.read_csv(\"/content/drive/My Drive/bond_analysis_report.csv\") \n",
        "\n",
        "df['token']=\"\" #빈 값을 가진 token column 추가\n",
        "df['ngram']=\"\" #빈 값을 가진 ngram column 추가\n",
        "\n",
        "\n",
        "for i, row in df.iterrows() :\n",
        "\n",
        "    try :\n",
        "        tmp_df = df['Text']\n",
        "        #임시 데이터프레임에 불러온 기사의 본문 내용 리스트로 저장\n",
        "\n",
        "        tokens = mpck.tokenize(tmp_df[i])\n",
        "        row['token'] = '.'.join(tokens)\n",
        "        df.loc[i, 'token'] = row['token']\n",
        "        #eKoNLPy로 tokenizing 한 것을 데이터프레임에 column 추가\n",
        "\n",
        "        ngrams =  mpck.ngramize(tokens)\n",
        "        row['ngram'] = '.'.join(ngrams)\n",
        "        df.loc[i, 'ngram'] = row['ngram']\n",
        "        #eKoNLPy로 ngram화 한 것을 데이터프레임에 column 추가\n",
        "        \n",
        "        #eKoNLPy로 Pre-processing(tokenizing, pos 품사 태깅, lemmatization, 불용어 처리),\n",
        "        #feature selection(word list 작성, n-gram화)가 모두 실행\n",
        "\n",
        "        print(\"success\")\n",
        "        if i % 100 == 0 :\n",
        "            print('{}/{} : 성공'.format(i, df.shape[0]))\n",
        "    except Exception as ex :\n",
        "        print(\"fail\")\n",
        "        #print(\"{} : {}\".format(i, str(ex)))\n",
        "\n",
        "df.to_csv('/content/drive/My Drive/bond_analysis_report_processed.csv', mode='w')"
      ],
      "execution_count": null,
      "outputs": []
    },
    {
      "cell_type": "code",
      "metadata": {
        "id": "WyQwx7jc2LLA",
        "colab_type": "code",
        "colab": {
          "base_uri": "https://localhost:8080/",
          "height": 623
        },
        "outputId": "c3c6cf9e-93ad-4f06-d6f6-fb16f07e6525"
      },
      "source": [
        "df"
      ],
      "execution_count": 12,
      "outputs": [
        {
          "output_type": "execute_result",
          "data": {
            "text/html": [
              "<div>\n",
              "<style scoped>\n",
              "    .dataframe tbody tr th:only-of-type {\n",
              "        vertical-align: middle;\n",
              "    }\n",
              "\n",
              "    .dataframe tbody tr th {\n",
              "        vertical-align: top;\n",
              "    }\n",
              "\n",
              "    .dataframe thead th {\n",
              "        text-align: right;\n",
              "    }\n",
              "</style>\n",
              "<table border=\"1\" class=\"dataframe\">\n",
              "  <thead>\n",
              "    <tr style=\"text-align: right;\">\n",
              "      <th></th>\n",
              "      <th>FileName</th>\n",
              "      <th>Text</th>\n",
              "      <th>token</th>\n",
              "      <th>ngram</th>\n",
              "    </tr>\n",
              "  </thead>\n",
              "  <tbody>\n",
              "    <tr>\n",
              "      <th>0</th>\n",
              "      <td>17.12.27_2018년 북한 리스크 대비하기.pdf</td>\n",
              "      <td>Microsoft Word - CrediVille_171227          트럼...</td>\n",
              "      <td>트럼프노믹스/NNG.극복/NNG.하/VV.시장/NNG.보/VV.조사/NNG.자료/N...</td>\n",
              "      <td>은행채/NNG;신용스프레드/NNG;확대/NNG.신용스프레드/NNG;하향/NNG;안정...</td>\n",
              "    </tr>\n",
              "    <tr>\n",
              "      <th>1</th>\n",
              "      <td>17.12.26_1월에는 무조건 GO.pdf</td>\n",
              "      <td>PowerPoint 프레젠테이션Fixed Income Analyst 김지만 02-3...</td>\n",
              "      <td>프레젠테이션/NNG.채권/NNG.채권시장/NNG.전망/NNG.동향/NNG.금리/NN...</td>\n",
              "      <td>기대/NNG;글로벌/NNG;금리/NNG;상승/NNG.하락/NNG;예상/NNG;금리/...</td>\n",
              "    </tr>\n",
              "    <tr>\n",
              "      <th>2</th>\n",
              "      <td>17.12.20_트럼프노믹스를 극복한 2017년 ᄉ...</td>\n",
              "      <td>2013년 0월 0일          2금융권 안심전환대출 수급영향 점검  Inve...</td>\n",
              "      <td>금융/NNG.수급/NNG.영향/NNG.점검/NNG.채권/NNG.보/VV.조사/NNG...</td>\n",
              "      <td>국고채/NNG;금리/NNG;급등/NNG.원금/NNG;상환/NNG;부담/NNG.금리/...</td>\n",
              "    </tr>\n",
              "    <tr>\n",
              "      <th>3</th>\n",
              "      <td>17.12.20_11월 채권시장 전망.pdf</td>\n",
              "      <td>Fixed Income    2017. 12. 20     11월 금통위 의...</td>\n",
              "      <td>의사록/NNG.확신/NNG.없/VA.인상/NNG.의견/NNG.있/VA.확인/NNG....</td>\n",
              "      <td>금리/NNG;인상/NNG;반대/NNG.희박/NNG;금리/NNG;인상/NNG.아직/M...</td>\n",
              "    </tr>\n",
              "    <tr>\n",
              "      <th>4</th>\n",
              "      <td>17.12.18_2금융권 안심전환대출 수급영...</td>\n",
              "      <td>(Microsoft Word - \\307\\366\\264\\353\\302\\367_Cre...</td>\n",
              "      <td>속도조절/NNG.중/NNG.발행시장/NNG.공모/NNG.회사채/NNG.발행/NNG....</td>\n",
              "      <td>크레딧/NNG;시장/NNG;스프레드/NNG;축소/NNG.전망/NNG;상향/NNG;전...</td>\n",
              "    </tr>\n",
              "    <tr>\n",
              "      <th>...</th>\n",
              "      <td>...</td>\n",
              "      <td>...</td>\n",
              "      <td>...</td>\n",
              "      <td>...</td>\n",
              "    </tr>\n",
              "    <tr>\n",
              "      <th>3088</th>\n",
              "      <td>08.04.21_정부의 금리인하 요구에 한은의 부...</td>\n",
              "      <td>Microsoft Word - 920_0421_Fixed Income Weekly....</td>\n",
              "      <td>경기/NNG.전망/NNG.비교적/VAX.분명/MAG.인플레이션/NNG.명분/NNG....</td>\n",
              "      <td>미/NNG;국채/NNG;금리/NNG;안전자산/NNG;선호/NNG.금리/NNG;인하/...</td>\n",
              "    </tr>\n",
              "    <tr>\n",
              "      <th>3089</th>\n",
              "      <td>08.04.14_FOMC 이후 원자재 가격 상승세 둔ᄒ...</td>\n",
              "      <td>Microsoft Word - Fixedincome0414.doc    4월 금통위...</td>\n",
              "      <td>믹스/NNG.합의/NNG.반영/NNG.예상/NNG.경제/NNG.성장률/NNG.하향/...</td>\n",
              "      <td>예상/NNG;경제/NNG;성장률/NNG;하향/NNG.금리/NNG;인하/NNG;기대/...</td>\n",
              "    </tr>\n",
              "    <tr>\n",
              "      <th>3090</th>\n",
              "      <td>08.04.07_항상 열려는 있는 가능성.pdf</td>\n",
              "      <td>Microsoft Word - 0407.docFixed Income Weekly 2...</td>\n",
              "      <td>돌아온/VV.박스권/NNG.하단/NNG.상단/NNG.테스트/NNG.가능성/NNG.무...</td>\n",
              "      <td>글로벌/NNG;신용경색/NNG;완화/NNG.단기/NNG;인플레이션/NNG;우려/NN...</td>\n",
              "    </tr>\n",
              "    <tr>\n",
              "      <th>3091</th>\n",
              "      <td>08.04.07_총재의 변신은 무죄다?!.pdf</td>\n",
              "      <td>Microsoft Word - 0407.docFixed Income Weekly 2...</td>\n",
              "      <td>돌아온/VV.박스권/NNG.하단/NNG.상단/NNG.테스트/NNG.가능성/NNG.무...</td>\n",
              "      <td>글로벌/NNG;신용경색/NNG;완화/NNG.단기/NNG;인플레이션/NNG;우려/NN...</td>\n",
              "    </tr>\n",
              "    <tr>\n",
              "      <th>3092</th>\n",
              "      <td>08.04.01_시간차 공격.pdf</td>\n",
              "      <td>ㅎㅎㅎ2008_04  월간채권투자채 권 시 장 전 망금 융 시 장 차 트 북對應과 ...</td>\n",
              "      <td>가/VV.권투/NNG.자채/NNG.시장/NNG.전망/NNG.금융시장/NNG.차/NN...</td>\n",
              "      <td>미/NNG;국채/NNG;금리/NNG;안전자산/NNG;선호/NNG.경기/NNG;개선/...</td>\n",
              "    </tr>\n",
              "  </tbody>\n",
              "</table>\n",
              "<p>3093 rows × 4 columns</p>\n",
              "</div>"
            ],
            "text/plain": [
              "                                               FileName  ...                                              ngram\n",
              "0           17.12.27_2018년 북한 리스크 대비하기.pdf  ...  은행채/NNG;신용스프레드/NNG;확대/NNG.신용스프레드/NNG;하향/NNG;안정...\n",
              "1                     17.12.26_1월에는 무조건 GO.pdf  ...  기대/NNG;글로벌/NNG;금리/NNG;상승/NNG.하락/NNG;예상/NNG;금리/...\n",
              "2     17.12.20_트럼프노믹스를 극복한 2017년 ᄉ...  ...  국고채/NNG;금리/NNG;급등/NNG.원금/NNG;상환/NNG;부담/NNG.금리/...\n",
              "3                  17.12.20_11월 채권시장 전망.pdf  ...  금리/NNG;인상/NNG;반대/NNG.희박/NNG;금리/NNG;인상/NNG.아직/M...\n",
              "4     17.12.18_2금융권 안심전환대출 수급영...  ...  크레딧/NNG;시장/NNG;스프레드/NNG;축소/NNG.전망/NNG;상향/NNG;전...\n",
              "...                                                 ...  ...                                                ...\n",
              "3088  08.04.21_정부의 금리인하 요구에 한은의 부...  ...  미/NNG;국채/NNG;금리/NNG;안전자산/NNG;선호/NNG.금리/NNG;인하/...\n",
              "3089  08.04.14_FOMC 이후 원자재 가격 상승세 둔ᄒ...  ...  예상/NNG;경제/NNG;성장률/NNG;하향/NNG.금리/NNG;인하/NNG;기대/...\n",
              "3090       08.04.07_항상 열려는 있는 가능성.pdf  ...  글로벌/NNG;신용경색/NNG;완화/NNG.단기/NNG;인플레이션/NNG;우려/NN...\n",
              "3091            08.04.07_총재의 변신은 무죄다?!.pdf  ...  글로벌/NNG;신용경색/NNG;완화/NNG.단기/NNG;인플레이션/NNG;우려/NN...\n",
              "3092                        08.04.01_시간차 공격.pdf  ...  미/NNG;국채/NNG;금리/NNG;안전자산/NNG;선호/NNG.경기/NNG;개선/...\n",
              "\n",
              "[3093 rows x 4 columns]"
            ]
          },
          "metadata": {
            "tags": []
          },
          "execution_count": 12
        }
      ]
    },
    {
      "cell_type": "code",
      "metadata": {
        "id": "VVmE0uNJ2QhG",
        "colab_type": "code",
        "colab": {}
      },
      "source": [
        "row['ngram']"
      ],
      "execution_count": null,
      "outputs": []
    },
    {
      "cell_type": "markdown",
      "metadata": {
        "id": "MwNwAp7DTM2h",
        "colab_type": "text"
      },
      "source": [
        "### dataframe에서 날짜 열 따로 뽑기"
      ]
    },
    {
      "cell_type": "code",
      "metadata": {
        "id": "o_O8-kpZTMCO",
        "colab_type": "code",
        "colab": {}
      },
      "source": [
        "df[\"date\"]=df[\"FileName\"].str[:8]\n"
      ],
      "execution_count": 14,
      "outputs": []
    },
    {
      "cell_type": "code",
      "metadata": {
        "id": "DDJiQKhTUIqX",
        "colab_type": "code",
        "colab": {
          "base_uri": "https://localhost:8080/",
          "height": 740
        },
        "outputId": "a7f29cd0-3fae-4c8c-88e4-b604abcbf881"
      },
      "source": [
        "df = df[['date', 'FileName', 'Text', 'token','ngram']]\n",
        "\n",
        "df"
      ],
      "execution_count": 17,
      "outputs": [
        {
          "output_type": "execute_result",
          "data": {
            "text/html": [
              "<div>\n",
              "<style scoped>\n",
              "    .dataframe tbody tr th:only-of-type {\n",
              "        vertical-align: middle;\n",
              "    }\n",
              "\n",
              "    .dataframe tbody tr th {\n",
              "        vertical-align: top;\n",
              "    }\n",
              "\n",
              "    .dataframe thead th {\n",
              "        text-align: right;\n",
              "    }\n",
              "</style>\n",
              "<table border=\"1\" class=\"dataframe\">\n",
              "  <thead>\n",
              "    <tr style=\"text-align: right;\">\n",
              "      <th></th>\n",
              "      <th>date</th>\n",
              "      <th>FileName</th>\n",
              "      <th>Text</th>\n",
              "      <th>token</th>\n",
              "      <th>ngram</th>\n",
              "    </tr>\n",
              "  </thead>\n",
              "  <tbody>\n",
              "    <tr>\n",
              "      <th>0</th>\n",
              "      <td>17.12.27</td>\n",
              "      <td>17.12.27_2018년 북한 리스크 대비하기.pdf</td>\n",
              "      <td>Microsoft Word - CrediVille_171227          트럼...</td>\n",
              "      <td>트럼프노믹스/NNG.극복/NNG.하/VV.시장/NNG.보/VV.조사/NNG.자료/N...</td>\n",
              "      <td>은행채/NNG;신용스프레드/NNG;확대/NNG.신용스프레드/NNG;하향/NNG;안정...</td>\n",
              "    </tr>\n",
              "    <tr>\n",
              "      <th>1</th>\n",
              "      <td>17.12.26</td>\n",
              "      <td>17.12.26_1월에는 무조건 GO.pdf</td>\n",
              "      <td>PowerPoint 프레젠테이션Fixed Income Analyst 김지만 02-3...</td>\n",
              "      <td>프레젠테이션/NNG.채권/NNG.채권시장/NNG.전망/NNG.동향/NNG.금리/NN...</td>\n",
              "      <td>기대/NNG;글로벌/NNG;금리/NNG;상승/NNG.하락/NNG;예상/NNG;금리/...</td>\n",
              "    </tr>\n",
              "    <tr>\n",
              "      <th>2</th>\n",
              "      <td>17.12.20</td>\n",
              "      <td>17.12.20_트럼프노믹스를 극복한 2017년 ᄉ...</td>\n",
              "      <td>2013년 0월 0일          2금융권 안심전환대출 수급영향 점검  Inve...</td>\n",
              "      <td>금융/NNG.수급/NNG.영향/NNG.점검/NNG.채권/NNG.보/VV.조사/NNG...</td>\n",
              "      <td>국고채/NNG;금리/NNG;급등/NNG.원금/NNG;상환/NNG;부담/NNG.금리/...</td>\n",
              "    </tr>\n",
              "    <tr>\n",
              "      <th>3</th>\n",
              "      <td>17.12.20</td>\n",
              "      <td>17.12.20_11월 채권시장 전망.pdf</td>\n",
              "      <td>Fixed Income    2017. 12. 20     11월 금통위 의...</td>\n",
              "      <td>의사록/NNG.확신/NNG.없/VA.인상/NNG.의견/NNG.있/VA.확인/NNG....</td>\n",
              "      <td>금리/NNG;인상/NNG;반대/NNG.희박/NNG;금리/NNG;인상/NNG.아직/M...</td>\n",
              "    </tr>\n",
              "    <tr>\n",
              "      <th>4</th>\n",
              "      <td>17.12.18</td>\n",
              "      <td>17.12.18_2금융권 안심전환대출 수급영...</td>\n",
              "      <td>(Microsoft Word - \\307\\366\\264\\353\\302\\367_Cre...</td>\n",
              "      <td>속도조절/NNG.중/NNG.발행시장/NNG.공모/NNG.회사채/NNG.발행/NNG....</td>\n",
              "      <td>크레딧/NNG;시장/NNG;스프레드/NNG;축소/NNG.전망/NNG;상향/NNG;전...</td>\n",
              "    </tr>\n",
              "    <tr>\n",
              "      <th>...</th>\n",
              "      <td>...</td>\n",
              "      <td>...</td>\n",
              "      <td>...</td>\n",
              "      <td>...</td>\n",
              "      <td>...</td>\n",
              "    </tr>\n",
              "    <tr>\n",
              "      <th>3088</th>\n",
              "      <td>08.04.21</td>\n",
              "      <td>08.04.21_정부의 금리인하 요구에 한은의 부...</td>\n",
              "      <td>Microsoft Word - 920_0421_Fixed Income Weekly....</td>\n",
              "      <td>경기/NNG.전망/NNG.비교적/VAX.분명/MAG.인플레이션/NNG.명분/NNG....</td>\n",
              "      <td>미/NNG;국채/NNG;금리/NNG;안전자산/NNG;선호/NNG.금리/NNG;인하/...</td>\n",
              "    </tr>\n",
              "    <tr>\n",
              "      <th>3089</th>\n",
              "      <td>08.04.14</td>\n",
              "      <td>08.04.14_FOMC 이후 원자재 가격 상승세 둔ᄒ...</td>\n",
              "      <td>Microsoft Word - Fixedincome0414.doc    4월 금통위...</td>\n",
              "      <td>믹스/NNG.합의/NNG.반영/NNG.예상/NNG.경제/NNG.성장률/NNG.하향/...</td>\n",
              "      <td>예상/NNG;경제/NNG;성장률/NNG;하향/NNG.금리/NNG;인하/NNG;기대/...</td>\n",
              "    </tr>\n",
              "    <tr>\n",
              "      <th>3090</th>\n",
              "      <td>08.04.07</td>\n",
              "      <td>08.04.07_항상 열려는 있는 가능성.pdf</td>\n",
              "      <td>Microsoft Word - 0407.docFixed Income Weekly 2...</td>\n",
              "      <td>돌아온/VV.박스권/NNG.하단/NNG.상단/NNG.테스트/NNG.가능성/NNG.무...</td>\n",
              "      <td>글로벌/NNG;신용경색/NNG;완화/NNG.단기/NNG;인플레이션/NNG;우려/NN...</td>\n",
              "    </tr>\n",
              "    <tr>\n",
              "      <th>3091</th>\n",
              "      <td>08.04.07</td>\n",
              "      <td>08.04.07_총재의 변신은 무죄다?!.pdf</td>\n",
              "      <td>Microsoft Word - 0407.docFixed Income Weekly 2...</td>\n",
              "      <td>돌아온/VV.박스권/NNG.하단/NNG.상단/NNG.테스트/NNG.가능성/NNG.무...</td>\n",
              "      <td>글로벌/NNG;신용경색/NNG;완화/NNG.단기/NNG;인플레이션/NNG;우려/NN...</td>\n",
              "    </tr>\n",
              "    <tr>\n",
              "      <th>3092</th>\n",
              "      <td>08.04.01</td>\n",
              "      <td>08.04.01_시간차 공격.pdf</td>\n",
              "      <td>ㅎㅎㅎ2008_04  월간채권투자채 권 시 장 전 망금 융 시 장 차 트 북對應과 ...</td>\n",
              "      <td>가/VV.권투/NNG.자채/NNG.시장/NNG.전망/NNG.금융시장/NNG.차/NN...</td>\n",
              "      <td>미/NNG;국채/NNG;금리/NNG;안전자산/NNG;선호/NNG.경기/NNG;개선/...</td>\n",
              "    </tr>\n",
              "  </tbody>\n",
              "</table>\n",
              "<p>3093 rows × 5 columns</p>\n",
              "</div>"
            ],
            "text/plain": [
              "          date  ...                                              ngram\n",
              "0     17.12.27  ...  은행채/NNG;신용스프레드/NNG;확대/NNG.신용스프레드/NNG;하향/NNG;안정...\n",
              "1     17.12.26  ...  기대/NNG;글로벌/NNG;금리/NNG;상승/NNG.하락/NNG;예상/NNG;금리/...\n",
              "2     17.12.20  ...  국고채/NNG;금리/NNG;급등/NNG.원금/NNG;상환/NNG;부담/NNG.금리/...\n",
              "3     17.12.20  ...  금리/NNG;인상/NNG;반대/NNG.희박/NNG;금리/NNG;인상/NNG.아직/M...\n",
              "4     17.12.18  ...  크레딧/NNG;시장/NNG;스프레드/NNG;축소/NNG.전망/NNG;상향/NNG;전...\n",
              "...        ...  ...                                                ...\n",
              "3088  08.04.21  ...  미/NNG;국채/NNG;금리/NNG;안전자산/NNG;선호/NNG.금리/NNG;인하/...\n",
              "3089  08.04.14  ...  예상/NNG;경제/NNG;성장률/NNG;하향/NNG.금리/NNG;인하/NNG;기대/...\n",
              "3090  08.04.07  ...  글로벌/NNG;신용경색/NNG;완화/NNG.단기/NNG;인플레이션/NNG;우려/NN...\n",
              "3091  08.04.07  ...  글로벌/NNG;신용경색/NNG;완화/NNG.단기/NNG;인플레이션/NNG;우려/NN...\n",
              "3092  08.04.01  ...  미/NNG;국채/NNG;금리/NNG;안전자산/NNG;선호/NNG.경기/NNG;개선/...\n",
              "\n",
              "[3093 rows x 5 columns]"
            ]
          },
          "metadata": {
            "tags": []
          },
          "execution_count": 17
        }
      ]
    },
    {
      "cell_type": "markdown",
      "metadata": {
        "id": "Ook47o11Vhra",
        "colab_type": "text"
      },
      "source": [
        "### datetime 형식으로 date 형식 지정"
      ]
    },
    {
      "cell_type": "code",
      "metadata": {
        "id": "xKxDofo0UxK7",
        "colab_type": "code",
        "colab": {}
      },
      "source": [
        "df['date']=pd.to_datetime(df['date'])"
      ],
      "execution_count": 19,
      "outputs": []
    },
    {
      "cell_type": "code",
      "metadata": {
        "id": "uW9BST0mU3DA",
        "colab_type": "code",
        "colab": {
          "base_uri": "https://localhost:8080/",
          "height": 740
        },
        "outputId": "a5822b34-ec63-448b-adb5-33a93ba3ae4c"
      },
      "source": [
        "df"
      ],
      "execution_count": 20,
      "outputs": [
        {
          "output_type": "execute_result",
          "data": {
            "text/html": [
              "<div>\n",
              "<style scoped>\n",
              "    .dataframe tbody tr th:only-of-type {\n",
              "        vertical-align: middle;\n",
              "    }\n",
              "\n",
              "    .dataframe tbody tr th {\n",
              "        vertical-align: top;\n",
              "    }\n",
              "\n",
              "    .dataframe thead th {\n",
              "        text-align: right;\n",
              "    }\n",
              "</style>\n",
              "<table border=\"1\" class=\"dataframe\">\n",
              "  <thead>\n",
              "    <tr style=\"text-align: right;\">\n",
              "      <th></th>\n",
              "      <th>date</th>\n",
              "      <th>FileName</th>\n",
              "      <th>Text</th>\n",
              "      <th>token</th>\n",
              "      <th>ngram</th>\n",
              "    </tr>\n",
              "  </thead>\n",
              "  <tbody>\n",
              "    <tr>\n",
              "      <th>0</th>\n",
              "      <td>2027-12-17</td>\n",
              "      <td>17.12.27_2018년 북한 리스크 대비하기.pdf</td>\n",
              "      <td>Microsoft Word - CrediVille_171227          트럼...</td>\n",
              "      <td>트럼프노믹스/NNG.극복/NNG.하/VV.시장/NNG.보/VV.조사/NNG.자료/N...</td>\n",
              "      <td>은행채/NNG;신용스프레드/NNG;확대/NNG.신용스프레드/NNG;하향/NNG;안정...</td>\n",
              "    </tr>\n",
              "    <tr>\n",
              "      <th>1</th>\n",
              "      <td>2026-12-17</td>\n",
              "      <td>17.12.26_1월에는 무조건 GO.pdf</td>\n",
              "      <td>PowerPoint 프레젠테이션Fixed Income Analyst 김지만 02-3...</td>\n",
              "      <td>프레젠테이션/NNG.채권/NNG.채권시장/NNG.전망/NNG.동향/NNG.금리/NN...</td>\n",
              "      <td>기대/NNG;글로벌/NNG;금리/NNG;상승/NNG.하락/NNG;예상/NNG;금리/...</td>\n",
              "    </tr>\n",
              "    <tr>\n",
              "      <th>2</th>\n",
              "      <td>2020-12-17</td>\n",
              "      <td>17.12.20_트럼프노믹스를 극복한 2017년 ᄉ...</td>\n",
              "      <td>2013년 0월 0일          2금융권 안심전환대출 수급영향 점검  Inve...</td>\n",
              "      <td>금융/NNG.수급/NNG.영향/NNG.점검/NNG.채권/NNG.보/VV.조사/NNG...</td>\n",
              "      <td>국고채/NNG;금리/NNG;급등/NNG.원금/NNG;상환/NNG;부담/NNG.금리/...</td>\n",
              "    </tr>\n",
              "    <tr>\n",
              "      <th>3</th>\n",
              "      <td>2020-12-17</td>\n",
              "      <td>17.12.20_11월 채권시장 전망.pdf</td>\n",
              "      <td>Fixed Income    2017. 12. 20     11월 금통위 의...</td>\n",
              "      <td>의사록/NNG.확신/NNG.없/VA.인상/NNG.의견/NNG.있/VA.확인/NNG....</td>\n",
              "      <td>금리/NNG;인상/NNG;반대/NNG.희박/NNG;금리/NNG;인상/NNG.아직/M...</td>\n",
              "    </tr>\n",
              "    <tr>\n",
              "      <th>4</th>\n",
              "      <td>2018-12-17</td>\n",
              "      <td>17.12.18_2금융권 안심전환대출 수급영...</td>\n",
              "      <td>(Microsoft Word - \\307\\366\\264\\353\\302\\367_Cre...</td>\n",
              "      <td>속도조절/NNG.중/NNG.발행시장/NNG.공모/NNG.회사채/NNG.발행/NNG....</td>\n",
              "      <td>크레딧/NNG;시장/NNG;스프레드/NNG;축소/NNG.전망/NNG;상향/NNG;전...</td>\n",
              "    </tr>\n",
              "    <tr>\n",
              "      <th>...</th>\n",
              "      <td>...</td>\n",
              "      <td>...</td>\n",
              "      <td>...</td>\n",
              "      <td>...</td>\n",
              "      <td>...</td>\n",
              "    </tr>\n",
              "    <tr>\n",
              "      <th>3088</th>\n",
              "      <td>2021-08-04</td>\n",
              "      <td>08.04.21_정부의 금리인하 요구에 한은의 부...</td>\n",
              "      <td>Microsoft Word - 920_0421_Fixed Income Weekly....</td>\n",
              "      <td>경기/NNG.전망/NNG.비교적/VAX.분명/MAG.인플레이션/NNG.명분/NNG....</td>\n",
              "      <td>미/NNG;국채/NNG;금리/NNG;안전자산/NNG;선호/NNG.금리/NNG;인하/...</td>\n",
              "    </tr>\n",
              "    <tr>\n",
              "      <th>3089</th>\n",
              "      <td>2014-08-04</td>\n",
              "      <td>08.04.14_FOMC 이후 원자재 가격 상승세 둔ᄒ...</td>\n",
              "      <td>Microsoft Word - Fixedincome0414.doc    4월 금통위...</td>\n",
              "      <td>믹스/NNG.합의/NNG.반영/NNG.예상/NNG.경제/NNG.성장률/NNG.하향/...</td>\n",
              "      <td>예상/NNG;경제/NNG;성장률/NNG;하향/NNG.금리/NNG;인하/NNG;기대/...</td>\n",
              "    </tr>\n",
              "    <tr>\n",
              "      <th>3090</th>\n",
              "      <td>2007-08-04</td>\n",
              "      <td>08.04.07_항상 열려는 있는 가능성.pdf</td>\n",
              "      <td>Microsoft Word - 0407.docFixed Income Weekly 2...</td>\n",
              "      <td>돌아온/VV.박스권/NNG.하단/NNG.상단/NNG.테스트/NNG.가능성/NNG.무...</td>\n",
              "      <td>글로벌/NNG;신용경색/NNG;완화/NNG.단기/NNG;인플레이션/NNG;우려/NN...</td>\n",
              "    </tr>\n",
              "    <tr>\n",
              "      <th>3091</th>\n",
              "      <td>2007-08-04</td>\n",
              "      <td>08.04.07_총재의 변신은 무죄다?!.pdf</td>\n",
              "      <td>Microsoft Word - 0407.docFixed Income Weekly 2...</td>\n",
              "      <td>돌아온/VV.박스권/NNG.하단/NNG.상단/NNG.테스트/NNG.가능성/NNG.무...</td>\n",
              "      <td>글로벌/NNG;신용경색/NNG;완화/NNG.단기/NNG;인플레이션/NNG;우려/NN...</td>\n",
              "    </tr>\n",
              "    <tr>\n",
              "      <th>3092</th>\n",
              "      <td>2001-08-04</td>\n",
              "      <td>08.04.01_시간차 공격.pdf</td>\n",
              "      <td>ㅎㅎㅎ2008_04  월간채권투자채 권 시 장 전 망금 융 시 장 차 트 북對應과 ...</td>\n",
              "      <td>가/VV.권투/NNG.자채/NNG.시장/NNG.전망/NNG.금융시장/NNG.차/NN...</td>\n",
              "      <td>미/NNG;국채/NNG;금리/NNG;안전자산/NNG;선호/NNG.경기/NNG;개선/...</td>\n",
              "    </tr>\n",
              "  </tbody>\n",
              "</table>\n",
              "<p>3093 rows × 5 columns</p>\n",
              "</div>"
            ],
            "text/plain": [
              "           date  ...                                              ngram\n",
              "0    2027-12-17  ...  은행채/NNG;신용스프레드/NNG;확대/NNG.신용스프레드/NNG;하향/NNG;안정...\n",
              "1    2026-12-17  ...  기대/NNG;글로벌/NNG;금리/NNG;상승/NNG.하락/NNG;예상/NNG;금리/...\n",
              "2    2020-12-17  ...  국고채/NNG;금리/NNG;급등/NNG.원금/NNG;상환/NNG;부담/NNG.금리/...\n",
              "3    2020-12-17  ...  금리/NNG;인상/NNG;반대/NNG.희박/NNG;금리/NNG;인상/NNG.아직/M...\n",
              "4    2018-12-17  ...  크레딧/NNG;시장/NNG;스프레드/NNG;축소/NNG.전망/NNG;상향/NNG;전...\n",
              "...         ...  ...                                                ...\n",
              "3088 2021-08-04  ...  미/NNG;국채/NNG;금리/NNG;안전자산/NNG;선호/NNG.금리/NNG;인하/...\n",
              "3089 2014-08-04  ...  예상/NNG;경제/NNG;성장률/NNG;하향/NNG.금리/NNG;인하/NNG;기대/...\n",
              "3090 2007-08-04  ...  글로벌/NNG;신용경색/NNG;완화/NNG.단기/NNG;인플레이션/NNG;우려/NN...\n",
              "3091 2007-08-04  ...  글로벌/NNG;신용경색/NNG;완화/NNG.단기/NNG;인플레이션/NNG;우려/NN...\n",
              "3092 2001-08-04  ...  미/NNG;국채/NNG;금리/NNG;안전자산/NNG;선호/NNG.경기/NNG;개선/...\n",
              "\n",
              "[3093 rows x 5 columns]"
            ]
          },
          "metadata": {
            "tags": []
          },
          "execution_count": 20
        }
      ]
    },
    {
      "cell_type": "code",
      "metadata": {
        "id": "dXScGpQgWY06",
        "colab_type": "code",
        "colab": {}
      },
      "source": [
        "df.to_csv('/content/drive/My Drive/bond_analysis_token_ngram.csv', index=False ,encoding='utf-8')"
      ],
      "execution_count": 22,
      "outputs": []
    }
  ]
}