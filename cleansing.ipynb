{
  "nbformat": 4,
  "nbformat_minor": 0,
  "metadata": {
    "colab": {
      "name": "cleansing.ipynb",
      "provenance": [],
      "authorship_tag": "ABX9TyPDHj0QjrtnEkDdJMGtKUPP",
      "include_colab_link": true
    },
    "kernelspec": {
      "name": "python3",
      "display_name": "Python 3"
    }
  },
  "cells": [
    {
      "cell_type": "markdown",
      "metadata": {
        "id": "view-in-github",
        "colab_type": "text"
      },
      "source": [
        "<a href=\"https://colab.research.google.com/github/sunnyna/TIL/blob/master/cleansing.ipynb\" target=\"_parent\"><img src=\"https://colab.research.google.com/assets/colab-badge.svg\" alt=\"Open In Colab\"/></a>"
      ]
    },
    {
      "cell_type": "code",
      "metadata": {
        "id": "iyE6Le335hE7",
        "colab_type": "code",
        "colab": {}
      },
      "source": [
        "from google.colab import drive\n",
        "drive.mount('/content/drive')"
      ],
      "execution_count": null,
      "outputs": []
    },
    {
      "cell_type": "markdown",
      "metadata": {
        "id": "PbWQ3NnM5wte",
        "colab_type": "text"
      },
      "source": [
        "## 전처리 함수 정의"
      ]
    },
    {
      "cell_type": "code",
      "metadata": {
        "id": "pIYYWlv05v98",
        "colab_type": "code",
        "colab": {}
      },
      "source": [
        "import re \n",
        "\n",
        "def cleansing (data):\n",
        "  no_eng_num_data = re.sub('([a-zA-Z0-9])','',data)\n",
        "  no_jamo_data = re.sub('[ㄱ-ㅎㅏ-ㅣ]+','',no_eng_num_data)\n",
        "  no_special_characters_data = re.sub('[-=+,#/\\?:^$.@*\\\"※~&%ㆍ!』\\\\‘|\\(\\)\\[\\]\\<\\>`\\'…》]','',no_jamo_data)\n",
        "  no_square_data = re.sub('[■]','',no_special_characters_data)\n",
        "  cleansing_data = re.sub('[一-龥]','',no_square_data)\n",
        "\n",
        "  return cleansing_data\n",
        "\n",
        "# cleansing(data)"
      ],
      "execution_count": null,
      "outputs": []
    },
    {
      "cell_type": "code",
      "metadata": {
        "id": "hLTMnqeY5sSO",
        "colab_type": "code",
        "colab": {}
      },
      "source": [
        "import pandas as pd\n",
        "\n",
        "df = pd.read_csv('/content/drive/My Drive/bond_analysis_report_list.csv')\n",
        "df"
      ],
      "execution_count": null,
      "outputs": []
    },
    {
      "cell_type": "code",
      "metadata": {
        "id": "MXOG8P3M5s2E",
        "colab_type": "code",
        "colab": {}
      },
      "source": [
        ""
      ],
      "execution_count": null,
      "outputs": []
    }
  ]
}