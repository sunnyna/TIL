{
  "nbformat": 4,
  "nbformat_minor": 0,
  "metadata": {
    "colab": {
      "name": "bond_analysis_report_crawling.ipynb",
      "provenance": [],
      "collapsed_sections": [],
      "mount_file_id": "1Da7RopKua2HUXwV73G6lT2adyl7zbXQd",
      "authorship_tag": "ABX9TyMaLU42dgL8TBzmM/9UAGz/",
      "include_colab_link": true
    },
    "kernelspec": {
      "name": "python3",
      "display_name": "Python 3"
    }
  },
  "cells": [
    {
      "cell_type": "markdown",
      "metadata": {
        "id": "view-in-github",
        "colab_type": "text"
      },
      "source": [
        "<a href=\"https://colab.research.google.com/github/sunnyna/TIL/blob/master/bond_analysis_report_crawling.ipynb\" target=\"_parent\"><img src=\"https://colab.research.google.com/assets/colab-badge.svg\" alt=\"Open In Colab\"/></a>"
      ]
    },
    {
      "cell_type": "markdown",
      "metadata": {
        "id": "sxW7GbZxzpVX",
        "colab_type": "text"
      },
      "source": [
        "drive 연결"
      ]
    },
    {
      "cell_type": "code",
      "metadata": {
        "id": "d6C_fDm9jc2f",
        "colab_type": "code",
        "colab": {
          "base_uri": "https://localhost:8080/",
          "height": 34
        },
        "outputId": "530f6854-1868-404b-d734-21eb1779c908"
      },
      "source": [
        "from google.colab import drive\n",
        "drive.mount('/content/drive')"
      ],
      "execution_count": 2,
      "outputs": [
        {
          "output_type": "stream",
          "text": [
            "Drive already mounted at /content/drive; to attempt to forcibly remount, call drive.mount(\"/content/drive\", force_remount=True).\n"
          ],
          "name": "stdout"
        }
      ]
    },
    {
      "cell_type": "markdown",
      "metadata": {
        "id": "HGNfRduUzylH",
        "colab_type": "text"
      },
      "source": [
        "# 채권 분석 리포트 크롤링"
      ]
    },
    {
      "cell_type": "code",
      "metadata": {
        "id": "2GsefYQAJzA2",
        "colab_type": "code",
        "colab": {}
      },
      "source": [
        "import requests\n",
        "from bs4 import BeautifulSoup\n",
        "\n",
        "pdf_list = []\n",
        "date_list = []\n",
        "title_list = []\n",
        "\n",
        "for i in range(23,127):\n",
        "  url = 'https://finance.naver.com/research/debenture_list.nhn?'\n",
        "  params = {\n",
        "      'page' : i\n",
        "  }\n",
        "\n",
        "  resp = requests.get(url,params=params)\n",
        "  soup = BeautifulSoup(resp.content, 'html.parser')\n",
        "\n",
        "  td_tag = soup.findAll(\"td\",{\"class\":\"file\"})\n",
        "  date_tag = soup.findAll('td', {\"style\":\"padding-left:5px\"} )\n",
        "  title_tag = soup.findAll('td', {\"style\":\"padding-left:10px\"})\n",
        "\n",
        "\n",
        "\n",
        "  for t in td_tag:\n",
        "    pdf_url=t.find('a').attrs['href']\n",
        "    pdf_list.append(pdf_url)\n",
        "\n",
        "\n",
        "\n",
        "  for date in date_tag:\n",
        "    date_list.append(date.get_text())\n",
        "\n",
        "  for title in title_tag:\n",
        "    title_list.append(title.get_text())\n"
      ],
      "execution_count": 3,
      "outputs": []
    },
    {
      "cell_type": "markdown",
      "metadata": {
        "id": "u3qp9fZWz8cJ",
        "colab_type": "text"
      },
      "source": [
        "갯수 확인 및 슬라이싱(08.04.01~17.12.27까지만)"
      ]
    },
    {
      "cell_type": "code",
      "metadata": {
        "id": "atwwyv--ZCMw",
        "colab_type": "code",
        "colab": {}
      },
      "source": [
        "print(len(pdf_list))   \n",
        "print(len(date_list))\n",
        "print(len(title_list))\n",
        "\n",
        "\n",
        "print(date_list[-10:])\n",
        "print(date_list[:10])"
      ],
      "execution_count": null,
      "outputs": []
    },
    {
      "cell_type": "markdown",
      "metadata": {
        "id": "mEYK_Ej10L1D",
        "colab_type": "text"
      },
      "source": [
        "슬라이싱 된 것 확인"
      ]
    },
    {
      "cell_type": "code",
      "metadata": {
        "id": "ZWwcNtwvN5JH",
        "colab_type": "code",
        "colab": {}
      },
      "source": [
        "\n",
        "pdf_list_ = pdf_list[2:]\n",
        "date_list_ = date_list[2:]\n",
        "title_list_ = title_list[2:]\n",
        "\n",
        "print(date_list_[-10:])\n",
        "print(date_list_[:10])"
      ],
      "execution_count": null,
      "outputs": []
    },
    {
      "cell_type": "code",
      "metadata": {
        "id": "Q_MfEH3JX7xe",
        "colab_type": "code",
        "colab": {}
      },
      "source": [
        "print(len(pdf_list_))\n",
        "print(len(date_list_))\n",
        "print(len(title_list_))\n"
      ],
      "execution_count": null,
      "outputs": []
    },
    {
      "cell_type": "markdown",
      "metadata": {
        "id": "FfzRmVrZG1e7",
        "colab_type": "text"
      },
      "source": [
        "/ 가 경로오류가 생겨서 전처리해줌"
      ]
    },
    {
      "cell_type": "code",
      "metadata": {
        "id": "vC1dyMnOFkIx",
        "colab_type": "code",
        "colab": {}
      },
      "source": [
        "title_list__ = []\n",
        "for t in title_list :\n",
        "  title_list__.append(t.replace('/', ','))\n",
        "\n",
        "title_list__\n",
        "\n",
        "#해외크레딧/신흥국 국채 : 만기 짧은 미국 회사채에 ..' \n",
        "# /때문에 경로오류가생김"
      ],
      "execution_count": null,
      "outputs": []
    },
    {
      "cell_type": "markdown",
      "metadata": {
        "id": "HMTrKq8v0ZbB",
        "colab_type": "text"
      },
      "source": [
        "### pdf 파일로 저장\n",
        "path 주의해서 확인하기"
      ]
    },
    {
      "cell_type": "code",
      "metadata": {
        "id": "yLmxnotHI8Er",
        "colab_type": "code",
        "colab": {}
      },
      "source": [
        "\n",
        "for pdf,title,date in zip(pdf_list_, title_list__, date_list_ ):\n",
        "  with open('/content/drive/My Drive/bond_analysis_report/{0}_{1}.pdf'.format(date,title), \"wb\") as file:\n",
        "    response = requests.get(pdf)\n",
        "    file.write(response.content)"
      ],
      "execution_count": 8,
      "outputs": []
    },
    {
      "cell_type": "markdown",
      "metadata": {
        "id": "-ca3QINy0y0U",
        "colab_type": "text"
      },
      "source": [
        "파일갯수가 리스트 갯수와 일치하는 지 확인 (겹치는 제목은 덮어쓰기 때문에 제대로 나왔는지 확인해야했음)"
      ]
    },
    {
      "cell_type": "code",
      "metadata": {
        "id": "__dVKevj2N53",
        "colab_type": "code",
        "colab": {}
      },
      "source": [
        "import os\n",
        "\n",
        "path = \"/content/drive/My Drive/bond_analysis_report\"\n",
        "file_list = os.listdir(path)\n",
        "\n",
        "print (\"file_list: {}\".format(file_list))\n",
        "\n",
        "len(file_list)"
      ],
      "execution_count": null,
      "outputs": []
    },
    {
      "cell_type": "markdown",
      "metadata": {
        "id": "GNt2MyX_1El7",
        "colab_type": "text"
      },
      "source": [
        "# pdf를 csv로 변환"
      ]
    },
    {
      "cell_type": "code",
      "metadata": {
        "id": "_vKRxhrxx0im",
        "colab_type": "code",
        "colab": {}
      },
      "source": [
        "!pip install tika\n",
        "from tika import parser\n"
      ],
      "execution_count": null,
      "outputs": []
    },
    {
      "cell_type": "markdown",
      "metadata": {
        "id": "46rJqCtk1Jz6",
        "colab_type": "text"
      },
      "source": [
        "1. pdf파일을 txt로 변환하는 함수정의"
      ]
    },
    {
      "cell_type": "code",
      "metadata": {
        "id": "Kb6FKxSx1BWy",
        "colab_type": "code",
        "colab": {}
      },
      "source": [
        "def convert_pdf_to_txt(file_name):\n",
        "  rawText = parser.from_file('{}'.format(file_name))\n",
        "  rawData = rawText['content']\n",
        "\n",
        "  if rawData is not None:\n",
        "    global rawData_ \n",
        "    rawData_ = rawData.replace('\\n','') \n",
        "\n",
        "\n",
        "  return rawData_"
      ],
      "execution_count": 20,
      "outputs": []
    },
    {
      "cell_type": "markdown",
      "metadata": {
        "id": "kocfksIqY4Su",
        "colab_type": "text"
      },
      "source": [
        "'NoneType' object has no attribute 'replace' 오류수정  \n",
        "None 일때 예외를 줘야됨"
      ]
    },
    {
      "cell_type": "markdown",
      "metadata": {
        "id": "kDfmIDGFgHSS",
        "colab_type": "text"
      },
      "source": [
        "local variable 'rawData_' referenced before assignment 에러수정\n",
        "\n",
        "지역범위에서 전역 변수를 사용하기 위해서 global 표현을 사용한다.\n",
        "\n"
      ]
    },
    {
      "cell_type": "markdown",
      "metadata": {
        "id": "IUJ-N9e01U0i",
        "colab_type": "text"
      },
      "source": [
        "파일이름과 내용으로 이루어진 csv 파일 생성"
      ]
    },
    {
      "cell_type": "code",
      "metadata": {
        "id": "3F2jqRAm1Smm",
        "colab_type": "code",
        "colab": {}
      },
      "source": [
        "import csv\n",
        "from pathlib import Path\n",
        "\n",
        "folder = Path('/content/drive/My Drive/bond_analysis_report')\n",
        "csv_file = Path('/content/drive/My Drive/bond_analysis_report_list.csv')\n",
        "\n",
        "with csv_file.open('w', encoding='utf-8') as f:\n",
        "    writer = csv.writer(f, csv.QUOTE_ALL)\n",
        "    writer.writerow(['FileName', 'Text'])\n",
        "    for pdf_file in folder.glob('*.pdf'):\n",
        "        pdf_text = convert_pdf_to_txt(pdf_file)\n",
        "        writer.writerow([pdf_file.name, pdf_text])\n"
      ],
      "execution_count": 21,
      "outputs": []
    },
    {
      "cell_type": "markdown",
      "metadata": {
        "id": "hgWTsKBi6p94",
        "colab_type": "text"
      },
      "source": [
        "csv 파일을 df로 저장"
      ]
    },
    {
      "cell_type": "code",
      "metadata": {
        "id": "gR4jwN7w6agN",
        "colab_type": "code",
        "colab": {
          "base_uri": "https://localhost:8080/",
          "height": 402
        },
        "outputId": "822889fa-3f05-4958-95d8-9e2882b17622"
      },
      "source": [
        "import pandas as pd\n",
        "\n",
        "df = pd.read_csv('/content/drive/My Drive/bond_analysis_report_list.csv')\n",
        "df"
      ],
      "execution_count": 22,
      "outputs": [
        {
          "output_type": "execute_result",
          "data": {
            "text/html": [
              "<div>\n",
              "<style scoped>\n",
              "    .dataframe tbody tr th:only-of-type {\n",
              "        vertical-align: middle;\n",
              "    }\n",
              "\n",
              "    .dataframe tbody tr th {\n",
              "        vertical-align: top;\n",
              "    }\n",
              "\n",
              "    .dataframe thead th {\n",
              "        text-align: right;\n",
              "    }\n",
              "</style>\n",
              "<table border=\"1\" class=\"dataframe\">\n",
              "  <thead>\n",
              "    <tr style=\"text-align: right;\">\n",
              "      <th></th>\n",
              "      <th>FileName</th>\n",
              "      <th>Text</th>\n",
              "    </tr>\n",
              "  </thead>\n",
              "  <tbody>\n",
              "    <tr>\n",
              "      <th>0</th>\n",
              "      <td>17.12.27_2018년 북한 리스크 대비하기.pdf</td>\n",
              "      <td>Microsoft Word - CrediVille_171227          트럼...</td>\n",
              "    </tr>\n",
              "    <tr>\n",
              "      <th>1</th>\n",
              "      <td>17.12.26_1월에는 무조건 GO.pdf</td>\n",
              "      <td>PowerPoint 프레젠테이션Fixed Income Analyst 김지만 02-3...</td>\n",
              "    </tr>\n",
              "    <tr>\n",
              "      <th>2</th>\n",
              "      <td>17.12.20_트럼프노믹스를 극복한 2017년 ᄉ...</td>\n",
              "      <td>2013년 0월 0일          2금융권 안심전환대출 수급영향 점검  Inve...</td>\n",
              "    </tr>\n",
              "    <tr>\n",
              "      <th>3</th>\n",
              "      <td>17.12.20_11월 채권시장 전망.pdf</td>\n",
              "      <td>Fixed Income    2017. 12. 20     11월 금통위 의...</td>\n",
              "    </tr>\n",
              "    <tr>\n",
              "      <th>4</th>\n",
              "      <td>17.12.18_2금융권 안심전환대출 수급영...</td>\n",
              "      <td>(Microsoft Word - \\307\\366\\264\\353\\302\\367_Cre...</td>\n",
              "    </tr>\n",
              "    <tr>\n",
              "      <th>...</th>\n",
              "      <td>...</td>\n",
              "      <td>...</td>\n",
              "    </tr>\n",
              "    <tr>\n",
              "      <th>3088</th>\n",
              "      <td>08.04.21_정부의 금리인하 요구에 한은의 부...</td>\n",
              "      <td>Microsoft Word - 920_0421_Fixed Income Weekly....</td>\n",
              "    </tr>\n",
              "    <tr>\n",
              "      <th>3089</th>\n",
              "      <td>08.04.14_FOMC 이후 원자재 가격 상승세 둔ᄒ...</td>\n",
              "      <td>Microsoft Word - Fixedincome0414.doc    4월 금통위...</td>\n",
              "    </tr>\n",
              "    <tr>\n",
              "      <th>3090</th>\n",
              "      <td>08.04.07_항상 열려는 있는 가능성.pdf</td>\n",
              "      <td>Microsoft Word - 0407.docFixed Income Weekly 2...</td>\n",
              "    </tr>\n",
              "    <tr>\n",
              "      <th>3091</th>\n",
              "      <td>08.04.07_총재의 변신은 무죄다?!.pdf</td>\n",
              "      <td>Microsoft Word - 0407.docFixed Income Weekly 2...</td>\n",
              "    </tr>\n",
              "    <tr>\n",
              "      <th>3092</th>\n",
              "      <td>08.04.01_시간차 공격.pdf</td>\n",
              "      <td>ㅎㅎㅎ2008_04  월간채권투자채 권 시 장 전 망금 융 시 장 차 트 북對應과 ...</td>\n",
              "    </tr>\n",
              "  </tbody>\n",
              "</table>\n",
              "<p>3093 rows × 2 columns</p>\n",
              "</div>"
            ],
            "text/plain": [
              "                                               FileName                                               Text\n",
              "0           17.12.27_2018년 북한 리스크 대비하기.pdf  Microsoft Word - CrediVille_171227          트럼...\n",
              "1                     17.12.26_1월에는 무조건 GO.pdf  PowerPoint 프레젠테이션Fixed Income Analyst 김지만 02-3...\n",
              "2     17.12.20_트럼프노믹스를 극복한 2017년 ᄉ...  2013년 0월 0일          2금융권 안심전환대출 수급영향 점검  Inve...\n",
              "3                  17.12.20_11월 채권시장 전망.pdf      Fixed Income    2017. 12. 20     11월 금통위 의...\n",
              "4     17.12.18_2금융권 안심전환대출 수급영...  (Microsoft Word - \\307\\366\\264\\353\\302\\367_Cre...\n",
              "...                                                 ...                                                ...\n",
              "3088  08.04.21_정부의 금리인하 요구에 한은의 부...  Microsoft Word - 920_0421_Fixed Income Weekly....\n",
              "3089  08.04.14_FOMC 이후 원자재 가격 상승세 둔ᄒ...  Microsoft Word - Fixedincome0414.doc    4월 금통위...\n",
              "3090       08.04.07_항상 열려는 있는 가능성.pdf  Microsoft Word - 0407.docFixed Income Weekly 2...\n",
              "3091            08.04.07_총재의 변신은 무죄다?!.pdf  Microsoft Word - 0407.docFixed Income Weekly 2...\n",
              "3092                        08.04.01_시간차 공격.pdf  ㅎㅎㅎ2008_04  월간채권투자채 권 시 장 전 망금 융 시 장 차 트 북對應과 ...\n",
              "\n",
              "[3093 rows x 2 columns]"
            ]
          },
          "metadata": {
            "tags": []
          },
          "execution_count": 22
        }
      ]
    }
  ]
}