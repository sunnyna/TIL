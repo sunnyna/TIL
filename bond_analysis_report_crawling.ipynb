{
  "nbformat": 4,
  "nbformat_minor": 0,
  "metadata": {
    "colab": {
      "name": "bond_analysis_report_crawling.ipynb",
      "provenance": [],
      "collapsed_sections": [],
      "mount_file_id": "1Da7RopKua2HUXwV73G6lT2adyl7zbXQd",
      "authorship_tag": "ABX9TyNNF6YdLwfYi5q6kGX79On0",
      "include_colab_link": true
    },
    "kernelspec": {
      "name": "python3",
      "display_name": "Python 3"
    }
  },
  "cells": [
    {
      "cell_type": "markdown",
      "metadata": {
        "id": "view-in-github",
        "colab_type": "text"
      },
      "source": [
        "<a href=\"https://colab.research.google.com/github/sunnyna/TIL/blob/master/bond_analysis_report_crawling.ipynb\" target=\"_parent\"><img src=\"https://colab.research.google.com/assets/colab-badge.svg\" alt=\"Open In Colab\"/></a>"
      ]
    },
    {
      "cell_type": "markdown",
      "metadata": {
        "id": "sxW7GbZxzpVX",
        "colab_type": "text"
      },
      "source": [
        "drive 연결"
      ]
    },
    {
      "cell_type": "code",
      "metadata": {
        "id": "d6C_fDm9jc2f",
        "colab_type": "code",
        "colab": {
          "base_uri": "https://localhost:8080/",
          "height": 34
        },
        "outputId": "e1fba186-75eb-443f-a82e-612d4be562d3"
      },
      "source": [
        "from google.colab import drive\n",
        "drive.mount('/content/drive')"
      ],
      "execution_count": 10,
      "outputs": [
        {
          "output_type": "stream",
          "text": [
            "Drive already mounted at /content/drive; to attempt to forcibly remount, call drive.mount(\"/content/drive\", force_remount=True).\n"
          ],
          "name": "stdout"
        }
      ]
    },
    {
      "cell_type": "markdown",
      "metadata": {
        "id": "HGNfRduUzylH",
        "colab_type": "text"
      },
      "source": [
        "# 채권 분석 리포트 크롤링"
      ]
    },
    {
      "cell_type": "code",
      "metadata": {
        "id": "2GsefYQAJzA2",
        "colab_type": "code",
        "colab": {}
      },
      "source": [
        "import requests\n",
        "from bs4 import BeautifulSoup\n",
        "\n",
        "pdf_list = []\n",
        "date_list = []\n",
        "title_list = []\n",
        "\n",
        "for i in range(23,127):\n",
        "  url = 'https://finance.naver.com/research/debenture_list.nhn?'\n",
        "  params = {\n",
        "      'page' : i\n",
        "  }\n",
        "\n",
        "  resp = requests.get(url,params=params)\n",
        "  soup = BeautifulSoup(resp.content, 'html.parser')\n",
        "\n",
        "  td_tag = soup.findAll(\"td\",{\"class\":\"file\"})\n",
        "  date_tag = soup.findAll('td', {\"style\":\"padding-left:5px\"} )\n",
        "  title_tag = soup.findAll('td', {\"style\":\"padding-left:10px\"})\n",
        "\n",
        "\n",
        "\n",
        "  for t in td_tag:\n",
        "    pdf_url=t.find('a').attrs['href']\n",
        "    pdf_list.append(pdf_url)\n",
        "\n",
        "\n",
        "\n",
        "  for date in date_tag:\n",
        "    date_list.append(date.get_text())\n",
        "\n",
        "  for title in title_tag:\n",
        "    title_list.append(title.get_text())\n"
      ],
      "execution_count": 31,
      "outputs": []
    },
    {
      "cell_type": "markdown",
      "metadata": {
        "id": "u3qp9fZWz8cJ",
        "colab_type": "text"
      },
      "source": [
        "갯수 확인 및 슬라이싱(08.04.01~17.12.27까지만)"
      ]
    },
    {
      "cell_type": "code",
      "metadata": {
        "id": "atwwyv--ZCMw",
        "colab_type": "code",
        "colab": {
          "base_uri": "https://localhost:8080/",
          "height": 87
        },
        "outputId": "c8f91495-999c-474d-83d8-43b9c097cf44"
      },
      "source": [
        "print(len(pdf_list))   \n",
        "print(len(date_list))\n",
        "print(len(title_list))\n",
        "\n",
        "\n",
        "print(date_list[-10:])\n",
        "print(date_list[:10])"
      ],
      "execution_count": 32,
      "outputs": [
        {
          "output_type": "stream",
          "text": [
            "3099\n",
            "3099\n",
            "['08.05.20', '08.05.19', '08.05.13', '08.05.04', '08.04.28', '08.04.21', '08.04.14', '08.04.07', '08.04.07', '08.04.01']\n",
            "['18.01.02', '18.01.02', '17.12.27', '17.12.26', '17.12.20', '17.12.20', '17.12.18', '17.12.15', '17.12.15', '17.12.14']\n"
          ],
          "name": "stdout"
        }
      ]
    },
    {
      "cell_type": "markdown",
      "metadata": {
        "id": "mEYK_Ej10L1D",
        "colab_type": "text"
      },
      "source": [
        "슬라이싱 된 것 확인"
      ]
    },
    {
      "cell_type": "code",
      "metadata": {
        "id": "ZWwcNtwvN5JH",
        "colab_type": "code",
        "colab": {
          "base_uri": "https://localhost:8080/",
          "height": 52
        },
        "outputId": "e7252be9-0f7a-4425-8ab7-31d58e20849f"
      },
      "source": [
        "\n",
        "pdf_list_ = pdf_list[2:]\n",
        "date_list_ = date_list[2:]\n",
        "title_list_ = title_list[2:]\n",
        "\n",
        "print(date_list_[-10:])\n",
        "print(date_list_[:10])"
      ],
      "execution_count": 34,
      "outputs": [
        {
          "output_type": "stream",
          "text": [
            "['08.05.20', '08.05.19', '08.05.13', '08.05.04', '08.04.28', '08.04.21', '08.04.14', '08.04.07', '08.04.07', '08.04.01']\n",
            "['17.12.27', '17.12.26', '17.12.20', '17.12.20', '17.12.18', '17.12.15', '17.12.15', '17.12.14', '17.12.14', '17.12.13']\n"
          ],
          "name": "stdout"
        }
      ]
    },
    {
      "cell_type": "code",
      "metadata": {
        "id": "Q_MfEH3JX7xe",
        "colab_type": "code",
        "colab": {
          "base_uri": "https://localhost:8080/",
          "height": 52
        },
        "outputId": "307f2d4d-84e1-49d5-e87f-dfd5ee8e7b75"
      },
      "source": [
        "print(len(pdf_list_))\n",
        "print(len(date_list_))\n",
        "print(len(title_list_))\n"
      ],
      "execution_count": 35,
      "outputs": [
        {
          "output_type": "stream",
          "text": [
            "3097\n",
            "3097\n"
          ],
          "name": "stdout"
        }
      ]
    },
    {
      "cell_type": "markdown",
      "metadata": {
        "id": "HMTrKq8v0ZbB",
        "colab_type": "text"
      },
      "source": [
        "### pdf 파일로 저장\n",
        "path 주의해서 확인하기"
      ]
    },
    {
      "cell_type": "code",
      "metadata": {
        "id": "ThZ73cBQdJvN",
        "colab_type": "code",
        "colab": {}
      },
      "source": [
        "\n",
        "for pdf,title in zip(pdf_list_, title_list_):\n",
        "  with open('/content/drive/My Drive/bond_analysis_report/{}.pdf'.format(title), \"wb\") as file:\n",
        "    response = requests.get(pdf)\n",
        "    file.write(response.content)"
      ],
      "execution_count": null,
      "outputs": []
    },
    {
      "cell_type": "markdown",
      "metadata": {
        "id": "-ca3QINy0y0U",
        "colab_type": "text"
      },
      "source": [
        "파일갯수가 리스트 갯수와 일치하는 지 확인 (겹치는 제목은 덮어쓰기 때문에 제대로 나왔는지 확인해야했음)"
      ]
    },
    {
      "cell_type": "code",
      "metadata": {
        "id": "__dVKevj2N53",
        "colab_type": "code",
        "colab": {
          "base_uri": "https://localhost:8080/",
          "height": 72
        },
        "outputId": "6a84725e-0033-47dd-bd8d-2c2f86c1b2e7"
      },
      "source": [
        "import os\n",
        "\n",
        "path = \"/content/drive/My Drive/bond_analysis_report\"\n",
        "file_list = os.listdir(path)\n",
        "\n",
        "print (\"file_list: {}\".format(file_list))\n",
        "\n",
        "len(file_list)"
      ],
      "execution_count": 42,
      "outputs": [
        {
          "output_type": "stream",
          "text": [
            "file_list: ['bond_analysis_report_17.12.27.pdf', 'bond_analysis_report_17.12.26.pdf', 'bond_analysis_report_17.12.20.pdf', 'bond_analysis_report_17.12.18.pdf', 'bond_analysis_report_17.12.15.pdf', 'bond_analysis_report_17.12.14.pdf', 'bond_analysis_report_17.12.13.pdf', 'bond_analysis_report_17.12.08.pdf', 'bond_analysis_report_17.12.07.pdf', 'bond_analysis_report_17.12.06.pdf', 'bond_analysis_report_17.12.04.pdf', 'bond_analysis_report_17.12.01.pdf', 'bond_analysis_report_17.11.30.pdf', 'bond_analysis_report_17.11.29.pdf', 'bond_analysis_report_17.11.28.pdf', 'bond_analysis_report_17.11.27.pdf', 'bond_analysis_report_17.11.23.pdf', 'bond_analysis_report_17.11.22.pdf', 'bond_analysis_report_17.11.21.pdf', 'bond_analysis_report_17.11.20.pdf', 'bond_analysis_report_17.11.17.pdf', 'bond_analysis_report_17.11.16.pdf', 'bond_analysis_report_17.11.15.pdf', 'bond_analysis_report_17.11.14.pdf', 'bond_analysis_report_17.11.13.pdf', 'bond_analysis_report_17.11.10.pdf', 'bond_analysis_report_17.11.09.pdf', 'bond_analysis_report_17.11.08.pdf', 'bond_analysis_report_17.11.07.pdf', 'bond_analysis_report_17.11.06.pdf', 'bond_analysis_report_17.11.03.pdf', 'bond_analysis_report_17.11.02.pdf', 'bond_analysis_report_17.11.01.pdf', 'bond_analysis_report_17.10.31.pdf', 'bond_analysis_report_17.10.30.pdf', 'bond_analysis_report_17.10.27.pdf', 'bond_analysis_report_17.10.26.pdf', 'bond_analysis_report_17.10.25.pdf', 'bond_analysis_report_17.10.24.pdf', 'bond_analysis_report_17.10.23.pdf', 'bond_analysis_report_17.10.20.pdf', 'bond_analysis_report_17.10.18.pdf', 'bond_analysis_report_17.10.16.pdf', 'bond_analysis_report_17.10.13.pdf', 'bond_analysis_report_17.10.11.pdf', 'bond_analysis_report_17.10.10.pdf', 'bond_analysis_report_17.09.29.pdf', 'bond_analysis_report_17.09.28.pdf', 'bond_analysis_report_17.09.27.pdf', 'bond_analysis_report_17.09.26.pdf', 'bond_analysis_report_17.09.25.pdf', 'bond_analysis_report_17.09.22.pdf', 'bond_analysis_report_17.09.21.pdf', 'bond_analysis_report_17.09.20.pdf', 'bond_analysis_report_17.09.18.pdf', 'bond_analysis_report_17.09.14.pdf', 'bond_analysis_report_17.09.13.pdf', 'bond_analysis_report_17.09.11.pdf', 'bond_analysis_report_17.09.08.pdf', 'bond_analysis_report_17.09.07.pdf', 'bond_analysis_report_17.09.05.pdf', 'bond_analysis_report_17.09.04.pdf', 'bond_analysis_report_17.09.01.pdf', 'bond_analysis_report_17.08.30.pdf', 'bond_analysis_report_17.08.29.pdf', 'bond_analysis_report_17.08.28.pdf', 'bond_analysis_report_17.08.25.pdf', 'bond_analysis_report_17.08.23.pdf', 'bond_analysis_report_17.08.22.pdf', 'bond_analysis_report_17.08.21.pdf', 'bond_analysis_report_17.08.18.pdf', 'bond_analysis_report_17.08.16.pdf', 'bond_analysis_report_17.08.14.pdf', 'bond_analysis_report_17.08.11.pdf', 'bond_analysis_report_17.08.09.pdf', 'bond_analysis_report_17.08.08.pdf', 'bond_analysis_report_17.08.07.pdf', 'bond_analysis_report_17.08.04.pdf', 'bond_analysis_report_17.08.01.pdf', 'bond_analysis_report_17.07.31.pdf', 'bond_analysis_report_17.07.28.pdf', 'bond_analysis_report_17.07.27.pdf', 'bond_analysis_report_17.07.26.pdf', 'bond_analysis_report_17.07.25.pdf', 'bond_analysis_report_17.07.24.pdf', 'bond_analysis_report_17.07.21.pdf', 'bond_analysis_report_17.07.17.pdf', 'bond_analysis_report_17.07.14.pdf', 'bond_analysis_report_17.07.13.pdf', 'bond_analysis_report_17.07.12.pdf', 'bond_analysis_report_17.07.10.pdf', 'bond_analysis_report_17.07.07.pdf', 'bond_analysis_report_17.07.05.pdf', 'bond_analysis_report_17.07.03.pdf', 'bond_analysis_report_17.06.29.pdf', 'bond_analysis_report_17.06.26.pdf', 'bond_analysis_report_17.06.23.pdf', 'bond_analysis_report_17.06.22.pdf', 'bond_analysis_report_17.06.21.pdf', 'bond_analysis_report_17.06.20.pdf', 'bond_analysis_report_17.06.19.pdf', 'bond_analysis_report_17.06.15.pdf', 'bond_analysis_report_17.06.14.pdf', 'bond_analysis_report_17.06.13.pdf', 'bond_analysis_report_17.06.12.pdf', 'bond_analysis_report_17.06.09.pdf', 'bond_analysis_report_17.06.07.pdf', 'bond_analysis_report_17.06.05.pdf', 'bond_analysis_report_17.06.02.pdf', 'bond_analysis_report_17.06.01.pdf', 'bond_analysis_report_17.05.31.pdf', 'bond_analysis_report_17.05.30.pdf', 'bond_analysis_report_17.05.29.pdf', 'bond_analysis_report_17.05.26.pdf', 'bond_analysis_report_17.05.25.pdf', 'bond_analysis_report_17.05.24.pdf', 'bond_analysis_report_17.05.22.pdf', 'bond_analysis_report_17.05.19.pdf', 'bond_analysis_report_17.05.17.pdf', 'bond_analysis_report_17.05.16.pdf', 'bond_analysis_report_17.05.15.pdf', 'bond_analysis_report_17.05.12.pdf', 'bond_analysis_report_17.05.11.pdf', 'bond_analysis_report_17.05.10.pdf', 'bond_analysis_report_17.05.08.pdf', 'bond_analysis_report_17.05.04.pdf', 'bond_analysis_report_17.04.28.pdf', 'bond_analysis_report_17.04.27.pdf', 'bond_analysis_report_17.04.26.pdf', 'bond_analysis_report_17.04.25.pdf', 'bond_analysis_report_17.04.24.pdf', 'bond_analysis_report_17.04.20.pdf', 'bond_analysis_report_17.04.19.pdf', 'bond_analysis_report_17.04.17.pdf', 'bond_analysis_report_17.04.14.pdf', 'bond_analysis_report_17.04.10.pdf', 'bond_analysis_report_17.04.07.pdf', 'bond_analysis_report_17.04.06.pdf', 'bond_analysis_report_17.04.05.pdf', 'bond_analysis_report_17.04.03.pdf', 'bond_analysis_report_17.03.29.pdf', 'bond_analysis_report_17.03.27.pdf', 'bond_analysis_report_17.03.23.pdf', 'bond_analysis_report_17.03.22.pdf', 'bond_analysis_report_17.03.20.pdf', 'bond_analysis_report_17.03.16.pdf', 'bond_analysis_report_17.03.13.pdf', 'bond_analysis_report_17.03.10.pdf', 'bond_analysis_report_17.03.09.pdf', 'bond_analysis_report_17.03.08.pdf', 'bond_analysis_report_17.03.06.pdf', 'bond_analysis_report_17.02.28.pdf', 'bond_analysis_report_17.02.27.pdf', 'bond_analysis_report_17.02.24.pdf', 'bond_analysis_report_17.02.23.pdf', 'bond_analysis_report_17.02.22.pdf', 'bond_analysis_report_17.02.20.pdf', 'bond_analysis_report_17.02.16.pdf', 'bond_analysis_report_17.02.14.pdf', 'bond_analysis_report_17.02.13.pdf', 'bond_analysis_report_17.02.09.pdf', 'bond_analysis_report_17.02.08.pdf', 'bond_analysis_report_17.02.07.pdf', 'bond_analysis_report_17.02.06.pdf', 'bond_analysis_report_17.02.03.pdf', 'bond_analysis_report_17.02.02.pdf', 'bond_analysis_report_17.02.01.pdf', 'bond_analysis_report_17.01.31.pdf', 'bond_analysis_report_17.01.25.pdf', 'bond_analysis_report_17.01.24.pdf', 'bond_analysis_report_17.01.23.pdf', 'bond_analysis_report_17.01.20.pdf', 'bond_analysis_report_17.01.19.pdf', 'bond_analysis_report_17.01.18.pdf', 'bond_analysis_report_17.01.17.pdf', 'bond_analysis_report_17.01.16.pdf', 'bond_analysis_report_17.01.13.pdf', 'bond_analysis_report_17.01.09.pdf', 'bond_analysis_report_17.01.06.pdf', 'bond_analysis_report_17.01.05.pdf', 'bond_analysis_report_17.01.04.pdf', 'bond_analysis_report_17.01.03.pdf', 'bond_analysis_report_17.01.02.pdf', 'bond_analysis_report_16.12.30.pdf', 'bond_analysis_report_16.12.27.pdf', 'bond_analysis_report_16.12.22.pdf', 'bond_analysis_report_16.12.21.pdf', 'bond_analysis_report_16.12.20.pdf', 'bond_analysis_report_16.12.19.pdf', 'bond_analysis_report_16.12.16.pdf', 'bond_analysis_report_16.12.15.pdf', 'bond_analysis_report_16.12.12.pdf', 'bond_analysis_report_16.12.09.pdf', 'bond_analysis_report_16.12.08.pdf', 'bond_analysis_report_16.12.05.pdf', 'bond_analysis_report_16.12.02.pdf', 'bond_analysis_report_16.12.01.pdf', 'bond_analysis_report_16.11.30.pdf', 'bond_analysis_report_16.11.28.pdf', 'bond_analysis_report_16.11.24.pdf', 'bond_analysis_report_16.11.23.pdf', 'bond_analysis_report_16.11.21.pdf', 'bond_analysis_report_16.11.17.pdf', 'bond_analysis_report_16.11.16.pdf', 'bond_analysis_report_16.11.14.pdf', 'bond_analysis_report_16.11.10.pdf', 'bond_analysis_report_16.11.07.pdf', 'bond_analysis_report_16.11.03.pdf', 'bond_analysis_report_16.11.02.pdf', 'bond_analysis_report_16.11.01.pdf', 'bond_analysis_report_16.10.31.pdf', 'bond_analysis_report_16.10.27.pdf', 'bond_analysis_report_16.10.26.pdf', 'bond_analysis_report_16.10.25.pdf', 'bond_analysis_report_16.10.24.pdf', 'bond_analysis_report_16.10.21.pdf', 'bond_analysis_report_16.10.20.pdf', 'bond_analysis_report_16.10.18.pdf', 'bond_analysis_report_16.10.17.pdf', 'bond_analysis_report_16.10.14.pdf', 'bond_analysis_report_16.10.13.pdf', 'bond_analysis_report_16.10.11.pdf', 'bond_analysis_report_16.10.10.pdf', 'bond_analysis_report_16.10.07.pdf', 'bond_analysis_report_16.10.06.pdf', 'bond_analysis_report_16.10.05.pdf', 'bond_analysis_report_16.10.04.pdf', 'bond_analysis_report_16.09.28.pdf', 'bond_analysis_report_16.09.27.pdf', 'bond_analysis_report_16.09.26.pdf', 'bond_analysis_report_16.09.23.pdf', 'bond_analysis_report_16.09.22.pdf', 'bond_analysis_report_16.09.21.pdf', 'bond_analysis_report_16.09.20.pdf', 'bond_analysis_report_16.09.19.pdf', 'bond_analysis_report_16.09.13.pdf', 'bond_analysis_report_16.09.12.pdf', 'bond_analysis_report_16.09.09.pdf', 'bond_analysis_report_16.09.08.pdf', 'bond_analysis_report_16.09.07.pdf', 'bond_analysis_report_16.09.05.pdf', 'bond_analysis_report_16.09.01.pdf', 'bond_analysis_report_16.08.30.pdf', 'bond_analysis_report_16.08.29.pdf', 'bond_analysis_report_16.08.26.pdf', 'bond_analysis_report_16.08.24.pdf', 'bond_analysis_report_16.08.23.pdf', 'bond_analysis_report_16.08.22.pdf', 'bond_analysis_report_16.08.18.pdf', 'bond_analysis_report_16.08.17.pdf', 'bond_analysis_report_16.08.16.pdf', 'bond_analysis_report_16.08.12.pdf', 'bond_analysis_report_16.08.10.pdf', 'bond_analysis_report_16.08.09.pdf', 'bond_analysis_report_16.08.08.pdf', 'bond_analysis_report_16.08.05.pdf', 'bond_analysis_report_16.08.04.pdf', 'bond_analysis_report_16.08.02.pdf', 'bond_analysis_report_16.08.01.pdf', 'bond_analysis_report_16.07.29.pdf', 'bond_analysis_report_16.07.28.pdf', 'bond_analysis_report_16.07.27.pdf', 'bond_analysis_report_16.07.26.pdf', 'bond_analysis_report_16.07.25.pdf', 'bond_analysis_report_16.07.21.pdf', 'bond_analysis_report_16.07.20.pdf', 'bond_analysis_report_16.07.19.pdf', 'bond_analysis_report_16.07.18.pdf', 'bond_analysis_report_16.07.15.pdf', 'bond_analysis_report_16.07.14.pdf', 'bond_analysis_report_16.07.12.pdf', 'bond_analysis_report_16.07.11.pdf', 'bond_analysis_report_16.07.07.pdf', 'bond_analysis_report_16.07.06.pdf', 'bond_analysis_report_16.07.05.pdf', 'bond_analysis_report_16.07.04.pdf', 'bond_analysis_report_16.07.01.pdf', 'bond_analysis_report_16.06.30.pdf', 'bond_analysis_report_16.06.29.pdf', 'bond_analysis_report_16.06.28.pdf', 'bond_analysis_report_16.06.27.pdf', 'bond_analysis_report_16.06.23.pdf', 'bond_analysis_report_16.06.22.pdf', 'bond_analysis_report_16.06.20.pdf', 'bond_analysis_report_16.06.17.pdf', 'bond_analysis_report_16.06.16.pdf', 'bond_analysis_report_16.06.15.pdf', 'bond_analysis_report_16.06.14.pdf', 'bond_analysis_report_16.06.13.pdf', 'bond_analysis_report_16.06.10.pdf', 'bond_analysis_report_16.06.09.pdf', 'bond_analysis_report_16.06.08.pdf', 'bond_analysis_report_16.06.07.pdf', 'bond_analysis_report_16.06.03.pdf', 'bond_analysis_report_16.06.02.pdf', 'bond_analysis_report_16.05.31.pdf', 'bond_analysis_report_16.05.30.pdf', 'bond_analysis_report_16.05.27.pdf', 'bond_analysis_report_16.05.26.pdf', 'bond_analysis_report_16.05.25.pdf', 'bond_analysis_report_16.05.24.pdf', 'bond_analysis_report_16.05.23.pdf', 'bond_analysis_report_16.05.20.pdf', 'bond_analysis_report_16.05.19.pdf', 'bond_analysis_report_16.05.18.pdf', 'bond_analysis_report_16.05.17.pdf', 'bond_analysis_report_16.05.16.pdf', 'bond_analysis_report_16.05.13.pdf', 'bond_analysis_report_16.05.12.pdf', 'bond_analysis_report_16.05.11.pdf', 'bond_analysis_report_16.05.10.pdf', 'bond_analysis_report_16.05.09.pdf', 'bond_analysis_report_16.05.04.pdf', 'bond_analysis_report_16.05.03.pdf', 'bond_analysis_report_16.05.02.pdf', 'bond_analysis_report_16.04.29.pdf', 'bond_analysis_report_16.04.27.pdf', 'bond_analysis_report_16.04.26.pdf', 'bond_analysis_report_16.04.25.pdf', 'bond_analysis_report_16.04.21.pdf', 'bond_analysis_report_16.04.20.pdf', 'bond_analysis_report_16.04.19.pdf', 'bond_analysis_report_16.04.18.pdf', 'bond_analysis_report_16.04.15.pdf', 'bond_analysis_report_16.04.14.pdf', 'bond_analysis_report_16.04.12.pdf', 'bond_analysis_report_16.04.11.pdf', 'bond_analysis_report_16.04.08.pdf', 'bond_analysis_report_16.04.07.pdf', 'bond_analysis_report_16.04.06.pdf', 'bond_analysis_report_16.04.05.pdf', 'bond_analysis_report_16.04.04.pdf', 'bond_analysis_report_16.04.01.pdf', 'bond_analysis_report_16.03.31.pdf', 'bond_analysis_report_16.03.30.pdf', 'bond_analysis_report_16.03.29.pdf', 'bond_analysis_report_16.03.28.pdf', 'bond_analysis_report_16.03.24.pdf', 'bond_analysis_report_16.03.23.pdf', 'bond_analysis_report_16.03.22.pdf', 'bond_analysis_report_16.03.21.pdf', 'bond_analysis_report_16.03.18.pdf', 'bond_analysis_report_16.03.17.pdf', 'bond_analysis_report_16.03.16.pdf', 'bond_analysis_report_16.03.15.pdf', 'bond_analysis_report_16.03.14.pdf', 'bond_analysis_report_16.03.11.pdf', 'bond_analysis_report_16.03.10.pdf', 'bond_analysis_report_16.03.09.pdf', 'bond_analysis_report_16.03.07.pdf', 'bond_analysis_report_16.03.04.pdf', 'bond_analysis_report_16.03.03.pdf', 'bond_analysis_report_16.03.02.pdf', 'bond_analysis_report_16.02.29.pdf', 'bond_analysis_report_16.02.26.pdf', 'bond_analysis_report_16.02.25.pdf', 'bond_analysis_report_16.02.24.pdf', 'bond_analysis_report_16.02.23.pdf', 'bond_analysis_report_16.02.22.pdf', 'bond_analysis_report_16.02.19.pdf', 'bond_analysis_report_16.02.18.pdf', 'bond_analysis_report_16.02.17.pdf', 'bond_analysis_report_16.02.16.pdf', 'bond_analysis_report_16.02.15.pdf', 'bond_analysis_report_16.02.12.pdf', 'bond_analysis_report_16.02.11.pdf', 'bond_analysis_report_16.02.05.pdf', 'bond_analysis_report_16.02.04.pdf', 'bond_analysis_report_16.02.03.pdf', 'bond_analysis_report_16.02.02.pdf', 'bond_analysis_report_16.02.01.pdf', 'bond_analysis_report_16.01.29.pdf', 'bond_analysis_report_16.01.28.pdf', 'bond_analysis_report_16.01.27.pdf', 'bond_analysis_report_16.01.26.pdf', 'bond_analysis_report_16.01.25.pdf', 'bond_analysis_report_16.01.22.pdf', 'bond_analysis_report_16.01.21.pdf', 'bond_analysis_report_16.01.20.pdf', 'bond_analysis_report_16.01.19.pdf', 'bond_analysis_report_16.01.18.pdf', 'bond_analysis_report_16.01.15.pdf', 'bond_analysis_report_16.01.14.pdf', 'bond_analysis_report_16.01.13.pdf', 'bond_analysis_report_16.01.12.pdf', 'bond_analysis_report_16.01.11.pdf', 'bond_analysis_report_16.01.08.pdf', 'bond_analysis_report_16.01.07.pdf', 'bond_analysis_report_16.01.06.pdf', 'bond_analysis_report_16.01.05.pdf', 'bond_analysis_report_16.01.04.pdf', 'bond_analysis_report_15.12.30.pdf', 'bond_analysis_report_15.12.29.pdf', 'bond_analysis_report_15.12.28.pdf', 'bond_analysis_report_15.12.24.pdf', 'bond_analysis_report_15.12.23.pdf', 'bond_analysis_report_15.12.22.pdf', 'bond_analysis_report_15.12.21.pdf', 'bond_analysis_report_15.12.18.pdf', 'bond_analysis_report_15.12.17.pdf', 'bond_analysis_report_15.12.16.pdf', 'bond_analysis_report_15.12.15.pdf', 'bond_analysis_report_15.12.14.pdf', 'bond_analysis_report_15.12.11.pdf', 'bond_analysis_report_15.12.10.pdf', 'bond_analysis_report_15.12.09.pdf', 'bond_analysis_report_15.12.08.pdf', 'bond_analysis_report_15.12.07.pdf', 'bond_analysis_report_15.12.04.pdf', 'bond_analysis_report_15.12.03.pdf', 'bond_analysis_report_15.12.02.pdf', 'bond_analysis_report_15.12.01.pdf', 'bond_analysis_report_15.11.30.pdf', 'bond_analysis_report_15.11.27.pdf', 'bond_analysis_report_15.11.26.pdf', 'bond_analysis_report_15.11.25.pdf', 'bond_analysis_report_15.11.24.pdf', 'bond_analysis_report_15.11.23.pdf', 'bond_analysis_report_15.11.20.pdf', 'bond_analysis_report_15.11.19.pdf', 'bond_analysis_report_15.11.18.pdf', 'bond_analysis_report_15.11.17.pdf', 'bond_analysis_report_15.11.16.pdf', 'bond_analysis_report_15.11.13.pdf', 'bond_analysis_report_15.11.11.pdf', 'bond_analysis_report_15.11.10.pdf', 'bond_analysis_report_15.11.09.pdf', 'bond_analysis_report_15.11.06.pdf', 'bond_analysis_report_15.11.05.pdf', 'bond_analysis_report_15.11.04.pdf', 'bond_analysis_report_15.11.03.pdf', 'bond_analysis_report_15.11.02.pdf', 'bond_analysis_report_15.10.30.pdf', 'bond_analysis_report_15.10.29.pdf', 'bond_analysis_report_15.10.28.pdf', 'bond_analysis_report_15.10.27.pdf', 'bond_analysis_report_15.10.26.pdf', 'bond_analysis_report_15.10.23.pdf', 'bond_analysis_report_15.10.22.pdf', 'bond_analysis_report_15.10.21.pdf', 'bond_analysis_report_15.10.20.pdf', 'bond_analysis_report_15.10.19.pdf', 'bond_analysis_report_15.10.16.pdf', 'bond_analysis_report_15.10.15.pdf', 'bond_analysis_report_15.10.14.pdf', 'bond_analysis_report_15.10.13.pdf', 'bond_analysis_report_15.10.12.pdf', 'bond_analysis_report_15.10.08.pdf', 'bond_analysis_report_15.10.07.pdf', 'bond_analysis_report_15.10.06.pdf', 'bond_analysis_report_15.10.05.pdf', 'bond_analysis_report_15.10.02.pdf', 'bond_analysis_report_15.10.01.pdf', 'bond_analysis_report_15.09.30.pdf', 'bond_analysis_report_15.09.25.pdf', 'bond_analysis_report_15.09.24.pdf', 'bond_analysis_report_15.09.23.pdf', 'bond_analysis_report_15.09.22.pdf', 'bond_analysis_report_15.09.21.pdf', 'bond_analysis_report_15.09.18.pdf', 'bond_analysis_report_15.09.17.pdf', 'bond_analysis_report_15.09.16.pdf', 'bond_analysis_report_15.09.15.pdf', 'bond_analysis_report_15.09.14.pdf', 'bond_analysis_report_15.09.11.pdf', 'bond_analysis_report_15.09.10.pdf', 'bond_analysis_report_15.09.09.pdf', 'bond_analysis_report_15.09.08.pdf', 'bond_analysis_report_15.09.07.pdf', 'bond_analysis_report_15.09.04.pdf', 'bond_analysis_report_15.09.03.pdf', 'bond_analysis_report_15.09.02.pdf', 'bond_analysis_report_15.09.01.pdf', 'bond_analysis_report_15.08.31.pdf', 'bond_analysis_report_15.08.28.pdf', 'bond_analysis_report_15.08.27.pdf', 'bond_analysis_report_15.08.26.pdf', 'bond_analysis_report_15.08.25.pdf', 'bond_analysis_report_15.08.24.pdf', 'bond_analysis_report_15.08.21.pdf', 'bond_analysis_report_15.08.20.pdf', 'bond_analysis_report_15.08.19.pdf', 'bond_analysis_report_15.08.18.pdf', 'bond_analysis_report_15.08.17.pdf', 'bond_analysis_report_15.08.13.pdf', 'bond_analysis_report_15.08.12.pdf', 'bond_analysis_report_15.08.11.pdf', 'bond_analysis_report_15.08.10.pdf', 'bond_analysis_report_15.08.07.pdf', 'bond_analysis_report_15.08.06.pdf', 'bond_analysis_report_15.08.05.pdf', 'bond_analysis_report_15.08.03.pdf', 'bond_analysis_report_15.07.31.pdf', 'bond_analysis_report_15.07.30.pdf', 'bond_analysis_report_15.07.29.pdf', 'bond_analysis_report_15.07.28.pdf', 'bond_analysis_report_15.07.27.pdf', 'bond_analysis_report_15.07.24.pdf', 'bond_analysis_report_15.07.23.pdf', 'bond_analysis_report_15.07.22.pdf', 'bond_analysis_report_15.07.21.pdf', 'bond_analysis_report_15.07.20.pdf', 'bond_analysis_report_15.07.17.pdf', 'bond_analysis_report_15.07.16.pdf', 'bond_analysis_report_15.07.15.pdf', 'bond_analysis_report_15.07.14.pdf', 'bond_analysis_report_15.07.13.pdf', 'bond_analysis_report_15.07.10.pdf', 'bond_analysis_report_15.07.09.pdf', 'bond_analysis_report_15.07.08.pdf', 'bond_analysis_report_15.07.07.pdf', 'bond_analysis_report_15.07.06.pdf', 'bond_analysis_report_15.07.02.pdf', 'bond_analysis_report_15.07.01.pdf', 'bond_analysis_report_15.06.30.pdf', 'bond_analysis_report_15.06.29.pdf', 'bond_analysis_report_15.06.25.pdf', 'bond_analysis_report_15.06.24.pdf', 'bond_analysis_report_15.06.23.pdf', 'bond_analysis_report_15.06.22.pdf', 'bond_analysis_report_15.06.15.pdf', 'bond_analysis_report_15.06.12.pdf', 'bond_analysis_report_15.06.08.pdf', 'bond_analysis_report_15.06.02.pdf', 'bond_analysis_report_15.05.20.pdf', 'bond_analysis_report_15.05.18.pdf', 'bond_analysis_report_15.05.11.pdf', 'bond_analysis_report_15.05.04.pdf', 'bond_analysis_report_15.04.30.pdf', 'bond_analysis_report_15.04.13.pdf', 'bond_analysis_report_15.04.10.pdf', 'bond_analysis_report_15.04.06.pdf', 'bond_analysis_report_15.03.31.pdf', 'bond_analysis_report_15.03.23.pdf', 'bond_analysis_report_15.03.16.pdf', 'bond_analysis_report_15.03.13.pdf', 'bond_analysis_report_15.03.09.pdf', 'bond_analysis_report_15.03.02.pdf', 'bond_analysis_report_15.02.23.pdf', 'bond_analysis_report_15.02.17.pdf', 'bond_analysis_report_15.02.16.pdf', 'bond_analysis_report_15.02.13.pdf', 'bond_analysis_report_15.02.12.pdf', 'bond_analysis_report_15.02.10.pdf', 'bond_analysis_report_15.02.09.pdf', 'bond_analysis_report_15.02.06.pdf', 'bond_analysis_report_15.02.05.pdf', 'bond_analysis_report_15.02.04.pdf', 'bond_analysis_report_15.02.03.pdf', 'bond_analysis_report_15.02.02.pdf', 'bond_analysis_report_15.01.30.pdf', 'bond_analysis_report_15.01.28.pdf', 'bond_analysis_report_15.01.27.pdf', 'bond_analysis_report_15.01.26.pdf', 'bond_analysis_report_15.01.23.pdf', 'bond_analysis_report_15.01.19.pdf', 'bond_analysis_report_15.01.16.pdf', 'bond_analysis_report_15.01.13.pdf', 'bond_analysis_report_15.01.12.pdf', 'bond_analysis_report_15.01.07.pdf', 'bond_analysis_report_15.01.06.pdf', 'bond_analysis_report_15.01.05.pdf', 'bond_analysis_report_14.12.30.pdf', 'bond_analysis_report_14.12.29.pdf', 'bond_analysis_report_14.12.23.pdf', 'bond_analysis_report_14.12.22.pdf', 'bond_analysis_report_14.12.19.pdf', 'bond_analysis_report_14.12.18.pdf', 'bond_analysis_report_14.12.16.pdf', 'bond_analysis_report_14.12.15.pdf', 'bond_analysis_report_14.12.12.pdf', 'bond_analysis_report_14.12.08.pdf', 'bond_analysis_report_14.12.04.pdf', 'bond_analysis_report_14.12.03.pdf', 'bond_analysis_report_14.12.01.pdf', 'bond_analysis_report_14.11.25.pdf', 'bond_analysis_report_14.11.24.pdf', 'bond_analysis_report_14.11.21.pdf', 'bond_analysis_report_14.11.17.pdf', 'bond_analysis_report_14.11.14.pdf', 'bond_analysis_report_14.11.10.pdf', 'bond_analysis_report_14.11.07.pdf', 'bond_analysis_report_14.11.03.pdf', 'bond_analysis_report_14.10.27.pdf', 'bond_analysis_report_14.10.20.pdf', 'bond_analysis_report_14.10.17.pdf', 'bond_analysis_report_14.10.16.pdf', 'bond_analysis_report_14.10.13.pdf', 'bond_analysis_report_14.10.10.pdf', 'bond_analysis_report_14.10.06.pdf', 'bond_analysis_report_14.09.29.pdf', 'bond_analysis_report_14.09.22.pdf', 'bond_analysis_report_14.09.15.pdf', 'bond_analysis_report_14.09.12.pdf', 'bond_analysis_report_14.09.11.pdf', 'bond_analysis_report_14.09.05.pdf', 'bond_analysis_report_14.09.01.pdf', 'bond_analysis_report_14.08.29.pdf', 'bond_analysis_report_14.08.25.pdf', 'bond_analysis_report_14.08.19.pdf', 'bond_analysis_report_14.08.18.pdf', 'bond_analysis_report_14.08.11.pdf', 'bond_analysis_report_14.08.04.pdf', 'bond_analysis_report_14.08.01.pdf', 'bond_analysis_report_14.07.28.pdf', 'bond_analysis_report_14.07.21.pdf', 'bond_analysis_report_14.07.14.pdf', 'bond_analysis_report_14.07.11.pdf', 'bond_analysis_report_14.07.07.pdf', 'bond_analysis_report_14.07.01.pdf', 'bond_analysis_report_14.06.30.pdf', 'bond_analysis_report_14.06.27.pdf', 'bond_analysis_report_14.06.25.pdf', 'bond_analysis_report_14.06.23.pdf', 'bond_analysis_report_14.06.18.pdf', 'bond_analysis_report_14.06.16.pdf', 'bond_analysis_report_14.06.13.pdf', 'bond_analysis_report_14.06.09.pdf', 'bond_analysis_report_14.06.02.pdf', 'bond_analysis_report_14.05.30.pdf', 'bond_analysis_report_14.05.28.pdf', 'bond_analysis_report_14.05.26.pdf', 'bond_analysis_report_14.05.23.pdf', 'bond_analysis_report_14.05.19.pdf', 'bond_analysis_report_14.05.12.pdf', 'bond_analysis_report_14.05.07.pdf', 'bond_analysis_report_14.04.30.pdf', 'bond_analysis_report_14.04.29.pdf', 'bond_analysis_report_14.04.28.pdf', 'bond_analysis_report_14.04.22.pdf', 'bond_analysis_report_14.04.21.pdf', 'bond_analysis_report_14.04.16.pdf', 'bond_analysis_report_14.04.14.pdf', 'bond_analysis_report_14.04.11.pdf', 'bond_analysis_report_14.04.09.pdf', 'bond_analysis_report_14.04.08.pdf', 'bond_analysis_report_14.04.07.pdf', 'bond_analysis_report_14.04.01.pdf', 'bond_analysis_report_14.03.31.pdf', 'bond_analysis_report_14.03.24.pdf', 'bond_analysis_report_14.03.20.pdf', 'bond_analysis_report_14.03.17.pdf', 'bond_analysis_report_14.03.16.pdf', 'bond_analysis_report_14.03.14.pdf', 'bond_analysis_report_14.03.12.pdf', 'bond_analysis_report_14.03.10.pdf', 'bond_analysis_report_14.03.09.pdf', 'bond_analysis_report_14.03.05.pdf', 'bond_analysis_report_14.03.03.pdf', 'bond_analysis_report_14.02.28.pdf', 'bond_analysis_report_14.02.25.pdf', 'bond_analysis_report_14.02.24.pdf', 'bond_analysis_report_14.02.18.pdf', 'bond_analysis_report_14.02.17.pdf', 'bond_analysis_report_14.02.14.pdf', 'bond_analysis_report_14.02.12.pdf', 'bond_analysis_report_14.02.10.pdf', 'bond_analysis_report_14.02.04.pdf', 'bond_analysis_report_14.02.03.pdf', 'bond_analysis_report_14.01.28.pdf', 'bond_analysis_report_14.01.27.pdf', 'bond_analysis_report_14.01.22.pdf', 'bond_analysis_report_14.01.20.pdf', 'bond_analysis_report_14.01.14.pdf', 'bond_analysis_report_14.01.13.pdf', 'bond_analysis_report_14.01.10.pdf', 'bond_analysis_report_14.01.08.pdf', 'bond_analysis_report_14.01.06.pdf', 'bond_analysis_report_14.01.02.pdf', 'bond_analysis_report_13.12.30.pdf', 'bond_analysis_report_13.12.23.pdf', 'bond_analysis_report_13.12.19.pdf', 'bond_analysis_report_13.12.16.pdf', 'bond_analysis_report_13.12.13.pdf', 'bond_analysis_report_13.12.11.pdf', 'bond_analysis_report_13.12.09.pdf', 'bond_analysis_report_13.12.02.pdf', 'bond_analysis_report_13.11.25.pdf', 'bond_analysis_report_13.11.18.pdf', 'bond_analysis_report_13.11.15.pdf', 'bond_analysis_report_13.11.13.pdf', 'bond_analysis_report_13.11.11.pdf', 'bond_analysis_report_13.11.08.pdf', 'bond_analysis_report_13.11.04.pdf', 'bond_analysis_report_13.11.01.pdf', 'bond_analysis_report_13.10.31.pdf', 'bond_analysis_report_13.10.30.pdf', 'bond_analysis_report_13.10.28.pdf', 'bond_analysis_report_13.10.24.pdf', 'bond_analysis_report_13.10.23.pdf', 'bond_analysis_report_13.10.22.pdf', 'bond_analysis_report_13.10.21.pdf', 'bond_analysis_report_13.10.18.pdf', 'bond_analysis_report_13.10.17.pdf', 'bond_analysis_report_13.10.16.pdf', 'bond_analysis_report_13.10.15.pdf', 'bond_analysis_report_13.10.14.pdf', 'bond_analysis_report_13.10.10.pdf', 'bond_analysis_report_13.10.08.pdf', 'bond_analysis_report_13.10.07.pdf', 'bond_analysis_report_13.10.04.pdf', 'bond_analysis_report_13.10.02.pdf', 'bond_analysis_report_13.10.01.pdf', 'bond_analysis_report_13.09.30.pdf', 'bond_analysis_report_13.09.27.pdf', 'bond_analysis_report_13.09.26.pdf', 'bond_analysis_report_13.09.25.pdf', 'bond_analysis_report_13.09.24.pdf', 'bond_analysis_report_13.09.23.pdf', 'bond_analysis_report_13.09.17.pdf', 'bond_analysis_report_13.09.16.pdf', 'bond_analysis_report_13.09.13.pdf', 'bond_analysis_report_13.09.12.pdf', 'bond_analysis_report_13.09.11.pdf', 'bond_analysis_report_13.09.10.pdf', 'bond_analysis_report_13.09.09.pdf', 'bond_analysis_report_13.09.06.pdf', 'bond_analysis_report_13.09.05.pdf', 'bond_analysis_report_13.09.04.pdf', 'bond_analysis_report_13.09.03.pdf', 'bond_analysis_report_13.09.02.pdf', 'bond_analysis_report_13.08.30.pdf', 'bond_analysis_report_13.08.29.pdf', 'bond_analysis_report_13.08.28.pdf', 'bond_analysis_report_13.08.27.pdf', 'bond_analysis_report_13.08.26.pdf', 'bond_analysis_report_13.08.23.pdf', 'bond_analysis_report_13.08.22.pdf', 'bond_analysis_report_13.08.21.pdf', 'bond_analysis_report_13.08.20.pdf', 'bond_analysis_report_13.08.19.pdf', 'bond_analysis_report_13.08.14.pdf', 'bond_analysis_report_13.08.12.pdf', 'bond_analysis_report_13.08.09.pdf', 'bond_analysis_report_13.08.08.pdf', 'bond_analysis_report_13.08.07.pdf', 'bond_analysis_report_13.08.05.pdf', 'bond_analysis_report_13.08.01.pdf', 'bond_analysis_report_13.07.31.pdf', 'bond_analysis_report_13.07.29.pdf', 'bond_analysis_report_13.07.23.pdf', 'bond_analysis_report_13.07.22.pdf', 'bond_analysis_report_13.07.15.pdf', 'bond_analysis_report_13.07.12.pdf', 'bond_analysis_report_13.07.10.pdf', 'bond_analysis_report_13.07.08.pdf', 'bond_analysis_report_13.07.05.pdf', 'bond_analysis_report_13.07.04.pdf', 'bond_analysis_report_13.07.01.pdf', 'bond_analysis_report_13.06.26.pdf', 'bond_analysis_report_13.06.24.pdf', 'bond_analysis_report_13.06.20.pdf', 'bond_analysis_report_13.06.19.pdf', 'bond_analysis_report_13.06.17.pdf', 'bond_analysis_report_13.06.14.pdf', 'bond_analysis_report_13.06.13.pdf', 'bond_analysis_report_13.06.12.pdf', 'bond_analysis_report_13.06.10.pdf', 'bond_analysis_report_13.06.03.pdf', 'bond_analysis_report_13.05.29.pdf', 'bond_analysis_report_13.05.27.pdf', 'bond_analysis_report_13.05.20.pdf', 'bond_analysis_report_13.05.13.pdf', 'bond_analysis_report_13.05.10.pdf', 'bond_analysis_report_13.05.08.pdf', 'bond_analysis_report_13.05.06.pdf', 'bond_analysis_report_13.05.02.pdf', 'bond_analysis_report_13.04.29.pdf', 'bond_analysis_report_13.04.26.pdf', 'bond_analysis_report_13.04.24.pdf', 'bond_analysis_report_13.04.22.pdf', 'bond_analysis_report_13.04.15.pdf', 'bond_analysis_report_13.04.12.pdf', 'bond_analysis_report_13.04.10.pdf', 'bond_analysis_report_13.04.08.pdf', 'bond_analysis_report_13.04.03.pdf', 'bond_analysis_report_13.04.01.pdf', 'bond_analysis_report_13.03.29.pdf', 'bond_analysis_report_13.03.25.pdf', 'bond_analysis_report_13.03.21.pdf', 'bond_analysis_report_13.03.18.pdf', 'bond_analysis_report_13.03.15.pdf', 'bond_analysis_report_13.03.14.pdf', 'bond_analysis_report_13.03.13.pdf', 'bond_analysis_report_13.03.11.pdf', 'bond_analysis_report_13.03.06.pdf', 'bond_analysis_report_13.03.04.pdf', 'bond_analysis_report_13.02.28.pdf', 'bond_analysis_report_13.02.25.pdf', 'bond_analysis_report_13.02.20.pdf', 'bond_analysis_report_13.02.18.pdf', 'bond_analysis_report_13.02.15.pdf', 'bond_analysis_report_13.02.13.pdf', 'bond_analysis_report_13.02.12.pdf', 'bond_analysis_report_13.02.06.pdf', 'bond_analysis_report_13.02.04.pdf', 'bond_analysis_report_13.01.31.pdf', 'bond_analysis_report_13.01.30.pdf', 'bond_analysis_report_13.01.29.pdf', 'bond_analysis_report_13.01.28.pdf', 'bond_analysis_report_13.01.23.pdf', 'bond_analysis_report_13.01.21.pdf', 'bond_analysis_report_13.01.14.pdf', 'bond_analysis_report_13.01.10.pdf', 'bond_analysis_report_13.01.07.pdf', 'bond_analysis_report_13.01.02.pdf', 'bond_analysis_report_12.12.31.pdf', 'bond_analysis_report_12.12.24.pdf', 'bond_analysis_report_12.12.21.pdf', 'bond_analysis_report_12.12.17.pdf', 'bond_analysis_report_12.12.14.pdf', 'bond_analysis_report_12.12.13.pdf', 'bond_analysis_report_12.12.12.pdf', 'bond_analysis_report_12.12.10.pdf', 'bond_analysis_report_12.12.03.pdf', 'bond_analysis_report_12.11.30.pdf', 'bond_analysis_report_12.11.26.pdf', 'bond_analysis_report_12.11.19.pdf', 'bond_analysis_report_12.11.12.pdf', 'bond_analysis_report_12.11.08.pdf', 'bond_analysis_report_12.11.06.pdf', 'bond_analysis_report_12.11.05.pdf', 'bond_analysis_report_12.10.31.pdf', 'bond_analysis_report_12.10.29.pdf', 'bond_analysis_report_12.10.25.pdf', 'bond_analysis_report_12.10.22.pdf', 'bond_analysis_report_12.10.15.pdf', 'bond_analysis_report_12.10.12.pdf', 'bond_analysis_report_12.10.08.pdf', 'bond_analysis_report_12.10.05.pdf', 'bond_analysis_report_12.10.02.pdf', 'bond_analysis_report_12.09.28.pdf', 'bond_analysis_report_12.09.24.pdf', 'bond_analysis_report_12.09.17.pdf', 'bond_analysis_report_12.09.14.pdf', 'bond_analysis_report_12.09.10.pdf', 'bond_analysis_report_12.09.04.pdf', 'bond_analysis_report_12.09.03.pdf', 'bond_analysis_report_12.08.28.pdf', 'bond_analysis_report_12.08.27.pdf', 'bond_analysis_report_12.08.24.pdf', 'bond_analysis_report_12.08.20.pdf', 'bond_analysis_report_12.08.14.pdf', 'bond_analysis_report_12.08.13.pdf', 'bond_analysis_report_12.08.10.pdf', 'bond_analysis_report_12.08.08.pdf', 'bond_analysis_report_12.08.06.pdf', 'bond_analysis_report_12.08.03.pdf', 'bond_analysis_report_12.08.02.pdf', 'bond_analysis_report_12.08.01.pdf', 'bond_analysis_report_12.07.30.pdf', 'bond_analysis_report_12.07.27.pdf', 'bond_analysis_report_12.07.25.pdf', 'bond_analysis_report_12.07.23.pdf', 'bond_analysis_report_12.07.20.pdf', 'bond_analysis_report_12.07.19.pdf', 'bond_analysis_report_12.07.17.pdf', 'bond_analysis_report_12.07.16.pdf', 'bond_analysis_report_12.07.13.pdf', 'bond_analysis_report_12.07.11.pdf', 'bond_analysis_report_12.07.10.pdf', 'bond_analysis_report_12.07.09.pdf', 'bond_analysis_report_12.07.05.pdf', 'bond_analysis_report_12.07.03.pdf', 'bond_analysis_report_12.07.02.pdf', 'bond_analysis_report_12.06.29.pdf', 'bond_analysis_report_12.06.26.pdf', 'bond_analysis_report_12.06.25.pdf', 'bond_analysis_report_12.06.21.pdf', 'bond_analysis_report_12.06.18.pdf', 'bond_analysis_report_12.06.15.pdf', 'bond_analysis_report_12.06.11.pdf', 'bond_analysis_report_12.06.08.pdf', 'bond_analysis_report_12.06.07.pdf', 'bond_analysis_report_12.06.05.pdf', 'bond_analysis_report_12.06.04.pdf', 'bond_analysis_report_12.06.01.pdf', 'bond_analysis_report_12.05.29.pdf', 'bond_analysis_report_12.05.21.pdf', 'bond_analysis_report_12.05.15.pdf', 'bond_analysis_report_12.05.14.pdf', 'bond_analysis_report_12.05.07.pdf', 'bond_analysis_report_12.05.02.pdf', 'bond_analysis_report_12.04.30.pdf', 'bond_analysis_report_12.04.26.pdf', 'bond_analysis_report_12.04.25.pdf', 'bond_analysis_report_12.04.23.pdf', 'bond_analysis_report_12.04.19.pdf', 'bond_analysis_report_12.04.16.pdf', 'bond_analysis_report_12.04.12.pdf', 'bond_analysis_report_12.04.09.pdf', 'bond_analysis_report_12.04.02.pdf', 'bond_analysis_report_12.03.30.pdf', 'bond_analysis_report_12.03.26.pdf', 'bond_analysis_report_12.03.19.pdf', 'bond_analysis_report_12.03.14.pdf', 'bond_analysis_report_12.03.12.pdf', 'bond_analysis_report_12.03.09.pdf', 'bond_analysis_report_12.03.07.pdf', 'bond_analysis_report_12.03.05.pdf', 'bond_analysis_report_12.02.27.pdf', 'bond_analysis_report_12.02.20.pdf', 'bond_analysis_report_12.02.13.pdf', 'bond_analysis_report_12.02.10.pdf', 'bond_analysis_report_12.02.08.pdf', 'bond_analysis_report_12.02.06.pdf', 'bond_analysis_report_12.02.01.pdf', 'bond_analysis_report_12.01.30.pdf', 'bond_analysis_report_12.01.26.pdf', 'bond_analysis_report_12.01.16.pdf', 'bond_analysis_report_12.01.13.pdf', 'bond_analysis_report_12.01.09.pdf', 'bond_analysis_report_11.12.19.pdf', 'bond_analysis_report_11.12.12.pdf', 'bond_analysis_report_11.12.09.pdf', 'bond_analysis_report_11.12.05.pdf', 'bond_analysis_report_11.11.28.pdf', 'bond_analysis_report_11.11.21.pdf', 'bond_analysis_report_11.11.14.pdf', 'bond_analysis_report_11.11.07.pdf', 'bond_analysis_report_11.10.31.pdf', 'bond_analysis_report_11.10.24.pdf', 'bond_analysis_report_11.10.17.pdf', 'bond_analysis_report_11.10.14.pdf', 'bond_analysis_report_11.10.13.pdf', 'bond_analysis_report_11.10.10.pdf', 'bond_analysis_report_11.10.04.pdf', 'bond_analysis_report_11.09.26.pdf', 'bond_analysis_report_11.09.20.pdf', 'bond_analysis_report_11.09.19.pdf', 'bond_analysis_report_11.09.09.pdf', 'bond_analysis_report_11.09.07.pdf', 'bond_analysis_report_11.09.05.pdf', 'bond_analysis_report_11.08.29.pdf', 'bond_analysis_report_11.08.25.pdf', 'bond_analysis_report_11.08.22.pdf', 'bond_analysis_report_11.08.16.pdf', 'bond_analysis_report_11.08.12.pdf', 'bond_analysis_report_11.08.11.pdf', 'bond_analysis_report_11.08.10.pdf', 'bond_analysis_report_11.08.09.pdf', 'bond_analysis_report_11.08.08.pdf', 'bond_analysis_report_11.08.05.pdf', 'bond_analysis_report_11.08.04.pdf', 'bond_analysis_report_11.08.03.pdf', 'bond_analysis_report_11.08.01.pdf', 'bond_analysis_report_11.07.29.pdf', 'bond_analysis_report_11.07.28.pdf', 'bond_analysis_report_11.07.27.pdf', 'bond_analysis_report_11.07.26.pdf', 'bond_analysis_report_11.07.25.pdf', 'bond_analysis_report_11.07.20.pdf', 'bond_analysis_report_11.07.18.pdf', 'bond_analysis_report_11.07.15.pdf', 'bond_analysis_report_11.07.14.pdf', 'bond_analysis_report_11.07.13.pdf', 'bond_analysis_report_11.07.12.pdf', 'bond_analysis_report_11.07.11.pdf', 'bond_analysis_report_11.07.08.pdf', 'bond_analysis_report_11.07.07.pdf', 'bond_analysis_report_11.07.06.pdf', 'bond_analysis_report_11.07.05.pdf', 'bond_analysis_report_11.07.04.pdf', 'bond_analysis_report_11.07.01.pdf', 'bond_analysis_report_11.06.30.pdf', 'bond_analysis_report_11.06.29.pdf', 'bond_analysis_report_11.06.28.pdf', 'bond_analysis_report_11.06.27.pdf', 'bond_analysis_report_11.06.24.pdf', 'bond_analysis_report_11.06.23.pdf', 'bond_analysis_report_11.06.22.pdf', 'bond_analysis_report_11.06.21.pdf', 'bond_analysis_report_11.06.20.pdf', 'bond_analysis_report_11.06.17.pdf', 'bond_analysis_report_11.06.16.pdf', 'bond_analysis_report_11.06.15.pdf', 'bond_analysis_report_11.06.14.pdf', 'bond_analysis_report_11.06.13.pdf', 'bond_analysis_report_11.06.10.pdf', 'bond_analysis_report_11.06.09.pdf', 'bond_analysis_report_11.06.08.pdf', 'bond_analysis_report_11.06.07.pdf', 'bond_analysis_report_11.06.03.pdf', 'bond_analysis_report_11.06.02.pdf', 'bond_analysis_report_11.06.01.pdf', 'bond_analysis_report_11.05.31.pdf', 'bond_analysis_report_11.05.30.pdf', 'bond_analysis_report_11.05.27.pdf', 'bond_analysis_report_11.05.26.pdf', 'bond_analysis_report_11.05.25.pdf', 'bond_analysis_report_11.05.24.pdf', 'bond_analysis_report_11.05.23.pdf', 'bond_analysis_report_11.05.20.pdf', 'bond_analysis_report_11.05.19.pdf', 'bond_analysis_report_11.05.18.pdf', 'bond_analysis_report_11.05.17.pdf', 'bond_analysis_report_11.05.16.pdf', 'bond_analysis_report_11.05.13.pdf', 'bond_analysis_report_11.05.12.pdf', 'bond_analysis_report_11.05.11.pdf', 'bond_analysis_report_11.05.09.pdf', 'bond_analysis_report_11.05.06.pdf', 'bond_analysis_report_11.05.04.pdf', 'bond_analysis_report_11.05.03.pdf', 'bond_analysis_report_11.05.02.pdf', 'bond_analysis_report_11.04.29.pdf', 'bond_analysis_report_11.04.28.pdf', 'bond_analysis_report_11.04.27.pdf', 'bond_analysis_report_11.04.26.pdf', 'bond_analysis_report_11.04.25.pdf', 'bond_analysis_report_11.04.22.pdf', 'bond_analysis_report_11.04.21.pdf', 'bond_analysis_report_11.04.20.pdf', 'bond_analysis_report_11.04.19.pdf', 'bond_analysis_report_11.04.18.pdf', 'bond_analysis_report_11.04.15.pdf', 'bond_analysis_report_11.04.14.pdf', 'bond_analysis_report_11.04.13.pdf', 'bond_analysis_report_11.04.12.pdf', 'bond_analysis_report_11.04.11.pdf', 'bond_analysis_report_11.04.08.pdf', 'bond_analysis_report_11.04.06.pdf', 'bond_analysis_report_11.04.05.pdf', 'bond_analysis_report_11.04.04.pdf', 'bond_analysis_report_11.04.01.pdf', 'bond_analysis_report_11.03.31.pdf', 'bond_analysis_report_11.03.30.pdf', 'bond_analysis_report_11.03.29.pdf', 'bond_analysis_report_11.03.28.pdf', 'bond_analysis_report_11.03.25.pdf', 'bond_analysis_report_11.03.24.pdf', 'bond_analysis_report_11.03.23.pdf', 'bond_analysis_report_11.03.22.pdf', 'bond_analysis_report_11.03.21.pdf', 'bond_analysis_report_11.03.18.pdf', 'bond_analysis_report_11.03.17.pdf', 'bond_analysis_report_11.03.16.pdf', 'bond_analysis_report_11.03.15.pdf', 'bond_analysis_report_11.03.11.pdf', 'bond_analysis_report_11.03.10.pdf', 'bond_analysis_report_11.03.09.pdf', 'bond_analysis_report_11.03.08.pdf', 'bond_analysis_report_11.03.04.pdf', 'bond_analysis_report_11.03.03.pdf', 'bond_analysis_report_11.03.02.pdf', 'bond_analysis_report_11.02.28.pdf', 'bond_analysis_report_11.02.25.pdf', 'bond_analysis_report_11.02.24.pdf', 'bond_analysis_report_11.02.23.pdf', 'bond_analysis_report_11.02.22.pdf', 'bond_analysis_report_11.02.21.pdf', 'bond_analysis_report_11.02.18.pdf', 'bond_analysis_report_11.02.17.pdf', 'bond_analysis_report_11.02.16.pdf', 'bond_analysis_report_11.02.15.pdf', 'bond_analysis_report_11.02.14.pdf', 'bond_analysis_report_11.02.11.pdf', 'bond_analysis_report_11.02.10.pdf', 'bond_analysis_report_11.02.09.pdf', 'bond_analysis_report_11.02.08.pdf', 'bond_analysis_report_11.02.07.pdf', 'bond_analysis_report_11.02.01.pdf', 'bond_analysis_report_11.01.31.pdf', 'bond_analysis_report_11.01.28.pdf', 'bond_analysis_report_11.01.27.pdf', 'bond_analysis_report_11.01.26.pdf', 'bond_analysis_report_11.01.25.pdf', 'bond_analysis_report_11.01.24.pdf', 'bond_analysis_report_11.01.21.pdf', 'bond_analysis_report_11.01.20.pdf', 'bond_analysis_report_11.01.19.pdf', 'bond_analysis_report_11.01.18.pdf', 'bond_analysis_report_11.01.17.pdf', 'bond_analysis_report_11.01.14.pdf', 'bond_analysis_report_11.01.13.pdf', 'bond_analysis_report_11.01.12.pdf', 'bond_analysis_report_11.01.11.pdf', 'bond_analysis_report_11.01.10.pdf', 'bond_analysis_report_11.01.07.pdf', 'bond_analysis_report_11.01.06.pdf', 'bond_analysis_report_11.01.05.pdf', 'bond_analysis_report_11.01.04.pdf', 'bond_analysis_report_11.01.03.pdf', 'bond_analysis_report_10.12.30.pdf', 'bond_analysis_report_10.12.29.pdf', 'bond_analysis_report_10.12.28.pdf', 'bond_analysis_report_10.12.27.pdf', 'bond_analysis_report_10.12.24.pdf', 'bond_analysis_report_10.12.23.pdf', 'bond_analysis_report_10.12.22.pdf', 'bond_analysis_report_10.12.21.pdf', 'bond_analysis_report_10.12.20.pdf', 'bond_analysis_report_10.12.17.pdf', 'bond_analysis_report_10.12.16.pdf', 'bond_analysis_report_10.12.15.pdf', 'bond_analysis_report_10.12.14.pdf', 'bond_analysis_report_10.12.13.pdf', 'bond_analysis_report_10.12.10.pdf', 'bond_analysis_report_10.12.09.pdf', 'bond_analysis_report_10.12.08.pdf', 'bond_analysis_report_10.12.07.pdf', 'bond_analysis_report_10.12.06.pdf', 'bond_analysis_report_10.12.03.pdf', 'bond_analysis_report_10.12.02.pdf', 'bond_analysis_report_10.12.01.pdf', 'bond_analysis_report_10.11.30.pdf', 'bond_analysis_report_10.11.29.pdf', 'bond_analysis_report_10.11.26.pdf', 'bond_analysis_report_10.11.25.pdf', 'bond_analysis_report_10.11.24.pdf', 'bond_analysis_report_10.11.23.pdf', 'bond_analysis_report_10.11.22.pdf', 'bond_analysis_report_10.11.19.pdf', 'bond_analysis_report_10.11.18.pdf', 'bond_analysis_report_10.11.17.pdf', 'bond_analysis_report_10.11.16.pdf', 'bond_analysis_report_10.11.15.pdf', 'bond_analysis_report_10.11.12.pdf', 'bond_analysis_report_10.11.11.pdf', 'bond_analysis_report_10.11.10.pdf', 'bond_analysis_report_10.11.09.pdf', 'bond_analysis_report_10.11.08.pdf', 'bond_analysis_report_10.11.05.pdf', 'bond_analysis_report_10.11.04.pdf', 'bond_analysis_report_10.11.03.pdf', 'bond_analysis_report_10.11.02.pdf', 'bond_analysis_report_10.11.01.pdf', 'bond_analysis_report_10.10.29.pdf', 'bond_analysis_report_10.10.28.pdf', 'bond_analysis_report_10.10.27.pdf', 'bond_analysis_report_10.10.26.pdf', 'bond_analysis_report_10.10.25.pdf', 'bond_analysis_report_10.10.22.pdf', 'bond_analysis_report_10.10.21.pdf', 'bond_analysis_report_10.10.20.pdf', 'bond_analysis_report_10.10.19.pdf', 'bond_analysis_report_10.10.18.pdf', 'bond_analysis_report_10.10.15.pdf', 'bond_analysis_report_10.10.14.pdf', 'bond_analysis_report_10.10.13.pdf', 'bond_analysis_report_10.10.12.pdf', 'bond_analysis_report_10.10.11.pdf', 'bond_analysis_report_10.10.08.pdf', 'bond_analysis_report_10.10.07.pdf', 'bond_analysis_report_10.10.06.pdf', 'bond_analysis_report_10.10.05.pdf', 'bond_analysis_report_10.10.04.pdf', 'bond_analysis_report_10.10.01.pdf', 'bond_analysis_report_10.09.30.pdf', 'bond_analysis_report_10.09.29.pdf', 'bond_analysis_report_10.09.28.pdf', 'bond_analysis_report_10.09.27.pdf', 'bond_analysis_report_10.09.20.pdf', 'bond_analysis_report_10.09.17.pdf', 'bond_analysis_report_10.09.16.pdf', 'bond_analysis_report_10.09.15.pdf', 'bond_analysis_report_10.09.14.pdf', 'bond_analysis_report_10.09.13.pdf', 'bond_analysis_report_10.09.10.pdf', 'bond_analysis_report_10.09.09.pdf', 'bond_analysis_report_10.09.08.pdf', 'bond_analysis_report_10.09.07.pdf', 'bond_analysis_report_10.09.06.pdf', 'bond_analysis_report_10.09.03.pdf', 'bond_analysis_report_10.09.02.pdf', 'bond_analysis_report_10.09.01.pdf', 'bond_analysis_report_10.08.31.pdf', 'bond_analysis_report_10.08.30.pdf', 'bond_analysis_report_10.08.27.pdf', 'bond_analysis_report_10.08.26.pdf', 'bond_analysis_report_10.08.13.pdf', 'bond_analysis_report_10.08.12.pdf', 'bond_analysis_report_10.08.11.pdf', 'bond_analysis_report_10.08.10.pdf', 'bond_analysis_report_10.08.09.pdf', 'bond_analysis_report_10.08.06.pdf', 'bond_analysis_report_10.08.05.pdf', 'bond_analysis_report_10.08.04.pdf', 'bond_analysis_report_10.08.03.pdf', 'bond_analysis_report_10.08.02.pdf', 'bond_analysis_report_10.07.30.pdf', 'bond_analysis_report_10.07.29.pdf', 'bond_analysis_report_10.07.28.pdf', 'bond_analysis_report_10.07.27.pdf', 'bond_analysis_report_10.07.26.pdf', 'bond_analysis_report_10.07.23.pdf', 'bond_analysis_report_10.07.22.pdf', 'bond_analysis_report_10.07.12.pdf', 'bond_analysis_report_10.06.24.pdf', 'bond_analysis_report_10.06.21.pdf', 'bond_analysis_report_10.06.16.pdf', 'bond_analysis_report_10.06.14.pdf', 'bond_analysis_report_10.06.10.pdf', 'bond_analysis_report_10.06.07.pdf', 'bond_analysis_report_10.05.20.pdf', 'bond_analysis_report_10.05.18.pdf', 'bond_analysis_report_10.05.17.pdf', 'bond_analysis_report_10.05.12.pdf', 'bond_analysis_report_10.05.10.pdf', 'bond_analysis_report_10.05.03.pdf', 'bond_analysis_report_10.04.27.pdf', 'bond_analysis_report_10.04.26.pdf', 'bond_analysis_report_10.04.22.pdf', 'bond_analysis_report_10.04.15.pdf', 'bond_analysis_report_10.04.09.pdf', 'bond_analysis_report_10.04.07.pdf', 'bond_analysis_report_10.04.05.pdf', 'bond_analysis_report_10.03.29.pdf', 'bond_analysis_report_10.03.25.pdf', 'bond_analysis_report_10.03.22.pdf', 'bond_analysis_report_10.03.15.pdf', 'bond_analysis_report_10.03.12.pdf', 'bond_analysis_report_10.03.08.pdf', 'bond_analysis_report_10.03.03.pdf', 'bond_analysis_report_10.03.02.pdf', 'bond_analysis_report_10.02.25.pdf', 'bond_analysis_report_10.02.22.pdf', 'bond_analysis_report_10.02.18.pdf', 'bond_analysis_report_10.02.12.pdf', 'bond_analysis_report_10.02.11.pdf', 'bond_analysis_report_10.02.08.pdf', 'bond_analysis_report_10.02.04.pdf', 'bond_analysis_report_10.02.01.pdf', 'bond_analysis_report_10.01.29.pdf', 'bond_analysis_report_10.01.28.pdf', 'bond_analysis_report_10.01.27.pdf', 'bond_analysis_report_10.01.26.pdf', 'bond_analysis_report_10.01.25.pdf', 'bond_analysis_report_10.01.22.pdf', 'bond_analysis_report_10.01.21.pdf', 'bond_analysis_report_10.01.20.pdf', 'bond_analysis_report_10.01.19.pdf', 'bond_analysis_report_10.01.18.pdf', 'bond_analysis_report_10.01.15.pdf', 'bond_analysis_report_10.01.14.pdf', 'bond_analysis_report_10.01.13.pdf', 'bond_analysis_report_10.01.12.pdf', 'bond_analysis_report_10.01.11.pdf', 'bond_analysis_report_10.01.08.pdf', 'bond_analysis_report_10.01.07.pdf', 'bond_analysis_report_10.01.06.pdf', 'bond_analysis_report_10.01.05.pdf', 'bond_analysis_report_10.01.04.pdf', 'bond_analysis_report_09.12.30.pdf', 'bond_analysis_report_09.12.29.pdf', 'bond_analysis_report_09.12.28.pdf', 'bond_analysis_report_09.12.24.pdf', 'bond_analysis_report_09.12.23.pdf', 'bond_analysis_report_09.12.22.pdf', 'bond_analysis_report_09.12.21.pdf', 'bond_analysis_report_09.12.18.pdf', 'bond_analysis_report_09.12.17.pdf', 'bond_analysis_report_09.12.16.pdf', 'bond_analysis_report_09.12.15.pdf', 'bond_analysis_report_09.12.14.pdf', 'bond_analysis_report_09.12.11.pdf', 'bond_analysis_report_09.12.10.pdf', 'bond_analysis_report_09.12.09.pdf', 'bond_analysis_report_09.12.08.pdf', 'bond_analysis_report_09.12.07.pdf', 'bond_analysis_report_09.12.04.pdf', 'bond_analysis_report_09.12.03.pdf', 'bond_analysis_report_09.12.02.pdf', 'bond_analysis_report_09.12.01.pdf', 'bond_analysis_report_09.11.30.pdf', 'bond_analysis_report_09.11.27.pdf', 'bond_analysis_report_09.11.26.pdf', 'bond_analysis_report_09.11.25.pdf', 'bond_analysis_report_09.11.24.pdf', 'bond_analysis_report_09.11.23.pdf', 'bond_analysis_report_09.11.20.pdf', 'bond_analysis_report_09.11.19.pdf', 'bond_analysis_report_09.11.18.pdf', 'bond_analysis_report_09.11.17.pdf', 'bond_analysis_report_09.11.16.pdf', 'bond_analysis_report_09.11.13.pdf', 'bond_analysis_report_09.11.12.pdf', 'bond_analysis_report_09.11.11.pdf', 'bond_analysis_report_09.11.10.pdf', 'bond_analysis_report_09.11.09.pdf', 'bond_analysis_report_09.11.06.pdf', 'bond_analysis_report_09.11.05.pdf', 'bond_analysis_report_09.11.04.pdf', 'bond_analysis_report_09.11.03.pdf', 'bond_analysis_report_09.11.02.pdf', 'bond_analysis_report_09.10.30.pdf', 'bond_analysis_report_09.10.29.pdf', 'bond_analysis_report_09.10.28.pdf', 'bond_analysis_report_09.10.27.pdf', 'bond_analysis_report_09.10.26.pdf', 'bond_analysis_report_09.10.23.pdf', 'bond_analysis_report_09.10.22.pdf', 'bond_analysis_report_09.10.21.pdf', 'bond_analysis_report_09.10.20.pdf', 'bond_analysis_report_09.10.19.pdf', 'bond_analysis_report_09.10.16.pdf', 'bond_analysis_report_09.10.15.pdf', 'bond_analysis_report_09.10.14.pdf', 'bond_analysis_report_09.10.13.pdf', 'bond_analysis_report_09.10.12.pdf', 'bond_analysis_report_09.10.09.pdf', 'bond_analysis_report_09.10.08.pdf', 'bond_analysis_report_09.10.07.pdf', 'bond_analysis_report_09.10.06.pdf', 'bond_analysis_report_09.10.05.pdf', 'bond_analysis_report_09.10.01.pdf', 'bond_analysis_report_09.09.30.pdf', 'bond_analysis_report_09.09.29.pdf', 'bond_analysis_report_09.09.28.pdf', 'bond_analysis_report_09.09.25.pdf', 'bond_analysis_report_09.09.24.pdf', 'bond_analysis_report_09.09.23.pdf', 'bond_analysis_report_09.09.22.pdf', 'bond_analysis_report_09.09.21.pdf', 'bond_analysis_report_09.09.18.pdf', 'bond_analysis_report_09.09.17.pdf', 'bond_analysis_report_09.09.16.pdf', 'bond_analysis_report_09.09.15.pdf', 'bond_analysis_report_09.09.14.pdf', 'bond_analysis_report_09.09.11.pdf', 'bond_analysis_report_09.09.10.pdf', 'bond_analysis_report_09.09.09.pdf', 'bond_analysis_report_09.09.08.pdf', 'bond_analysis_report_09.09.07.pdf', 'bond_analysis_report_09.09.04.pdf', 'bond_analysis_report_09.09.03.pdf', 'bond_analysis_report_09.09.02.pdf', 'bond_analysis_report_09.09.01.pdf', 'bond_analysis_report_09.08.31.pdf', 'bond_analysis_report_09.08.28.pdf', 'bond_analysis_report_09.08.27.pdf', 'bond_analysis_report_09.08.26.pdf', 'bond_analysis_report_09.08.25.pdf', 'bond_analysis_report_09.08.24.pdf', 'bond_analysis_report_09.08.21.pdf', 'bond_analysis_report_09.08.20.pdf', 'bond_analysis_report_09.08.19.pdf', 'bond_analysis_report_09.08.18.pdf', 'bond_analysis_report_09.08.17.pdf', 'bond_analysis_report_09.08.14.pdf', 'bond_analysis_report_09.08.13.pdf', 'bond_analysis_report_09.08.12.pdf', 'bond_analysis_report_09.08.11.pdf', 'bond_analysis_report_09.08.10.pdf', 'bond_analysis_report_09.08.07.pdf', 'bond_analysis_report_09.08.06.pdf', 'bond_analysis_report_09.08.05.pdf', 'bond_analysis_report_09.08.04.pdf', 'bond_analysis_report_09.08.03.pdf', 'bond_analysis_report_09.07.31.pdf', 'bond_analysis_report_09.07.30.pdf', 'bond_analysis_report_09.07.29.pdf', 'bond_analysis_report_09.07.28.pdf', 'bond_analysis_report_09.07.27.pdf', 'bond_analysis_report_09.07.24.pdf', 'bond_analysis_report_09.07.23.pdf', 'bond_analysis_report_09.07.22.pdf', 'bond_analysis_report_09.07.21.pdf', 'bond_analysis_report_09.07.20.pdf', 'bond_analysis_report_09.07.17.pdf', 'bond_analysis_report_09.07.16.pdf', 'bond_analysis_report_09.07.15.pdf', 'bond_analysis_report_09.07.14.pdf', 'bond_analysis_report_09.07.13.pdf', 'bond_analysis_report_09.07.10.pdf', 'bond_analysis_report_09.07.09.pdf', 'bond_analysis_report_09.07.08.pdf', 'bond_analysis_report_09.07.07.pdf', 'bond_analysis_report_09.07.06.pdf', 'bond_analysis_report_09.07.03.pdf', 'bond_analysis_report_09.07.02.pdf', 'bond_analysis_report_09.07.01.pdf', 'bond_analysis_report_09.06.30.pdf', 'bond_analysis_report_09.06.29.pdf', 'bond_analysis_report_09.06.26.pdf', 'bond_analysis_report_09.06.25.pdf', 'bond_analysis_report_09.06.24.pdf', 'bond_analysis_report_09.06.23.pdf', 'bond_analysis_report_09.06.22.pdf', 'bond_analysis_report_09.06.19.pdf', 'bond_analysis_report_09.06.18.pdf', 'bond_analysis_report_09.06.17.pdf', 'bond_analysis_report_09.06.16.pdf', 'bond_analysis_report_09.06.15.pdf', 'bond_analysis_report_09.06.12.pdf', 'bond_analysis_report_09.06.11.pdf', 'bond_analysis_report_09.06.10.pdf', 'bond_analysis_report_09.06.09.pdf', 'bond_analysis_report_09.06.08.pdf', 'bond_analysis_report_09.06.05.pdf', 'bond_analysis_report_09.06.04.pdf', 'bond_analysis_report_09.06.03.pdf', 'bond_analysis_report_09.06.02.pdf', 'bond_analysis_report_09.06.01.pdf', 'bond_analysis_report_09.05.29.pdf', 'bond_analysis_report_09.05.28.pdf', 'bond_analysis_report_09.05.27.pdf', 'bond_analysis_report_09.05.26.pdf', 'bond_analysis_report_09.05.25.pdf', 'bond_analysis_report_09.05.22.pdf', 'bond_analysis_report_09.05.21.pdf', 'bond_analysis_report_09.05.20.pdf', 'bond_analysis_report_09.05.19.pdf', 'bond_analysis_report_09.05.18.pdf', 'bond_analysis_report_09.05.15.pdf', 'bond_analysis_report_09.05.14.pdf', 'bond_analysis_report_09.05.13.pdf', 'bond_analysis_report_09.05.12.pdf', 'bond_analysis_report_09.05.11.pdf', 'bond_analysis_report_09.05.08.pdf', 'bond_analysis_report_09.05.07.pdf', 'bond_analysis_report_09.05.06.pdf', 'bond_analysis_report_09.05.04.pdf', 'bond_analysis_report_09.04.30.pdf', 'bond_analysis_report_09.04.29.pdf', 'bond_analysis_report_09.04.28.pdf', 'bond_analysis_report_09.04.27.pdf', 'bond_analysis_report_09.04.24.pdf', 'bond_analysis_report_09.04.23.pdf', 'bond_analysis_report_09.04.22.pdf', 'bond_analysis_report_09.04.21.pdf', 'bond_analysis_report_09.04.20.pdf', 'bond_analysis_report_09.04.17.pdf', 'bond_analysis_report_09.04.16.pdf', 'bond_analysis_report_09.04.15.pdf', 'bond_analysis_report_09.04.14.pdf', 'bond_analysis_report_09.04.13.pdf', 'bond_analysis_report_09.04.10.pdf', 'bond_analysis_report_09.04.09.pdf', 'bond_analysis_report_09.04.08.pdf', 'bond_analysis_report_09.04.07.pdf', 'bond_analysis_report_09.04.06.pdf', 'bond_analysis_report_09.04.03.pdf', 'bond_analysis_report_09.04.02.pdf', 'bond_analysis_report_09.04.01.pdf', 'bond_analysis_report_09.03.31.pdf', 'bond_analysis_report_09.03.30.pdf', 'bond_analysis_report_09.03.27.pdf', 'bond_analysis_report_09.03.26.pdf', 'bond_analysis_report_09.03.25.pdf', 'bond_analysis_report_09.03.24.pdf', 'bond_analysis_report_09.03.23.pdf', 'bond_analysis_report_09.03.20.pdf', 'bond_analysis_report_09.03.19.pdf', 'bond_analysis_report_09.03.18.pdf', 'bond_analysis_report_09.03.17.pdf', 'bond_analysis_report_09.03.16.pdf', 'bond_analysis_report_09.03.13.pdf', 'bond_analysis_report_09.03.12.pdf', 'bond_analysis_report_09.03.11.pdf', 'bond_analysis_report_09.03.10.pdf', 'bond_analysis_report_09.03.09.pdf', 'bond_analysis_report_09.03.06.pdf', 'bond_analysis_report_09.03.05.pdf', 'bond_analysis_report_09.03.04.pdf', 'bond_analysis_report_09.03.03.pdf', 'bond_analysis_report_09.03.02.pdf', 'bond_analysis_report_09.02.27.pdf', 'bond_analysis_report_09.02.26.pdf', 'bond_analysis_report_09.02.25.pdf', 'bond_analysis_report_09.02.24.pdf', 'bond_analysis_report_09.02.23.pdf', 'bond_analysis_report_09.02.20.pdf', 'bond_analysis_report_09.02.19.pdf', 'bond_analysis_report_09.02.18.pdf', 'bond_analysis_report_09.02.17.pdf', 'bond_analysis_report_09.02.16.pdf', 'bond_analysis_report_09.02.13.pdf', 'bond_analysis_report_09.02.12.pdf', 'bond_analysis_report_09.02.11.pdf', 'bond_analysis_report_09.02.10.pdf', 'bond_analysis_report_09.02.09.pdf', 'bond_analysis_report_09.02.06.pdf', 'bond_analysis_report_09.02.05.pdf', 'bond_analysis_report_09.02.04.pdf', 'bond_analysis_report_09.02.03.pdf', 'bond_analysis_report_09.02.02.pdf', 'bond_analysis_report_09.01.30.pdf', 'bond_analysis_report_09.01.29.pdf', 'bond_analysis_report_09.01.28.pdf', 'bond_analysis_report_09.01.23.pdf', 'bond_analysis_report_09.01.22.pdf', 'bond_analysis_report_09.01.21.pdf', 'bond_analysis_report_09.01.20.pdf', 'bond_analysis_report_09.01.19.pdf', 'bond_analysis_report_09.01.16.pdf', 'bond_analysis_report_09.01.15.pdf', 'bond_analysis_report_09.01.14.pdf', 'bond_analysis_report_09.01.13.pdf', 'bond_analysis_report_09.01.12.pdf', 'bond_analysis_report_09.01.09.pdf', 'bond_analysis_report_09.01.08.pdf', 'bond_analysis_report_09.01.07.pdf', 'bond_analysis_report_09.01.06.pdf', 'bond_analysis_report_09.01.05.pdf', 'bond_analysis_report_09.01.02.pdf', 'bond_analysis_report_08.12.30.pdf', 'bond_analysis_report_08.12.29.pdf', 'bond_analysis_report_08.12.24.pdf', 'bond_analysis_report_08.12.23.pdf', 'bond_analysis_report_08.12.22.pdf', 'bond_analysis_report_08.12.19.pdf', 'bond_analysis_report_08.12.18.pdf', 'bond_analysis_report_08.12.17.pdf', 'bond_analysis_report_08.12.16.pdf', 'bond_analysis_report_08.12.15.pdf', 'bond_analysis_report_08.12.12.pdf', 'bond_analysis_report_08.12.11.pdf', 'bond_analysis_report_08.12.10.pdf', 'bond_analysis_report_08.12.09.pdf', 'bond_analysis_report_08.12.08.pdf', 'bond_analysis_report_08.12.05.pdf', 'bond_analysis_report_08.12.04.pdf', 'bond_analysis_report_08.12.03.pdf', 'bond_analysis_report_08.12.02.pdf', 'bond_analysis_report_08.12.01.pdf', 'bond_analysis_report_08.11.28.pdf', 'bond_analysis_report_08.11.27.pdf', 'bond_analysis_report_08.11.26.pdf', 'bond_analysis_report_08.11.25.pdf', 'bond_analysis_report_08.11.24.pdf', 'bond_analysis_report_08.11.21.pdf', 'bond_analysis_report_08.11.20.pdf', 'bond_analysis_report_08.11.19.pdf', 'bond_analysis_report_08.11.18.pdf', 'bond_analysis_report_08.11.17.pdf', 'bond_analysis_report_08.11.14.pdf', 'bond_analysis_report_08.11.13.pdf', 'bond_analysis_report_08.11.12.pdf', 'bond_analysis_report_08.11.11.pdf', 'bond_analysis_report_08.11.10.pdf', 'bond_analysis_report_08.11.07.pdf', 'bond_analysis_report_08.11.06.pdf', 'bond_analysis_report_08.11.05.pdf', 'bond_analysis_report_08.11.04.pdf', 'bond_analysis_report_08.11.03.pdf', 'bond_analysis_report_08.10.31.pdf', 'bond_analysis_report_08.10.30.pdf', 'bond_analysis_report_08.10.29.pdf', 'bond_analysis_report_08.10.28.pdf', 'bond_analysis_report_08.10.27.pdf', 'bond_analysis_report_08.10.24.pdf', 'bond_analysis_report_08.10.23.pdf', 'bond_analysis_report_08.10.22.pdf', 'bond_analysis_report_08.10.21.pdf', 'bond_analysis_report_08.10.20.pdf', 'bond_analysis_report_08.10.17.pdf', 'bond_analysis_report_08.10.16.pdf', 'bond_analysis_report_08.10.15.pdf', 'bond_analysis_report_08.10.14.pdf', 'bond_analysis_report_08.10.13.pdf', 'bond_analysis_report_08.10.10.pdf', 'bond_analysis_report_08.10.09.pdf', 'bond_analysis_report_08.10.08.pdf', 'bond_analysis_report_08.10.07.pdf', 'bond_analysis_report_08.10.06.pdf', 'bond_analysis_report_08.10.02.pdf', 'bond_analysis_report_08.10.01.pdf', 'bond_analysis_report_08.09.30.pdf', 'bond_analysis_report_08.09.29.pdf', 'bond_analysis_report_08.09.26.pdf', 'bond_analysis_report_08.09.25.pdf', 'bond_analysis_report_08.09.24.pdf', 'bond_analysis_report_08.09.23.pdf', 'bond_analysis_report_08.09.22.pdf', 'bond_analysis_report_08.09.19.pdf', 'bond_analysis_report_08.09.18.pdf', 'bond_analysis_report_08.09.17.pdf', 'bond_analysis_report_08.09.16.pdf', 'bond_analysis_report_08.09.12.pdf', 'bond_analysis_report_08.09.11.pdf', 'bond_analysis_report_08.09.10.pdf', 'bond_analysis_report_08.09.09.pdf', 'bond_analysis_report_08.09.08.pdf', 'bond_analysis_report_08.09.05.pdf', 'bond_analysis_report_08.09.04.pdf', 'bond_analysis_report_08.09.03.pdf', 'bond_analysis_report_08.09.02.pdf', 'bond_analysis_report_08.09.01.pdf', 'bond_analysis_report_08.08.29.pdf', 'bond_analysis_report_08.08.28.pdf', 'bond_analysis_report_08.08.27.pdf', 'bond_analysis_report_08.08.26.pdf', 'bond_analysis_report_08.08.25.pdf', 'bond_analysis_report_08.08.22.pdf', 'bond_analysis_report_08.08.21.pdf', 'bond_analysis_report_08.08.20.pdf', 'bond_analysis_report_08.08.19.pdf', 'bond_analysis_report_08.08.18.pdf', 'bond_analysis_report_08.08.14.pdf', 'bond_analysis_report_08.08.13.pdf', 'bond_analysis_report_08.08.12.pdf', 'bond_analysis_report_08.08.11.pdf', 'bond_analysis_report_08.08.08.pdf', 'bond_analysis_report_08.08.07.pdf', 'bond_analysis_report_08.08.06.pdf', 'bond_analysis_report_08.08.05.pdf', 'bond_analysis_report_08.08.04.pdf', 'bond_analysis_report_08.08.01.pdf', 'bond_analysis_report_08.07.31.pdf', 'bond_analysis_report_08.07.30.pdf', 'bond_analysis_report_08.07.29.pdf', 'bond_analysis_report_08.07.28.pdf', 'bond_analysis_report_08.07.25.pdf', 'bond_analysis_report_08.07.24.pdf', 'bond_analysis_report_08.07.23.pdf', 'bond_analysis_report_08.07.22.pdf', 'bond_analysis_report_08.07.21.pdf', 'bond_analysis_report_08.07.18.pdf', 'bond_analysis_report_08.07.17.pdf', 'bond_analysis_report_08.07.16.pdf', 'bond_analysis_report_08.07.15.pdf', 'bond_analysis_report_08.07.14.pdf', 'bond_analysis_report_08.07.11.pdf', 'bond_analysis_report_08.07.10.pdf', 'bond_analysis_report_08.07.09.pdf', 'bond_analysis_report_08.07.08.pdf', 'bond_analysis_report_08.07.07.pdf', 'bond_analysis_report_08.07.04.pdf', 'bond_analysis_report_08.07.03.pdf', 'bond_analysis_report_08.07.02.pdf', 'bond_analysis_report_08.07.01.pdf', 'bond_analysis_report_08.06.27.pdf', 'bond_analysis_report_08.06.26.pdf', 'bond_analysis_report_08.06.25.pdf', 'bond_analysis_report_08.06.24.pdf', 'bond_analysis_report_08.06.23.pdf', 'bond_analysis_report_08.06.20.pdf', 'bond_analysis_report_08.06.19.pdf', 'bond_analysis_report_08.06.18.pdf', 'bond_analysis_report_08.06.17.pdf', 'bond_analysis_report_08.06.16.pdf', 'bond_analysis_report_08.06.13.pdf', 'bond_analysis_report_08.06.12.pdf', 'bond_analysis_report_08.06.11.pdf', 'bond_analysis_report_08.06.10.pdf', 'bond_analysis_report_08.06.09.pdf', 'bond_analysis_report_08.06.05.pdf', 'bond_analysis_report_08.06.04.pdf', 'bond_analysis_report_08.06.03.pdf', 'bond_analysis_report_08.06.02.pdf', 'bond_analysis_report_08.05.30.pdf', 'bond_analysis_report_08.05.29.pdf', 'bond_analysis_report_08.05.28.pdf', 'bond_analysis_report_08.05.27.pdf', 'bond_analysis_report_08.05.26.pdf', 'bond_analysis_report_08.05.23.pdf', 'bond_analysis_report_08.05.22.pdf', 'bond_analysis_report_08.05.21.pdf', 'bond_analysis_report_08.05.20.pdf', 'bond_analysis_report_08.05.19.pdf', 'bond_analysis_report_08.05.13.pdf', 'bond_analysis_report_08.05.04.pdf', 'bond_analysis_report_08.04.28.pdf', 'bond_analysis_report_08.04.21.pdf', 'bond_analysis_report_08.04.14.pdf', 'bond_analysis_report_08.04.07.pdf', 'bond_analysis_report_08.04.01.pdf']\n"
          ],
          "name": "stdout"
        },
        {
          "output_type": "execute_result",
          "data": {
            "text/plain": [
              "1658"
            ]
          },
          "metadata": {
            "tags": []
          },
          "execution_count": 42
        }
      ]
    },
    {
      "cell_type": "markdown",
      "metadata": {
        "id": "GNt2MyX_1El7",
        "colab_type": "text"
      },
      "source": [
        "# pdf를 csv로 변환"
      ]
    },
    {
      "cell_type": "code",
      "metadata": {
        "id": "_vKRxhrxx0im",
        "colab_type": "code",
        "colab": {
          "base_uri": "https://localhost:8080/",
          "height": 281
        },
        "outputId": "dde7de05-e5d7-496e-879b-d98bd51cc75c"
      },
      "source": [
        "!pip install tika\n",
        "from tika import parser\n"
      ],
      "execution_count": 36,
      "outputs": [
        {
          "output_type": "stream",
          "text": [
            "Collecting tika\n",
            "  Downloading https://files.pythonhosted.org/packages/96/07/244fbb9c74c0de8a3745cc9f3f496077a29f6418c7cbd90d68fd799574cb/tika-1.24.tar.gz\n",
            "Requirement already satisfied: setuptools in /usr/local/lib/python3.6/dist-packages (from tika) (49.1.0)\n",
            "Requirement already satisfied: requests in /usr/local/lib/python3.6/dist-packages (from tika) (2.23.0)\n",
            "Requirement already satisfied: certifi>=2017.4.17 in /usr/local/lib/python3.6/dist-packages (from requests->tika) (2020.6.20)\n",
            "Requirement already satisfied: urllib3!=1.25.0,!=1.25.1,<1.26,>=1.21.1 in /usr/local/lib/python3.6/dist-packages (from requests->tika) (1.24.3)\n",
            "Requirement already satisfied: chardet<4,>=3.0.2 in /usr/local/lib/python3.6/dist-packages (from requests->tika) (3.0.4)\n",
            "Requirement already satisfied: idna<3,>=2.5 in /usr/local/lib/python3.6/dist-packages (from requests->tika) (2.10)\n",
            "Building wheels for collected packages: tika\n",
            "  Building wheel for tika (setup.py) ... \u001b[?25l\u001b[?25hdone\n",
            "  Created wheel for tika: filename=tika-1.24-cp36-none-any.whl size=32885 sha256=f0bb89bae7421db0840c32a2c1d51074b71da0fe24a68377e212291c5f398b90\n",
            "  Stored in directory: /root/.cache/pip/wheels/73/9c/f5/0b1b738442fc2a2862bef95b908b374f8e80215550fb2a8975\n",
            "Successfully built tika\n",
            "Installing collected packages: tika\n",
            "Successfully installed tika-1.24\n"
          ],
          "name": "stdout"
        }
      ]
    },
    {
      "cell_type": "markdown",
      "metadata": {
        "id": "46rJqCtk1Jz6",
        "colab_type": "text"
      },
      "source": [
        "1. pdf파일을 txt로 변환하는 함수정의"
      ]
    },
    {
      "cell_type": "code",
      "metadata": {
        "id": "Kb6FKxSx1BWy",
        "colab_type": "code",
        "colab": {}
      },
      "source": [
        "def convert_pdf_to_txt(file_name):\n",
        "  rawText = parser.from_file('{}'.format(file_name))\n",
        "  rawData = rawText['content']\n",
        "\n",
        "  return rawData.replace('\\n','')"
      ],
      "execution_count": null,
      "outputs": []
    },
    {
      "cell_type": "markdown",
      "metadata": {
        "id": "IUJ-N9e01U0i",
        "colab_type": "text"
      },
      "source": [
        "파일이름과 내용으로 이루어진 csv 파일 생성"
      ]
    },
    {
      "cell_type": "code",
      "metadata": {
        "id": "3F2jqRAm1Smm",
        "colab_type": "code",
        "colab": {}
      },
      "source": [
        "import csv\n",
        "from pathlib import Path\n",
        "\n",
        "folder = Path('/content/drive/My Drive/practice')\n",
        "csv_file = Path('/content/drive/My Drive/bond_analysis_report_list.csv')\n",
        "\n",
        "with csv_file.open('w', encoding='utf-8') as f:\n",
        "    writer = csv.writer(f, csv.QUOTE_ALL)\n",
        "    writer.writerow(['FileName', 'Text'])\n",
        "    for pdf_file in folder.glob('*.pdf'):\n",
        "        pdf_text = convert_pdf_to_txt(pdf_file)\n",
        "        writer.writerow([pdf_file.name, pdf_text])\n"
      ],
      "execution_count": null,
      "outputs": []
    }
  ]
}