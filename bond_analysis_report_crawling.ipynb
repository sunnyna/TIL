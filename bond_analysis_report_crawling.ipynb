{
  "nbformat": 4,
  "nbformat_minor": 0,
  "metadata": {
    "colab": {
      "name": "bond_analysis_report_crawling.ipynb",
      "provenance": [],
      "mount_file_id": "1Da7RopKua2HUXwV73G6lT2adyl7zbXQd",
      "authorship_tag": "ABX9TyN1oMUcftFW8lFUfTAtmvMI",
      "include_colab_link": true
    },
    "kernelspec": {
      "name": "python3",
      "display_name": "Python 3"
    }
  },
  "cells": [
    {
      "cell_type": "markdown",
      "metadata": {
        "id": "view-in-github",
        "colab_type": "text"
      },
      "source": [
        "<a href=\"https://colab.research.google.com/github/sunnyna/TIL/blob/master/bond_analysis_report_crawling.ipynb\" target=\"_parent\"><img src=\"https://colab.research.google.com/assets/colab-badge.svg\" alt=\"Open In Colab\"/></a>"
      ]
    },
    {
      "cell_type": "code",
      "metadata": {
        "id": "mHhkKc2iIxQ4",
        "colab_type": "code",
        "colab": {}
      },
      "source": [
        "import requests\n",
        "from bs4 import BeautifulSoup\n"
      ],
      "execution_count": 2,
      "outputs": []
    },
    {
      "cell_type": "code",
      "metadata": {
        "id": "QoIPQstIMLi8",
        "colab_type": "code",
        "colab": {
          "base_uri": "https://localhost:8080/",
          "height": 383
        },
        "outputId": "9f18ba77-75b1-4313-d654-ddea49563247"
      },
      "source": [
        "url = 'https://finance.naver.com/research/debenture_list.nhn?'\n",
        "resp = requests.get(url)\n",
        "soup = BeautifulSoup(resp.content, 'html.parser')\n",
        "  \n",
        "td_tag = soup.findAll(\"td\",{\"class\":\"file\"})\n",
        "date_tag = soup.findAll('td', class_ = 'date' )\n",
        "\n",
        "\n",
        "\n",
        "\n",
        "\n",
        "\n",
        "# pdf_url= td_tag.find('a').attrs['href'] \n",
        "# date =date_tag.get_text()\n",
        "\n",
        "\n",
        "\n",
        " "
      ],
      "execution_count": 37,
      "outputs": [
        {
          "output_type": "error",
          "ename": "AttributeError",
          "evalue": "ignored",
          "traceback": [
            "\u001b[0;31m---------------------------------------------------------------------------\u001b[0m",
            "\u001b[0;31mAttributeError\u001b[0m                            Traceback (most recent call last)",
            "\u001b[0;32m<ipython-input-37-208a3bcb139f>\u001b[0m in \u001b[0;36m<module>\u001b[0;34m()\u001b[0m\n\u001b[1;32m     12\u001b[0m \u001b[0;34m\u001b[0m\u001b[0m\n\u001b[1;32m     13\u001b[0m \u001b[0;31m# pdf_url= td_tag.find('a').attrs['href']\u001b[0m\u001b[0;34m\u001b[0m\u001b[0;34m\u001b[0m\u001b[0;34m\u001b[0m\u001b[0m\n\u001b[0;32m---> 14\u001b[0;31m \u001b[0mdate\u001b[0m \u001b[0;34m=\u001b[0m\u001b[0mdate_tag\u001b[0m\u001b[0;34m.\u001b[0m\u001b[0mget_text\u001b[0m\u001b[0;34m(\u001b[0m\u001b[0;34m)\u001b[0m\u001b[0;34m\u001b[0m\u001b[0;34m\u001b[0m\u001b[0m\n\u001b[0m\u001b[1;32m     15\u001b[0m \u001b[0;34m\u001b[0m\u001b[0m\n\u001b[1;32m     16\u001b[0m \u001b[0;34m\u001b[0m\u001b[0m\n",
            "\u001b[0;32m/usr/local/lib/python3.6/dist-packages/bs4/element.py\u001b[0m in \u001b[0;36m__getattr__\u001b[0;34m(self, key)\u001b[0m\n\u001b[1;32m   1882\u001b[0m     \u001b[0;32mdef\u001b[0m \u001b[0m__getattr__\u001b[0m\u001b[0;34m(\u001b[0m\u001b[0mself\u001b[0m\u001b[0;34m,\u001b[0m \u001b[0mkey\u001b[0m\u001b[0;34m)\u001b[0m\u001b[0;34m:\u001b[0m\u001b[0;34m\u001b[0m\u001b[0;34m\u001b[0m\u001b[0m\n\u001b[1;32m   1883\u001b[0m         raise AttributeError(\n\u001b[0;32m-> 1884\u001b[0;31m             \u001b[0;34m\"ResultSet object has no attribute '%s'. You're probably treating a list of items like a single item. Did you call find_all() when you meant to call find()?\"\u001b[0m \u001b[0;34m%\u001b[0m \u001b[0mkey\u001b[0m\u001b[0;34m\u001b[0m\u001b[0;34m\u001b[0m\u001b[0m\n\u001b[0m\u001b[1;32m   1885\u001b[0m         )\n",
            "\u001b[0;31mAttributeError\u001b[0m: ResultSet object has no attribute 'get_text'. You're probably treating a list of items like a single item. Did you call find_all() when you meant to call find()?"
          ]
        }
      ]
    },
    {
      "cell_type": "code",
      "metadata": {
        "id": "pm4QR7clVPsL",
        "colab_type": "code",
        "colab": {}
      },
      "source": [
        "\n",
        "with open('채권_분석_리포트_{}.pdf'.format(date), \"wb\") as file:\n",
        "  response = requests.get(pdf_url)\n",
        "  file.write(response.content)"
      ],
      "execution_count": 31,
      "outputs": []
    },
    {
      "cell_type": "code",
      "metadata": {
        "id": "VQ8lRTp3atg9",
        "colab_type": "code",
        "colab": {
          "base_uri": "https://localhost:8080/",
          "height": 54
        },
        "outputId": "d6a4dd46-3576-4088-a4a1-25c6cd4a373c"
      },
      "source": [
        "import urllib.request\n",
        "import os\n",
        "\n",
        "pdf_url = td_tag\n",
        "\n",
        "pdf_url\n",
        "# img_name = os.path.basename(img_url)\n",
        "# urllib.request.urlretrieve(img_url,img_name)"
      ],
      "execution_count": 28,
      "outputs": [
        {
          "output_type": "execute_result",
          "data": {
            "text/plain": [
              "<td class=\"file\"><a href=\"https://ssl.pstatic.net/imgstock/upload/research/debenture/1595551132820.pdf\" target=\"_blank\"><img align=\"absmiddle\" alt=\"pdf\" src=\"https://ssl.pstatic.net/imgstock/images5/down.gif\"/></a></td>"
            ]
          },
          "metadata": {
            "tags": []
          },
          "execution_count": 28
        }
      ]
    },
    {
      "cell_type": "code",
      "metadata": {
        "id": "nUPeHjCbUN49",
        "colab_type": "code",
        "colab": {}
      },
      "source": [
        "# df_comment.to_csv('{title}_comments_all.csv'.format(title=MyToon), index=False)"
      ],
      "execution_count": null,
      "outputs": []
    },
    {
      "cell_type": "code",
      "metadata": {
        "id": "MRNm0yEAO7td",
        "colab_type": "code",
        "colab": {}
      },
      "source": [
        "https://finance.naver.com/research/debenture_list.nhn?keyword=&brokerCode=&searchType=writeDate&writeFromDate=2005-05-01&writeToDate=2017-12-31&x=31&y=20"
      ],
      "execution_count": null,
      "outputs": []
    },
    {
      "cell_type": "code",
      "metadata": {
        "id": "2GsefYQAJzA2",
        "colab_type": "code",
        "colab": {
          "base_uri": "https://localhost:8080/",
          "height": 383
        },
        "outputId": "07312f54-2b7c-4bdf-ed9c-50c60ffda0e7"
      },
      "source": [
        "pdf_list = []\n",
        "\n",
        "for i in range(23,126):\n",
        "  url = 'https://finance.naver.com/research/debenture_list.nhn?'\n",
        "  params = {\n",
        "      'page' : i\n",
        "  }\n",
        "\n",
        "  resp = requests.get(url, params =params)\n",
        "  soup = BeautifulSoup(resp.content)\n",
        "  \n",
        "  td_tag = soup.find('td', class_ ='file' )\n",
        "  date_tag = soup.find('td', class_ = 'date' )\n",
        "\n",
        "  pdf_url= td_tag.find('a').attrs['href'] \n",
        "  date =date_tag.get_text()\n",
        "\n",
        "\n",
        "  pdf_list.append(td_tag.find('a').attrs['href'])\n",
        "\n",
        "\n",
        "  # with open('/content/drive/My Drive/bond_analysis_report/채권_분석_리포트_{}.pdf'.format(date), \"wb\") as file:\n",
        "    # response = requests.get(pdf_url)\n",
        "    # file.write(response.content)"
      ],
      "execution_count": 18,
      "outputs": [
        {
          "output_type": "error",
          "ename": "AttributeError",
          "evalue": "ignored",
          "traceback": [
            "\u001b[0;31m---------------------------------------------------------------------------\u001b[0m",
            "\u001b[0;31mAttributeError\u001b[0m                            Traceback (most recent call last)",
            "\u001b[0;32m<ipython-input-18-c56c9e64d3f7>\u001b[0m in \u001b[0;36m<module>\u001b[0;34m()\u001b[0m\n\u001b[1;32m     13\u001b[0m   \u001b[0mdate_tag\u001b[0m \u001b[0;34m=\u001b[0m \u001b[0msoup\u001b[0m\u001b[0;34m.\u001b[0m\u001b[0mfind\u001b[0m\u001b[0;34m(\u001b[0m\u001b[0;34m'td'\u001b[0m\u001b[0;34m,\u001b[0m \u001b[0mclass_\u001b[0m \u001b[0;34m=\u001b[0m \u001b[0;34m'date'\u001b[0m \u001b[0;34m)\u001b[0m\u001b[0;34m\u001b[0m\u001b[0;34m\u001b[0m\u001b[0m\n\u001b[1;32m     14\u001b[0m \u001b[0;34m\u001b[0m\u001b[0m\n\u001b[0;32m---> 15\u001b[0;31m   \u001b[0mpdf_url\u001b[0m\u001b[0;34m=\u001b[0m \u001b[0mtd_tag\u001b[0m\u001b[0;34m.\u001b[0m\u001b[0mfind_all\u001b[0m\u001b[0;34m(\u001b[0m\u001b[0;34m'a'\u001b[0m\u001b[0;34m)\u001b[0m\u001b[0;34m.\u001b[0m\u001b[0mattrs\u001b[0m\u001b[0;34m[\u001b[0m\u001b[0;34m'href'\u001b[0m\u001b[0;34m]\u001b[0m\u001b[0;34m\u001b[0m\u001b[0;34m\u001b[0m\u001b[0m\n\u001b[0m\u001b[1;32m     16\u001b[0m   \u001b[0mdate\u001b[0m \u001b[0;34m=\u001b[0m\u001b[0mdate_tag\u001b[0m\u001b[0;34m.\u001b[0m\u001b[0mget_text\u001b[0m\u001b[0;34m(\u001b[0m\u001b[0;34m)\u001b[0m\u001b[0;34m\u001b[0m\u001b[0;34m\u001b[0m\u001b[0m\n\u001b[1;32m     17\u001b[0m \u001b[0;34m\u001b[0m\u001b[0m\n",
            "\u001b[0;32m/usr/local/lib/python3.6/dist-packages/bs4/element.py\u001b[0m in \u001b[0;36m__getattr__\u001b[0;34m(self, key)\u001b[0m\n\u001b[1;32m   1882\u001b[0m     \u001b[0;32mdef\u001b[0m \u001b[0m__getattr__\u001b[0m\u001b[0;34m(\u001b[0m\u001b[0mself\u001b[0m\u001b[0;34m,\u001b[0m \u001b[0mkey\u001b[0m\u001b[0;34m)\u001b[0m\u001b[0;34m:\u001b[0m\u001b[0;34m\u001b[0m\u001b[0;34m\u001b[0m\u001b[0m\n\u001b[1;32m   1883\u001b[0m         raise AttributeError(\n\u001b[0;32m-> 1884\u001b[0;31m             \u001b[0;34m\"ResultSet object has no attribute '%s'. You're probably treating a list of items like a single item. Did you call find_all() when you meant to call find()?\"\u001b[0m \u001b[0;34m%\u001b[0m \u001b[0mkey\u001b[0m\u001b[0;34m\u001b[0m\u001b[0;34m\u001b[0m\u001b[0m\n\u001b[0m\u001b[1;32m   1885\u001b[0m         )\n",
            "\u001b[0;31mAttributeError\u001b[0m: ResultSet object has no attribute 'attrs'. You're probably treating a list of items like a single item. Did you call find_all() when you meant to call find()?"
          ]
        }
      ]
    },
    {
      "cell_type": "code",
      "metadata": {
        "id": "d6C_fDm9jc2f",
        "colab_type": "code",
        "colab": {}
      },
      "source": [
        "from google.colab import drive\n",
        "drive.mount('/content/drive')"
      ],
      "execution_count": null,
      "outputs": []
    },
    {
      "cell_type": "code",
      "metadata": {
        "id": "-NMAARrGi-6O",
        "colab_type": "code",
        "colab": {}
      },
      "source": [
        "import datetime\n",
        "import pandas as pd\n",
        "\n",
        "start_date = datetime.datetime(2008, 6, 26)\n",
        "end_date = datetime.datetime(2017, 12, 31)\n",
        "\n",
        "url_li = []\n",
        "\n",
        "for cur_date in pd.date_range(start_date, end_date):\n",
        "  cur_date = cur_date.strftime(\"%Y-%m-%d\")\n",
        "  url = 'https://finance.naver.com/research/debenture_list.nhn?&searchType=writeDate&writeFromDate={0}&writeToDate={1}'.format( cur_date, cur_date)\n",
        "\n",
        "\n",
        "  # url_li.append(url)\n",
        "  resp = requests.get(url, params =params)\n",
        "  soup = BeautifulSoup(resp.content)\n",
        "  \n",
        "  td_tag = soup.find('td', class_ ='file' )\n",
        "  date_tag = soup.find('td', class_ = 'date' )\n",
        "\n",
        "  pdf_url= td_tag.find('a').attrs['href'] \n",
        "  date =date_tag.get_text()\n",
        "\n",
        "\n",
        "# url_li\n",
        "\n",
        "  \n",
        "  # with open('채권_분석_리포트_{}.pdf'.format(date), \"wb\") as file:\n",
        "  #   response = requests.get(pdf_url)\n",
        "  #   file.write(response.content)"
      ],
      "execution_count": null,
      "outputs": []
    },
    {
      "cell_type": "code",
      "metadata": {
        "id": "0p-j-c9mRlWt",
        "colab_type": "code",
        "colab": {}
      },
      "source": [
        ""
      ],
      "execution_count": 47,
      "outputs": []
    },
    {
      "cell_type": "code",
      "metadata": {
        "id": "yrBid_7bmPrG",
        "colab_type": "code",
        "colab": {}
      },
      "source": [
        "# import datetime\n",
        "# import pandas as pd\n",
        "\n",
        "# start_date = datetime.datetime(2005, 5, 1)\n",
        "# end_date = datetime.datetime(2005, 12, 31)\n",
        "\n",
        "# # start_date = start.strftime(\"%Y-%m-%d\")\n",
        "# # end_date = end.strftime(\"%Y-%m-%d\")\n",
        "\n",
        "\n",
        "# url_li = []\n",
        "# for cur_date in pd.date_range(start_date, end_date):\n",
        "#   cur_date = cur_date.strftime(\"%Y-%m-%d\")\n",
        "#   url = \"https://search.naver.com/search.naver?&where=news&query=%EA%B8%88%EB%A6%AC&sm=tab_pge&sort=1&photo=0&field=0&reporter_article=&pd=3&ds={0}&de={1}&docid=&nso=so:dd,p:,a:all&mynews=1&start=1&refresh_start=0\".format(\n",
        "#                 cur_date, cur_date\n",
        "#             )\n",
        "#   url_li.append(url)\n",
        "\n",
        "# url_li"
      ],
      "execution_count": null,
      "outputs": []
    },
    {
      "cell_type": "code",
      "metadata": {
        "id": "_vKRxhrxx0im",
        "colab_type": "code",
        "colab": {
          "base_uri": "https://localhost:8080/",
          "height": 356
        },
        "outputId": "5095d4a8-727f-46ff-a90e-14de2708b83a"
      },
      "source": [
        "!pip install tika\n",
        "from tika import parser\n",
        "rawText = parser.from_file('/content/drive/My Drive/bond_analysis_report/채권_분석_리포트_08.06.26.pdf')\n",
        "rawList = rawText['content'].splitlines()"
      ],
      "execution_count": 8,
      "outputs": [
        {
          "output_type": "stream",
          "text": [
            "Collecting tika\n",
            "  Downloading https://files.pythonhosted.org/packages/96/07/244fbb9c74c0de8a3745cc9f3f496077a29f6418c7cbd90d68fd799574cb/tika-1.24.tar.gz\n",
            "Requirement already satisfied: setuptools in /usr/local/lib/python3.6/dist-packages (from tika) (49.1.0)\n",
            "Requirement already satisfied: requests in /usr/local/lib/python3.6/dist-packages (from tika) (2.23.0)\n",
            "Requirement already satisfied: chardet<4,>=3.0.2 in /usr/local/lib/python3.6/dist-packages (from requests->tika) (3.0.4)\n",
            "Requirement already satisfied: idna<3,>=2.5 in /usr/local/lib/python3.6/dist-packages (from requests->tika) (2.10)\n",
            "Requirement already satisfied: certifi>=2017.4.17 in /usr/local/lib/python3.6/dist-packages (from requests->tika) (2020.6.20)\n",
            "Requirement already satisfied: urllib3!=1.25.0,!=1.25.1,<1.26,>=1.21.1 in /usr/local/lib/python3.6/dist-packages (from requests->tika) (1.24.3)\n",
            "Building wheels for collected packages: tika\n",
            "  Building wheel for tika (setup.py) ... \u001b[?25l\u001b[?25hdone\n",
            "  Created wheel for tika: filename=tika-1.24-cp36-none-any.whl size=32885 sha256=eee426546b2637b047dea22187ba33c0e202a07624fb1ac556587b26fec385ec\n",
            "  Stored in directory: /root/.cache/pip/wheels/73/9c/f5/0b1b738442fc2a2862bef95b908b374f8e80215550fb2a8975\n",
            "Successfully built tika\n",
            "Installing collected packages: tika\n",
            "Successfully installed tika-1.24\n"
          ],
          "name": "stdout"
        },
        {
          "output_type": "stream",
          "text": [
            "2020-07-24 07:49:06,259 [MainThread  ] [INFO ]  Retrieving http://search.maven.org/remotecontent?filepath=org/apache/tika/tika-server/1.24/tika-server-1.24.jar to /tmp/tika-server.jar.\n",
            "2020-07-24 07:49:14,920 [MainThread  ] [INFO ]  Retrieving http://search.maven.org/remotecontent?filepath=org/apache/tika/tika-server/1.24/tika-server-1.24.jar.md5 to /tmp/tika-server.jar.md5.\n",
            "2020-07-24 07:49:16,634 [MainThread  ] [WARNI]  Failed to see startup log message; retrying...\n"
          ],
          "name": "stderr"
        }
      ]
    },
    {
      "cell_type": "code",
      "metadata": {
        "id": "guU4JMdRx62r",
        "colab_type": "code",
        "colab": {
          "base_uri": "https://localhost:8080/",
          "height": 266
        },
        "outputId": "3e528f73-8bc1-4cee-b106-e869e8246c38"
      },
      "source": [
        "rawText = parser.from_file('/content/drive/My Drive/bond_analysis_report/채권_분석_리포트_08.06.26.pdf')\n",
        "rawList = rawText['content']\n",
        "\n",
        "rawList"
      ],
      "execution_count": 14,
      "outputs": [
        {
          "output_type": "execute_result",
          "data": {
            "application/vnd.google.colaboratory.intrinsic+json": {
              "type": "string"
            },
            "text/plain": [
              "'\\n\\n\\n\\n\\n\\n\\n\\n\\n\\n\\n\\n\\n\\n\\n\\n\\n\\n\\n\\n\\n\\n\\n\\n\\n\\n\\n\\n\\n\\n\\n\\n\\n\\n\\n\\n\\n\\n\\n\\n\\n\\n\\n\\n\\nMicrosoft Word - 08년 Daewoo Bond Brief.doc\\n\\n\\nDaewoo Daewoo Bond Brief   \\n채권   윤일광 (02-768-3058) yuniil1@bestez.com \\n\\n \\n\\n \\n\\n \\n\\n2008. 6. 26. Thu \\n\\n채권시황 \\n\\n 전일 3년 만기와 10년 만기 금리는 각각 3bp씩 하락한 5.82%, 5.97%로 마감 \\n\\n 장 초반 금리는 향후 정책 불확실성으로 관망세를 보이며 보합권에서 거래. 이후 국채선물 저평가가 30틱 수준을 유지하고 저가 메리트\\n가 부각되자 매수세 늘며 다소 금리 하락. 다만, 원/달러 환율 상승과 FOMC 결과를 지켜보자는 심리에서 금리 낙폭은 제한되었음. \\n\\n 전일 FOMC 회의에서 서프라이즈한 결과는 없었음. 성명서 내용은 버냉키 의장 및 여타 연준 인사들이 그 동안 언급해온 내용과 크게 \\n다르지 않아 시장에 큰 영향을 미치지 못함. 연준은 통화정책의 스탠스가 바뀔 수 있음을 시사했는데, 뚜렷하게 금리인상 가능성을 포함\\n\\n하지 않았다는 점에서 시장이 민감하게 반응할 가능성을 견제. 이미 가늠할 수 있는 범위에서 FOMC 회의가 끝났기 때문에 시장에 미칠 \\n\\n영향은 미미하겠지만, 물가 우려 발언에도 불구하고 조만간 인상 가능성이 낮아져 미 금리가 다소 하락한 것은 국내 시장 참가자들의 심\\n\\n리 개선에 도움을 줄 것으로 판단됨. \\n\\n \\n\\n관심 차트 및 경제지표 \\n \\n\\n전일에 대한 기술적 반락 이어지며 금리 하락  FOMC에서 물가 우려 강조했지만, 조만간 인상 가능성은 낮아 하락.\\n\\n   \\n\\n자료: 증권업협회, 대우증권리서치 EZ-DB  자료: Thomson Datastream, 대우증권리서치 EZ-DB \\n\\n \\n\\n소비 관련 지수 전부 악화 일로  유가 수요의 대부분은 투기수요인 것으로 밝혀져… \\n   \\n\\n자료: 한국은행, 통계청  자료: House subcommittee \\n\\n4.0 \\n\\n4.5 \\n\\n5.0 \\n\\n5.5 \\n\\n6.0 \\n\\n6.5 \\n\\n7.0 \\n\\n07.7 07.9 07.11 08.1 08.3 08.5\\n\\n기준금리 CD(91일)\\n\\n국고채권(3년) 국고채권(5년)\\n\\n국고채권(10년) 회사채(무보증3년)AA-\\n\\n(%)\\n\\n60 \\n\\n70 \\n\\n80 \\n\\n90 \\n\\n100 \\n\\n110 \\n\\n120 \\n\\n130 \\n\\n1Q01 1Q02 1Q03 1Q04 1Q05 1Q06 1Q07 1Q08\\n\\n소비자 기대지수\\n\\n소비자 평가지수\\n\\n소비자 심리지수\\n\\n소비지출전망 CSI\\n\\n(index)  \\n\\n0 20 40 60 80 100\\n\\n2008\\n\\n2000\\n\\n투기수요 헤지와 투자수요\\n\\n37 63\\n\\n2971\\n\\n(년)\\n\\n(%)\\n\\n0 \\n\\n1 \\n\\n2 \\n\\n3 \\n\\n4 \\n\\n5 \\n\\n6 \\n\\n07.7 07.9 07.11 08.1 08.3 08.5\\n\\n미국 미국3개월\\n\\n미국2년 미국5년\\n\\n미국10년 TIPS10년\\n\\n(%)\\n\\n\\n\\nDaewoo Daewoo Bond Brief   \\n채권   윤일광 (02-768-3058)  yuniil1@bestez.com \\n\\n \\n\\n \\n\\n2008. 6. 26. Thu \\n\\n채권시장 주요지표 \\n\\n 종류    종가 (p,%) 전일비 (%,%p)  종류    종가 (p,%) 전일비( %,%p)\\n\\nCD 5.37 0.00 IRS 1년 5.74 0.00\\nCP 5.76 0.00 IRS 2년 5.77 -0.02\\n통안1년 5.59 -0.01 IRS 3년 5.74 -0.01\\n통안2년 5.95 -0.02 IRS 5년 5.68 -0.02\\n국고3년 5.82 -0.03 IRS 10년 5.67 -0.03\\n국고5년 5.90 -0.03 CRS 1년 3.88 -0.06\\n국고10년 5.97 -0.03 CRS 2년 3.76 -0.05\\n국고20년 5.97 -0.04 CRS 3년 3.86 -0.06\\n회사(AA-) 6.80 -0.03 CRS 5년 4.25 -0.05\\n\\n금리 \\n\\n회사(BBB-) 9.58 -0.03\\n\\nSwap \\nRate \\n\\nCRS 10년 4.63 -0.03\\n\\nUS TB 3m 1.79 -0.04 KIS 종합지수 152.79 0.14\\nUS TN 2y 2.81 -0.02 KIS 국공채지수 154.19 0.21\\nUS TN 10y 4.10 0.02 KIS 통안채지수 146.30 0.07\\nUS TB 30y 4.64 0.01\\n\\n채권지수 \\n\\nKIS 회사채지수 157.68 0.12\\n\\n유로 10년 4.61 0.01 EMBI+스프레드 271.82 3.54\\n리보 3m(USD) 2.81 0.00 한국CDS5년 97.34 -2.26\\n\\n해외금리 \\n\\n리보 3M(EUR) 4.96 0.00\\n\\n신용지표 \\n(bp) \\n\\n   \\n\\nKOSPI 1717.79 0.41 원/달러 1038.00 4.50\\nKOSDAQ 601.72 0.23 엔/달러 107.78 -0.04\\nDow 11811.93 0.04 원/엔 9.63 0.06\\nNASDAQ 2401.26 1.39 달러/유로 1.5666 0.01\\n영국 FTSE 5666.10 0.56 WTI($/bbl) 134.03 -2.37\\nNikkei 225 13829.92 -0.14 금($/OZ) 886.05 -3.85\\n항셍지수 22635.16 0.80 CRB Index 452.14 -0.54\\n\\n주가 \\n\\n상해종합 2905.01 3.64\\n\\n환율 \\n및 \\n\\n원자재 \\n\\nBDI Index 9244 1.15\\n \\n\\n기관 장외거래 대금(십억원)     국채   지방채     특수채   통안채   금융채   회사채   합계 \\n\\n총거래대금  10,849 41 356 4,791 2,284 552 18,875\\n\\n 은행 58 10 -11 -32 -8 17 33\\n 보험 -41 - -10 - 9 -10 -52\\n순매수 투신 -110 - 51 -149 -77 -33 -318\\n 기금/공제 - - 10 41 41 10 104\\n 외국인 87 - - 21 20 -10 119\\n\\n수신증감 (억원) 요구불예금 저축성예금 장기채권형 단기채권형 MMF 주식혼합 채권혼합 주식형\\n\\n6.1~20 2,427\\n1)\\n -10,821\\n\\n1)\\n 392 -8,409 8,182 3,516 -162 10,920\\n\\n6/19 16,394 6,579 -3 -646 -5,691 -43 1,710 -1,199\\n6/20 .. .. 53 209 -16,441 482 -2,256 2,399\\n6/20 잔액 -550,716\\n\\n1)\\n -5,127,102\\n\\n1)\\n 94,279 316,567 763,805 154,455 314,532 1,414,346\\n\\n* 음영 부분은 전일비 %로 표시된 것, \\n1)\\n은 19일까지 잔액. \\n\\n국내외 주요 경제지표 \\n\\n6월 25일 단위 예상치 실제치 이전발표치\\n\\n미국 FOMC 금리 결정 % 2.0 2.0 2.00\\n\\n미국 5월 내구재 주문 전월비% 0.0 0.0 -1.0\\n\\n미국 5월 신규주택판매 천건 515 512 525\\n\\n한국 5월 소비심리지수 index - 86 105\\n\\n  \\n\\n  \\n\\n  \\n\\n \\n\\n기관별 국채 선물 순매수 \\n\\n 증권 선물 보험 투신 은행 종금 기금 기타 개인 외인 총거래량\\n\\n2008-06-25 414 -55 215 637 965 80 660 -189 -115 -2,612 39,459\\n\\n2008-06-24 1,021 308 -128 -107 -1,165 -40 -22 -1,001 -102 1,236 67,345\\n\\n2008-06-23 2,891 -312 28 464 -5,660 42 620 -45 -66 2,038 91,194\\n\\n2008-06-20 2,198 -180 -245 134 -152 90 330 -252 -156 -1,767 55,848\\n\\n2008-06-19 274 258 122 -213 -2,507 -210 80 -110 325 1,981 42,481\\n\\n5일 누적 6,798 19 -8 915 -8,519 -38 1,668 -1,597 -114 876 296,327\\n\\n \\n본 자료는 2008년 6월 26일 당사 홈페이지에 게시된 자료입니다. 이 조사자료는 고객의 투자에 참고가 될 수 있는 각종 정보제공을 목적으로 제작되었습니다. 이 조사자료는 당사의 리서치센터가 신뢰할 \\n수 있는 자료 및 정보로부터 얻어진 것이나, 당사가 그 정확성이나 완전성을 보장할 수 없으므로 투자자 자신의 판단과 책임하에 종목 선택이나 투자시기에 대한 최종 결정을 하시기 바랍니다. 따라서 이 조\\n사자료는 어떠한 경우에도 고객의 증권투자 결과에 대한 법적 책임소재의 증빙자료로 사용될 수 없습니다. 이 조사자료의 지적재산권은 당사에 있으므로 당사의 허락없이 무단 복제 및 배포 할 수 없습니다. \\n\\n\\n'"
            ]
          },
          "metadata": {
            "tags": []
          },
          "execution_count": 14
        }
      ]
    },
    {
      "cell_type": "code",
      "metadata": {
        "id": "__dVKevj2N53",
        "colab_type": "code",
        "colab": {
          "base_uri": "https://localhost:8080/",
          "height": 72
        },
        "outputId": "5df9ce00-c74a-47f8-fb36-88c9b4f063d8"
      },
      "source": [
        "import os\n",
        "\n",
        "path = \"/content/drive/My Drive/bond_analysis_report\"\n",
        "file_list = os.listdir(path)\n",
        "\n",
        "print (\"file_list: {}\".format(file_list))\n",
        "\n",
        "len(file_list)"
      ],
      "execution_count": 16,
      "outputs": [
        {
          "output_type": "stream",
          "text": [
            "file_list: ['채권_분석_리포트_18.01.02.pdf', '채권_분석_리포트_17.11.22.pdf', '채권_분석_리포트_17.11.06.pdf', '채권_분석_리포트_17.10.20.pdf', '채권_분석_리포트_17.09.11.pdf', '채권_분석_리포트_17.08.21.pdf', '채권_분석_리포트_17.07.24.pdf', '채권_분석_리포트_17.07.03.pdf', '채권_분석_리포트_17.06.09.pdf', '채권_분석_리포트_17.05.17.pdf', '채권_분석_리포트_17.04.17.pdf', '채권_분석_리포트_17.03.13.pdf', '채권_분석_리포트_17.02.07.pdf', '채권_분석_리포트_17.01.09.pdf', '채권_분석_리포트_16.12.01.pdf', '채권_분석_리포트_16.10.26.pdf', '채권_분석_리포트_16.09.26.pdf', '채권_분석_리포트_16.08.29.pdf', '채권_분석_리포트_16.08.05.pdf', '채권_분석_리포트_16.07.05.pdf', '채권_분석_리포트_16.06.10.pdf', '채권_분석_리포트_16.05.23.pdf', '채권_분석_리포트_16.04.25.pdf', '채권_분석_리포트_16.04.06.pdf', '채권_분석_리포트_16.03.18.pdf', '채권_분석_리포트_16.03.03.pdf', '채권_분석_리포트_16.02.17.pdf', '채권_분석_리포트_16.02.01.pdf', '채권_분석_리포트_16.01.19.pdf', '채권_분석_리포트_16.01.06.pdf', '채권_분석_리포트_15.12.15.pdf', '채권_분석_리포트_15.12.01.pdf', '채권_분석_리포트_15.11.16.pdf', '채권_분석_리포트_15.10.30.pdf', '채권_분석_리포트_15.10.14.pdf', '채권_분석_리포트_15.09.30.pdf', '채권_분석_리포트_15.09.09.pdf', '채권_분석_리포트_15.08.24.pdf', '채권_분석_리포트_15.07.30.pdf', '채권_분석_리포트_15.07.09.pdf', '채권_분석_리포트_15.05.04.pdf', '채권_분석_리포트_15.02.09.pdf', '채권_분석_리포트_15.01.07.pdf', '채권_분석_리포트_14.11.25.pdf', '채권_분석_리포트_14.10.06.pdf', '채권_분석_리포트_14.08.11.pdf', '채권_분석_리포트_14.06.18.pdf', '채권_분석_리포트_14.04.14.pdf', '채권_분석_리포트_14.02.28.pdf', '채권_분석_리포트_14.01.14.pdf', '채권_분석_리포트_13.12.02.pdf', '채권_분석_리포트_13.10.24.pdf', '채권_분석_리포트_13.09.26.pdf', '채권_분석_리포트_13.08.30.pdf', '채권_분석_리포트_13.08.05.pdf', '채권_분석_리포트_13.06.24.pdf', '채권_분석_리포트_13.05.10.pdf', '채권_분석_리포트_13.04.01.pdf', '채권_분석_리포트_13.02.20.pdf', '채권_분석_리포트_13.01.14.pdf', '채권_분석_리포트_12.11.26.pdf', '채권_분석_리포트_12.10.08.pdf', '채권_분석_리포트_12.08.28.pdf', '채권_분석_리포트_12.07.30.pdf', '채권_분석_리포트_12.07.02.pdf', '채권_분석_리포트_12.05.14.pdf', '채권_분석_리포트_12.03.19.pdf', '채권_분석_리포트_12.01.13.pdf', '채권_분석_리포트_11.08.29.pdf', '채권_분석_리포트_11.07.18.pdf', '채권_분석_리포트_11.06.15.pdf', '채권_분석_리포트_11.05.12.pdf', '채권_분석_리포트_11.04.06.pdf', '채권_분석_리포트_11.02.22.pdf', '채권_분석_리포트_11.01.13.pdf', '채권_분석_리포트_10.12.20.pdf', '채권_분석_리포트_10.11.26.pdf', '채권_분석_리포트_10.11.08.pdf', '채권_분석_리포트_10.10.14.pdf', '채권_분석_리포트_10.09.27.pdf', '채권_분석_리포트_10.08.26.pdf', '채권_분석_리포트_10.05.03.pdf', '채권_분석_리포트_10.01.25.pdf', '채권_분석_리포트_10.01.05.pdf', '채권_분석_리포트_09.12.14.pdf', '채권_분석_리포트_09.11.25.pdf', '채권_분석_리포트_09.11.09.pdf', '채권_분석_리포트_09.10.21.pdf', '채권_분석_리포트_09.10.01.pdf', '채권_분석_리포트_09.09.04.pdf', '채권_분석_리포트_09.08.04.pdf', '채권_분석_리포트_09.07.01.pdf', '채권_분석_리포트_09.05.29.pdf', '채권_분석_리포트_09.04.24.pdf', '채권_분석_리포트_09.03.23.pdf', '채권_분석_리포트_09.02.18.pdf', '채권_분석_리포트_09.01.14.pdf', '채권_분석_리포트_08.12.09.pdf', '채권_분석_리포트_08.11.07.pdf', '채권_분석_리포트_08.10.06.pdf', '채권_분석_리포트_08.09.02.pdf', '채권_분석_리포트_08.07.31.pdf', '채권_분석_리포트_08.06.26.pdf']\n"
          ],
          "name": "stdout"
        },
        {
          "output_type": "execute_result",
          "data": {
            "text/plain": [
              "103"
            ]
          },
          "metadata": {
            "tags": []
          },
          "execution_count": 16
        }
      ]
    }
  ]
}