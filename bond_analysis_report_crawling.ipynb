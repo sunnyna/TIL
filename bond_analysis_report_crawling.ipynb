{
  "nbformat": 4,
  "nbformat_minor": 0,
  "metadata": {
    "colab": {
      "name": "bond_analysis_report_crawling.ipynb",
      "provenance": [],
      "collapsed_sections": [],
      "toc_visible": true,
      "mount_file_id": "1Da7RopKua2HUXwV73G6lT2adyl7zbXQd",
      "authorship_tag": "ABX9TyPTrvDdZqTXVdIrbnoZGJch",
      "include_colab_link": true
    },
    "kernelspec": {
      "name": "python3",
      "display_name": "Python 3"
    }
  },
  "cells": [
    {
      "cell_type": "markdown",
      "metadata": {
        "id": "view-in-github",
        "colab_type": "text"
      },
      "source": [
        "<a href=\"https://colab.research.google.com/github/sunnyna/TIL/blob/master/bond_analysis_report_crawling.ipynb\" target=\"_parent\"><img src=\"https://colab.research.google.com/assets/colab-badge.svg\" alt=\"Open In Colab\"/></a>"
      ]
    },
    {
      "cell_type": "markdown",
      "metadata": {
        "id": "sxW7GbZxzpVX",
        "colab_type": "text"
      },
      "source": [
        "drive 연결"
      ]
    },
    {
      "cell_type": "code",
      "metadata": {
        "id": "d6C_fDm9jc2f",
        "colab_type": "code",
        "colab": {
          "base_uri": "https://localhost:8080/",
          "height": 54
        },
        "outputId": "19d62724-43ff-4e7f-d98c-7277734bfbc5"
      },
      "source": [
        "from google.colab import drive\n",
        "drive.mount('/content/drive')"
      ],
      "execution_count": 1,
      "outputs": [
        {
          "output_type": "stream",
          "text": [
            "Drive already mounted at /content/drive; to attempt to forcibly remount, call drive.mount(\"/content/drive\", force_remount=True).\n"
          ],
          "name": "stdout"
        }
      ]
    },
    {
      "cell_type": "markdown",
      "metadata": {
        "id": "HGNfRduUzylH",
        "colab_type": "text"
      },
      "source": [
        "# 채권 분석 리포트 크롤링"
      ]
    },
    {
      "cell_type": "code",
      "metadata": {
        "id": "2GsefYQAJzA2",
        "colab_type": "code",
        "colab": {}
      },
      "source": [
        "import requests\n",
        "from bs4 import BeautifulSoup\n",
        "\n",
        "pdf_list = []\n",
        "date_list = []\n",
        "title_list = []\n",
        "\n",
        "for i in range(23,127):\n",
        "  url = 'https://finance.naver.com/research/debenture_list.nhn?'\n",
        "  params = {\n",
        "      'page' : i\n",
        "  }\n",
        "\n",
        "  resp = requests.get(url,params=params)\n",
        "  soup = BeautifulSoup(resp.content, 'html.parser')\n",
        "\n",
        "  td_tag = soup.findAll(\"td\",{\"class\":\"file\"})\n",
        "  date_tag = soup.findAll('td', {\"style\":\"padding-left:5px\"} )\n",
        "  title_tag = soup.findAll('td', {\"style\":\"padding-left:10px\"})\n",
        "\n",
        "\n",
        "\n",
        "  for t in td_tag:\n",
        "    pdf_url=t.find('a').attrs['href']\n",
        "    pdf_list.append(pdf_url)\n",
        "\n",
        "\n",
        "\n",
        "  for date in date_tag:\n",
        "    date_list.append(date.get_text())\n",
        "\n",
        "  for title in title_tag:\n",
        "    title_list.append(title.get_text())\n"
      ],
      "execution_count": null,
      "outputs": []
    },
    {
      "cell_type": "markdown",
      "metadata": {
        "id": "u3qp9fZWz8cJ",
        "colab_type": "text"
      },
      "source": [
        "갯수 확인 및 슬라이싱(08.04.01~17.12.27까지만)"
      ]
    },
    {
      "cell_type": "code",
      "metadata": {
        "id": "atwwyv--ZCMw",
        "colab_type": "code",
        "colab": {}
      },
      "source": [
        "print(len(pdf_list))   \n",
        "print(len(date_list))\n",
        "print(len(title_list))\n",
        "\n",
        "\n",
        "print(date_list[-10:])\n",
        "print(date_list[:10])"
      ],
      "execution_count": null,
      "outputs": []
    },
    {
      "cell_type": "markdown",
      "metadata": {
        "id": "mEYK_Ej10L1D",
        "colab_type": "text"
      },
      "source": [
        "슬라이싱 된 것 확인"
      ]
    },
    {
      "cell_type": "code",
      "metadata": {
        "id": "ZWwcNtwvN5JH",
        "colab_type": "code",
        "colab": {}
      },
      "source": [
        "\n",
        "pdf_list_ = pdf_list[2:]\n",
        "date_list_ = date_list[2:]\n",
        "title_list_ = title_list[2:]\n",
        "\n",
        "print(date_list_[-10:])\n",
        "print(date_list_[:10])"
      ],
      "execution_count": null,
      "outputs": []
    },
    {
      "cell_type": "code",
      "metadata": {
        "id": "Q_MfEH3JX7xe",
        "colab_type": "code",
        "colab": {}
      },
      "source": [
        "print(len(pdf_list_))\n",
        "print(len(date_list_))\n",
        "print(len(title_list_))\n"
      ],
      "execution_count": null,
      "outputs": []
    },
    {
      "cell_type": "markdown",
      "metadata": {
        "id": "FfzRmVrZG1e7",
        "colab_type": "text"
      },
      "source": [
        "/ 가 경로오류가 생겨서 전처리해줌"
      ]
    },
    {
      "cell_type": "code",
      "metadata": {
        "id": "vC1dyMnOFkIx",
        "colab_type": "code",
        "colab": {}
      },
      "source": [
        "title_list__ = []\n",
        "for t in title_list :\n",
        "  title_list__.append(t.replace('/', ','))\n",
        "\n",
        "title_list__\n",
        "\n",
        "#해외크레딧/신흥국 국채 : 만기 짧은 미국 회사채에 ..' \n",
        "# /때문에 경로오류가생김"
      ],
      "execution_count": null,
      "outputs": []
    },
    {
      "cell_type": "markdown",
      "metadata": {
        "id": "HMTrKq8v0ZbB",
        "colab_type": "text"
      },
      "source": [
        "### pdf 파일로 저장\n",
        "path 주의해서 확인하기"
      ]
    },
    {
      "cell_type": "code",
      "metadata": {
        "id": "yLmxnotHI8Er",
        "colab_type": "code",
        "colab": {}
      },
      "source": [
        "\n",
        "for pdf,title,date in zip(pdf_list_, title_list__, date_list_ ):\n",
        "  with open('/content/drive/My Drive/bond_analysis_report/{0}_{1}.pdf'.format(date,title), \"wb\") as file:\n",
        "    response = requests.get(pdf)\n",
        "    file.write(response.content)"
      ],
      "execution_count": null,
      "outputs": []
    },
    {
      "cell_type": "markdown",
      "metadata": {
        "id": "-ca3QINy0y0U",
        "colab_type": "text"
      },
      "source": [
        "파일갯수가 리스트 갯수와 일치하는 지 확인 (겹치는 제목은 덮어쓰기 때문에 제대로 나왔는지 확인해야했음)"
      ]
    },
    {
      "cell_type": "code",
      "metadata": {
        "id": "__dVKevj2N53",
        "colab_type": "code",
        "colab": {}
      },
      "source": [
        "import os\n",
        "\n",
        "path = \"/content/drive/My Drive/bond_analysis_report\"\n",
        "file_list = os.listdir(path)\n",
        "\n",
        "print (\"file_list: {}\".format(file_list))\n",
        "\n",
        "len(file_list)"
      ],
      "execution_count": null,
      "outputs": []
    },
    {
      "cell_type": "markdown",
      "metadata": {
        "id": "GNt2MyX_1El7",
        "colab_type": "text"
      },
      "source": [
        "# pdf를 csv로 변환"
      ]
    },
    {
      "cell_type": "code",
      "metadata": {
        "id": "_vKRxhrxx0im",
        "colab_type": "code",
        "colab": {
          "base_uri": "https://localhost:8080/",
          "height": 303
        },
        "outputId": "6f9880b1-33c8-46cb-e820-f7141ae4f738"
      },
      "source": [
        "!pip install tika\n",
        "from tika import parser\n"
      ],
      "execution_count": 2,
      "outputs": [
        {
          "output_type": "stream",
          "text": [
            "Collecting tika\n",
            "  Downloading https://files.pythonhosted.org/packages/96/07/244fbb9c74c0de8a3745cc9f3f496077a29f6418c7cbd90d68fd799574cb/tika-1.24.tar.gz\n",
            "Requirement already satisfied: setuptools in /usr/local/lib/python3.6/dist-packages (from tika) (49.1.0)\n",
            "Requirement already satisfied: requests in /usr/local/lib/python3.6/dist-packages (from tika) (2.23.0)\n",
            "Requirement already satisfied: urllib3!=1.25.0,!=1.25.1,<1.26,>=1.21.1 in /usr/local/lib/python3.6/dist-packages (from requests->tika) (1.24.3)\n",
            "Requirement already satisfied: chardet<4,>=3.0.2 in /usr/local/lib/python3.6/dist-packages (from requests->tika) (3.0.4)\n",
            "Requirement already satisfied: idna<3,>=2.5 in /usr/local/lib/python3.6/dist-packages (from requests->tika) (2.10)\n",
            "Requirement already satisfied: certifi>=2017.4.17 in /usr/local/lib/python3.6/dist-packages (from requests->tika) (2020.6.20)\n",
            "Building wheels for collected packages: tika\n",
            "  Building wheel for tika (setup.py) ... \u001b[?25l\u001b[?25hdone\n",
            "  Created wheel for tika: filename=tika-1.24-cp36-none-any.whl size=32885 sha256=d4493c2e673606acf1e93c61fdfc474d97957a05f6a1770e26fbc394d69dd7ee\n",
            "  Stored in directory: /root/.cache/pip/wheels/73/9c/f5/0b1b738442fc2a2862bef95b908b374f8e80215550fb2a8975\n",
            "Successfully built tika\n",
            "Installing collected packages: tika\n",
            "Successfully installed tika-1.24\n"
          ],
          "name": "stdout"
        }
      ]
    },
    {
      "cell_type": "markdown",
      "metadata": {
        "id": "46rJqCtk1Jz6",
        "colab_type": "text"
      },
      "source": [
        "1. pdf파일을 txt로 변환하는 함수정의"
      ]
    },
    {
      "cell_type": "code",
      "metadata": {
        "id": "Kb6FKxSx1BWy",
        "colab_type": "code",
        "colab": {}
      },
      "source": [
        "def convert_pdf_to_txt(file_name):\n",
        "  rawText = parser.from_file('{}'.format(file_name))\n",
        "  rawData = rawText['content']\n",
        "\n",
        "  if rawData is not None:\n",
        "    global rawData_ \n",
        "    rawData_ = rawData.replace('\\n','') \n",
        "\n",
        "\n",
        "  return rawData_"
      ],
      "execution_count": null,
      "outputs": []
    },
    {
      "cell_type": "markdown",
      "metadata": {
        "id": "kocfksIqY4Su",
        "colab_type": "text"
      },
      "source": [
        "'NoneType' object has no attribute 'replace' 오류수정  \n",
        "None 일때 예외를 줘야됨"
      ]
    },
    {
      "cell_type": "markdown",
      "metadata": {
        "id": "kDfmIDGFgHSS",
        "colab_type": "text"
      },
      "source": [
        "local variable 'rawData_' referenced before assignment 에러수정\n",
        "\n",
        "지역범위에서 전역 변수를 사용하기 위해서 global 표현을 사용한다.\n",
        "\n"
      ]
    },
    {
      "cell_type": "markdown",
      "metadata": {
        "id": "IUJ-N9e01U0i",
        "colab_type": "text"
      },
      "source": [
        "파일이름과 내용으로 이루어진 csv 파일 생성"
      ]
    },
    {
      "cell_type": "code",
      "metadata": {
        "id": "3kGYQjEfF8-b",
        "colab_type": "code",
        "colab": {}
      },
      "source": [
        ""
      ],
      "execution_count": null,
      "outputs": []
    },
    {
      "cell_type": "code",
      "metadata": {
        "id": "3F2jqRAm1Smm",
        "colab_type": "code",
        "colab": {}
      },
      "source": [
        "import csv\n",
        "from pathlib import Path\n",
        "\n",
        "folder = Path('/content/drive/My Drive/bond_analysis_report')\n",
        "csv_file = Path('/content/drive/My Drive/bond_analysis_report_list.csv')\n",
        "\n",
        "with csv_file.open('w', encoding='utf-8') as f:\n",
        "    writer = csv.writer(f, csv.QUOTE_ALL)\n",
        "    writer.writerow(['FileName', 'Text'])\n",
        "    for pdf_file in folder.glob('*.pdf'):\n",
        "        pdf_text = convert_pdf_to_txt(pdf_file)\n",
        "        writer.writerow([pdf_file.name, pdf_text])\n"
      ],
      "execution_count": null,
      "outputs": []
    },
    {
      "cell_type": "markdown",
      "metadata": {
        "id": "hgWTsKBi6p94",
        "colab_type": "text"
      },
      "source": [
        "csv 파일을 df로 저장"
      ]
    },
    {
      "cell_type": "code",
      "metadata": {
        "id": "gR4jwN7w6agN",
        "colab_type": "code",
        "colab": {
          "base_uri": "https://localhost:8080/",
          "height": 402
        },
        "outputId": "822889fa-3f05-4958-95d8-9e2882b17622"
      },
      "source": [
        "import pandas as pd\n",
        "\n",
        "df = pd.read_csv('/content/drive/My Drive/bond_analysis_report_list.csv')\n",
        "df"
      ],
      "execution_count": null,
      "outputs": [
        {
          "output_type": "execute_result",
          "data": {
            "text/html": [
              "<div>\n",
              "<style scoped>\n",
              "    .dataframe tbody tr th:only-of-type {\n",
              "        vertical-align: middle;\n",
              "    }\n",
              "\n",
              "    .dataframe tbody tr th {\n",
              "        vertical-align: top;\n",
              "    }\n",
              "\n",
              "    .dataframe thead th {\n",
              "        text-align: right;\n",
              "    }\n",
              "</style>\n",
              "<table border=\"1\" class=\"dataframe\">\n",
              "  <thead>\n",
              "    <tr style=\"text-align: right;\">\n",
              "      <th></th>\n",
              "      <th>FileName</th>\n",
              "      <th>Text</th>\n",
              "    </tr>\n",
              "  </thead>\n",
              "  <tbody>\n",
              "    <tr>\n",
              "      <th>0</th>\n",
              "      <td>17.12.27_2018년 북한 리스크 대비하기.pdf</td>\n",
              "      <td>Microsoft Word - CrediVille_171227          트럼...</td>\n",
              "    </tr>\n",
              "    <tr>\n",
              "      <th>1</th>\n",
              "      <td>17.12.26_1월에는 무조건 GO.pdf</td>\n",
              "      <td>PowerPoint 프레젠테이션Fixed Income Analyst 김지만 02-3...</td>\n",
              "    </tr>\n",
              "    <tr>\n",
              "      <th>2</th>\n",
              "      <td>17.12.20_트럼프노믹스를 극복한 2017년 ᄉ...</td>\n",
              "      <td>2013년 0월 0일          2금융권 안심전환대출 수급영향 점검  Inve...</td>\n",
              "    </tr>\n",
              "    <tr>\n",
              "      <th>3</th>\n",
              "      <td>17.12.20_11월 채권시장 전망.pdf</td>\n",
              "      <td>Fixed Income    2017. 12. 20     11월 금통위 의...</td>\n",
              "    </tr>\n",
              "    <tr>\n",
              "      <th>4</th>\n",
              "      <td>17.12.18_2금융권 안심전환대출 수급영...</td>\n",
              "      <td>(Microsoft Word - \\307\\366\\264\\353\\302\\367_Cre...</td>\n",
              "    </tr>\n",
              "    <tr>\n",
              "      <th>...</th>\n",
              "      <td>...</td>\n",
              "      <td>...</td>\n",
              "    </tr>\n",
              "    <tr>\n",
              "      <th>3088</th>\n",
              "      <td>08.04.21_정부의 금리인하 요구에 한은의 부...</td>\n",
              "      <td>Microsoft Word - 920_0421_Fixed Income Weekly....</td>\n",
              "    </tr>\n",
              "    <tr>\n",
              "      <th>3089</th>\n",
              "      <td>08.04.14_FOMC 이후 원자재 가격 상승세 둔ᄒ...</td>\n",
              "      <td>Microsoft Word - Fixedincome0414.doc    4월 금통위...</td>\n",
              "    </tr>\n",
              "    <tr>\n",
              "      <th>3090</th>\n",
              "      <td>08.04.07_항상 열려는 있는 가능성.pdf</td>\n",
              "      <td>Microsoft Word - 0407.docFixed Income Weekly 2...</td>\n",
              "    </tr>\n",
              "    <tr>\n",
              "      <th>3091</th>\n",
              "      <td>08.04.07_총재의 변신은 무죄다?!.pdf</td>\n",
              "      <td>Microsoft Word - 0407.docFixed Income Weekly 2...</td>\n",
              "    </tr>\n",
              "    <tr>\n",
              "      <th>3092</th>\n",
              "      <td>08.04.01_시간차 공격.pdf</td>\n",
              "      <td>ㅎㅎㅎ2008_04  월간채권투자채 권 시 장 전 망금 융 시 장 차 트 북對應과 ...</td>\n",
              "    </tr>\n",
              "  </tbody>\n",
              "</table>\n",
              "<p>3093 rows × 2 columns</p>\n",
              "</div>"
            ],
            "text/plain": [
              "                                               FileName                                               Text\n",
              "0           17.12.27_2018년 북한 리스크 대비하기.pdf  Microsoft Word - CrediVille_171227          트럼...\n",
              "1                     17.12.26_1월에는 무조건 GO.pdf  PowerPoint 프레젠테이션Fixed Income Analyst 김지만 02-3...\n",
              "2     17.12.20_트럼프노믹스를 극복한 2017년 ᄉ...  2013년 0월 0일          2금융권 안심전환대출 수급영향 점검  Inve...\n",
              "3                  17.12.20_11월 채권시장 전망.pdf      Fixed Income    2017. 12. 20     11월 금통위 의...\n",
              "4     17.12.18_2금융권 안심전환대출 수급영...  (Microsoft Word - \\307\\366\\264\\353\\302\\367_Cre...\n",
              "...                                                 ...                                                ...\n",
              "3088  08.04.21_정부의 금리인하 요구에 한은의 부...  Microsoft Word - 920_0421_Fixed Income Weekly....\n",
              "3089  08.04.14_FOMC 이후 원자재 가격 상승세 둔ᄒ...  Microsoft Word - Fixedincome0414.doc    4월 금통위...\n",
              "3090       08.04.07_항상 열려는 있는 가능성.pdf  Microsoft Word - 0407.docFixed Income Weekly 2...\n",
              "3091            08.04.07_총재의 변신은 무죄다?!.pdf  Microsoft Word - 0407.docFixed Income Weekly 2...\n",
              "3092                        08.04.01_시간차 공격.pdf  ㅎㅎㅎ2008_04  월간채권투자채 권 시 장 전 망금 융 시 장 차 트 북對應과 ...\n",
              "\n",
              "[3093 rows x 2 columns]"
            ]
          },
          "metadata": {
            "tags": []
          },
          "execution_count": 22
        }
      ]
    },
    {
      "cell_type": "code",
      "metadata": {
        "id": "wmXB8mekiSL3",
        "colab_type": "code",
        "colab": {
          "base_uri": "https://localhost:8080/",
          "height": 231
        },
        "outputId": "1733cee7-b7e6-4490-e873-7ae797d0b78d"
      },
      "source": [
        "rawText = parser.from_file('/content/drive/My Drive/bond_analysis_report/08.04.07_총재의 변신은 무죄다?!.pdf')\n",
        "rawList = rawText['content']\n",
        "\n",
        "data =rawList.replace('\\n','')\n",
        "\n",
        "data"
      ],
      "execution_count": 18,
      "outputs": [
        {
          "output_type": "execute_result",
          "data": {
            "application/vnd.google.colaboratory.intrinsic+json": {
              "type": "string"
            },
            "text/plain": [
              "'Microsoft Word - 0407.docFixed Income Weekly 2008. 4. 7.  #918 Fixed Income Weekly 4월 7일돌아온 박스권 다만, 하단보다는 상단 테스트 가능성에 무게 글로벌 신용경색 완화 조짐과 주식의 반등, 인플레이션 및 금통위 부담 등에도 불구하고 금리가 잘 버티고 있다. 이는 물론, 대내외 펀더멘틀 및 궁극적인 통화정책 방향에대한 믿음이 강하기 때문일 것이다.  이러한 믿음이 견고한 상단을 만드는 반면, 추가적인 모멘텀 없이는 더 이상 하락하기쉽지않을 정도로 레벨이 낮아져 왔다는 현실이 역시 견고한 하단을 형성하고 있다. 결국 당분간 레인지 양상일 것으로 보이는데, 금통위 경계감 극대화시 trading buy 정도는 해 볼 만 하다는 생각이다.     대우증권 리서치센터 서철수 (02-768-3501)Cyberscs@bestez.com윤여삼 (02-768-4022)nersam@bestez.com미국의 금융 업종, 연준 덕택에 九死一生 연준 영역 밖인 회사채 신용위험은 추가 악화는 일단 멈춘 상태010020030040050060007.7 07.9 07.11 08.1 08.3은행업금융서비스업보험업(bp)1.52.02.53.03.54.007.1 07.3 07.5 07.7 07.9 07.11 08.1 08.30.60.81.01.21.41.6미 신용스프레드(회사채BAA-국채,좌)미 신용스프레드(회사채BAA-AAA,우)(%p)(%p)자료: Bloomberg 자료:  Bloomberg  2 ■ 최근 신용경색 완화 조짐!  So…what? 글로벌 신용경색 완화 조짐이 나타나면서 시장변수들이 움직이고 있다. 금융기관들의 CDS가 둔화되고 있고, 모기지 지수인 ABX나 회사채 신용스프레드 등도 추가 악화를 멈춘 상태이다[앞면의 그림들]. 달러가치의 급락이 멈칫해지는 가운데 상품가격의 조정양상이 진행중이며, flight to quality가 완화되면서 주가가 반등하고 있다[그림1,2]. 이러한 현상은, 4월 월보에서도 지적했듯이, 연준을 중심으로 미 정부와 의회, 그리고 민간과 국부펀드 등이 신용경색 완화를 위한 다양한 노력들을 기울인 덕택일 것이다. 특히 연준이 금리인하는 물론이고, 금융기관에 직접 유동성을 공급할 뿐 아니라 부실처리까지 떠맡는 등 매우 적극적으로 대응하고 있는데 힘입은 바 크다고 할 것이다. 더 이상 제2의 베어스턴스를 만들지 않겠다는 연준의 강력한 의지와 실질적인 지원이 금융기관들 나아가 금융시장을 안심시키고 있는 것이다. 이에, 금융업종 중심의 안도랠리는 충분히 이해할 만한 구석이 있다는 생각이다. 한편 버냉키는 의회 증언을 통해, 이제 급한 불은 껐으니 향후 통화정책은 경기와 물가라는 전통적 잣대에 기반할 것임을 시사하였다(긴급/대폭적 인하 가능성 크게 축소).  국내 주가도 오르면서 일각에서 바닥론이 대두되고 있는데, 반면 금리는 잘 오르지 않고 있다. 미국(글로벌)과 한국의 펀더멘틀 및 정책에 대한 전망이 비교적 확고하기 때문일 터이다. 즉, 이미 월보에서 강조했듯이, 최근 위험자산의 반등은 주로 연준이 주도하는 유동성 장세의 성격으로 보고 있다는 것이다. 그런데 주지하듯이, 유동성은 반드시 위험자산에만 도움이 되는 것은 아니다. 외환시장과 스왑시장의 수급 또한 개선되면서, 외인들이 다시 매수 주체로 부상하는 환경이 조성되고 있는 것이다[3면의 그림 3]. 외인들 입장에서는 재정거래는 물론이고 기술적 측면에서도 매수 시그널링을 받고 있는 상황이다[3면의 그림 4].  이러한 가운데, 채권시장의 믿음을 확인시켜주는 국내외 경제지표들이 나오고 있다. 국내 2월 산업활동동향이 경기둔화 진입 조짐을 보여주기 시작했고[4면의 그림5], 미국의 3월 고용지표는 시장 예상(취업자수 -5만명) 보다 더 나빠진 결과를 드러냈다(-8만명). 보다 중요한 것은, 이제 시작일 뿐이라는 점이다. 한국의 경기지수들은 앞으로 최소 2분기에서 어쩌면 4분기 내내 하락세를 이어갈 것으로 예상되며, 이제 겨우 5%대로 올라선 미국의 실업률도 향후 몇 분기에   그림 1. 우량 모기지 반등하면서 주식도 동반 반등  그림 2. 미 금리 하향세, 그러나 정작 모기지 금리는 하락 못해   자료: Markit, Bloomberg  자료:  Bloomberg 신용경색 극심화로 인한 시스템 붕괴는 면한 듯 파국을 막기 위한 연준의 적극적 대응 덕택으로 평가 그러나 펀더멘틀과 통화정책 방향성에 있어 달라지는 것은 별로 없다  특히 펀더멘틀은 이제 막 시작이라는 사실이 포인트 3.03.54.04.55.05.56.06.57.007.1 07.7 08.1미 모기지고정30년미 모기지변동1년미국채 10년(%)506070809010007.7 07.9 07.11 08.1 08.312501350145015501650ABX-HE-AAA 07-1(좌)ABX-HE-AAA 07-2(좌)S&P 500지수(우)(%)(p)Fixed Income Weekly 3 걸쳐 적어도 6%선까지는 올라설 것이다[4면의 그림6]. 거듭 강조해 왔듯이, 연준이 금융시스템의 붕괴는 막고 있지만 이미 시작된 순환적인 경기침체는 앞으로 상당기간 지속될 것이며, 이는 결국 한국 경제와 통화정책에도 영향을 줄 것이다.  ■ 한은의 관심은… 한은이 직면한 최대 관심사는 물론 물가, 특히 기대심리의 확산 여부인 것으로 보인다. 더불어, 내부적으로 고심하고 있는 것이 만일 있다면 통화정책의 독립성이 일부 훼손될지의 문제일 것 같다. 그런데 이 두 가지 모두 공히 이번 금통위에서 총재의 매파적 성향을 자극하는 요인들이다. 하지만 그렇다고 해서 일방적으로 인플레만 강조하지는 않을 것으로 본다. 그것은 자칫 긴축 시그널로 오해될 소지가 있을 뿐 아니라, 향후 있을 수도 있는 정책변경 여지를 스스로 차단하는 구속이 될 수 있기 때문이다.  결국 총재는 경기 불확실성과 인플레 부담 사이에서의 균형을 찾으려 할 것으로 여겨지는데, 다만 단기적으로는 인플레 우려가 조금 더 신경쓰인다는 입장일 것으로 예상된다. 그러나 그렇다 하여 시장이 인하 기대감 자체를 포기할 가능성은 거의 없을 것이다. ‘현존하는 인플레 부담 vs. 이제 막 조짐이 보이는 경기하강 리스크’의 구도에서는 ‘동결’이 선택되지만, 향후 전개될 ‘완만하나마 둔화되기 시작하는 인플레 vs. 현재화하는 경기하강’ 구도 아래에서는 동결의 명분이 약화될 것이기 때문이다. 여기에, 정부가 총선 이후 전반적인 경기부양책을 동원할 경우 한은도 일정부분 부응해야 한다는 명분을 요구받을 수도 있는 일이다.   ■ 당장의 투자 스탠스는? 대부분의 제안처럼, 우리 스탠스 역시 반등시 매수이다. 금리가 추세적으로 오를 상황은 아니지만, 안전자산 선호현상이 완화되는 가운데 주식시장의 베어마켓 랠리가 신경 쓰이는 측면이 있고(특히 자금이동 관련), 금통위 경계감도 부담이기 때문이다. 반등 레벨이 관심일 수는 있을 텐데, 20일 이평선 부근인 5.20%가 1차 지지선이겠으나, 리면 전 고점이자 볼뱅의 상단부인 5.30%내외가 제법 강한 지지선일 것으로 생각한다.  그림 3. 글로벌 신용경색 완화가 한국에도 긍정적인 측면   그림 4. 국채선물시장, 외인들 매수 시그널링    자료: Bloomberg  자료: 증권선물거래소 실물경제에 대한 대응에 있어 선제적인 연준 vs. 확인 후 움직이려는 한은 지금 당장 명백히 확인되는 것은 인플레라는 게 한은의 입장 반등시 매수관점 -2.0-1.5-1.0-0.50.00.51.01.52.007.7 07.9 07.11 08.1 08.30123456789선물종가 - 외인 매수단가 20일 이동 평균(좌)외인 누적순매수(우)(pt) (만계약)2.52.83.13.43.74.04.34.64.95.207.07 07.08 07.09 07.10 07.11 07.12 08.01 08.02120160200240280320CRS3년(좌)EMBI+ 스프레드(축반전,우)(bp)(%) 4 한편, 최근 반등세가 지속되고 있는 신용 스프레드에 대해서는 조금 더 두고 보자는 입장이다. 사실 이미 우리는 지난 2월 18일자 주보에서 다음과 같이 크레딧 투자에 대해 신중한 입장을 주장한 바 있다. 일부를 그대로 인용해 보면, “국내 경기 둔화 위험이 있는 가운데 은행들의 자산 건전성 관리 의지도 높아지고 있는 등 전반적인 회사채 투자 환경이 그리 양호한 상황은 아니라고 판단하기 때문이다. 여기에, 산업은행 민영화나 CP발행정보 공개, 연결재무제표 주 지표화, 은행채 신고서 제출의 여파 등과 같은 제도적 측면도 회사채 스프레드 우호적 환경은 아닐 수 있다고 보고 있다”.  그런데, 회사채 스프레드는 우리의 전망과 달리 조금은 더 떨어지다가 이후부터 반등하고 있으나, 은행채 스프레드는 2월 19일 전후를 바닥으로 올라오고 있는 상황이다. 은행권이 작년 4분기와 같은 자금부족을 겪을 가능성은 희박하다고 보지만, 2분기 중 대규모 만기가 도래하는 가운데 은행권 자금 유입이 다소 둔화된 상태이고 주식으로의 자금이동 재개 관련 우려가 대두될 소지가 있다는 점에 주의하기로 한다. 또한 당장 (은행채에 대한) 매수주체가 뚜렷히 부각되지 못할 수 있다는 현실과, 차후 은행채 신고서 제출과 같은 제도적 변수들이 기다리고 있다는 점도 부담일 수 있을 것 같다. 이러한 요인들은 은행 펀더멘틀 측면 보다는 수급적 성향이 강하니 만큼 결국에는 기회가 될 수 있다고 보지만, 현 시점에서 굳이 서두를 필요는 없을 것 같다는 생각이다.  그림 5. 이번에도 경기선행지수와 금리는 연동하고 있다  그림 6. 미 경기침체, 끝나려면 한참 남았다    자료: Bloomberg  자료: Bloomberg                 본 자료는 2008년 4월 5일 당사 홈페이지에 게시된 자료입니다. 이 조사자료는 고객의 투자에 참고가 될 수 있는 각종 정보제공을 목적으로 제작되었습니다. 이 조사자료는 당사의 리서치센터가 신뢰할 수 있는 자료 및 정보로부터 얻어진 것이나, 당사가 그 정확성이나 완전성을 보장할 수 없으므로 투자자 자신의 판단과 책임하에 종목 선택이나 투자시기에 대한 최종 결정을 하시기 바랍니다. 따라서 이 조사자료는 어떠한 경우에도 고객의 증권투자 결과에 대한 법적 책임소재의 증빙자료로 사용될 수 없습니다. 이 조사자료의 지적재산권은 당사에 있으므로 당사의 허락없이 무단 복제 및 배포 할 수 없습니다.  은행채 스프레드 메리트 커지고는 있으나 서두를 필요는 없다는 판단 당장은 공급확대와 수요둔화, 5~6월에는 제도 변화 등이 부담이기 때문 0246810121400 01 02 03 04 05 06 07 08345678910경기선행지수 전년동월비(좌)국고채3년(우)(%, 2005=100) (%)3000500070009000110001300070 73 76 79 82 85 88 91 94 97 00 03 06 0934567891011실업자(좌)실업률(우)(천명) (%)'"
            ]
          },
          "metadata": {
            "tags": []
          },
          "execution_count": 18
        }
      ]
    },
    {
      "cell_type": "code",
      "metadata": {
        "id": "U_9ZGyXKGQVf",
        "colab_type": "code",
        "colab": {
          "base_uri": "https://localhost:8080/",
          "height": 1000
        },
        "outputId": "dfb67a21-54ad-439a-9adf-6cfb06b5a44e"
      },
      "source": [
        "import re \n",
        "\n",
        "\n",
        "\n",
        "no_eng_num_data = re.sub('([a-zA-Z0-9])','',data)\n",
        "no_jamo_data = re.sub('[ㄱ-ㅎㅏ-ㅣ]+','',no_eng_num_data)\n",
        "cleansing_data = re.sub('[-=+,#/\\?:^$.@*\\\"※~&%ㆍ!』\\\\‘|\\(\\)\\[\\]\\<\\>`\\'…》]','',no_jamo_data)\n",
        "\n",
        "\n",
        "cleansing_data"
      ],
      "execution_count": 25,
      "outputs": [
        {
          "output_type": "execute_result",
          "data": {
            "application/vnd.google.colaboratory.intrinsic+json": {
              "type": "string"
            },
            "text/plain": [
              "'              월 일돌아온 박스권 다만 하단보다는 상단 테스트 가능성에 무게 글로벌 신용경색 완화 조짐과 주식의 반등 인플레이션 및 금통위 부담 등에도 불구하고 금리가 잘 버티고 있다 이는 물론 대내외 펀더멘틀 및 궁극적인 통화정책 방향에대한 믿음이 강하기 때문일 것이다  이러한 믿음이 견고한 상단을 만드는 반면 추가적인 모멘텀 없이는 더 이상 하락하기쉽지않을 정도로 레벨이 낮아져 왔다는 현실이 역시 견고한 하단을 형성하고 있다 결국 당분간 레인지 양상일 것으로 보이는데 금통위 경계감 극대화시   정도는 해 볼 만 하다는 생각이다     대우증권 리서치센터 서철수 윤여삼 미국의 금융 업종 연준 덕택에 九死一生 연준 영역 밖인 회사채 신용위험은 추가 악화는 일단 멈춘 상태    은행업금융서비스업보험업       미 신용스프레드회사채국채좌미 신용스프레드회사채우자료  자료     ■ 최근 신용경색 완화 조짐   글로벌 신용경색 완화 조짐이 나타나면서 시장변수들이 움직이고 있다 금융기관들의 가 둔화되고 있고 모기지 지수인 나 회사채 신용스프레드 등도 추가 악화를 멈춘 상태이다앞면의 그림들 달러가치의 급락이 멈칫해지는 가운데 상품가격의 조정양상이 진행중이며   가 완화되면서 주가가 반등하고 있다그림 이러한 현상은 월 월보에서도 지적했듯이 연준을 중심으로 미 정부와 의회 그리고 민간과 국부펀드 등이 신용경색 완화를 위한 다양한 노력들을 기울인 덕택일 것이다 특히 연준이 금리인하는 물론이고 금융기관에 직접 유동성을 공급할 뿐 아니라 부실처리까지 떠맡는 등 매우 적극적으로 대응하고 있는데 힘입은 바 크다고 할 것이다 더 이상 제의 베어스턴스를 만들지 않겠다는 연준의 강력한 의지와 실질적인 지원이 금융기관들 나아가 금융시장을 안심시키고 있는 것이다 이에 금융업종 중심의 안도랠리는 충분히 이해할 만한 구석이 있다는 생각이다 한편 버냉키는 의회 증언을 통해 이제 급한 불은 껐으니 향후 통화정책은 경기와 물가라는 전통적 잣대에 기반할 것임을 시사하였다긴급대폭적 인하 가능성 크게 축소  국내 주가도 오르면서 일각에서 바닥론이 대두되고 있는데 반면 금리는 잘 오르지 않고 있다 미국글로벌과 한국의 펀더멘틀 및 정책에 대한 전망이 비교적 확고하기 때문일 터이다 즉 이미 월보에서 강조했듯이 최근 위험자산의 반등은 주로 연준이 주도하는 유동성 장세의 성격으로 보고 있다는 것이다 그런데 주지하듯이 유동성은 반드시 위험자산에만 도움이 되는 것은 아니다 외환시장과 스왑시장의 수급 또한 개선되면서 외인들이 다시 매수 주체로 부상하는 환경이 조성되고 있는 것이다면의 그림  외인들 입장에서는 재정거래는 물론이고 기술적 측면에서도 매수 시그널링을 받고 있는 상황이다면의 그림   이러한 가운데 채권시장의 믿음을 확인시켜주는 국내외 경제지표들이 나오고 있다 국내 월 산업활동동향이 경기둔화 진입 조짐을 보여주기 시작했고면의 그림 미국의 월 고용지표는 시장 예상취업자수 만명 보다 더 나빠진 결과를 드러냈다만명 보다 중요한 것은 이제 시작일 뿐이라는 점이다 한국의 경기지수들은 앞으로 최소 분기에서 어쩌면 분기 내내 하락세를 이어갈 것으로 예상되며 이제 겨우 대로 올라선 미국의 실업률도 향후 몇 분기에   그림  우량 모기지 반등하면서 주식도 동반 반등  그림  미 금리 하향세 그러나 정작 모기지 금리는 하락 못해   자료    자료   신용경색 극심화로 인한 시스템 붕괴는 면한 듯 파국을 막기 위한 연준의 적극적 대응 덕택으로 평가 그러나 펀더멘틀과 통화정책 방향성에 있어 달라지는 것은 별로 없다  특히 펀더멘틀은 이제 막 시작이라는 사실이 포인트   미 모기지고정년미 모기지변동년미국채 년     좌 좌 지수우    걸쳐 적어도 선까지는 올라설 것이다면의 그림 거듭 강조해 왔듯이 연준이 금융시스템의 붕괴는 막고 있지만 이미 시작된 순환적인 경기침체는 앞으로 상당기간 지속될 것이며 이는 결국 한국 경제와 통화정책에도 영향을 줄 것이다  ■ 한은의 관심은 한은이 직면한 최대 관심사는 물론 물가 특히 기대심리의 확산 여부인 것으로 보인다 더불어 내부적으로 고심하고 있는 것이 만일 있다면 통화정책의 독립성이 일부 훼손될지의 문제일 것 같다 그런데 이 두 가지 모두 공히 이번 금통위에서 총재의 매파적 성향을 자극하는 요인들이다 하지만 그렇다고 해서 일방적으로 인플레만 강조하지는 않을 것으로 본다 그것은 자칫 긴축 시그널로 오해될 소지가 있을 뿐 아니라 향후 있을 수도 있는 정책변경 여지를 스스로 차단하는 구속이 될 수 있기 때문이다  결국 총재는 경기 불확실성과 인플레 부담 사이에서의 균형을 찾으려 할 것으로 여겨지는데 다만 단기적으로는 인플레 우려가 조금 더 신경쓰인다는 입장일 것으로 예상된다 그러나 그렇다 하여 시장이 인하 기대감 자체를 포기할 가능성은 거의 없을 것이다 현존하는 인플레 부담  이제 막 조짐이 보이는 경기하강 리스크’의 구도에서는 동결’이 선택되지만 향후 전개될 완만하나마 둔화되기 시작하는 인플레  현재화하는 경기하강’ 구도 아래에서는 동결의 명분이 약화될 것이기 때문이다 여기에 정부가 총선 이후 전반적인 경기부양책을 동원할 경우 한은도 일정부분 부응해야 한다는 명분을 요구받을 수도 있는 일이다   ■ 당장의 투자 스탠스는 대부분의 제안처럼 우리 스탠스 역시 반등시 매수이다 금리가 추세적으로 오를 상황은 아니지만 안전자산 선호현상이 완화되는 가운데 주식시장의 베어마켓 랠리가 신경 쓰이는 측면이 있고특히 자금이동 관련 금통위 경계감도 부담이기 때문이다 반등 레벨이 관심일 수는 있을 텐데 일 이평선 부근인 가 차 지지선이겠으나 리면 전 고점이자 볼뱅의 상단부인 내외가 제법 강한 지지선일 것으로 생각한다  그림  글로벌 신용경색 완화가 한국에도 긍정적인 측면   그림  국채선물시장 외인들 매수 시그널링    자료   자료 증권선물거래소 실물경제에 대한 대응에 있어 선제적인 연준  확인 후 움직이려는 한은 지금 당장 명백히 확인되는 것은 인플레라는 게 한은의 입장 반등시 매수관점     선물종가  외인 매수단가 일 이동 평균좌외인 누적순매수우 만계약       년좌 스프레드축반전우  한편 최근 반등세가 지속되고 있는 신용 스프레드에 대해서는 조금 더 두고 보자는 입장이다 사실 이미 우리는 지난 월 일자 주보에서 다음과 같이 크레딧 투자에 대해 신중한 입장을 주장한 바 있다 일부를 그대로 인용해 보면 “국내 경기 둔화 위험이 있는 가운데 은행들의 자산 건전성 관리 의지도 높아지고 있는 등 전반적인 회사채 투자 환경이 그리 양호한 상황은 아니라고 판단하기 때문이다 여기에 산업은행 민영화나 발행정보 공개 연결재무제표 주 지표화 은행채 신고서 제출의 여파 등과 같은 제도적 측면도 회사채 스프레드 우호적 환경은 아닐 수 있다고 보고 있다”  그런데 회사채 스프레드는 우리의 전망과 달리 조금은 더 떨어지다가 이후부터 반등하고 있으나 은행채 스프레드는 월 일 전후를 바닥으로 올라오고 있는 상황이다 은행권이 작년 분기와 같은 자금부족을 겪을 가능성은 희박하다고 보지만 분기 중 대규모 만기가 도래하는 가운데 은행권 자금 유입이 다소 둔화된 상태이고 주식으로의 자금이동 재개 관련 우려가 대두될 소지가 있다는 점에 주의하기로 한다 또한 당장 은행채에 대한 매수주체가 뚜렷히 부각되지 못할 수 있다는 현실과 차후 은행채 신고서 제출과 같은 제도적 변수들이 기다리고 있다는 점도 부담일 수 있을 것 같다 이러한 요인들은 은행 펀더멘틀 측면 보다는 수급적 성향이 강하니 만큼 결국에는 기회가 될 수 있다고 보지만 현 시점에서 굳이 서두를 필요는 없을 것 같다는 생각이다  그림  이번에도 경기선행지수와 금리는 연동하고 있다  그림  미 경기침체 끝나려면 한참 남았다    자료   자료                  본 자료는 년 월 일 당사 홈페이지에 게시된 자료입니다 이 조사자료는 고객의 투자에 참고가 될 수 있는 각종 정보제공을 목적으로 제작되었습니다 이 조사자료는 당사의 리서치센터가 신뢰할 수 있는 자료 및 정보로부터 얻어진 것이나 당사가 그 정확성이나 완전성을 보장할 수 없으므로 투자자 자신의 판단과 책임하에 종목 선택이나 투자시기에 대한 최종 결정을 하시기 바랍니다 따라서 이 조사자료는 어떠한 경우에도 고객의 증권투자 결과에 대한 법적 책임소재의 증빙자료로 사용될 수 없습니다 이 조사자료의 지적재산권은 당사에 있으므로 당사의 허락없이 무단 복제 및 배포 할 수 없습니다  은행채 스프레드 메리트 커지고는 있으나 서두를 필요는 없다는 판단 당장은 공급확대와 수요둔화 월에는 제도 변화 등이 부담이기 때문         경기선행지수 전년동월비좌국고채년우               실업자좌실업률우천명 '"
            ]
          },
          "metadata": {
            "tags": []
          },
          "execution_count": 25
        }
      ]
    }
  ]
}