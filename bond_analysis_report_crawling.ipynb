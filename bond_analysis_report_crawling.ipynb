{
  "nbformat": 4,
  "nbformat_minor": 0,
  "metadata": {
    "colab": {
      "name": "bond_analysis_report_crawling.ipynb",
      "provenance": [],
      "collapsed_sections": [],
      "mount_file_id": "1Da7RopKua2HUXwV73G6lT2adyl7zbXQd",
      "authorship_tag": "ABX9TyPYjTABDsdmoTu+G25+vyu0",
      "include_colab_link": true
    },
    "kernelspec": {
      "name": "python3",
      "display_name": "Python 3"
    }
  },
  "cells": [
    {
      "cell_type": "markdown",
      "metadata": {
        "id": "view-in-github",
        "colab_type": "text"
      },
      "source": [
        "<a href=\"https://colab.research.google.com/github/sunnyna/TIL/blob/master/bond_analysis_report_crawling.ipynb\" target=\"_parent\"><img src=\"https://colab.research.google.com/assets/colab-badge.svg\" alt=\"Open In Colab\"/></a>"
      ]
    },
    {
      "cell_type": "code",
      "metadata": {
        "id": "0Tb6bymjOT1a",
        "colab_type": "code",
        "colab": {
          "base_uri": "https://localhost:8080/",
          "height": 334
        },
        "outputId": "7e58691e-1fcf-4944-ac81-c8dfaa4ec598"
      },
      "source": [
        "url = 'https://finance.naver.com/research/debenture_list.nhn?'\n",
        "params = {'page': 126}\n",
        "\n",
        "resp = requests.get(url,params=params)\n",
        "soup = BeautifulSoup(resp.content, 'html.parser')\n",
        "  \n",
        "td_tag = soup.findAll(\"td\",{\"class\":\"file\"})\n",
        "date_tag = soup.findAll('td', {\"style\":\"padding-left:5px\"} )\n",
        "\n",
        "# print(td_tag)\n",
        "\n",
        "pdf_list_ = []\n",
        "date_list_ = []\n",
        "\n",
        "for t in td_tag:\n",
        "  pdf_url=t.find('a').attrs['href']\n",
        "  pdf_list_.append(pdf_url)\n",
        "\n",
        "\n",
        "\n",
        "for date in date_tag:\n",
        "  date_list_.append(date.get_text())\n",
        "\n",
        "date_list_, pdf_list_\n",
        "\n"
      ],
      "execution_count": 18,
      "outputs": [
        {
          "output_type": "execute_result",
          "data": {
            "text/plain": [
              "(['08.05.19',\n",
              "  '08.05.13',\n",
              "  '08.05.04',\n",
              "  '08.04.28',\n",
              "  '08.04.21',\n",
              "  '08.04.14',\n",
              "  '08.04.07',\n",
              "  '08.04.07',\n",
              "  '08.04.01'],\n",
              " ['http://imgstock.naver.com/upload/research/debenture/1211247153.pdf',\n",
              "  'http://imgstock.naver.com/upload/research/debenture/1210647721.pdf',\n",
              "  'http://imgstock.naver.com/upload/research/debenture/1210033641.pdf',\n",
              "  'http://imgstock.naver.com/upload/research/debenture/1209352859.pdf',\n",
              "  'http://imgstock.naver.com/upload/research/debenture/1208928986.pdf',\n",
              "  'http://imgstock.naver.com/upload/research/debenture/1208929274.pdf',\n",
              "  'http://imgstock.naver.com/upload/research/debenture/1213152088.pdf',\n",
              "  'http://imgstock.naver.com/upload/research/debenture/1208929417.pdf',\n",
              "  'http://imgstock.naver.com/upload/research/debenture/1208930733.pdf'])"
            ]
          },
          "metadata": {
            "tags": []
          },
          "execution_count": 18
        }
      ]
    },
    {
      "cell_type": "code",
      "metadata": {
        "id": "WSlM9VGkPWyQ",
        "colab_type": "code",
        "colab": {}
      },
      "source": [
        "for pdf,date in zip(pdf_list_, date_list_):\n",
        "  with open('/content/drive/My Drive/bond_analysis_report/bond_analysis_report_{}.pdf'.format(date), \"wb\") as file:\n",
        "    response = requests.get(pdf)\n",
        "    file.write(response.content)"
      ],
      "execution_count": 20,
      "outputs": []
    },
    {
      "cell_type": "code",
      "metadata": {
        "id": "d6C_fDm9jc2f",
        "colab_type": "code",
        "colab": {
          "base_uri": "https://localhost:8080/",
          "height": 34
        },
        "outputId": "e1fba186-75eb-443f-a82e-612d4be562d3"
      },
      "source": [
        "from google.colab import drive\n",
        "drive.mount('/content/drive')"
      ],
      "execution_count": 10,
      "outputs": [
        {
          "output_type": "stream",
          "text": [
            "Drive already mounted at /content/drive; to attempt to forcibly remount, call drive.mount(\"/content/drive\", force_remount=True).\n"
          ],
          "name": "stdout"
        }
      ]
    },
    {
      "cell_type": "code",
      "metadata": {
        "id": "2GsefYQAJzA2",
        "colab_type": "code",
        "colab": {}
      },
      "source": [
        "import requests\n",
        "from bs4 import BeautifulSoup\n",
        "\n",
        "pdf_list = []\n",
        "date_list = []\n",
        "\n",
        "for i in range(23,127):\n",
        "  url = 'https://finance.naver.com/research/debenture_list.nhn?'\n",
        "  params = {\n",
        "      'page' : i\n",
        "  }\n",
        "\n",
        "  resp = requests.get(url,params=params)\n",
        "  soup = BeautifulSoup(resp.content, 'html.parser')\n",
        "\n",
        "  td_tag = soup.findAll(\"td\",{\"class\":\"file\"})\n",
        "  date_tag = soup.findAll('td', {\"style\":\"padding-left:5px\"} )\n",
        "\n",
        "\n",
        "  for t in td_tag:\n",
        "    pdf_url=t.find('a').attrs['href']\n",
        "    pdf_list.append(pdf_url)\n",
        "\n",
        "\n",
        "\n",
        "  for date in date_tag:\n",
        "    date_list.append(date.get_text())\n"
      ],
      "execution_count": 31,
      "outputs": []
    },
    {
      "cell_type": "code",
      "metadata": {
        "id": "atwwyv--ZCMw",
        "colab_type": "code",
        "colab": {
          "base_uri": "https://localhost:8080/",
          "height": 87
        },
        "outputId": "c8f91495-999c-474d-83d8-43b9c097cf44"
      },
      "source": [
        "print(len(pdf_list))   \n",
        "print(len(date_list))\n",
        "\n",
        "print(date_list[-10:])\n",
        "print(date_list[:10])"
      ],
      "execution_count": 32,
      "outputs": [
        {
          "output_type": "stream",
          "text": [
            "3099\n",
            "3099\n",
            "['08.05.20', '08.05.19', '08.05.13', '08.05.04', '08.04.28', '08.04.21', '08.04.14', '08.04.07', '08.04.07', '08.04.01']\n",
            "['18.01.02', '18.01.02', '17.12.27', '17.12.26', '17.12.20', '17.12.20', '17.12.18', '17.12.15', '17.12.15', '17.12.14']\n"
          ],
          "name": "stdout"
        }
      ]
    },
    {
      "cell_type": "code",
      "metadata": {
        "id": "ZWwcNtwvN5JH",
        "colab_type": "code",
        "colab": {
          "base_uri": "https://localhost:8080/",
          "height": 52
        },
        "outputId": "e7252be9-0f7a-4425-8ab7-31d58e20849f"
      },
      "source": [
        "pdf_list_ = pdf_list[2:]\n",
        "date_list_ = date_list[2:]\n",
        "\n",
        "print(date_list_[-10:])\n",
        "print(date_list_[:10])"
      ],
      "execution_count": 34,
      "outputs": [
        {
          "output_type": "stream",
          "text": [
            "['08.05.20', '08.05.19', '08.05.13', '08.05.04', '08.04.28', '08.04.21', '08.04.14', '08.04.07', '08.04.07', '08.04.01']\n",
            "['17.12.27', '17.12.26', '17.12.20', '17.12.20', '17.12.18', '17.12.15', '17.12.15', '17.12.14', '17.12.14', '17.12.13']\n"
          ],
          "name": "stdout"
        }
      ]
    },
    {
      "cell_type": "code",
      "metadata": {
        "id": "Q_MfEH3JX7xe",
        "colab_type": "code",
        "colab": {
          "base_uri": "https://localhost:8080/",
          "height": 52
        },
        "outputId": "307f2d4d-84e1-49d5-e87f-dfd5ee8e7b75"
      },
      "source": [
        "print(len(pdf_list_))   \n",
        "print(len(date_list_))\n"
      ],
      "execution_count": 35,
      "outputs": [
        {
          "output_type": "stream",
          "text": [
            "3097\n",
            "3097\n"
          ],
          "name": "stdout"
        }
      ]
    },
    {
      "cell_type": "code",
      "metadata": {
        "id": "ThZ73cBQdJvN",
        "colab_type": "code",
        "colab": {}
      },
      "source": [
        "\n",
        "for pdf,date in zip(pdf_list, date_list):\n",
        "  with open('/content/drive/My Drive/bond_analysis_report/bond_analysis_report_{}.pdf'.format(date), \"wb\") as file:\n",
        "    response = requests.get(pdf)\n",
        "    file.write(response.content)"
      ],
      "execution_count": null,
      "outputs": []
    },
    {
      "cell_type": "code",
      "metadata": {
        "id": "_vKRxhrxx0im",
        "colab_type": "code",
        "colab": {}
      },
      "source": [
        "!pip install tika\n",
        "from tika import parser\n",
        "rawText = parser.from_file('/content/drive/My Drive/bond_analysis_report/채권_분석_리포트_08.06.26.pdf')\n",
        "rawList = rawText['content'].splitlines()"
      ],
      "execution_count": null,
      "outputs": []
    },
    {
      "cell_type": "code",
      "metadata": {
        "id": "guU4JMdRx62r",
        "colab_type": "code",
        "colab": {
          "base_uri": "https://localhost:8080/",
          "height": 266
        },
        "outputId": "3e528f73-8bc1-4cee-b106-e869e8246c38"
      },
      "source": [
        "rawText = parser.from_file('/content/drive/My Drive/bond_analysis_report/채권_분석_리포트_08.06.26.pdf')\n",
        "rawList = rawText['content']\n",
        "\n",
        "rawList"
      ],
      "execution_count": null,
      "outputs": [
        {
          "output_type": "execute_result",
          "data": {
            "application/vnd.google.colaboratory.intrinsic+json": {
              "type": "string"
            },
            "text/plain": [
              "'\\n\\n\\n\\n\\n\\n\\n\\n\\n\\n\\n\\n\\n\\n\\n\\n\\n\\n\\n\\n\\n\\n\\n\\n\\n\\n\\n\\n\\n\\n\\n\\n\\n\\n\\n\\n\\n\\n\\n\\n\\n\\n\\n\\n\\nMicrosoft Word - 08년 Daewoo Bond Brief.doc\\n\\n\\nDaewoo Daewoo Bond Brief   \\n채권   윤일광 (02-768-3058) yuniil1@bestez.com \\n\\n \\n\\n \\n\\n \\n\\n2008. 6. 26. Thu \\n\\n채권시황 \\n\\n 전일 3년 만기와 10년 만기 금리는 각각 3bp씩 하락한 5.82%, 5.97%로 마감 \\n\\n 장 초반 금리는 향후 정책 불확실성으로 관망세를 보이며 보합권에서 거래. 이후 국채선물 저평가가 30틱 수준을 유지하고 저가 메리트\\n가 부각되자 매수세 늘며 다소 금리 하락. 다만, 원/달러 환율 상승과 FOMC 결과를 지켜보자는 심리에서 금리 낙폭은 제한되었음. \\n\\n 전일 FOMC 회의에서 서프라이즈한 결과는 없었음. 성명서 내용은 버냉키 의장 및 여타 연준 인사들이 그 동안 언급해온 내용과 크게 \\n다르지 않아 시장에 큰 영향을 미치지 못함. 연준은 통화정책의 스탠스가 바뀔 수 있음을 시사했는데, 뚜렷하게 금리인상 가능성을 포함\\n\\n하지 않았다는 점에서 시장이 민감하게 반응할 가능성을 견제. 이미 가늠할 수 있는 범위에서 FOMC 회의가 끝났기 때문에 시장에 미칠 \\n\\n영향은 미미하겠지만, 물가 우려 발언에도 불구하고 조만간 인상 가능성이 낮아져 미 금리가 다소 하락한 것은 국내 시장 참가자들의 심\\n\\n리 개선에 도움을 줄 것으로 판단됨. \\n\\n \\n\\n관심 차트 및 경제지표 \\n \\n\\n전일에 대한 기술적 반락 이어지며 금리 하락  FOMC에서 물가 우려 강조했지만, 조만간 인상 가능성은 낮아 하락.\\n\\n   \\n\\n자료: 증권업협회, 대우증권리서치 EZ-DB  자료: Thomson Datastream, 대우증권리서치 EZ-DB \\n\\n \\n\\n소비 관련 지수 전부 악화 일로  유가 수요의 대부분은 투기수요인 것으로 밝혀져… \\n   \\n\\n자료: 한국은행, 통계청  자료: House subcommittee \\n\\n4.0 \\n\\n4.5 \\n\\n5.0 \\n\\n5.5 \\n\\n6.0 \\n\\n6.5 \\n\\n7.0 \\n\\n07.7 07.9 07.11 08.1 08.3 08.5\\n\\n기준금리 CD(91일)\\n\\n국고채권(3년) 국고채권(5년)\\n\\n국고채권(10년) 회사채(무보증3년)AA-\\n\\n(%)\\n\\n60 \\n\\n70 \\n\\n80 \\n\\n90 \\n\\n100 \\n\\n110 \\n\\n120 \\n\\n130 \\n\\n1Q01 1Q02 1Q03 1Q04 1Q05 1Q06 1Q07 1Q08\\n\\n소비자 기대지수\\n\\n소비자 평가지수\\n\\n소비자 심리지수\\n\\n소비지출전망 CSI\\n\\n(index)  \\n\\n0 20 40 60 80 100\\n\\n2008\\n\\n2000\\n\\n투기수요 헤지와 투자수요\\n\\n37 63\\n\\n2971\\n\\n(년)\\n\\n(%)\\n\\n0 \\n\\n1 \\n\\n2 \\n\\n3 \\n\\n4 \\n\\n5 \\n\\n6 \\n\\n07.7 07.9 07.11 08.1 08.3 08.5\\n\\n미국 미국3개월\\n\\n미국2년 미국5년\\n\\n미국10년 TIPS10년\\n\\n(%)\\n\\n\\n\\nDaewoo Daewoo Bond Brief   \\n채권   윤일광 (02-768-3058)  yuniil1@bestez.com \\n\\n \\n\\n \\n\\n2008. 6. 26. Thu \\n\\n채권시장 주요지표 \\n\\n 종류    종가 (p,%) 전일비 (%,%p)  종류    종가 (p,%) 전일비( %,%p)\\n\\nCD 5.37 0.00 IRS 1년 5.74 0.00\\nCP 5.76 0.00 IRS 2년 5.77 -0.02\\n통안1년 5.59 -0.01 IRS 3년 5.74 -0.01\\n통안2년 5.95 -0.02 IRS 5년 5.68 -0.02\\n국고3년 5.82 -0.03 IRS 10년 5.67 -0.03\\n국고5년 5.90 -0.03 CRS 1년 3.88 -0.06\\n국고10년 5.97 -0.03 CRS 2년 3.76 -0.05\\n국고20년 5.97 -0.04 CRS 3년 3.86 -0.06\\n회사(AA-) 6.80 -0.03 CRS 5년 4.25 -0.05\\n\\n금리 \\n\\n회사(BBB-) 9.58 -0.03\\n\\nSwap \\nRate \\n\\nCRS 10년 4.63 -0.03\\n\\nUS TB 3m 1.79 -0.04 KIS 종합지수 152.79 0.14\\nUS TN 2y 2.81 -0.02 KIS 국공채지수 154.19 0.21\\nUS TN 10y 4.10 0.02 KIS 통안채지수 146.30 0.07\\nUS TB 30y 4.64 0.01\\n\\n채권지수 \\n\\nKIS 회사채지수 157.68 0.12\\n\\n유로 10년 4.61 0.01 EMBI+스프레드 271.82 3.54\\n리보 3m(USD) 2.81 0.00 한국CDS5년 97.34 -2.26\\n\\n해외금리 \\n\\n리보 3M(EUR) 4.96 0.00\\n\\n신용지표 \\n(bp) \\n\\n   \\n\\nKOSPI 1717.79 0.41 원/달러 1038.00 4.50\\nKOSDAQ 601.72 0.23 엔/달러 107.78 -0.04\\nDow 11811.93 0.04 원/엔 9.63 0.06\\nNASDAQ 2401.26 1.39 달러/유로 1.5666 0.01\\n영국 FTSE 5666.10 0.56 WTI($/bbl) 134.03 -2.37\\nNikkei 225 13829.92 -0.14 금($/OZ) 886.05 -3.85\\n항셍지수 22635.16 0.80 CRB Index 452.14 -0.54\\n\\n주가 \\n\\n상해종합 2905.01 3.64\\n\\n환율 \\n및 \\n\\n원자재 \\n\\nBDI Index 9244 1.15\\n \\n\\n기관 장외거래 대금(십억원)     국채   지방채     특수채   통안채   금융채   회사채   합계 \\n\\n총거래대금  10,849 41 356 4,791 2,284 552 18,875\\n\\n 은행 58 10 -11 -32 -8 17 33\\n 보험 -41 - -10 - 9 -10 -52\\n순매수 투신 -110 - 51 -149 -77 -33 -318\\n 기금/공제 - - 10 41 41 10 104\\n 외국인 87 - - 21 20 -10 119\\n\\n수신증감 (억원) 요구불예금 저축성예금 장기채권형 단기채권형 MMF 주식혼합 채권혼합 주식형\\n\\n6.1~20 2,427\\n1)\\n -10,821\\n\\n1)\\n 392 -8,409 8,182 3,516 -162 10,920\\n\\n6/19 16,394 6,579 -3 -646 -5,691 -43 1,710 -1,199\\n6/20 .. .. 53 209 -16,441 482 -2,256 2,399\\n6/20 잔액 -550,716\\n\\n1)\\n -5,127,102\\n\\n1)\\n 94,279 316,567 763,805 154,455 314,532 1,414,346\\n\\n* 음영 부분은 전일비 %로 표시된 것, \\n1)\\n은 19일까지 잔액. \\n\\n국내외 주요 경제지표 \\n\\n6월 25일 단위 예상치 실제치 이전발표치\\n\\n미국 FOMC 금리 결정 % 2.0 2.0 2.00\\n\\n미국 5월 내구재 주문 전월비% 0.0 0.0 -1.0\\n\\n미국 5월 신규주택판매 천건 515 512 525\\n\\n한국 5월 소비심리지수 index - 86 105\\n\\n  \\n\\n  \\n\\n  \\n\\n \\n\\n기관별 국채 선물 순매수 \\n\\n 증권 선물 보험 투신 은행 종금 기금 기타 개인 외인 총거래량\\n\\n2008-06-25 414 -55 215 637 965 80 660 -189 -115 -2,612 39,459\\n\\n2008-06-24 1,021 308 -128 -107 -1,165 -40 -22 -1,001 -102 1,236 67,345\\n\\n2008-06-23 2,891 -312 28 464 -5,660 42 620 -45 -66 2,038 91,194\\n\\n2008-06-20 2,198 -180 -245 134 -152 90 330 -252 -156 -1,767 55,848\\n\\n2008-06-19 274 258 122 -213 -2,507 -210 80 -110 325 1,981 42,481\\n\\n5일 누적 6,798 19 -8 915 -8,519 -38 1,668 -1,597 -114 876 296,327\\n\\n \\n본 자료는 2008년 6월 26일 당사 홈페이지에 게시된 자료입니다. 이 조사자료는 고객의 투자에 참고가 될 수 있는 각종 정보제공을 목적으로 제작되었습니다. 이 조사자료는 당사의 리서치센터가 신뢰할 \\n수 있는 자료 및 정보로부터 얻어진 것이나, 당사가 그 정확성이나 완전성을 보장할 수 없으므로 투자자 자신의 판단과 책임하에 종목 선택이나 투자시기에 대한 최종 결정을 하시기 바랍니다. 따라서 이 조\\n사자료는 어떠한 경우에도 고객의 증권투자 결과에 대한 법적 책임소재의 증빙자료로 사용될 수 없습니다. 이 조사자료의 지적재산권은 당사에 있으므로 당사의 허락없이 무단 복제 및 배포 할 수 없습니다. \\n\\n\\n'"
            ]
          },
          "metadata": {
            "tags": []
          },
          "execution_count": 14
        }
      ]
    },
    {
      "cell_type": "code",
      "metadata": {
        "id": "__dVKevj2N53",
        "colab_type": "code",
        "colab": {}
      },
      "source": [
        "import os\n",
        "\n",
        "path = \"/content/drive/My Drive/bond_analysis_report\"\n",
        "file_list = os.listdir(path)\n",
        "\n",
        "print (\"file_list: {}\".format(file_list))\n",
        "\n",
        "len(file_list)"
      ],
      "execution_count": null,
      "outputs": []
    }
  ]
}