{
  "nbformat": 4,
  "nbformat_minor": 0,
  "metadata": {
    "colab": {
      "name": "visualization.ipynb",
      "provenance": [],
      "authorship_tag": "ABX9TyMAh1eizCOk02nNxvu3rEEc",
      "include_colab_link": true
    },
    "kernelspec": {
      "name": "python3",
      "display_name": "Python 3"
    }
  },
  "cells": [
    {
      "cell_type": "markdown",
      "metadata": {
        "id": "view-in-github",
        "colab_type": "text"
      },
      "source": [
        "<a href=\"https://colab.research.google.com/github/sunnyna/TIL/blob/master/visualization.ipynb\" target=\"_parent\"><img src=\"https://colab.research.google.com/assets/colab-badge.svg\" alt=\"Open In Colab\"/></a>"
      ]
    },
    {
      "cell_type": "code",
      "metadata": {
        "id": "la4s09Zgn6AW",
        "colab_type": "code",
        "colab": {}
      },
      "source": [
        "import pandas as pd\n",
        "data = pd.read_csv('csv파일경로')"
      ],
      "execution_count": null,
      "outputs": []
    },
    {
      "cell_type": "code",
      "metadata": {
        "id": "GH1klivmn-sU",
        "colab_type": "code",
        "colab": {}
      },
      "source": [
        "df = data.corr()"
      ],
      "execution_count": null,
      "outputs": []
    },
    {
      "cell_type": "code",
      "metadata": {
        "id": "KpXfetv6hx0D",
        "colab_type": "code",
        "colab": {}
      },
      "source": [
        "import pandas as pd\n",
        "import numpy as np\n",
        "import matplotlib.pyplot as plt\n",
        "import seabron as sns"
      ],
      "execution_count": null,
      "outputs": []
    },
    {
      "cell_type": "markdown",
      "metadata": {
        "id": "aMbsM_YPoeUM",
        "colab_type": "text"
      },
      "source": [
        "#Heatmap 작성"
      ]
    },
    {
      "cell_type": "code",
      "metadata": {
        "id": "QcRm70HdoXuh",
        "colab_type": "code",
        "colab": {}
      },
      "source": [
        "plt.figure(figsize=(15,15))\n",
        "sns.heatmap(df, annot=True, \n",
        "fmt = '.2f', linewidths=.5, cmap='coolwarm')"
      ],
      "execution_count": null,
      "outputs": []
    },
    {
      "cell_type": "markdown",
      "metadata": {
        "id": "uB0kX0tgosfO",
        "colab_type": "text"
      },
      "source": [
        ""
      ]
    },
    {
      "cell_type": "code",
      "metadata": {
        "id": "O9rFVLOJoLTp",
        "colab_type": "code",
        "colab": {}
      },
      "source": [
        "sns.clustermap(df, \n",
        "               annot = True,      # 실제 값 화면에 나타내기\n",
        "               cmap = 'RdYlBu_r',  # Red, Yellow, Blue 색상으로 표시\n",
        "               vmin = -1, vmax = 1, #컬러차트 -1 ~ 1 범위로 표시\n",
        "              )"
      ],
      "execution_count": null,
      "outputs": []
    },
    {
      "cell_type": "code",
      "metadata": {
        "id": "XCFXlELeptX2",
        "colab_type": "code",
        "colab": {}
      },
      "source": [
        "df.plot()\n",
        "pyplot.grid()\n",
        "pyplot.legend()\n",
        "pyplot.title(\"금통위 어조와 기준금리 상관관계 추세선\")\n",
        "pyplot.xlabel(\"Date\")\n",
        "pyplot.ylabel(\"교통사고 수\")\n",
        "pyplot.xticks(df.index, xtext)\n",
        "pyplot.show()"
      ],
      "execution_count": null,
      "outputs": []
    }
  ]
}