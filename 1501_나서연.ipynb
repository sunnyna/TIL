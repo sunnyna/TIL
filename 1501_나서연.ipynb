{
  "nbformat": 4,
  "nbformat_minor": 0,
  "metadata": {
    "colab": {
      "name": "1501_나서연.ipynb",
      "provenance": [],
      "collapsed_sections": [],
      "authorship_tag": "ABX9TyPB48UzxG4jZaWy6b8DDfwc",
      "include_colab_link": true
    },
    "kernelspec": {
      "name": "python3",
      "display_name": "Python 3"
    }
  },
  "cells": [
    {
      "cell_type": "markdown",
      "metadata": {
        "id": "view-in-github",
        "colab_type": "text"
      },
      "source": [
        "<a href=\"https://colab.research.google.com/github/sunnyna/TIL/blob/master/1501_%EB%82%98%EC%84%9C%EC%97%B0.ipynb\" target=\"_parent\"><img src=\"https://colab.research.google.com/assets/colab-badge.svg\" alt=\"Open In Colab\"/></a>"
      ]
    },
    {
      "cell_type": "markdown",
      "metadata": {
        "id": "6YjbxXP5b05m",
        "colab_type": "text"
      },
      "source": [
        "1. 두문서의 TDM으로 생성하는 코드를 작성하시오."
      ]
    },
    {
      "cell_type": "code",
      "metadata": {
        "id": "P_36Tx39b0YB",
        "colab_type": "code",
        "colab": {}
      },
      "source": [
        "docs = ['우리반은 마라탕을 좋아해', '우리반은 마라탕을 더 이상 먹지 않을거야. 그래도 마라탕을 좋아해']"
      ],
      "execution_count": null,
      "outputs": []
    },
    {
      "cell_type": "code",
      "metadata": {
        "id": "jd4Z1I_Ibjm6",
        "colab_type": "code",
        "colab": {
          "base_uri": "https://localhost:8080/",
          "height": 52
        },
        "outputId": "d3f21c92-7261-4262-d51e-a60dc0599194"
      },
      "source": [
        "# 토큰화\n",
        "\n",
        "docs_ls = [doc.split() for doc in docs]\n",
        "\n",
        "docs_ls\n"
      ],
      "execution_count": null,
      "outputs": [
        {
          "output_type": "execute_result",
          "data": {
            "text/plain": [
              "[['우리반은', '마라탕을', '좋아해'],\n",
              " ['우리반은', '마라탕을', '더', '이상', '먹지', '않을거야.', '그래도', '마라탕을', '좋아해']]"
            ]
          },
          "metadata": {
            "tags": []
          },
          "execution_count": 10
        }
      ]
    },
    {
      "cell_type": "code",
      "metadata": {
        "id": "Gups_t61dyIv",
        "colab_type": "code",
        "colab": {
          "base_uri": "https://localhost:8080/",
          "height": 176
        },
        "outputId": "f4ac363d-ac49-4074-f4d2-4e761a2073d6"
      },
      "source": [
        "# 인덱스 지정\n",
        "from collections import defaultdict\n",
        "\n",
        "word2idx = defaultdict(lambda : len(word2idx))\n",
        "\n",
        "[word2idx[token] for doc in docs_ls for token in doc]\n",
        "\n",
        "word2idx"
      ],
      "execution_count": null,
      "outputs": [
        {
          "output_type": "execute_result",
          "data": {
            "text/plain": [
              "defaultdict(<function __main__.<lambda>>,\n",
              "            {'그래도': 7,\n",
              "             '더': 3,\n",
              "             '마라탕을': 1,\n",
              "             '먹지': 5,\n",
              "             '않을거야.': 6,\n",
              "             '우리반은': 0,\n",
              "             '이상': 4,\n",
              "             '좋아해': 2})"
            ]
          },
          "metadata": {
            "tags": []
          },
          "execution_count": 14
        }
      ]
    },
    {
      "cell_type": "code",
      "metadata": {
        "id": "HUTZRczTfN32",
        "colab_type": "code",
        "colab": {
          "base_uri": "https://localhost:8080/",
          "height": 158
        },
        "outputId": "d5548f83-1fe0-483b-baeb-6b0f21e373ca"
      },
      "source": [
        "import numpy as np\n",
        "\n",
        "TDM =  np.zeros((len(word2idx),len(docs_ls)), dtype = int)\n",
        "\n",
        "for i, doc in enumerate(docs_ls):\n",
        "  for token in doc:\n",
        "    TDM[word2idx[token], i] += 1\n",
        "\n",
        "TDM"
      ],
      "execution_count": null,
      "outputs": [
        {
          "output_type": "execute_result",
          "data": {
            "text/plain": [
              "array([[1, 1],\n",
              "       [1, 2],\n",
              "       [1, 1],\n",
              "       [0, 1],\n",
              "       [0, 1],\n",
              "       [0, 1],\n",
              "       [0, 1],\n",
              "       [0, 1]])"
            ]
          },
          "metadata": {
            "tags": []
          },
          "execution_count": 20
        }
      ]
    },
    {
      "cell_type": "markdown",
      "metadata": {
        "id": "on14mCd_cCm1",
        "colab_type": "text"
      },
      "source": [
        "2. TF - IDF를 계산하시오."
      ]
    },
    {
      "cell_type": "code",
      "metadata": {
        "id": "MGp9ohhqgazt",
        "colab_type": "code",
        "colab": {
          "base_uri": "https://localhost:8080/",
          "height": 52
        },
        "outputId": "f5786fe1-6e1f-4acc-d587-bd17493233b3"
      },
      "source": [
        "DTM = TDM.transpose()\n",
        "\n",
        "DTM"
      ],
      "execution_count": null,
      "outputs": [
        {
          "output_type": "execute_result",
          "data": {
            "text/plain": [
              "array([[1, 1, 1, 0, 0, 0, 0, 0],\n",
              "       [1, 2, 1, 1, 1, 1, 1, 1]])"
            ]
          },
          "metadata": {
            "tags": []
          },
          "execution_count": 23
        }
      ]
    },
    {
      "cell_type": "code",
      "metadata": {
        "id": "jw9yWkwwggAV",
        "colab_type": "code",
        "colab": {
          "base_uri": "https://localhost:8080/",
          "height": 87
        },
        "outputId": "59701950-82f9-40d3-984d-f6a63848a6d5"
      },
      "source": [
        "\n",
        "def computeTF(DTM):\n",
        "  docs_len = len(DTM)\n",
        "  word_len = len(DTM[0])\n",
        "\n",
        "  tf = np.zeros((docs_len, word_len))\n",
        "\n",
        "  for docs_i in range(docs_len):\n",
        "    for word_i in range(word_len):\n",
        "      tf[docs_i, word_i] = (DTM[docs_i, word_i])/DTM[docs_i].sum()\n",
        "\n",
        "  return tf\n",
        "\n",
        "computeTF(DTM)"
      ],
      "execution_count": null,
      "outputs": [
        {
          "output_type": "execute_result",
          "data": {
            "text/plain": [
              "array([[0.33333333, 0.33333333, 0.33333333, 0.        , 0.        ,\n",
              "        0.        , 0.        , 0.        ],\n",
              "       [0.11111111, 0.22222222, 0.11111111, 0.11111111, 0.11111111,\n",
              "        0.11111111, 0.11111111, 0.11111111]])"
            ]
          },
          "metadata": {
            "tags": []
          },
          "execution_count": 25
        }
      ]
    },
    {
      "cell_type": "code",
      "metadata": {
        "id": "5g6z82yTgf41",
        "colab_type": "code",
        "colab": {
          "base_uri": "https://localhost:8080/",
          "height": 52
        },
        "outputId": "1e3c5f45-220b-44b0-ae6d-d616c23d2340"
      },
      "source": [
        "import math\n",
        "\n",
        "def computeIDF(DTM):\n",
        "  docs_len = len(DTM)\n",
        "  word_len = len(DTM[0])\n",
        "\n",
        "  idf = np.zeros((word_len))\n",
        "\n",
        "  for i in range(word_len):\n",
        "    idf[i] = -math.log10(np.count_nonzero(DTM[:,i])/docs_len)\n",
        "\n",
        "  return idf\n",
        "\n",
        "computeIDF(DTM)"
      ],
      "execution_count": null,
      "outputs": [
        {
          "output_type": "execute_result",
          "data": {
            "text/plain": [
              "array([-0.     , -0.     , -0.     ,  0.30103,  0.30103,  0.30103,\n",
              "        0.30103,  0.30103])"
            ]
          },
          "metadata": {
            "tags": []
          },
          "execution_count": 27
        }
      ]
    },
    {
      "cell_type": "markdown",
      "metadata": {
        "id": "yjF_V4cCcD5d",
        "colab_type": "text"
      },
      "source": [
        "3. 자카드유사도"
      ]
    },
    {
      "cell_type": "code",
      "metadata": {
        "id": "Z6Q8mwNxcET2",
        "colab_type": "code",
        "colab": {
          "base_uri": "https://localhost:8080/",
          "height": 34
        },
        "outputId": "ced2165f-dcbf-44e5-d9e6-fc004e68d6c7"
      },
      "source": [
        "def jaccad_sim(x,y):\n",
        "  x= x.split()\n",
        "  y= y.split()\n",
        "\n",
        "  intersection = set(x).intersection(set(y))\n",
        "  union = set(x).union(set(y))\n",
        "\n",
        "  return len(intersection)/ len(union)\n",
        "\n",
        "jaccad_sim(docs[0], docs[1])\n"
      ],
      "execution_count": null,
      "outputs": [
        {
          "output_type": "execute_result",
          "data": {
            "text/plain": [
              "0.375"
            ]
          },
          "metadata": {
            "tags": []
          },
          "execution_count": 11
        }
      ]
    },
    {
      "cell_type": "markdown",
      "metadata": {
        "id": "sDceGxU5cXht",
        "colab_type": "text"
      },
      "source": [
        "4. 나이브베이즈 분류기"
      ]
    },
    {
      "cell_type": "code",
      "metadata": {
        "id": "3VDYvpdLcX5m",
        "colab_type": "code",
        "colab": {}
      },
      "source": [
        "import math\n",
        "log_prob1 += math.log(prob1)\n",
        "log_prob1 += math.log(prob0) \n",
        "\n",
        "log_prob0 += math.log(doccnnt0/(doccnt0+doccnt1))\n",
        "log_prob1 += math.log(doccont1/(doccnt0+doccnt1))\n",
        "\n",
        "prob0 = math.exp(log_prob0)\n",
        "prob1 = math.exp(log_prob1) "
      ],
      "execution_count": null,
      "outputs": []
    }
  ]
}