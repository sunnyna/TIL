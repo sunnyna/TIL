{
  "nbformat": 4,
  "nbformat_minor": 0,
  "metadata": {
    "colab": {
      "name": "practice_bond_analysis_report_crawling.ipynb",
      "provenance": [],
      "collapsed_sections": [],
      "mount_file_id": "1fskSC85oHhczXwxLX4TV4Lj2LLiNJkRo",
      "authorship_tag": "ABX9TyOAYRx7K/u6RDLaIoPLbduJ",
      "include_colab_link": true
    },
    "kernelspec": {
      "name": "python3",
      "display_name": "Python 3"
    }
  },
  "cells": [
    {
      "cell_type": "markdown",
      "metadata": {
        "id": "view-in-github",
        "colab_type": "text"
      },
      "source": [
        "<a href=\"https://colab.research.google.com/github/sunnyna/TIL/blob/master/practice_bond_analysis_report_crawling.ipynb\" target=\"_parent\"><img src=\"https://colab.research.google.com/assets/colab-badge.svg\" alt=\"Open In Colab\"/></a>"
      ]
    },
    {
      "cell_type": "code",
      "metadata": {
        "id": "mHhkKc2iIxQ4",
        "colab_type": "code",
        "colab": {}
      },
      "source": [
        "import requests\n",
        "from bs4 import BeautifulSoup\n"
      ],
      "execution_count": 17,
      "outputs": []
    },
    {
      "cell_type": "code",
      "metadata": {
        "id": "QoIPQstIMLi8",
        "colab_type": "code",
        "colab": {
          "base_uri": "https://localhost:8080/",
          "height": 34
        },
        "outputId": "d62abb68-cf2f-4e7d-c8e5-059802d6c7b1"
      },
      "source": [
        "url = 'https://finance.naver.com/research/debenture_list.nhn?'\n",
        "params\n",
        "resp = requests.get(url)\n",
        "soup = BeautifulSoup(resp.content, 'html.parser')\n",
        "  \n",
        "td_tag = soup.findAll(\"td\",{\"class\":\"file\"})\n",
        "date_tag = soup.findAll('td', {\"style\":\"padding-left:5px\"} )\n",
        "title_tag = soup.findAll('td', {\"style\":\"padding-left:10px\"})\n",
        "\n",
        "# print(td_tag)\n",
        "\n",
        "pdf_url_list = []\n",
        "date_list = []\n",
        "title_list = []\n",
        "\n",
        "for t in td_tag:\n",
        "  pdf_url=t.find('a').attrs['href']\n",
        "  pdf_url_list.append(pdf_url)\n",
        "\n",
        "\n",
        "\n",
        "for date in date_tag:\n",
        "  date_list.append(date.get_text())\n",
        "\n",
        "\n",
        "for title in title_tag:\n",
        "  title_list.append(title.get_text())\n",
        "\n",
        "title_list\n",
        "\n",
        "len(title_list)\n",
        "\n"
      ],
      "execution_count": 20,
      "outputs": [
        {
          "output_type": "execute_result",
          "data": {
            "text/plain": [
              "30"
            ]
          },
          "metadata": {
            "tags": []
          },
          "execution_count": 20
        }
      ]
    },
    {
      "cell_type": "code",
      "metadata": {
        "id": "2GsefYQAJzA2",
        "colab_type": "code",
        "colab": {}
      },
      "source": [
        "import requests\n",
        "from bs4 import BeautifulSoup\n",
        "\n",
        "pdf_list = []\n",
        "date_list = []\n",
        "title_list = []\n",
        "\n",
        "for i in range(125,127):\n",
        "  url = 'https://finance.naver.com/research/debenture_list.nhn?'\n",
        "  params = {\n",
        "      'page' : i\n",
        "  }\n",
        "\n",
        "  resp = requests.get(url,params=params)\n",
        "  soup = BeautifulSoup(resp.content, 'html.parser')\n",
        "\n",
        "  td_tag = soup.findAll(\"td\",{\"class\":\"file\"})\n",
        "  date_tag = soup.findAll('td', {\"style\":\"padding-left:5px\"} )\n",
        "  title_tag = soup.findAll('td', {\"style\":\"padding-left:10px\"})\n",
        "\n",
        "\n",
        "  for t in td_tag:\n",
        "    pdf_url=t.find('a').attrs['href']\n",
        "    pdf_list.append(pdf_url)\n",
        "\n",
        "\n",
        "\n",
        "  for date in date_tag:\n",
        "    date_list.append(date.get_text())\n",
        "\n",
        "  for title in title_tag:\n",
        "    title_list.append(title.get_text())\n",
        "\n"
      ],
      "execution_count": 21,
      "outputs": []
    },
    {
      "cell_type": "code",
      "metadata": {
        "id": "q6hbo3b2pbhK",
        "colab_type": "code",
        "colab": {
          "base_uri": "https://localhost:8080/",
          "height": 105
        },
        "outputId": "d1b1dfeb-4177-423e-d2b2-d17a321814a6"
      },
      "source": [
        "print(len(pdf_list))   \n",
        "print(len(date_list))\n",
        "print(len(title_list))\n",
        "\n",
        "\n",
        "print(date_list[-10:])\n",
        "print(date_list[:10])"
      ],
      "execution_count": 22,
      "outputs": [
        {
          "output_type": "stream",
          "text": [
            "39\n",
            "39\n",
            "39\n",
            "['08.05.20', '08.05.19', '08.05.13', '08.05.04', '08.04.28', '08.04.21', '08.04.14', '08.04.07', '08.04.07', '08.04.01']\n",
            "['08.06.26', '08.06.25', '08.06.24', '08.06.23', '08.06.20', '08.06.19', '08.06.18', '08.06.17', '08.06.16', '08.06.16']\n"
          ],
          "name": "stdout"
        }
      ]
    },
    {
      "cell_type": "code",
      "metadata": {
        "id": "T2CTLYrCO1Mr",
        "colab_type": "code",
        "colab": {
          "base_uri": "https://localhost:8080/",
          "height": 105
        },
        "outputId": "53c37105-b5a4-4552-de84-334f29e881f8"
      },
      "source": [
        "\n",
        "\n",
        "\n",
        "pdf_list_ = pdf_list[2:]\n",
        "date_list_ = date_list[2:]\n",
        "title_list_ = title_list[2:]\n",
        "\n",
        "\n",
        "\n",
        "print(len(pdf_list_))\n",
        "print(len(date_list_))\n",
        "print(len(title_list_))\n",
        "\n",
        "print(date_list_[-10:])\n",
        "print(date_list_[:10])"
      ],
      "execution_count": 24,
      "outputs": [
        {
          "output_type": "stream",
          "text": [
            "37\n",
            "37\n",
            "37\n",
            "['08.05.20', '08.05.19', '08.05.13', '08.05.04', '08.04.28', '08.04.21', '08.04.14', '08.04.07', '08.04.07', '08.04.01']\n",
            "['08.06.24', '08.06.23', '08.06.20', '08.06.19', '08.06.18', '08.06.17', '08.06.16', '08.06.16', '08.06.13', '08.06.13']\n"
          ],
          "name": "stdout"
        }
      ]
    },
    {
      "cell_type": "code",
      "metadata": {
        "id": "ThZ73cBQdJvN",
        "colab_type": "code",
        "colab": {}
      },
      "source": [
        "\n",
        "\n",
        "for pdf,title in zip(pdf_list_, title_list_):\n",
        "  with open('/content/drive/My Drive/practice/{}.pdf'.format(title), \"wb\") as file:\n",
        "    response = requests.get(pdf)\n",
        "    file.write(response.content)"
      ],
      "execution_count": 25,
      "outputs": []
    },
    {
      "cell_type": "code",
      "metadata": {
        "id": "9THpVab8qG5l",
        "colab_type": "code",
        "colab": {
          "base_uri": "https://localhost:8080/",
          "height": 72
        },
        "outputId": "e2d6a4d1-f7c0-4fe4-c0b6-4927b00c6628"
      },
      "source": [
        "import os\n",
        "\n",
        "path = \"/content/drive/My Drive/practice\"\n",
        "file_list = os.listdir(path)\n",
        "\n",
        "print (\"file_list: {}\".format(file_list))\n",
        "\n",
        "len(file_list)"
      ],
      "execution_count": 26,
      "outputs": [
        {
          "output_type": "stream",
          "text": [
            "file_list: ['대우증권 6월 24일 채권 시황.pdf', '대우증권 6월 23일 채권 시황.pdf', '대우증권 6월 20일 채권 시황.pdf', '대우증권 6월 19일 채권 시황.pdf', '대우증권 6월 18일 채권 시황.pdf', '대우증권 6월 17일 채권 시황.pdf', '대우증권 6월 16일 채권 시황.pdf', '총재는 무죄다.pdf', '대우증권 6월 13일 채권 시황.pdf', '[6월 금통위] 인상 검토 없다.pdf', '대우증권 6월 12일 채권 시황.pdf', '대우증권 6월 11일 채권 시황.pdf', '대우증권 6월 10일 채권 시황.pdf', '대우증권 6월 9일 채권 시황.pdf', '대우증권 6월 5일 채권 시황.pdf', '대우증권 6월 4일 채권 시황.pdf', '대우증권 6월 3일 채권 시황.pdf', '대우증권 6월 2일 채권 시황.pdf', '대우증권 5월 30일 채권 시황 .pdf', '대우증권 5월 29일 채권 시황.pdf', '대우증권 5월 28일 채권 시황.pdf', '대우증권 5월 27일 채권 시황.pdf', '대우증권 5월 26일 채권 시황.pdf', '고유가 충격시 금리인하의 비용은 무엇인가?.pdf', '대우증권 5월 23일 채권 시황.pdf', '대우증권 5월 22일 채권 현황.pdf', '대우증권 5월 21일 채권 시황.pdf', '대우증권 5월 20일 채권 시황.pdf', '대우증권 5월 19일 채권 시황.pdf', '레인지의 상단부에서 기회를 다시 만들어가는 입장.pdf', '정부의 금리인하 요구에 한은의 부응 제스쳐 나타나며...pdf', 'FOMC 이후 원자재 가격 상승세 둔화 여부에 관심.pdf', '항상 열려는 있는 가능성.pdf', '총재의 변신은 무죄다?!.pdf', '시간차 공격.pdf', '돌아온 박스권.pdf', '대우증권 월간 채권투자 (4월).pdf']\n"
          ],
          "name": "stdout"
        },
        {
          "output_type": "execute_result",
          "data": {
            "text/plain": [
              "37"
            ]
          },
          "metadata": {
            "tags": []
          },
          "execution_count": 26
        }
      ]
    },
    {
      "cell_type": "code",
      "metadata": {
        "id": "Ep8KY50iv7NV",
        "colab_type": "code",
        "colab": {}
      },
      "source": [
        "def convert_pdf_to_txt(file_name):\n",
        "  rawText = parser.from_file('{}'.format(file_name))\n",
        "  rawData = rawText['content']\n",
        "\n",
        "  return rawData.replace('\\n','')"
      ],
      "execution_count": 35,
      "outputs": []
    },
    {
      "cell_type": "code",
      "metadata": {
        "id": "afZiMNpNrp07",
        "colab_type": "code",
        "colab": {}
      },
      "source": [
        "import csv\n",
        "from pathlib import Path\n",
        "\n",
        "folder = Path('/content/drive/My Drive/practice')\n",
        "csv_file = Path('/content/drive/My Drive/practice_list.csv')\n",
        "\n",
        "with csv_file.open('w', encoding='utf-8') as f:\n",
        "    writer = csv.writer(f, csv.QUOTE_ALL)\n",
        "    writer.writerow(['FileName', 'Text'])\n",
        "    for pdf_file in folder.glob('*.pdf'):\n",
        "        pdf_text = convert_pdf_to_txt(pdf_file)\n",
        "        writer.writerow([pdf_file.name, pdf_text])\n"
      ],
      "execution_count": 36,
      "outputs": []
    },
    {
      "cell_type": "code",
      "metadata": {
        "id": "luMZQehHrvBZ",
        "colab_type": "code",
        "colab": {}
      },
      "source": [
        "pdf_text.replace('\\n', '|')"
      ],
      "execution_count": null,
      "outputs": []
    },
    {
      "cell_type": "code",
      "metadata": {
        "id": "d6C_fDm9jc2f",
        "colab_type": "code",
        "colab": {
          "base_uri": "https://localhost:8080/",
          "height": 34
        },
        "outputId": "06b2e2ca-f545-4637-961d-a64cad14dd8b"
      },
      "source": [
        "from google.colab import drive\n",
        "drive.mount('/content/drive')"
      ],
      "execution_count": null,
      "outputs": [
        {
          "output_type": "stream",
          "text": [
            "Drive already mounted at /content/drive; to attempt to forcibly remount, call drive.mount(\"/content/drive\", force_remount=True).\n"
          ],
          "name": "stdout"
        }
      ]
    },
    {
      "cell_type": "code",
      "metadata": {
        "id": "-NMAARrGi-6O",
        "colab_type": "code",
        "colab": {}
      },
      "source": [
        "import datetime\n",
        "import pandas as pd\n",
        "\n",
        "start_date = datetime.datetime(2008, 6, 26)\n",
        "end_date = datetime.datetime(2017, 12, 31)\n",
        "\n",
        "url_li = []\n",
        "\n",
        "for cur_date in pd.date_range(start_date, end_date):\n",
        "  cur_date = cur_date.strftime(\"%Y-%m-%d\")\n",
        "  url = 'https://finance.naver.com/research/debenture_list.nhn?&searchType=writeDate&writeFromDate={0}&writeToDate={1}'.format( cur_date, cur_date)\n",
        "\n",
        "\n",
        "  # url_li.append(url)\n",
        "  resp = requests.get(url, params =params)\n",
        "  soup = BeautifulSoup(resp.content)\n",
        "  \n",
        "  td_tag = soup.find('td', class_ ='file' )\n",
        "  date_tag = soup.find('td', class_ = 'date' )\n",
        "\n",
        "  pdf_url= td_tag.find('a').attrs['href'] \n",
        "  date =date_tag.get_text()\n",
        "\n",
        "\n",
        "# url_li\n",
        "\n",
        "  \n",
        "  # with open('채권_분석_리포트_{}.pdf'.format(date), \"wb\") as file:\n",
        "  #   response = requests.get(pdf_url)\n",
        "  #   file.write(response.content)"
      ],
      "execution_count": null,
      "outputs": []
    },
    {
      "cell_type": "code",
      "metadata": {
        "id": "0p-j-c9mRlWt",
        "colab_type": "code",
        "colab": {}
      },
      "source": [
        ""
      ],
      "execution_count": null,
      "outputs": []
    },
    {
      "cell_type": "code",
      "metadata": {
        "id": "yrBid_7bmPrG",
        "colab_type": "code",
        "colab": {}
      },
      "source": [
        "# import datetime\n",
        "# import pandas as pd\n",
        "\n",
        "# start_date = datetime.datetime(2005, 5, 1)\n",
        "# end_date = datetime.datetime(2005, 12, 31)\n",
        "\n",
        "# # start_date = start.strftime(\"%Y-%m-%d\")\n",
        "# # end_date = end.strftime(\"%Y-%m-%d\")\n",
        "\n",
        "\n",
        "# url_li = []\n",
        "# for cur_date in pd.date_range(start_date, end_date):\n",
        "#   cur_date = cur_date.strftime(\"%Y-%m-%d\")\n",
        "#   url = \"https://search.naver.com/search.naver?&where=news&query=%EA%B8%88%EB%A6%AC&sm=tab_pge&sort=1&photo=0&field=0&reporter_article=&pd=3&ds={0}&de={1}&docid=&nso=so:dd,p:,a:all&mynews=1&start=1&refresh_start=0\".format(\n",
        "#                 cur_date, cur_date\n",
        "#             )\n",
        "#   url_li.append(url)\n",
        "\n",
        "# url_li"
      ],
      "execution_count": null,
      "outputs": []
    },
    {
      "cell_type": "code",
      "metadata": {
        "id": "_vKRxhrxx0im",
        "colab_type": "code",
        "colab": {
          "base_uri": "https://localhost:8080/",
          "height": 334
        },
        "outputId": "aed95106-7082-4bd1-a0a3-290ea3fac506"
      },
      "source": [
        "!pip install tika\n",
        "from tika import parser\n",
        "rawText = parser.from_file('/content/drive/My Drive/practice_bond_analysis_report/채권_분석_리포트_08.05.20.pdf')\n",
        "rawList = rawText['content'].splitlines()"
      ],
      "execution_count": 2,
      "outputs": [
        {
          "output_type": "stream",
          "text": [
            "Collecting tika\n",
            "  Downloading https://files.pythonhosted.org/packages/96/07/244fbb9c74c0de8a3745cc9f3f496077a29f6418c7cbd90d68fd799574cb/tika-1.24.tar.gz\n",
            "Requirement already satisfied: setuptools in /usr/local/lib/python3.6/dist-packages (from tika) (49.1.0)\n",
            "Requirement already satisfied: requests in /usr/local/lib/python3.6/dist-packages (from tika) (2.23.0)\n",
            "Requirement already satisfied: idna<3,>=2.5 in /usr/local/lib/python3.6/dist-packages (from requests->tika) (2.10)\n",
            "Requirement already satisfied: certifi>=2017.4.17 in /usr/local/lib/python3.6/dist-packages (from requests->tika) (2020.6.20)\n",
            "Requirement already satisfied: urllib3!=1.25.0,!=1.25.1,<1.26,>=1.21.1 in /usr/local/lib/python3.6/dist-packages (from requests->tika) (1.24.3)\n",
            "Requirement already satisfied: chardet<4,>=3.0.2 in /usr/local/lib/python3.6/dist-packages (from requests->tika) (3.0.4)\n",
            "Building wheels for collected packages: tika\n",
            "  Building wheel for tika (setup.py) ... \u001b[?25l\u001b[?25hdone\n",
            "  Created wheel for tika: filename=tika-1.24-cp36-none-any.whl size=32885 sha256=b7735993e5326cf199a8dc6803b1aaa9f4146a0bfd3bb53cbe14da5d90b18e49\n",
            "  Stored in directory: /root/.cache/pip/wheels/73/9c/f5/0b1b738442fc2a2862bef95b908b374f8e80215550fb2a8975\n",
            "Successfully built tika\n",
            "Installing collected packages: tika\n",
            "Successfully installed tika-1.24\n"
          ],
          "name": "stdout"
        },
        {
          "output_type": "stream",
          "text": [
            "2020-07-25 10:06:53,922 [MainThread  ] [INFO ]  Retrieving http://search.maven.org/remotecontent?filepath=org/apache/tika/tika-server/1.24/tika-server-1.24.jar to /tmp/tika-server.jar.\n",
            "2020-07-25 10:06:57,605 [MainThread  ] [INFO ]  Retrieving http://search.maven.org/remotecontent?filepath=org/apache/tika/tika-server/1.24/tika-server-1.24.jar.md5 to /tmp/tika-server.jar.md5.\n",
            "2020-07-25 10:06:58,098 [MainThread  ] [WARNI]  Failed to see startup log message; retrying...\n"
          ],
          "name": "stderr"
        }
      ]
    },
    {
      "cell_type": "code",
      "metadata": {
        "id": "guU4JMdRx62r",
        "colab_type": "code",
        "colab": {
          "base_uri": "https://localhost:8080/",
          "height": 160
        },
        "outputId": "52d4eeb2-60a9-468c-c9e0-0c2f982ad001"
      },
      "source": [
        "rawText = parser.from_file('/content/drive/My Drive/practice_bond_analysis_report/채권_분석_리포트_08.05.20.pdf')\n",
        "rawList = rawText['content']\n",
        "\n",
        "rawList.replace('\\n','')"
      ],
      "execution_count": 7,
      "outputs": [
        {
          "output_type": "execute_result",
          "data": {
            "application/vnd.google.colaboratory.intrinsic+json": {
              "type": "string"
            },
            "text/plain": [
              "'Microsoft Word - 0520_Daewoo Bond Brief.doc 1 Daewoo Bond Brief 채권 시황  전일 3년 만기 금리는 15bp 상승한 5.46%, 10년 만기 금리는 15bp 상승한 5.51%로 마감   장 초반 정부는 급격히 늘어나고 있는 단기 외채를 우려하고 있으며 정부 차원의 대책을 내놓을 수 있다는 입장을 밝힘. 지난해 외환 부족으로 인한 스왑시장 붕괴 학습효과가 작용하면서 매물이 쏟아져 나와금리는 폭등하기 시작. 10년 만기 국고채 입찰 후에는 입찰을 받은 기관들이 헤지 물량으로 국채선물을대량 매도하고, 외국인들도 장 후반 매도로 돌아서며 낙폭을 더욱 키움. 결국 채권 금리 상승, 환율 상승, CRS 급락으로 인한 스왑 베이시스 확대 등 채권시장으로서는 최악의 결과를 빚음   단기 외채 규제가 실시된다면 달러 자금 조달 경색으로 환율이 상승되고 스왑시장과 연계되어 상당기간 금리 인하는 어려우리라 판단됨. 한은과 정부의 정책 리스크가 시장 불확실성을 더욱 확대시키는 가운데 채권 매수심리는 약화. 금일은 환율, 유가, 스왑시장 동향을 예의 주시하며 관망세를 보이리라 예상 관심 차트 및 경제지표  단기 외채 규제설로 투매 일어나며 채권시장 패닉  뉴욕 증시 혼조세로 안전자산 선호현상 다소 강화    자료: 증권업협회, 대우증권리서치 EZ-DB  자료: Datastream, 대우증권리서치 EZ-DB 급격히 늘어나는 대외 채무  스왑시장 다시 베이시스 확대되며 불안 조짐    자료: 한국은행, 대우증권리서치 EZ-DB  주: 스왑 베이시스  CRS-IRS 자료: 증권업협회 2008년 5월 20일 윤일광 02) 768-3058 yuniil1@bestez.com 4.5 4.7 4.9 5.1 5.3 5.5 5.7 5.9 6.1 07.7 07.9 07.11 08.1 08.3 08.5CD91일통안채1년국고채3년국고채5년국고채10년정책금리(%)-100010020030040050095 98 01 04 07대외채무순대외채권대외채권(십억달러)-4-3.5-3-2.5-2-1.5-1-0.5007.7 07.9 07.11 08.1 08.3 08.5스왑 베이시스(1y)스왑 베이시스(2y)스왑 베이시스(3y)스왑 베이시스(5y)0 1 2 3 4 5 6 07.7 07.9 07.11 08.1 08.3 08.5연방금리 미국채3개월미국채2년 미국채5년미국채10년 미국채30년( % )Daewoo Bond Brief   표1. 국내외 주요 경제지표 5월 19일 예상치 실제치 이전발표치 미국 6월 경기선행지수 0.0 0.1 0.1                         표2. 기관별 국채 선물 순매수  증권 선물 보험 투신 은행 종금 기금 기타 개인 외인 총거래량2008-05-19 -339 104 83 292 2,548 201 537 -970 -221 -2,235 117,2712008-05-16 -613 -335 128 631 6,129 40 270 106 125 -6,481 66,6302008-05-15 2,306 -51 4 143 2,872 -20 -85 30 -133 -5,066 46,6102008-05-14 3,593 318 167 326 -305 -20 88 -270 58 -3,955 70,5432008-05-13 -1,972 -251 143 -537 3,507 11 -35 -440 43 -469 52,0255일 누적 2975 -215 525 855 14751 212 775 -1544 -128 -18206 353079 채권 시장 주요 지표                                                                                      [음영 부분은 전일비 %로 표시된 것임)  본 자료는 2008년 5월 20일 당사 홈페이지에 게시된 자료입니다. 이 조사자료는 고객의 투자에 참고가 될 수 있는 각종 정보제공을 목적으로 제작되었습니다. 이 조사자료는 당사의 리서치센터가 신뢰할 수있는 자료 및 정보로부터 얻어진 것이나, 당사가 그 정확성이나 완전성을 보장할 수 없으므로 투자자 자신의 판단과 책임하에 종목 선택이나 투자시기에 대한 최종 결정을 하시기 바랍니다. 따라서 이 조사자료는 어떠한 경우에도 고객의 증권투자 결과에 대한 법적 책임소재의 증빙자료로 사용될 수 없습니다. 이 조사자료의 지적재산권은 당사에 있으므로 당사의 허락없이 무단 복제 및 배포 할 수 없습니다. 기관 장외거래 대금     국채  지방채     특수채   통안채   금융채  회사채  합계구분(십억원)총거래대금 5,886 83 376 3,899 1,496 264 12,008은행 -70 - 55 391 206 58 641보험 214 9 44 16 22 49 357순매수 투신 65 - -17 169 109 -9 317기금/공제 215 27 9 9 14 29 306외국인 9 - - 79 - - 89수신증감 (억원)5.1~14 4,887 51,760 1,242 -934 52,418 667 2,016 10,1085/13 25,825 -29,356 362 -1,906 5,603 667 -3,482 3,9905/14 -22,148 2,870 315 881 38,560 102 3,551 -1,1915/14 잔액 579,321 5,132,039 92,845 323,321 698,846 149,219 313,607 1,400,818요구불예금 저축성예금 장기채권형 단기채권형   주식형MMF 채권혼합주식혼합종류    종가(p,%) 전일비(%,%p) 종류    종가(p,%) 전일비(%,%p)CD 5.37 0.00 IRS 1년 5.43 0.10CP 5.79 0.01 IRS 2년 5.38 0.09통안1년 5.29 0.07 IRS 3년 5.31 0.11통안2년 5.57 0.13 IRS 5년 5.28 0.10국고3년 5.46 0.15 IRS 10년 5.37 0.09국고5년 5.51 0.15 CRS 1년 2.96 -0.50국고10년 5.65 0.16 CRS 2년 2.86 -0.46국고20년 5.68 0.16 CRS 3년 2.93 -0.46회사(AA-) 6.39 0.15 CRS 5년 3.50 -0.44회사(BBB-) 9.06 0.15 CRS 10년 3.89 -0.45US TB 3m 1.85 0.01 KIS 종합지수 153.12 -0.47US TN 2y 2.39 -0.05 KIS 국공채지수 155.02 -0.72US TN 10y 3.83 -0.02 KIS 통안채지수 145.95 -0.09US TB 30y 4.57 0.00 KIS 회사채지수 157.76 -0.37유로 10년 4.22 0.04 EMBI+스프레드 256.04 -0.04리보 3m(USD) 2.68 -0.02 한국CDS5년 61.83 2.00리보 3M(EUR) 4.86 0.00KOSPI 1885.37 -0.19 원/달러 1043.20 2.20KOSDAQ 652.65 0.01 엔/달러 104.29 0.38Dow 13028.16 0.32 원/엔 9.98 -0.01NASDAQ 2516.09 -0.50 달러/유로 1.5528 -0.01영국 FTSE 6376.50 1.15 WTI($/bbl) 127.05 0.76Nikkei 225 14269.61 0.35 금($/OZ) 905.70 6.10항셍지수 25742.23 0.48 CRB Index 423.22 -0.75상해종합 3604.76 -0.54 BDI Index 11709 2.18주가환율및원자재해외금리금리신용지표(bp)SwapRate채권지수'"
            ]
          },
          "metadata": {
            "tags": []
          },
          "execution_count": 7
        }
      ]
    },
    {
      "cell_type": "code",
      "metadata": {
        "id": "__dVKevj2N53",
        "colab_type": "code",
        "colab": {
          "base_uri": "https://localhost:8080/",
          "height": 72
        },
        "outputId": "5df9ce00-c74a-47f8-fb36-88c9b4f063d8"
      },
      "source": [
        "import os\n",
        "\n",
        "path = \"/content/drive/My Drive/bond_analysis_report\"\n",
        "file_list = os.listdir(path)\n",
        "\n",
        "print (\"file_list: {}\".format(file_list))\n",
        "\n",
        "len(file_list)"
      ],
      "execution_count": null,
      "outputs": [
        {
          "output_type": "stream",
          "text": [
            "file_list: ['채권_분석_리포트_18.01.02.pdf', '채권_분석_리포트_17.11.22.pdf', '채권_분석_리포트_17.11.06.pdf', '채권_분석_리포트_17.10.20.pdf', '채권_분석_리포트_17.09.11.pdf', '채권_분석_리포트_17.08.21.pdf', '채권_분석_리포트_17.07.24.pdf', '채권_분석_리포트_17.07.03.pdf', '채권_분석_리포트_17.06.09.pdf', '채권_분석_리포트_17.05.17.pdf', '채권_분석_리포트_17.04.17.pdf', '채권_분석_리포트_17.03.13.pdf', '채권_분석_리포트_17.02.07.pdf', '채권_분석_리포트_17.01.09.pdf', '채권_분석_리포트_16.12.01.pdf', '채권_분석_리포트_16.10.26.pdf', '채권_분석_리포트_16.09.26.pdf', '채권_분석_리포트_16.08.29.pdf', '채권_분석_리포트_16.08.05.pdf', '채권_분석_리포트_16.07.05.pdf', '채권_분석_리포트_16.06.10.pdf', '채권_분석_리포트_16.05.23.pdf', '채권_분석_리포트_16.04.25.pdf', '채권_분석_리포트_16.04.06.pdf', '채권_분석_리포트_16.03.18.pdf', '채권_분석_리포트_16.03.03.pdf', '채권_분석_리포트_16.02.17.pdf', '채권_분석_리포트_16.02.01.pdf', '채권_분석_리포트_16.01.19.pdf', '채권_분석_리포트_16.01.06.pdf', '채권_분석_리포트_15.12.15.pdf', '채권_분석_리포트_15.12.01.pdf', '채권_분석_리포트_15.11.16.pdf', '채권_분석_리포트_15.10.30.pdf', '채권_분석_리포트_15.10.14.pdf', '채권_분석_리포트_15.09.30.pdf', '채권_분석_리포트_15.09.09.pdf', '채권_분석_리포트_15.08.24.pdf', '채권_분석_리포트_15.07.30.pdf', '채권_분석_리포트_15.07.09.pdf', '채권_분석_리포트_15.05.04.pdf', '채권_분석_리포트_15.02.09.pdf', '채권_분석_리포트_15.01.07.pdf', '채권_분석_리포트_14.11.25.pdf', '채권_분석_리포트_14.10.06.pdf', '채권_분석_리포트_14.08.11.pdf', '채권_분석_리포트_14.06.18.pdf', '채권_분석_리포트_14.04.14.pdf', '채권_분석_리포트_14.02.28.pdf', '채권_분석_리포트_14.01.14.pdf', '채권_분석_리포트_13.12.02.pdf', '채권_분석_리포트_13.10.24.pdf', '채권_분석_리포트_13.09.26.pdf', '채권_분석_리포트_13.08.30.pdf', '채권_분석_리포트_13.08.05.pdf', '채권_분석_리포트_13.06.24.pdf', '채권_분석_리포트_13.05.10.pdf', '채권_분석_리포트_13.04.01.pdf', '채권_분석_리포트_13.02.20.pdf', '채권_분석_리포트_13.01.14.pdf', '채권_분석_리포트_12.11.26.pdf', '채권_분석_리포트_12.10.08.pdf', '채권_분석_리포트_12.08.28.pdf', '채권_분석_리포트_12.07.30.pdf', '채권_분석_리포트_12.07.02.pdf', '채권_분석_리포트_12.05.14.pdf', '채권_분석_리포트_12.03.19.pdf', '채권_분석_리포트_12.01.13.pdf', '채권_분석_리포트_11.08.29.pdf', '채권_분석_리포트_11.07.18.pdf', '채권_분석_리포트_11.06.15.pdf', '채권_분석_리포트_11.05.12.pdf', '채권_분석_리포트_11.04.06.pdf', '채권_분석_리포트_11.02.22.pdf', '채권_분석_리포트_11.01.13.pdf', '채권_분석_리포트_10.12.20.pdf', '채권_분석_리포트_10.11.26.pdf', '채권_분석_리포트_10.11.08.pdf', '채권_분석_리포트_10.10.14.pdf', '채권_분석_리포트_10.09.27.pdf', '채권_분석_리포트_10.08.26.pdf', '채권_분석_리포트_10.05.03.pdf', '채권_분석_리포트_10.01.25.pdf', '채권_분석_리포트_10.01.05.pdf', '채권_분석_리포트_09.12.14.pdf', '채권_분석_리포트_09.11.25.pdf', '채권_분석_리포트_09.11.09.pdf', '채권_분석_리포트_09.10.21.pdf', '채권_분석_리포트_09.10.01.pdf', '채권_분석_리포트_09.09.04.pdf', '채권_분석_리포트_09.08.04.pdf', '채권_분석_리포트_09.07.01.pdf', '채권_분석_리포트_09.05.29.pdf', '채권_분석_리포트_09.04.24.pdf', '채권_분석_리포트_09.03.23.pdf', '채권_분석_리포트_09.02.18.pdf', '채권_분석_리포트_09.01.14.pdf', '채권_분석_리포트_08.12.09.pdf', '채권_분석_리포트_08.11.07.pdf', '채권_분석_리포트_08.10.06.pdf', '채권_분석_리포트_08.09.02.pdf', '채권_분석_리포트_08.07.31.pdf', '채권_분석_리포트_08.06.26.pdf']\n"
          ],
          "name": "stdout"
        },
        {
          "output_type": "execute_result",
          "data": {
            "text/plain": [
              "103"
            ]
          },
          "metadata": {
            "tags": []
          },
          "execution_count": 16
        }
      ]
    },
    {
      "cell_type": "code",
      "metadata": {
        "id": "RwVC0J0_sDGd",
        "colab_type": "code",
        "colab": {}
      },
      "source": [
        "import csv\n",
        "from pathlib import Path\n",
        "\n",
        "folder = Path('c:/My/Directory/Path')\n",
        "csv_file = Path('c:/path/to/output.csv')\n",
        "with csv_file.open('w', encoding='utf-8') as f:\n",
        "    writer = csv.writer(f, csv.QUOTE_ALL)\n",
        "    writer.writerow(['FileName', 'Text'])\n",
        "    for pdf_file in folder.glob('*.pdf'):\n",
        "        pdf_text = convert_pdf_to_txt(pdf_file)\n",
        "        writer.writerow([pdf_file.name, pdf_text])\n",
        " "
      ],
      "execution_count": null,
      "outputs": []
    },
    {
      "cell_type": "code",
      "metadata": {
        "id": "8FCsWzG9cw0R",
        "colab_type": "code",
        "colab": {}
      },
      "source": [
        "import csv\n",
        "from pathlib import Path\n",
        "\n",
        "folder = Path('/content/drive/My Drive/practice_bond_analysis_report')\n",
        "csv_file = Path('c:/path/to/output.csv')\n",
        "with csv_file.open('w', encoding='utf-8') as f:\n",
        "    writer = csv.writer(f, csv.QUOTE_ALL)\n",
        "    writer.writerow(['FileName', 'Text'])\n",
        "    for pdf_file in folder.glob('*.pdf'):\n",
        "        pdf_text = convert_pdf_to_txt(pdf_file)\n",
        "        writer.writerow([pdf_file.name, pdf_text])"
      ],
      "execution_count": null,
      "outputs": []
    },
    {
      "cell_type": "markdown",
      "metadata": {
        "id": "kwmDrKSErq2_",
        "colab_type": "text"
      },
      "source": [
        ""
      ]
    },
    {
      "cell_type": "code",
      "metadata": {
        "id": "kk__SWkQswvY",
        "colab_type": "code",
        "colab": {}
      },
      "source": [
        "pdf_text.replace('\\n', '|')"
      ],
      "execution_count": null,
      "outputs": []
    }
  ]
}