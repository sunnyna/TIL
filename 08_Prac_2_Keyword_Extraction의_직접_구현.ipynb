{
  "nbformat": 4,
  "nbformat_minor": 0,
  "metadata": {
    "colab": {
      "name": "08 Prac 2. Keyword Extraction의 직접 구현",
      "provenance": [],
      "collapsed_sections": [
        "hpTxmnbx8v6m"
      ],
      "toc_visible": true,
      "include_colab_link": true
    },
    "kernelspec": {
      "name": "python3",
      "display_name": "Python 3"
    }
  },
  "cells": [
    {
      "cell_type": "markdown",
      "metadata": {
        "id": "view-in-github",
        "colab_type": "text"
      },
      "source": [
        "<a href=\"https://colab.research.google.com/github/sunnyna/TIL/blob/master/08_Prac_2_Keyword_Extraction%EC%9D%98_%EC%A7%81%EC%A0%91_%EA%B5%AC%ED%98%84.ipynb\" target=\"_parent\"><img src=\"https://colab.research.google.com/assets/colab-badge.svg\" alt=\"Open In Colab\"/></a>"
      ]
    },
    {
      "cell_type": "markdown",
      "metadata": {
        "id": "q1Q9mWDrgMUn",
        "colab_type": "text"
      },
      "source": [
        "# 8장. 핵심 키워드 추출 (Keyword Extraction)"
      ]
    },
    {
      "cell_type": "markdown",
      "metadata": {
        "id": "7afRM0fL3x9X",
        "colab_type": "text"
      },
      "source": [
        ""
      ]
    },
    {
      "cell_type": "markdown",
      "metadata": {
        "id": "PSZIeetL8Yym",
        "colab_type": "text"
      },
      "source": [
        "# 8-0 데이터 준비"
      ]
    },
    {
      "cell_type": "markdown",
      "metadata": {
        "id": "hpTxmnbx8v6m",
        "colab_type": "text"
      },
      "source": [
        "## Mecab 설치 (필요시)"
      ]
    },
    {
      "cell_type": "code",
      "metadata": {
        "id": "qsWnZkd78qCA",
        "colab_type": "code",
        "colab": {
          "base_uri": "https://localhost:8080/",
          "height": 1000
        },
        "outputId": "84f357a8-b61f-4096-8557-e616e1cceb77"
      },
      "source": [
        "!sudo apt-get install g++ openjdk-7-jdk # Install Java 1.7+\n",
        "!sudo apt-get install python-dev; pip install konlpy     # Python 2.x\n",
        "!sudo apt-get install python3-dev; pip3 install konlpy   # Python 3.x\n",
        "!sudo apt-get install curl\n",
        "!bash <(curl -s https://raw.githubusercontent.com/konlpy/konlpy/master/scripts/mecab.sh)"
      ],
      "execution_count": null,
      "outputs": [
        {
          "output_type": "stream",
          "text": [
            "Reading package lists... Done\n",
            "Building dependency tree       \n",
            "Reading state information... Done\n",
            "Package openjdk-7-jdk is not available, but is referred to by another package.\n",
            "This may mean that the package is missing, has been obsoleted, or\n",
            "is only available from another source\n",
            "\n",
            "E: Package 'openjdk-7-jdk' has no installation candidate\n",
            "Reading package lists... Done\n",
            "Building dependency tree       \n",
            "Reading state information... Done\n",
            "python-dev is already the newest version (2.7.15~rc1-1).\n",
            "The following package was automatically installed and is no longer required:\n",
            "  libnvidia-common-440\n",
            "Use 'sudo apt autoremove' to remove it.\n",
            "0 upgraded, 0 newly installed, 0 to remove and 66 not upgraded.\n",
            "Requirement already satisfied: konlpy in /usr/local/lib/python3.6/dist-packages (0.5.2)\n",
            "Requirement already satisfied: numpy>=1.6 in /usr/local/lib/python3.6/dist-packages (from konlpy) (1.18.5)\n",
            "Requirement already satisfied: lxml>=4.1.0 in /usr/local/lib/python3.6/dist-packages (from konlpy) (4.2.6)\n",
            "Requirement already satisfied: beautifulsoup4==4.6.0 in /usr/local/lib/python3.6/dist-packages (from konlpy) (4.6.0)\n",
            "Requirement already satisfied: tweepy>=3.7.0 in /usr/local/lib/python3.6/dist-packages (from konlpy) (3.9.0)\n",
            "Requirement already satisfied: colorama in /usr/local/lib/python3.6/dist-packages (from konlpy) (0.4.3)\n",
            "Requirement already satisfied: JPype1>=0.7.0 in /usr/local/lib/python3.6/dist-packages (from konlpy) (1.0.1)\n",
            "Requirement already satisfied: six>=1.10.0 in /usr/local/lib/python3.6/dist-packages (from tweepy>=3.7.0->konlpy) (1.12.0)\n",
            "Requirement already satisfied: requests[socks]>=2.11.1 in /usr/local/lib/python3.6/dist-packages (from tweepy>=3.7.0->konlpy) (2.23.0)\n",
            "Requirement already satisfied: requests-oauthlib>=0.7.0 in /usr/local/lib/python3.6/dist-packages (from tweepy>=3.7.0->konlpy) (1.3.0)\n",
            "Requirement already satisfied: typing-extensions; python_version < \"3.8\" in /usr/local/lib/python3.6/dist-packages (from JPype1>=0.7.0->konlpy) (3.7.4.2)\n",
            "Requirement already satisfied: certifi>=2017.4.17 in /usr/local/lib/python3.6/dist-packages (from requests[socks]>=2.11.1->tweepy>=3.7.0->konlpy) (2020.6.20)\n",
            "Requirement already satisfied: urllib3!=1.25.0,!=1.25.1,<1.26,>=1.21.1 in /usr/local/lib/python3.6/dist-packages (from requests[socks]>=2.11.1->tweepy>=3.7.0->konlpy) (1.24.3)\n",
            "Requirement already satisfied: idna<3,>=2.5 in /usr/local/lib/python3.6/dist-packages (from requests[socks]>=2.11.1->tweepy>=3.7.0->konlpy) (2.10)\n",
            "Requirement already satisfied: chardet<4,>=3.0.2 in /usr/local/lib/python3.6/dist-packages (from requests[socks]>=2.11.1->tweepy>=3.7.0->konlpy) (3.0.4)\n",
            "Requirement already satisfied: PySocks!=1.5.7,>=1.5.6; extra == \"socks\" in /usr/local/lib/python3.6/dist-packages (from requests[socks]>=2.11.1->tweepy>=3.7.0->konlpy) (1.7.1)\n",
            "Requirement already satisfied: oauthlib>=3.0.0 in /usr/local/lib/python3.6/dist-packages (from requests-oauthlib>=0.7.0->tweepy>=3.7.0->konlpy) (3.1.0)\n",
            "Reading package lists... Done\n",
            "Building dependency tree       \n",
            "Reading state information... Done\n",
            "python3-dev is already the newest version (3.6.7-1~18.04).\n",
            "The following package was automatically installed and is no longer required:\n",
            "  libnvidia-common-440\n",
            "Use 'sudo apt autoremove' to remove it.\n",
            "0 upgraded, 0 newly installed, 0 to remove and 66 not upgraded.\n",
            "Requirement already satisfied: konlpy in /usr/local/lib/python3.6/dist-packages (0.5.2)\n",
            "Requirement already satisfied: colorama in /usr/local/lib/python3.6/dist-packages (from konlpy) (0.4.3)\n",
            "Requirement already satisfied: numpy>=1.6 in /usr/local/lib/python3.6/dist-packages (from konlpy) (1.18.5)\n",
            "Requirement already satisfied: beautifulsoup4==4.6.0 in /usr/local/lib/python3.6/dist-packages (from konlpy) (4.6.0)\n",
            "Requirement already satisfied: tweepy>=3.7.0 in /usr/local/lib/python3.6/dist-packages (from konlpy) (3.9.0)\n",
            "Requirement already satisfied: lxml>=4.1.0 in /usr/local/lib/python3.6/dist-packages (from konlpy) (4.2.6)\n",
            "Requirement already satisfied: JPype1>=0.7.0 in /usr/local/lib/python3.6/dist-packages (from konlpy) (1.0.1)\n",
            "Requirement already satisfied: requests[socks]>=2.11.1 in /usr/local/lib/python3.6/dist-packages (from tweepy>=3.7.0->konlpy) (2.23.0)\n",
            "Requirement already satisfied: six>=1.10.0 in /usr/local/lib/python3.6/dist-packages (from tweepy>=3.7.0->konlpy) (1.12.0)\n",
            "Requirement already satisfied: requests-oauthlib>=0.7.0 in /usr/local/lib/python3.6/dist-packages (from tweepy>=3.7.0->konlpy) (1.3.0)\n",
            "Requirement already satisfied: typing-extensions; python_version < \"3.8\" in /usr/local/lib/python3.6/dist-packages (from JPype1>=0.7.0->konlpy) (3.7.4.2)\n",
            "Requirement already satisfied: certifi>=2017.4.17 in /usr/local/lib/python3.6/dist-packages (from requests[socks]>=2.11.1->tweepy>=3.7.0->konlpy) (2020.6.20)\n",
            "Requirement already satisfied: chardet<4,>=3.0.2 in /usr/local/lib/python3.6/dist-packages (from requests[socks]>=2.11.1->tweepy>=3.7.0->konlpy) (3.0.4)\n",
            "Requirement already satisfied: idna<3,>=2.5 in /usr/local/lib/python3.6/dist-packages (from requests[socks]>=2.11.1->tweepy>=3.7.0->konlpy) (2.10)\n",
            "Requirement already satisfied: urllib3!=1.25.0,!=1.25.1,<1.26,>=1.21.1 in /usr/local/lib/python3.6/dist-packages (from requests[socks]>=2.11.1->tweepy>=3.7.0->konlpy) (1.24.3)\n",
            "Requirement already satisfied: PySocks!=1.5.7,>=1.5.6; extra == \"socks\" in /usr/local/lib/python3.6/dist-packages (from requests[socks]>=2.11.1->tweepy>=3.7.0->konlpy) (1.7.1)\n",
            "Requirement already satisfied: oauthlib>=3.0.0 in /usr/local/lib/python3.6/dist-packages (from requests-oauthlib>=0.7.0->tweepy>=3.7.0->konlpy) (3.1.0)\n",
            "Reading package lists... Done\n",
            "Building dependency tree       \n",
            "Reading state information... Done\n",
            "curl is already the newest version (7.58.0-2ubuntu3.9).\n",
            "The following package was automatically installed and is no longer required:\n",
            "  libnvidia-common-440\n",
            "Use 'sudo apt autoremove' to remove it.\n",
            "0 upgraded, 0 newly installed, 0 to remove and 66 not upgraded.\n",
            "mecab-ko is already installed\n",
            "mecab-ko-dic is already installed\n",
            "mecab-python is already installed\n",
            "Done.\n"
          ],
          "name": "stdout"
        }
      ]
    },
    {
      "cell_type": "markdown",
      "metadata": {
        "id": "jxsBfWirA9ao",
        "colab_type": "text"
      },
      "source": [
        "# 8-1 TF-IDF 활용 핵심키워드 추출"
      ]
    },
    {
      "cell_type": "markdown",
      "metadata": {
        "id": "u8UYUNHDNMVp",
        "colab_type": "text"
      },
      "source": [
        "## 실습 1. sklearn 활용\n"
      ]
    },
    {
      "cell_type": "code",
      "metadata": {
        "id": "fdsHZk1UBtRP",
        "colab_type": "code",
        "colab": {}
      },
      "source": [
        "import requests \n",
        "from bs4 import BeautifulSoup\n",
        "\n",
        "def get_news_by_url(url):\n",
        "  res = requests.get(url)\n",
        "  bs = BeautifulSoup(res.content, 'html.parser')\n",
        "\n",
        "  title = bs.select('h3#articleTitle')[0].text #제목\n",
        "  content = bs.select('#articleBodyContents')[0].get_text().replace('\\n', \" \") #본문\n",
        "  content = content.replace(\"// flash 오류를 우회하기 위한 함수 추가 function _flash_removeCallback() {}\", \"\")\n",
        "  return  content.strip()\n",
        "\n",
        "docs = []\n",
        "docs.append( get_news_by_url('https://news.naver.com/main/read.nhn?mode=LSD&mid=sec&sid1=105&oid=018&aid=0004430108') )\n",
        "docs.append( get_news_by_url('https://news.naver.com/main/read.nhn?mode=LSD&mid=sec&sid1=101&oid=001&aid=0011614790') )\n",
        "docs.append( get_news_by_url('https://news.naver.com/main/read.nhn?mode=LSD&mid=sec&sid1=102&oid=014&aid=0004424362') )\n",
        "docs.append( get_news_by_url('https://news.naver.com/main/read.nhn?mode=LSD&mid=sec&sid1=101&oid=119&aid=0002402191') )\n",
        "docs.append( get_news_by_url('https://news.naver.com/main/read.nhn?mode=LSD&mid=sec&sid1=101&oid=030&aid=0002882728') )\n",
        "len(docs)"
      ],
      "execution_count": null,
      "outputs": []
    },
    {
      "cell_type": "markdown",
      "metadata": {
        "id": "Of0dQ_ALpLw6",
        "colab_type": "text"
      },
      "source": [
        "### 1) 전처리"
      ]
    },
    {
      "cell_type": "code",
      "metadata": {
        "id": "tfGX-_IxAbgt",
        "colab_type": "code",
        "colab": {}
      },
      "source": [
        "from konlpy.tag import Mecab\n",
        "mecab = Mecab()\n",
        "\n",
        "preprocessed_docs = []\n",
        "for doc in docs :\n",
        "  # 명사와 동사만으로 문서 전처리\n",
        "  preprocessed_docs.append(' '.join([token[0] for token in mecab.pos(doc) if token[1][0] in ['N', 'V']]))\n",
        "preprocessed_docs[0][:100]"
      ],
      "execution_count": null,
      "outputs": []
    },
    {
      "cell_type": "markdown",
      "metadata": {
        "id": "JqZ9ONgLpOzv",
        "colab_type": "text"
      },
      "source": [
        "### 2) TF-IDF 계산"
      ]
    },
    {
      "cell_type": "code",
      "metadata": {
        "id": "Okub07GQ-KJe",
        "colab_type": "code",
        "colab": {}
      },
      "source": [
        "from sklearn.feature_extraction.text import CountVectorizer\n",
        "\n",
        "count_vectorizer = CountVectorizer(max_df=0.85, max_features=10000)1\n",
        "word_count_vector = count_vectorizer.fit_transform(preprocessed_docs)\n",
        "list(count_vectorizer.vocabulary_.keys())[:10]"
      ],
      "execution_count": null,
      "outputs": []
    },
    {
      "cell_type": "markdown",
      "metadata": {
        "id": "9oMnmGfp6PAb",
        "colab_type": "text"
      },
      "source": [
        ""
      ]
    },
    {
      "cell_type": "code",
      "metadata": {
        "id": "em3l3IS5kRP-",
        "colab_type": "code",
        "colab": {}
      },
      "source": [
        "from sklearn.feature_extraction.text import TfidfTransformer\n",
        "\n",
        "tfidf_transformer = TfidfTransformer(smooth_idf=True, use_idf=True)\n",
        "tfidf_transformer.fit(word_count_vector)"
      ],
      "execution_count": null,
      "outputs": []
    },
    {
      "cell_type": "markdown",
      "metadata": {
        "id": "an6Cngd2Cwjg",
        "colab_type": "text"
      },
      "source": [
        "### 3) 핵심키워드 추출"
      ]
    },
    {
      "cell_type": "code",
      "metadata": {
        "id": "yKrcZ9rh-5Rt",
        "colab_type": "code",
        "colab": {}
      },
      "source": [
        "def sort_keywords(keywords):\n",
        "    return sorted(zip(keywords.col, keywords.data), key=lambda x: (x[1], x[0]), reverse=True)\n",
        " \n",
        "def extract_keywords(feature_names, sorted_keywords, n=5):\n",
        "    return [(feature_names[idx], score) for idx, score in sorted_keywords[:n]]"
      ],
      "execution_count": null,
      "outputs": []
    },
    {
      "cell_type": "code",
      "metadata": {
        "id": "u_8wXmex-1gr",
        "colab_type": "code",
        "colab": {}
      },
      "source": [
        "doc = preprocessed_docs[0] # 핵심키워드 추출할 문서 조회\n",
        "\n",
        "feature_names = count_vectorizer.get_feature_names() # TF-IDF 단어 목록\n",
        "tf_idf_vector = tfidf_transformer.transform(count_vectorizer.transform([doc])) # 문서의 tf-idf 추출\n",
        "sorted_keywords = sort_keywords(tf_idf_vector.tocoo()) # TF-IDF를 기준으로 역순 정렬\n",
        " \n",
        "# 사용자가 지정한 갯수만큼 키워드 추출\n",
        "keywords = extract_keywords(feature_names, sorted_keywords, 5)\n",
        " \n",
        "print(\"\\n===== 원문 =====\")\n",
        "print(docs[0][:100])\n",
        "print(\"\\n=== 핵심키워드 ===\")\n",
        "for k in keywords:\n",
        "    print(k)"
      ],
      "execution_count": null,
      "outputs": []
    },
    {
      "cell_type": "code",
      "metadata": {
        "id": "kUVTXBYrZMiU",
        "colab_type": "code",
        "colab": {}
      },
      "source": [
        "tf_idf_vector.tocoo().data"
      ],
      "execution_count": null,
      "outputs": []
    },
    {
      "cell_type": "markdown",
      "metadata": {
        "id": "lwQjPYuxNy4K",
        "colab_type": "text"
      },
      "source": [
        "\n",
        "---\n"
      ]
    },
    {
      "cell_type": "markdown",
      "metadata": {
        "colab_type": "text",
        "id": "XTNnFrNhOrA3"
      },
      "source": [
        "## 실습 2. gensim 활용\n"
      ]
    },
    {
      "cell_type": "markdown",
      "metadata": {
        "colab_type": "text",
        "id": "aE-YzDI6OrA5"
      },
      "source": [
        "### 1) 전처리"
      ]
    },
    {
      "cell_type": "code",
      "metadata": {
        "colab_type": "code",
        "id": "edVMwQBuOrA6",
        "colab": {}
      },
      "source": [
        "from konlpy.tag import Mecab\n",
        "mecab = Mecab()\n",
        "\n",
        "preprocessed_docs = []\n",
        "for doc in docs :\n",
        "  # 명사와 동사만으로 문서 전처리\n",
        "  preprocessed_docs.append(' '.join([token[0] for token in mecab.pos(doc) if token[1][0] in ['N', 'V']]))\n",
        "preprocessed_docs[0][:100]"
      ],
      "execution_count": null,
      "outputs": []
    },
    {
      "cell_type": "markdown",
      "metadata": {
        "colab_type": "text",
        "id": "cWGsCRJUOrA8"
      },
      "source": [
        "### 2) TF-IDF 계산"
      ]
    },
    {
      "cell_type": "code",
      "metadata": {
        "colab_type": "code",
        "id": "NCUzeqp3OrA9",
        "colab": {}
      },
      "source": [
        "from gensim.models import TfidfModel\n",
        "from gensim.corpora import Dictionary\n",
        "\n",
        "document_ls = [doc.split() for doc in preprocessed_docs]\n",
        "dct = Dictionary(document_ls) # 인덱스(key) - 단어(valuue) 인 딕셔너리 생성\n",
        "corpus = [dct.doc2bow(doc) for doc in document_ls] # 각 문서에 포함된 단어를 인덱스로 변환하여 corpus 생성\n",
        "tfidf = TfidfModel(corpus) # TF-IDF 산출"
      ],
      "execution_count": null,
      "outputs": []
    },
    {
      "cell_type": "markdown",
      "metadata": {
        "colab_type": "text",
        "id": "wBT2h57bOrBF"
      },
      "source": [
        "### 3) 핵심키워드 추출"
      ]
    },
    {
      "cell_type": "code",
      "metadata": {
        "id": "Xk0Tbo21RddA",
        "colab_type": "code",
        "colab": {}
      },
      "source": [
        "def sort_keywords(tfidf):\n",
        "    return sorted(tfidf, key=lambda x: (x[1], x[0]), reverse=True)\n",
        "\n",
        "def extract_keywords(feature_names, sorted_keywords, n=5):\n",
        "    return [(feature_names[idx], score) for idx, score in sorted_keywords[:n]]"
      ],
      "execution_count": null,
      "outputs": []
    },
    {
      "cell_type": "code",
      "metadata": {
        "id": "_8T0QSKVRfUt",
        "colab_type": "code",
        "colab": {}
      },
      "source": [
        "doc = corpus[0]\n",
        "\n",
        "sorted_keywords = sort_keywords(tfidf[doc]) # TF-IDF를 기준으로 역순 정렬\n",
        "\n",
        "# 사용자가 지정한 갯수만큼 키워드 추출\n",
        "keywords = extract_keywords(dct, sorted_keywords, 5)\n",
        "\n",
        "print(\"\\n=== 핵심키워드 ===\")\n",
        "for k in keywords:\n",
        "    print(k)"
      ],
      "execution_count": null,
      "outputs": []
    },
    {
      "cell_type": "code",
      "metadata": {
        "id": "8gBGnkhCZSlw",
        "colab_type": "code",
        "colab": {}
      },
      "source": [
        "tfidf[doc]"
      ],
      "execution_count": null,
      "outputs": []
    },
    {
      "cell_type": "markdown",
      "metadata": {
        "id": "hZpm1wtTqxL-",
        "colab_type": "text"
      },
      "source": [
        "\n",
        "\n",
        "---\n",
        "\n"
      ]
    },
    {
      "cell_type": "markdown",
      "metadata": {
        "id": "mfekkYshBAVS",
        "colab_type": "text"
      },
      "source": [
        "# 8-2 Textrank\n",
        "https://web.eecs.umich.edu/~mihalcea/papers/mihalcea.emnlp04.pdf"
      ]
    },
    {
      "cell_type": "markdown",
      "metadata": {
        "id": "bn58myMFF-nN",
        "colab_type": "text"
      },
      "source": [
        "<img src=\"https://3.bp.blogspot.com/-yp0Lr3ec5EY/XIs6znCcO_I/AAAAAAAAAPY/xtZxe_OYtH0xeuWsp4Qd4DQrunGMpVQmQCLcBGAs/s640/keyword-extraction-textrank.png\" />"
      ]
    },
    {
      "cell_type": "markdown",
      "metadata": {
        "colab_type": "text",
        "id": "kxZBz6vLlyga"
      },
      "source": [
        "## 실습 1. 행렬 활용 \n"
      ]
    },
    {
      "cell_type": "markdown",
      "metadata": {
        "colab_type": "text",
        "id": "9QmtIyyHlygg"
      },
      "source": [
        "### 1) 토큰화 (Tokenization)\n",
        "\n",
        "분석 텍스트 정제"
      ]
    },
    {
      "cell_type": "markdown",
      "metadata": {
        "colab_type": "text",
        "id": "YBJSuIvKlygw"
      },
      "source": [
        "### 2) Unique한 토큰 목록 생성\n",
        "\n",
        "그래프 생성을 위해서 Unique한 토큰 목록 생성"
      ]
    },
    {
      "cell_type": "code",
      "metadata": {
        "id": "X-WdT3gz3FMc",
        "colab_type": "code",
        "colab": {}
      },
      "source": [
        "token = ['딸기', '바나나', '사과', '딸기', '파인애플']\n",
        "nodes = ['바나나', '사과', '파인애플', '딸기']\n",
        "vocab = nodes\n",
        "\n",
        "vocab2idx = {vocab[i] : i for i in range(len(vocab))} #vocab을 인덱스로 변환\n",
        "idx2vocab = {i : vocab[i] for i in range(len(vocab))} #인덱스를 vocab으로 변환\n",
        "vocab2idx"
      ],
      "execution_count": null,
      "outputs": []
    },
    {
      "cell_type": "code",
      "metadata": {
        "colab_type": "code",
        "id": "h5_DwRpOlygz",
        "colab": {}
      },
      "source": [
        "len(token)"
      ],
      "execution_count": null,
      "outputs": []
    },
    {
      "cell_type": "markdown",
      "metadata": {
        "colab_type": "text",
        "id": "P9Tvibn1lyg3"
      },
      "source": [
        "### 3) 그래프 생성 (weighted edge 계산)\n",
        "\n",
        "*   TextRank는 그래프 기반 모델\n",
        "*   각 단어(토큰)은 그래프의 노드(vertex) \n",
        "*   weighted_edge 행렬은 노드간 가중치 정보를 담고 있음\n",
        "*   weighted_edge[i][j] 는 i번째 단어와 j번째 단어의 가중치를 의미\n",
        "*   weighted_edge[i][j] 가 0인 경우는 노드간 연결이 없음을 의미\n",
        "*   모든 노드는 1로 초기화"
      ]
    },
    {
      "cell_type": "code",
      "metadata": {
        "colab_type": "code",
        "id": "nP8PJUnMlyg3",
        "colab": {}
      },
      "source": [
        "import numpy as np\n",
        "import math\n",
        "vocab_len = len(vocab)\n",
        "\n",
        "# 토큰별로 그래프 edge를 Matrix 형태로 생성\n",
        "weighted_edge = np.zeros((vocab_len, vocab_len))\n",
        "\n",
        "# 각 토큰 노드별로 스코어 1로 초기화\n",
        "score = np.ones((vocab_len))\n",
        "\n",
        "\n",
        "\n",
        "# coocurrence를 판단하기 위한 window 사이즈 설정\n",
        "window_size = 2\n",
        "covered_coocurrences = []\n",
        "\n",
        "# weighted_edge 구현\n",
        "for window_start in range(len(token) - window_size + 1):\n",
        "  window = token[window_start : window_start + window_size]\n",
        "  for i in range(window_size):\n",
        "    for j in range(i + 1, window_size ):\n",
        "      if window[i] in vocab2idx.keys() and window[j] in vocab2idx.keys():\n",
        "        index_i = window_start + i\n",
        "        index_j = window_start + j\n",
        "\n",
        "        if [index_i, index_j] not in covered_coocurrences:\n",
        "          weighted_edge[vocab2idx[window[i]]][vocab2idx[window[j]]] = 1\n",
        "          weighted_edge[vocab2idx[window[j]]][vocab2idx[window[i]]] = 1\n",
        "          covered_coocurrences.append([index_i, index_j])\n",
        "\n",
        "\n",
        "for i in range(len(vocab)):\n",
        "  sumi = weighted_edge[i].sum()\n",
        "  weighted_edge[i] = weighted_edge[i]/sumi if sumi > 0 else 0\n",
        "  \n",
        "\n",
        "\n",
        "\n",
        "weighted_edge"
      ],
      "execution_count": null,
      "outputs": []
    },
    {
      "cell_type": "markdown",
      "metadata": {
        "colab_type": "text",
        "id": "loXJ9c7jlyg8"
      },
      "source": [
        "### 4) 각 노드의 score계산\n",
        "각 노드와 연결된 weighted edge의 값을 합산"
      ]
    },
    {
      "cell_type": "code",
      "metadata": {
        "id": "VQOFf2NRuJG8",
        "colab_type": "code",
        "colab": {}
      },
      "source": [
        "MAX_ITERATIONS = 50\n",
        "d=0.85\n",
        "threshold = 0.0001 #convergence threshold\n",
        "score = np.ones((vocab_len))\n",
        "\n",
        "\n",
        "for iter in range(0,MAX_ITERATIONS):\n",
        "    prev_score = np.copy(score)\n",
        "    \n",
        "    for i in range(len(vocab)):\n",
        "      summation = 0\n",
        "      for j in range(len(vocab)):\n",
        "        if weighted_edge[j][i] != 0:\n",
        "          summation += weighted_edge[j][i] * score[j]\n",
        "\n",
        "        score[i] = (1 -d) + d * (summation)\n",
        "\n",
        "      if np.sum(np.fabs(prev_score - score)) <= threshold:\n",
        "        break\n",
        "score"
      ],
      "execution_count": null,
      "outputs": []
    },
    {
      "cell_type": "code",
      "metadata": {
        "colab_type": "code",
        "id": "R9IOS9Oolyg8",
        "colab": {}
      },
      "source": [
        "MAX_ITERATIONS = 50\n",
        "d=0.85\n",
        "threshold = 0.0001 #convergence threshold\n",
        "score = np.ones((vocab_len))\n",
        "\n",
        "\n",
        "for iter in range(0,MAX_ITERATIONS):\n",
        "    prev_score = np.copy(score)\n",
        "    \n",
        "    for i in range(len(vocab)):\n",
        "      summation = 0\n",
        "      for j in range(len(vocab)):\n",
        "        if weighted_edge[j][i] != 0:\n",
        "          summation += weighted_edge[j][i] * score[j]\n",
        "\n",
        "        score[i] = (1 -d) + d * (summation)\n",
        "\n",
        "      if np.sum(np.fabs(prev_score - score)) <= threshold:\n",
        "        break\n",
        "score\n"
      ],
      "execution_count": null,
      "outputs": []
    },
    {
      "cell_type": "markdown",
      "metadata": {
        "colab_type": "text",
        "id": "wia32INGlyhA"
      },
      "source": [
        "### 5) 핵심 단어 추출"
      ]
    },
    {
      "cell_type": "code",
      "metadata": {
        "colab_type": "code",
        "id": "DMVQR-TqlyhB",
        "colab": {}
      },
      "source": [
        "sorted_index = None\n",
        "\n",
        "sorted_index = (np.argsort(score)[::-1])\n",
        "n = 4\n",
        "print(\"\\n=== 핵심키워드 ===\")\n",
        "for i in range(n):\n",
        "    print(str(idx2vocab[sorted_index[i]])+\" : \" + str(score[sorted_index[i]]))"
      ],
      "execution_count": null,
      "outputs": []
    },
    {
      "cell_type": "code",
      "metadata": {
        "id": "AXThGqhpOoaU",
        "colab_type": "code",
        "colab": {}
      },
      "source": [
        "sorted_index[0]"
      ],
      "execution_count": null,
      "outputs": []
    },
    {
      "cell_type": "markdown",
      "metadata": {
        "id": "vOuNI7WSBcgU",
        "colab_type": "text"
      },
      "source": [
        "---"
      ]
    },
    {
      "cell_type": "code",
      "metadata": {
        "id": "Nk06RCeMbfyk",
        "colab_type": "code",
        "colab": {
          "base_uri": "https://localhost:8080/",
          "height": 35
        },
        "outputId": "176eeab1-beb3-4222-d487-9f3bfad73b8f"
      },
      "source": [
        "import requests \n",
        "from bs4 import BeautifulSoup\n",
        "\n",
        "def get_news_by_url(url):\n",
        "  res = requests.get(url)\n",
        "  bs = BeautifulSoup(res.content, 'html.parser')\n",
        "\n",
        "  title = bs.select('h3#articleTitle')[0].text #제목\n",
        "  content = bs.select('#articleBodyContents')[0].get_text().replace('\\n', \" \") #본문\n",
        "  content = content.replace(\"// flash 오류를 우회하기 위한 함수 추가 function _flash_removeCallback() {}\", \"\")\n",
        "  return  content.strip()\n",
        "\n",
        "doc = get_news_by_url('https://news.naver.com/main/read.nhn?mode=LSD&mid=sec&sid1=105&oid=018&aid=0004430108')\n",
        "doc[:50]"
      ],
      "execution_count": null,
      "outputs": [
        {
          "output_type": "execute_result",
          "data": {
            "application/vnd.google.colaboratory.intrinsic": {
              "type": "string"
            },
            "text/plain": [
              "'과기정통부, 22일 유영민 장관 등 참석해 기념행사2021년까지 1516억원 투입, 510'"
            ]
          },
          "metadata": {
            "tags": []
          },
          "execution_count": 10
        }
      ]
    },
    {
      "cell_type": "markdown",
      "metadata": {
        "id": "683iA8igbfym",
        "colab_type": "text"
      },
      "source": [
        "  ### 1) 토큰화 (Tokenization)\n",
        "\n",
        "  분석 텍스트 정제"
      ]
    },
    {
      "cell_type": "code",
      "metadata": {
        "id": "3SxuV1Zkbfyn",
        "colab_type": "code",
        "colab": {
          "base_uri": "https://localhost:8080/",
          "height": 70
        },
        "outputId": "ba83dfd0-a449-4213-ba30-7cb08277e393"
      },
      "source": [
        "  from konlpy.tag import Mecab\n",
        "  mecab = Mecab()\n",
        "\n",
        "  nodes = [token for token in mecab.pos(doc) if token[1] in ['NNG','NNP']] #NNG, NNP를 스코어 계산 대상(노드)로 제한\n",
        "  print(nodes)\n",
        "  tokens = [token for token in mecab.pos(doc)] #탐색할 토큰 전체\n",
        "  print(tokens)"
      ],
      "execution_count": null,
      "outputs": [
        {
          "output_type": "stream",
          "text": [
            "[('과기', 'NNG'), ('정통부', 'NNG'), ('유영민', 'NNP'), ('장관', 'NNG'), ('참석', 'NNG'), ('기념행사', 'NNG'), ('투입', 'NNG'), ('여종', 'NNG'), ('데이터', 'NNG'), ('구축', 'NNG'), ('민간', 'NNG'), ('클라우드', 'NNP'), ('외부', 'NNG'), ('연계', 'NNG'), ('체계', 'NNG'), ('개방', 'NNG'), ('강화', 'NNG'), ('데일리', 'NNP'), ('이재운', 'NNP'), ('기자', 'NNG'), ('국가', 'NNG'), ('차원', 'NNG'), ('빅', 'NNG'), ('데이터', 'NNG'), ('활용', 'NNG'), ('시대', 'NNG'), ('산업', 'NNG'), ('창출', 'NNG'), ('기존', 'NNG'), ('산업', 'NNG'), ('변화', 'NNG'), ('혁신', 'NNG'), ('장', 'NNG'), ('센터', 'NNG'), ('문', 'NNG'), ('분야', 'NNG'), ('데이터', 'NNG'), ('경제', 'NNG'), ('발전', 'NNG'), ('정부', 'NNG'), ('청사진', 'NNG'), ('현실', 'NNG'), ('구현', 'NNG'), ('계획', 'NNG'), ('과학', 'NNG'), ('기술', 'NNG'), ('정보', 'NNG'), ('통신부', 'NNG'), ('서울', 'NNP'), ('중구', 'NNP'), ('대한', 'NNP'), ('상공', 'NNG'), ('회의소', 'NNG'), ('데이터', 'NNG'), ('생태', 'NNG'), ('조성', 'NNG'), ('혁신', 'NNG'), ('성장', 'NNG'), ('기반', 'NNG'), ('마련', 'NNG'), ('빅', 'NNG'), ('데이터', 'NNG'), ('플랫', 'NNG'), ('폼', 'NNG'), ('센터', 'NNG'), ('출범식', 'NNG'), ('행사', 'NNG'), ('개최', 'NNG'), ('유영민', 'NNP'), ('과기', 'NNG'), ('정통부', 'NNG'), ('장관', 'NNG'), ('노웅래', 'NNP'), ('국회', 'NNG'), ('과학', 'NNG'), ('기술', 'NNG'), ('정보', 'NNG'), ('방송', 'NNG'), ('통신', 'NNG'), ('위원회', 'NNG'), ('위원장', 'NNG'), ('참가', 'NNG'), ('분야', 'NNG'), ('센터', 'NNG'), ('간', 'NNG'), ('투입', 'NNG'), ('이미지', 'NNG'), ('픽사', 'NNP'), ('베이', 'NNP'), ('빅', 'NNP'), ('데이터', 'NNG'), ('데이터', 'NNG'), ('활용', 'NNG'), ('혁신', 'NNG'), ('장', 'NNG'), ('문재', 'NNG'), ('정부', 'NNG'), ('경제', 'NNG'), ('성장', 'NNG'), ('핵심', 'NNG'), ('요소', 'NNG'), ('문재인', 'NNP'), ('대통령', 'NNG'), ('데이터', 'NNG'), ('활용', 'NNG'), ('정보', 'NNG'), ('보호', 'NNG'), ('보안', 'NNP'), ('중요', 'NNG'), ('강조', 'NNG'), ('맥락', 'NNG'), ('속', 'NNG'), ('빅', 'NNG'), ('데이터', 'NNG'), ('센터', 'NNG'), ('공공', 'NNG'), ('민간', 'NNG'), ('협업', 'NNG'), ('활용', 'NNG'), ('양질', 'NNG'), ('데이터', 'NNG'), ('생산', 'NNG'), ('구축', 'NNG'), ('플랫', 'NNG'), ('폼', 'NNG'), ('수집', 'NNG'), ('분석', 'NNG'), ('유통', 'NNG'), ('역할', 'NNG'), ('담당', 'NNG'), ('과기', 'NNG'), ('정통부', 'NNG'), ('분야', 'NNG'), ('플랫', 'NNG'), ('폼', 'NNG'), ('연계', 'NNG'), ('기관', 'NNG'), ('센터', 'NNG'), ('구축', 'NNG'), ('투입', 'NNG'), ('계획', 'NNG'), ('올해', 'NNG'), ('규모', 'NNG'), ('사업', 'NNG'), ('추진', 'NNG'), ('대상', 'NNG'), ('분야', 'NNG'), ('금융', 'NNG'), ('카드', 'NNG'), ('환경', 'NNG'), ('한국', 'NNP'), ('수자원', 'NNG'), ('공사', 'NNG'), ('문화', 'NNG'), ('한국', 'NNP'), ('문화', 'NNG'), ('정보원', 'NNG'), ('교통', 'NNG'), ('한국', 'NNP'), ('교통', 'NNG'), ('연구원', 'NNG'), ('헬', 'NNP'), ('스케어', 'NNP'), ('국립암센터', 'NNP'), ('유통', 'NNG'), ('소비', 'NNG'), ('매일', 'NNG'), ('방송', 'NNG'), ('통신', 'NNG'), ('중소기업', 'NNG'), ('비즈', 'NNG'), ('지역', 'NNG'), ('경제', 'NNG'), ('경기도', 'NNP'), ('청', 'NNG'), ('산림', 'NNG'), ('한국', 'NNP'), ('임업', 'NNG'), ('흥원', 'NNP'), ('공모', 'NNG'), ('빅', 'NNG'), ('데이터', 'NNG'), ('센터', 'NNG'), ('선정', 'NNG'), ('다음', 'NNG'), ('달', 'NNG'), ('공모', 'NNG'), ('추가', 'NNG'), ('선정', 'NNG'), ('지원', 'NNG'), ('운영', 'NNG'), ('계획', 'NNG'), ('데이터', 'NNG'), ('생태계', 'NNG'), ('혁신', 'NNG'), ('기업', 'NNG'), ('경쟁력', 'NNG'), ('제고', 'NNG'), ('역할', 'NNG'), ('수행', 'NNG'), ('주요', 'NNG'), ('활용', 'NNG'), ('전략', 'NNG'), ('사례', 'NNG'), ('빅', 'NNG'), ('데이터', 'NNG'), ('활용', 'NNG'), ('신', 'NNG'), ('新', 'NNG'), ('시장', 'NNG'), ('창출', 'NNG'), ('방안', 'NNG'), ('금융', 'NNG'), ('플랫', 'NNG'), ('폼', 'NNG'), ('경우', 'NNG'), ('소', 'NNG'), ('상공', 'NNG'), ('신용', 'NNG'), ('평가', 'NNG'), ('고도', 'NNG'), ('금융', 'NNG'), ('취약', 'NNG'), ('계층', 'NNG'), ('대상', 'NNG'), ('금리', 'NNG'), ('대출', 'NNG'), ('절감', 'NNG'), ('연간', 'NNG'), ('신규', 'NNG'), ('대출', 'NNG'), ('창출', 'NNG'), ('전망', 'NNG'), ('유통', 'NNG'), ('소비', 'NNG'), ('중소기업', 'NNG'), ('플랫', 'NNG'), ('폼', 'NNG'), ('소상', 'NNG'), ('공인', 'NNG'), ('중소기업', 'NNG'), ('폐업', 'NNG'), ('감소', 'NNG'), ('문화', 'NNG'), ('플랫', 'NNG'), ('폼', 'NNG'), ('문화', 'NNG'), ('예술', 'NNG'), ('관람', 'NNG'), ('생활', 'NNG'), ('체육', 'NNG'), ('참여', 'NNG'), ('방안', 'NNG'), ('모색', 'NNG'), ('의료비', 'NNG'), ('절감', 'NNG'), ('헬스', 'NNG'), ('케어', 'NNG'), ('기업', 'NNG'), ('매출', 'NNG'), ('향상', 'NNG'), ('산업', 'NNG'), ('육성', 'NNG'), ('통신', 'NNG'), ('산림', 'NNG'), ('눈길', 'NNG'), ('과기', 'NNG'), ('정통부', 'NNG'), ('제공', 'NNG'), ('여종', 'NNG'), ('데이터', 'NNG'), ('구축', 'NNG'), ('알고리즘', 'NNG'), ('제공', 'NNG'), ('센터', 'NNG'), ('분야', 'NNG'), ('데이터', 'NNG'), ('부족', 'NNG'), ('문제', 'NNG'), ('해소', 'NNG'), ('올해', 'NNG'), ('시장', 'NNG'), ('수요', 'NNG'), ('여종', 'NNG'), ('신규', 'NNG'), ('데이터', 'NNG'), ('생산', 'NNG'), ('구축', 'NNG'), ('사업', 'NNG'), ('완료', 'NNG'), ('여종', 'NNG'), ('양질', 'NNG'), ('데이터', 'NNG'), ('생산', 'NNG'), ('구축', 'NNG'), ('시장', 'NNG'), ('공급', 'NNG'), ('계획', 'NNG'), ('공공', 'NNG'), ('민간', 'NNG'), ('사이', 'NNG'), ('데이터', 'NNG'), ('파일', 'NNG'), ('형식', 'NNG'), ('호환', 'NNG'), ('문제', 'NNG'), ('해소', 'NNG'), ('개방', 'NNG'), ('표준', 'NNG'), ('적용', 'NNG'), ('품질', 'NNG'), ('관리', 'NNG'), ('기준', 'NNG'), ('마련', 'NNG'), ('운영', 'NNG'), ('기업', 'NNG'), ('실제', 'NNG'), ('활용', 'NNG'), ('가능', 'NNG'), ('최신', 'NNG'), ('데이터', 'NNG'), ('확보', 'NNG'), ('수개월', 'NNG'), ('소요', 'NNG'), ('문제점', 'NNG'), ('개선', 'NNG'), ('방안', 'NNG'), ('추진', 'NNG'), ('센터', 'NNG'), ('플랫폼', 'NNG'), ('연계', 'NNG'), ('체계', 'NNG'), ('민간', 'NNG'), ('클라우드', 'NNP'), ('기반', 'NNG'), ('활용', 'NNG'), ('센터', 'NNG'), ('축적', 'NNG'), ('데이터', 'NNG'), ('외부', 'NNG'), ('개방', 'NNG'), ('공유', 'NNG'), ('최신', 'NNG'), ('연속', 'NNG'), ('확보', 'NNG'), ('계획', 'NNG'), ('센터', 'NNG'), ('수집', 'NNG'), ('데이터', 'NNG'), ('융합', 'NNG'), ('분석', 'NNG'), ('뒤', 'NNG'), ('맞춤', 'NNG'), ('데이터', 'NNG'), ('제작', 'NNG'), ('양질', 'NNG'), ('데이터', 'NNG'), ('생산', 'NNG'), ('기업', 'NNG'), ('필요', 'NNG'), ('데이터', 'NNG'), ('형태', 'NNG'), ('활용', 'NNG'), ('제공', 'NNG'), ('계획', 'NNG'), ('분석', 'NNG'), ('도구', 'NNG'), ('인공지능', 'NNP'), ('학습', 'NNG'), ('알고리즘', 'NNG'), ('제공', 'NNG'), ('이용자', 'NNP'), ('사용', 'NNG'), ('편리', 'NNG'), ('환경', 'NNG'), ('제공', 'NNG'), ('밖', 'NNG'), ('필요', 'NNG'), ('데이터', 'NNG'), ('등록', 'NNG'), ('검색', 'NNG'), ('기준', 'NNG'), ('마련', 'NNG'), ('데이터', 'NNG'), ('보유', 'NNG'), ('관리', 'NNG'), ('체계', 'NNG'), ('거버넌스', 'NNP'), ('논의', 'NNG'), ('데이터', 'NNG'), ('얼라이언스', 'NNP'), ('구성', 'NNG'), ('이용', 'NNG'), ('방안', 'NNG'), ('마련', 'NNG'), ('유영민', 'NNP'), ('과기', 'NNG'), ('정통부', 'NNG'), ('장관', 'NNG'), ('오늘', 'NNG'), ('출범식', 'NNG'), ('대한민국', 'NNP'), ('데이터', 'NNG'), ('강국', 'NNG'), ('초석', 'NNG'), ('자리', 'NNG'), ('세계', 'NNG'), ('주요', 'NNG'), ('국', 'NNG'), ('데이터', 'NNG'), ('경제', 'NNG'), ('발걸음', 'NNG'), ('빅', 'NNG'), ('데이터', 'NNG'), ('플랫', 'NNG'), ('폼', 'NNG'), ('센터', 'NNG'), ('지렛대', 'NNG'), ('우리나라', 'NNG'), ('낙후', 'NNG'), ('데이터', 'NNG'), ('생태계', 'NNG'), ('혁신', 'NNG'), ('기업', 'NNG'), ('경쟁력', 'NNG'), ('단계', 'NNG'), ('제고', 'NNG'), ('정책', 'NNG'), ('역량', 'NNG'), ('집중', 'NNG'), ('이재운', 'NNP'), ('네이버', 'NNP'), ('홈', 'NNG'), ('데일리', 'NNP'), ('뉴스', 'NNG'), ('구독', 'NNG'), ('꿀', 'NNG'), ('잼', 'NNG'), ('영상', 'NNG'), ('청춘', 'NNG'), ('뉘', 'NNG'), ('우스', 'NNG'), ('스냅', 'NNG'), ('타임', 'NNG'), ('종합', 'NNG'), ('경제', 'NNG'), ('정보', 'NNG'), ('미디어', 'NNG'), ('데일리', 'NNP'), ('무단', 'NNG'), ('전재', 'NNG'), ('배포', 'NNG'), ('금지', 'NNG')]\n",
            "[('과기', 'NNG'), ('정통부', 'NNG'), (',', 'SC'), ('22', 'SN'), ('일', 'NNBC'), ('유영민', 'NNP'), ('장관', 'NNG'), ('등', 'NNB'), ('참석', 'NNG'), ('해', 'XSV+EC'), ('기념행사', 'NNG'), ('2021', 'SN'), ('년', 'NNBC'), ('까지', 'JX'), ('1516', 'SN'), ('억', 'NR'), ('원', 'NNBC'), ('투입', 'NNG'), (',', 'SC'), ('5100', 'SN'), ('여종', 'NNG'), ('데이터', 'NNG'), ('구축', 'NNG'), ('민간', 'NNG'), ('클라우드', 'NNP'), ('통한', 'VV+ETM'), ('외부', 'NNG'), ('연계', 'NNG'), ('체계', 'NNG'), ('도', 'JX'), ('.', 'SF'), ('.\"', 'SY'), ('개방', 'NNG'), ('성', 'XSN'), ('강화', 'NNG'), ('\"[', 'SY'), ('이', 'JKS'), ('데일리', 'NNP'), ('이재운', 'NNP'), ('기자', 'NNG'), (']', 'SSC'), ('국가', 'NNG'), ('차원', 'NNG'), ('의', 'JKG'), ('빅', 'NNG'), ('데이터', 'NNG'), ('활용', 'NNG'), ('시대', 'NNG'), ('가', 'JKS'), ('열린다', 'VV+EF'), ('.', 'SF'), ('새로운', 'VA+ETM'), ('산업', 'NNG'), ('창출', 'NNG'), ('과', 'JC'), ('기존', 'NNG'), ('산업', 'NNG'), ('의', 'JKG'), ('변화', 'NNG'), ('에', 'JKB'), ('이르', 'VV'), ('는', 'ETM'), ('‘', 'SY'), ('혁신', 'NNG'), ('성', 'XSN'), ('장', 'NNG'), ('’', 'SY'), ('을', 'JKO'), ('위한', 'VV+ETM'), ('센터', 'NNG'), ('가', 'JKS'), ('문', 'NNG'), ('을', 'JKO'), ('연다', 'VV+EC'), ('.', 'SY'), ('10', 'SN'), ('개', 'NNBC'), ('분야', 'NNG'), ('에', 'JKB'), ('걸쳐', 'VV+EC'), ('‘', 'SY'), ('데이터', 'NNG'), ('경제', 'NNG'), ('’', 'SY'), ('의', 'JKG'), ('발전', 'NNG'), ('을', 'JKO'), ('위한', 'VV+ETM'), ('정부', 'NNG'), ('의', 'JKG'), ('청사진', 'NNG'), ('을', 'JKO'), ('현실', 'NNG'), ('로', 'JKB'), ('구현', 'NNG'), ('하', 'XSV'), ('는', 'ETM'), ('데', 'NNB'), ('앞장선다는', 'VV+ETM'), ('계획', 'NNG'), ('이', 'VCP'), ('다', 'EF'), ('.', 'SF'), ('22', 'SN'), ('일', 'NNBC'), ('과학', 'NNG'), ('기술', 'NNG'), ('정보', 'NNG'), ('통신부', 'NNG'), ('는', 'JX'), ('서울', 'NNP'), ('중구', 'NNP'), ('대한', 'NNP'), ('상공', 'NNG'), ('회의소', 'NNG'), ('에서', 'JKB'), ('데이터', 'NNG'), ('생태', 'NNG'), ('계', 'XSN'), ('조성', 'NNG'), ('과', 'JC'), ('혁신', 'NNG'), ('성장', 'NNG'), ('의', 'JKG'), ('기반', 'NNG'), ('마련', 'NNG'), ('을', 'JKO'), ('위한', 'VV+ETM'), ('‘', 'SY'), ('빅', 'NNG'), ('데이터', 'NNG'), ('플랫', 'NNG'), ('폼', 'NNG'), ('및', 'MAJ'), ('센터', 'NNG'), ('’', 'SY'), ('출범식', 'NNG'), ('행사', 'NNG'), ('를', 'JKO'), ('개최', 'NNG'), ('했', 'XSV+EP'), ('다', 'EF'), ('.', 'SF'), ('유영민', 'NNP'), ('과기', 'NNG'), ('정통부', 'NNG'), ('장관', 'NNG'), ('을', 'JKO'), ('비롯', 'XR'), ('해', 'XSA+EC'), ('노웅래', 'NNP'), ('국회', 'NNG'), ('과학', 'NNG'), ('기술', 'NNG'), ('정보', 'NNG'), ('방송', 'NNG'), ('통신', 'NNG'), ('위원회', 'NNG'), ('위원장', 'NNG'), ('등', 'NNB'), ('300', 'SN'), ('여', 'XSN'), ('명', 'NNBC'), ('이', 'JKS'), ('참가', 'NNG'), ('했', 'XSV+EP'), ('다', 'EF'), ('.', 'SF'), ('◇', 'SY'), ('10', 'SN'), ('개', 'NNBC'), ('분야', 'NNG'), ('100', 'SN'), ('개', 'NNBC'), ('센터', 'NNG'), ('.', 'SF'), ('.', 'SY'), ('3', 'SN'), ('년', 'NNBC'), ('간', 'NNG'), ('1516', 'SN'), ('억', 'NR'), ('원', 'NNBC'), ('투입', 'NNG'), ('이미지', 'NNG'), (':', 'SC'), ('픽사', 'NNP'), ('베이', 'NNP'), ('빅', 'NNP'), ('데이터', 'NNG'), ('는', 'JX'), ('데이터', 'NNG'), ('활용', 'NNG'), ('을', 'JKO'), ('통해', 'VV+EC'), ('혁신', 'NNG'), ('성', 'XSN'), ('장', 'NNG'), ('을', 'JKO'), ('이루', 'VV'), ('자는', 'ETM'), ('문재', 'NNG'), ('인', 'VCP+ETM'), ('정부', 'NNG'), ('의', 'JKG'), ('경제', 'NNG'), ('성장', 'NNG'), ('핵심', 'NNG'), ('요소', 'NNG'), ('중', 'NNB'), ('하나', 'NR'), ('다', 'VCP+EF'), ('.', 'SF'), ('문재인', 'NNP'), ('대통령', 'NNG'), ('이', 'JKS'), ('직접', 'MAG'), ('올', 'VV+ETM'), ('들', 'VV'), ('어', 'EC'), ('데이터', 'NNG'), ('활용', 'NNG'), ('과', 'JC'), ('이', 'NP'), ('에', 'JKB'), ('따른', 'VV+ETM'), ('정보', 'NNG'), ('보호', 'NNG'), ('(', 'SSO'), ('보안', 'NNP'), (')', 'SSC'), ('에', 'JKB'), ('대한', 'VV+ETM'), ('중요', 'NNG'), ('성', 'XSN'), ('을', 'JKO'), ('강조', 'NNG'), ('하', 'XSV'), ('기', 'ETN'), ('도', 'JX'), ('했', 'VV+EP'), ('다', 'EF'), ('.', 'SF'), ('이런', 'MM'), ('맥락', 'NNG'), ('속', 'NNG'), ('에서', 'JKB'), ('빅', 'NNG'), ('데이터', 'NNG'), ('센터', 'NNG'), ('는', 'JX'), ('공공', 'NNG'), ('과', 'JC'), ('민간', 'NNG'), ('이', 'JKS'), ('협업', 'NNG'), ('해', 'XSV+EC'), ('활용', 'NNG'), ('도', 'JX'), ('높', 'VA'), ('은', 'ETM'), ('양질', 'NNG'), ('의', 'JKG'), ('데이터', 'NNG'), ('를', 'JKO'), ('생산', 'NNG'), ('·', 'SC'), ('구축', 'NNG'), ('하', 'XSV'), ('고', 'EC'), (',', 'SC'), ('플랫', 'NNG'), ('폼', 'NNG'), ('은', 'JX'), ('이', 'NP'), ('를', 'JKO'), ('수집', 'NNG'), ('·', 'SC'), ('분석', 'NNG'), ('·', 'SC'), ('유통', 'NNG'), ('하', 'XSV'), ('는', 'ETM'), ('역할', 'NNG'), ('을', 'JKO'), ('담당', 'NNG'), ('한다', 'XSV+EF'), ('.', 'SF'), ('과기', 'NNG'), ('정통부', 'NNG'), ('는', 'JX'), ('분야', 'NNG'), ('별', 'XSN'), ('플랫', 'NNG'), ('폼', 'NNG'), ('10', 'SN'), ('개소', 'NNBC'), ('와', 'JC'), ('이', 'NP'), ('와', 'JKB'), ('연계', 'NNG'), ('된', 'XSV+ETM'), ('기관', 'NNG'), ('별', 'XSN'), ('센터', 'NNG'), ('100', 'SN'), ('개소', 'NNBC'), ('를', 'JKO'), ('구축', 'NNG'), ('하', 'XSV'), ('는', 'ETM'), ('데', 'NNB'), ('3', 'SN'), ('년', 'NNBC'), ('간', 'XSN'), ('총', 'MM'), ('1516', 'SN'), ('억', 'NR'), ('원', 'NNBC'), ('을', 'JKO'), ('투입', 'NNG'), ('할', 'XSV+ETM'), ('계획', 'NNG'), ('이', 'VCP'), ('며', 'EC'), (',', 'SC'), ('올해', 'NNG'), ('우선', 'MAG'), ('640', 'SN'), ('억', 'NR'), ('원', 'NNBC'), ('규모', 'NNG'), ('의', 'JKG'), ('사업', 'NNG'), ('을', 'JKO'), ('추진', 'NNG'), ('하', 'XSV'), ('고', 'EC'), ('있', 'VX'), ('다', 'EF'), ('.', 'SF'), ('대상', 'NNG'), ('분야', 'NNG'), ('는', 'JX'), ('△', 'SY'), ('금융', 'NNG'), ('(', 'SSO'), ('BC', 'SL'), ('카드', 'NNG'), (')', 'SSC'), ('△', 'SY'), ('환경', 'NNG'), ('(', 'SSO'), ('한국', 'NNP'), ('수자원', 'NNG'), ('공사', 'NNG'), (')', 'SSC'), ('△', 'SY'), ('문화', 'NNG'), ('(', 'SSO'), ('한국', 'NNP'), ('문화', 'NNG'), ('정보원', 'NNG'), (')', 'SSC'), ('△', 'SY'), ('교통', 'NNG'), ('(', 'SSO'), ('한국', 'NNP'), ('교통', 'NNG'), ('연구원', 'NNG'), (')', 'SSC'), ('△', 'SY'), ('헬', 'NNP'), ('스케어', 'NNP'), ('(', 'SSO'), ('국립암센터', 'NNP'), (')', 'SSC'), ('△', 'SY'), ('유통', 'NNG'), ('·', 'SC'), ('소비', 'NNG'), ('(', 'SSO'), ('매일', 'NNG'), ('방송', 'NNG'), (')', 'SSC'), ('△', 'SY'), ('통신', 'NNG'), ('(', 'SSO'), ('KT', 'SL'), (')', 'SSC'), ('△', 'SY'), ('중소기업', 'NNG'), ('(', 'SSO'), ('더', 'MAG'), ('존', 'VA+ETM'), ('비즈', 'NNG'), ('온', 'VV+ETM'), (')', 'SSC'), ('△', 'SY'), ('지역', 'NNG'), ('경제', 'NNG'), ('(', 'SSO'), ('경기도', 'NNP'), ('청', 'NNG'), (')', 'SSC'), ('△', 'SY'), ('산림', 'NNG'), ('(', 'SSO'), ('한국', 'NNP'), ('임업', 'NNG'), ('진', 'XSA+ETM'), ('흥원', 'NNP'), (')', 'SSC'), ('등', 'NNB'), ('으로', 'JKB'), ('현재', 'MAG'), ('1', 'SN'), ('차', 'NNBC'), ('공모', 'NNG'), ('를', 'JKO'), ('통해', 'VV+EC'), ('72', 'SN'), ('개', 'NNBC'), ('빅', 'NNG'), ('데이터', 'NNG'), ('센터', 'NNG'), ('를', 'JKO'), ('선정', 'NNG'), ('했', 'XSV+EP'), ('고', 'EC'), (',', 'SC'), ('다음', 'NNG'), ('달', 'NNG'), ('8', 'SN'), ('일', 'NNBC'), ('까지', 'JX'), ('2', 'SN'), ('차', 'NNBC'), ('공모', 'NNG'), ('를', 'JKO'), ('통해', 'VV+EC'), ('28', 'SN'), ('개', 'NNBC'), ('를', 'JKO'), ('추가', 'NNG'), ('선정', 'NNG'), ('해', 'XSV+EC'), ('총', 'MM'), ('100', 'SN'), ('개', 'NNBC'), ('를', 'JKO'), ('지원', 'NNG'), (',', 'SC'), ('운영', 'NNG'), ('할', 'XSV+ETM'), ('계획', 'NNG'), ('이', 'VCP'), ('다', 'EF'), ('.', 'SF'), ('이', 'NP'), ('를', 'JKO'), ('통해', 'VV+EC'), ('데이터', 'NNG'), ('생태계', 'NNG'), ('를', 'JKO'), ('혁신', 'NNG'), ('하', 'XSV'), ('고', 'EC'), ('기업', 'NNG'), ('의', 'JKG'), ('경쟁력', 'NNG'), ('을', 'JKO'), ('제고', 'NNG'), ('하', 'XSV'), ('는', 'ETM'), ('역할', 'NNG'), ('을', 'JKO'), ('수행', 'NNG'), ('한다', 'XSV+EF'), ('.', 'SF'), ('주요', 'NNG'), ('활용', 'NNG'), ('전략', 'NNG'), ('·', 'SC'), ('사례', 'NNG'), ('를', 'JKO'), ('보', 'VV'), ('면', 'EC'), ('빅', 'NNG'), ('데이터', 'NNG'), ('활용', 'NNG'), ('을', 'JKO'), ('통해', 'VV+EC'), ('‘', 'SY'), ('신', 'NNG'), ('(', 'SSO'), ('新', 'NNG'), (')', 'SSC'), ('시장', 'NNG'), ('’', 'SY'), ('을', 'JKO'), ('창출', 'NNG'), ('하', 'XSV'), ('는', 'ETM'), ('방안', 'NNG'), ('을', 'JKO'), ('담', 'VV'), ('고', 'EC'), ('있', 'VX'), ('다', 'EF'), ('.', 'SF'), ('금융', 'NNG'), ('플랫', 'NNG'), ('폼', 'NNG'), ('의', 'JKG'), ('경우', 'NNG'), ('소', 'NNG'), ('상공', 'NNG'), ('인', 'VCP+ETM'), ('신용', 'NNG'), ('평가', 'NNG'), ('고도', 'NNG'), ('화', 'XSN'), ('등', 'NNB'), ('을', 'JKO'), ('통해', 'VV+EC'), ('금융', 'NNG'), ('취약', 'NNG'), ('계층', 'NNG'), ('대상', 'NNG'), ('중', 'NNB'), ('금리', 'NNG'), ('대출', 'NNG'), ('이', 'JKS'), ('자를', 'VV+ETM'), ('2', 'SN'), ('%', 'SY'), ('p', 'SL'), ('절감', 'NNG'), ('해', 'XSV+EC'), ('연간', 'NNG'), ('1', 'SN'), ('조', 'NR'), ('원', 'NNBC'), ('의', 'JKG'), ('신규', 'NNG'), ('대출', 'NNG'), ('을', 'JKO'), ('창출', 'NNG'), ('할', 'XSV+ETM'), ('전망', 'NNG'), ('이', 'VCP'), ('다', 'EF'), ('.', 'SF'), ('유통', 'NNG'), ('·', 'SC'), ('소비', 'NNG'), ('와', 'JC'), ('중소기업', 'NNG'), ('플랫', 'NNG'), ('폼', 'NNG'), ('은', 'JX'), ('소상', 'NNG'), ('공인', 'NNG'), ('이나', 'JC'), ('중소기업', 'NNG'), ('의', 'JKG'), ('폐업', 'NNG'), ('률', 'XSN'), ('감소', 'NNG'), ('를', 'JKO'), (',', 'SC'), ('문화', 'NNG'), ('플랫', 'NNG'), ('폼', 'NNG'), ('은', 'JX'), ('문화', 'NNG'), ('·', 'SC'), ('예술', 'NNG'), ('관람', 'NNG'), ('률', 'XSN'), ('과', 'JC'), ('생활', 'NNG'), ('체육', 'NNG'), ('참여', 'NNG'), ('율', 'XSN'), ('을', 'JKO'), ('높이', 'VV'), ('는', 'ETM'), ('방안', 'NNG'), ('을', 'JKO'), ('모색', 'NNG'), ('한다', 'XSV+EF'), ('.', 'SF'), ('의료비', 'NNG'), ('절감', 'NNG'), ('(', 'SSO'), ('헬스', 'NNG'), ('케어', 'NNG'), (')', 'SSC'), ('과', 'JC'), ('기업', 'NNG'), ('의', 'JKG'), ('매출', 'NNG'), ('향상', 'NNG'), ('을', 'JKO'), ('통한', 'VV+ETM'), ('산업', 'NNG'), ('육성', 'NNG'), ('(', 'SSO'), ('통신', 'NNG'), ('·', 'SC'), ('산림', 'NNG'), (')', 'SSC'), ('등', 'NNB'), ('도', 'JX'), ('눈길', 'NNG'), ('을', 'JKO'), ('끈다', 'VV+EF'), ('.', 'SF'), ('과기', 'NNG'), ('정통부', 'NNG'), ('제공', 'NNG'), ('◇', 'SY'), ('2021', 'SN'), ('년', 'NNBC'), ('까지', 'JX'), ('5100', 'SN'), ('여종', 'NNG'), ('데이터', 'NNG'), ('구축', 'NNG'), ('.', 'SF'), ('.', 'SY'), ('AI', 'SL'), ('알고리즘', 'NNG'), ('제공', 'NNG'), ('도', 'JX'), ('센터', 'NNG'), ('는', 'JX'), ('우선', 'MAG'), ('분야', 'NNG'), ('별', 'XSN'), ('데이터', 'NNG'), ('부족', 'NNG'), ('문제', 'NNG'), ('를', 'JKO'), ('해소', 'NNG'), ('하', 'XSV'), ('기', 'ETN'), ('위해', 'VV+EC'), ('올해', 'NNG'), ('말', 'NNB'), ('까지', 'JX'), ('시장', 'NNG'), ('수요', 'NNG'), ('가', 'JKS'), ('높', 'VA'), ('은', 'ETM'), ('1400', 'SN'), ('여종', 'NNG'), ('신규', 'NNG'), ('데이터', 'NNG'), ('를', 'JKO'), ('생산', 'NNG'), ('ㆍ', 'UNKNOWN'), ('구축', 'NNG'), ('하', 'XSV'), ('고', 'EC'), (',', 'SC'), ('사업', 'NNG'), ('이', 'JKS'), ('완료', 'NNG'), ('되', 'XSV'), ('는', 'ETM'), ('2021', 'SN'), ('년', 'NNBC'), ('까지', 'JX'), ('총', 'MM'), ('5100', 'SN'), ('여종', 'NNG'), ('양질', 'NNG'), ('의', 'JKG'), ('풍부', 'XR'), ('한', 'XSA+ETM'), ('데이터', 'NNG'), ('를', 'JKO'), ('생산', 'NNG'), ('·', 'SC'), ('구축', 'NNG'), ('해', 'XSV+EC'), ('시장', 'NNG'), ('에', 'JKB'), ('공급', 'NNG'), ('할', 'XSV+ETM'), ('계획', 'NNG'), ('이', 'VCP'), ('다', 'EF'), ('.', 'SF'), ('특히', 'MAG'), ('공공', 'NNG'), ('과', 'JC'), ('민간', 'NNG'), ('사이', 'NNG'), ('데이터', 'NNG'), ('파일', 'NNG'), ('형식', 'NNG'), ('등', 'NNB'), ('이', 'JKS'), ('달라', 'VA+EC'), ('호환', 'NNG'), ('이', 'JKS'), ('제대로', 'MAG'), ('이뤄지지', 'VV+EC'), ('못한', 'VX+ETM'), ('문제', 'NNG'), ('를', 'JKO'), ('해소', 'NNG'), ('하', 'XSV'), ('기', 'ETN'), ('위해', 'VV+EC'), ('개방', 'NNG'), ('형', 'XSN'), ('표준', 'NNG'), ('을', 'JKO'), ('적용', 'NNG'), ('하', 'XSV'), ('고', 'EC'), (',', 'SC'), ('품질', 'NNG'), ('관리', 'NNG'), ('기준', 'NNG'), ('도', 'JX'), ('마련', 'NNG'), ('해', 'XSV+EC'), ('운영', 'NNG'), ('한다', 'XSV+EF'), ('.', 'SF'), ('기업', 'NNG'), ('들', 'XSN'), ('이', 'JKS'), ('실제', 'NNG'), ('활용', 'NNG'), ('가능', 'NNG'), ('한', 'XSA+ETM'), ('최신', 'NNG'), ('데이터', 'NNG'), ('를', 'JKO'), ('확보', 'NNG'), ('하', 'XSV'), ('는', 'ETM'), ('데', 'NNB'), ('도', 'JX'), ('수개월', 'NNG'), ('이', 'JKS'), ('소요', 'NNG'), ('된다는', 'XSV+ETM'), ('문제점', 'NNG'), ('을', 'JKO'), ('개선', 'NNG'), ('하', 'XSV'), ('기', 'ETN'), ('위한', 'VV+ETM'), ('방안', 'NNG'), ('도', 'JX'), ('추진', 'NNG'), ('한다', 'XSV+EF'), ('.', 'SF'), ('센터', 'NNG'), ('와', 'JC'), ('플랫폼', 'NNG'), ('간', 'NNB'), ('연계', 'NNG'), ('체계', 'NNG'), ('에', 'JKB'), ('는', 'JX'), ('민간', 'NNG'), ('클라우드', 'NNP'), ('를', 'JKO'), ('기반', 'NNG'), ('으로', 'JKB'), ('활용', 'NNG'), ('하', 'XSV'), ('고', 'EC'), (',', 'SC'), ('센터', 'NNG'), ('에', 'JKB'), ('축적', 'NNG'), ('된', 'XSV+ETM'), ('데이터', 'NNG'), ('도', 'JX'), ('계속', 'MAG'), ('외부', 'NNG'), ('와', 'JC'), ('개방', 'NNG'), ('·', 'SC'), ('공유', 'NNG'), ('하', 'XSV'), ('며', 'EC'), ('최신', 'NNG'), ('·', 'SC'), ('연속', 'NNG'), ('성', 'XSN'), ('을', 'JKO'), ('확보', 'NNG'), ('한다는', 'XSV+ETM'), ('계획', 'NNG'), ('이', 'VCP'), ('다', 'EF'), ('.', 'SF'), ('100', 'SN'), ('개', 'NNBC'), ('센터', 'NNG'), ('에서', 'JKB'), ('수집', 'NNG'), ('된', 'XSV+ETM'), ('데이터', 'NNG'), ('를', 'JKO'), ('융합', 'NNG'), ('·', 'SC'), ('분석', 'NNG'), ('한', 'XSV+ETM'), ('뒤', 'NNG'), ('맞춤', 'NNG'), ('형', 'XSN'), ('데이터', 'NNG'), ('제작', 'NNG'), ('등', 'NNB'), ('양질', 'NNG'), ('의', 'JKG'), ('데이터', 'NNG'), ('로', 'JKB'), ('재', 'XPN'), ('생산', 'NNG'), ('하', 'XSV'), ('고', 'EC'), (',', 'SC'), ('기업', 'NNG'), ('들', 'XSN'), ('이', 'JKS'), ('필요', 'NNG'), ('로', 'JKB'), ('하', 'VV'), ('는', 'ETM'), ('데이터', 'NNG'), ('를', 'JKO'), ('원하', 'VV'), ('는', 'ETM'), ('형태', 'NNG'), ('로', 'JKB'), ('즉시', 'MAG'), ('활용', 'NNG'), ('할', 'XSV+ETM'), ('수', 'NNB'), ('있', 'VV'), ('도록', 'EC'), ('제공', 'NNG'), ('할', 'XSV+ETM'), ('계획', 'NNG'), ('이', 'VCP'), ('다', 'EF'), ('.', 'SF'), ('다양', 'XR'), ('한', 'XSA+ETM'), ('분석', 'NNG'), ('도구', 'NNG'), ('는', 'JX'), ('물론', 'MAG'), ('인공지능', 'NNP'), ('(', 'SSO'), ('AI', 'SL'), (')', 'SSC'), ('학습', 'NNG'), ('알고리즘', 'NNG'), ('도', 'JX'), ('제공', 'NNG'), ('해', 'XSV+EC'), ('이용자', 'NNP'), ('가', 'JKS'), ('보다', 'MAG'), ('사용', 'NNG'), ('하', 'XSV'), ('기', 'ETN'), ('편리', 'NNG'), ('한', 'XSA+ETM'), ('환경', 'NNG'), ('을', 'JKO'), ('제공', 'NNG'), ('한다', 'XSV+EF'), ('.', 'SF'), ('이', 'MM'), ('밖', 'NNG'), ('에', 'JKB'), ('필요', 'NNG'), ('한', 'XSA+ETM'), ('데이터', 'NNG'), ('를', 'JKO'), ('쉽', 'VA'), ('게', 'EC'), ('등록', 'NNG'), ('하', 'XSV'), ('고', 'EC'), ('검색', 'NNG'), ('할', 'XSV+ETM'), ('수', 'NNB'), ('있', 'VV'), ('도록', 'EC'), ('기준', 'NNG'), ('을', 'JKO'), ('마련', 'NNG'), ('하', 'XSV'), ('고', 'EC'), (',', 'SC'), ('데이터', 'NNG'), ('보유', 'NNG'), ('와', 'JC'), ('관리', 'NNG'), ('에', 'JKB'), ('대한', 'VV+ETM'), ('체계', 'NNG'), ('(', 'SSO'), ('거버넌스', 'NNP'), (')', 'SSC'), ('를', 'JKO'), ('논의', 'NNG'), ('하', 'XSV'), ('는', 'ETM'), ('‘', 'SY'), ('데이터', 'NNG'), ('얼라이언스', 'NNP'), ('’', 'SY'), ('를', 'JKO'), ('구성', 'NNG'), ('해', 'XSV+EC'), ('보다', 'MAG'), ('안', 'MAG'), ('전하', 'VV'), ('게', 'EC'), ('이용', 'NNG'), ('하', 'XSV'), ('는', 'ETM'), ('방안', 'NNG'), ('도', 'JX'), ('마련', 'NNG'), ('했', 'XSV+EP'), ('다', 'EF'), ('.', 'SF'), ('유영민', 'NNP'), ('과기', 'NNG'), ('정통부', 'NNG'), ('장관', 'NNG'), ('은', 'JX'), ('“', 'SSO'), ('오늘', 'NNG'), ('출범식', 'NNG'), ('은', 'JX'), ('대한민국', 'NNP'), ('이', 'JKS'), ('데이터', 'NNG'), ('강국', 'NNG'), ('으로', 'JKB'), ('가', 'VV'), ('기', 'ETN'), ('위한', 'VV+ETM'), ('초석', 'NNG'), ('을', 'JKO'), ('놓', 'VV'), ('은', 'ETM'), ('자리', 'NNG'), ('”', 'SSC'), ('라며', 'VCP+EC'), ('“', 'SSO'), ('세계', 'NNG'), ('주요', 'NNG'), ('국', 'NNG'), ('들', 'XSN'), ('보다', 'JKB'), ('데이터', 'NNG'), ('경제', 'NNG'), ('로', 'JKB'), ('나아가', 'VV'), ('는', 'ETM'), ('발걸음', 'NNG'), ('이', 'JKS'), ('다소', 'MAG'), ('늦', 'VA'), ('었', 'EP'), ('지만', 'EC'), (',', 'SC'), ('빅', 'NNG'), ('데이터', 'NNG'), ('플랫', 'NNG'), ('폼', 'NNG'), ('과', 'JC'), ('센터', 'NNG'), ('를', 'JKO'), ('지렛대', 'NNG'), ('로', 'JKB'), ('우리나라', 'NNG'), ('의', 'JKG'), ('낙후', 'NNG'), ('된', 'XSV+ETM'), ('데이터', 'NNG'), ('생태계', 'NNG'), ('를', 'JKO'), ('혁신', 'NNG'), ('하', 'XSV'), ('고', 'EC'), ('기업', 'NNG'), ('의', 'JKG'), ('경쟁력', 'NNG'), ('을', 'JKO'), ('한', 'VV+ETM'), ('단계', 'NNG'), ('제고', 'NNG'), ('할', 'XSV+ETM'), ('수', 'NNB'), ('있', 'VV'), ('도록', 'EC'), ('정책', 'NNG'), ('적', 'XSN'), ('역량', 'NNG'), ('을', 'JKO'), ('집중', 'NNG'), ('하', 'XSV'), ('겠', 'EP'), ('다', 'EC'), ('”', 'SSC'), ('고', 'JKQ'), ('밝혔', 'VV+EP'), ('다', 'EF'), ('.', 'SF'), ('이재운', 'NNP'), ('(', 'SSO'), ('jwlee', 'SL'), ('@', 'SY'), ('edaily', 'SL'), ('.', 'SY'), ('co', 'SL'), ('.', 'SY'), ('kr', 'SL'), (')', 'SSC'), ('네이버', 'NNP'), ('홈', 'NNG'), ('에서', 'JKB'), ('‘', 'SY'), ('이', 'JKS'), ('데일리', 'NNP'), ('’', 'SY'), ('뉴스', 'NNG'), ('[', 'SSO'), ('구독', 'NNG'), ('하', 'XSV'), ('기', 'ETN'), ('▶]', 'SY'), ('꿀', 'NNG'), ('잼', 'NNG'), ('가득', 'MAG'), ('[', 'SSO'), ('영상', 'NNG'), ('보', 'VV'), ('기', 'ETN'), ('▶]', 'SY'), (',', 'SC'), ('청춘', 'NNG'), ('뉘', 'NNG'), ('우스', 'NNG'), ('~', 'SY'), ('[', 'SSO'), ('스냅', 'NNG'), ('타임', 'NNG'), ('▶]＜ⓒ', 'SY'), ('종합', 'NNG'), ('경제', 'NNG'), ('정보', 'NNG'), ('미디어', 'NNG'), ('이', 'MM'), ('데일리', 'NNP'), ('-', 'SY'), ('무단', 'NNG'), ('전재', 'NNG'), ('&', 'SY'), ('재', 'XPN'), ('배포', 'NNG'), ('금지', 'NNG'), ('＞', 'SY')]\n"
          ],
          "name": "stdout"
        }
      ]
    },
    {
      "cell_type": "markdown",
      "metadata": {
        "id": "m6QRYmRkGJ04",
        "colab_type": "text"
      },
      "source": [
        "### 2) 그래프 생성 (weighted edge 계산)"
      ]
    },
    {
      "cell_type": "code",
      "metadata": {
        "id": "DOCBZA0PGCzl",
        "colab_type": "code",
        "colab": {
          "base_uri": "https://localhost:8080/",
          "height": 33
        },
        "outputId": "11ef8f2d-7397-48d0-a190-6a4f33b27cc1"
      },
      "source": [
        "import networkx as nx\n",
        "\n",
        "def connect(nodes, tokens):\n",
        "  window_size = 3\n",
        "\n",
        "  edges = []\n",
        "  for window_start in range(len(tokens) - window_size + 1):\n",
        "    window = tokens[window_start : window_start + window_size]\n",
        "    for i in range(window_size):\n",
        "      for j in range(i + 1, window_size):\n",
        "        if (window[i] in nodes) & (window[j] in nodes ):\n",
        "          edges.append([window[i], window[j]])\n",
        "\n",
        "  return edges\n",
        "\n",
        "graph = nx.diamond_graph()\n",
        "graph.clear()\n",
        "graph.add_nodes_from(list(set(nodes)))\n",
        "graph.add_edges_from(connect(nodes, tokens))\n",
        "graph"
      ],
      "execution_count": null,
      "outputs": [
        {
          "output_type": "execute_result",
          "data": {
            "text/plain": [
              "<networkx.classes.graph.Graph at 0x7f52e2d4ee10>"
            ]
          },
          "metadata": {
            "tags": []
          },
          "execution_count": 12
        }
      ]
    },
    {
      "cell_type": "markdown",
      "metadata": {
        "id": "8uaL8GwIGXNp",
        "colab_type": "text"
      },
      "source": [
        "### 3) 각 노드의 score계산"
      ]
    },
    {
      "cell_type": "code",
      "metadata": {
        "id": "iZe-PSDoGhOt",
        "colab_type": "code",
        "colab": {
          "base_uri": "https://localhost:8080/",
          "height": 100
        },
        "outputId": "39144b8e-b08b-4dd4-eb95-c5aaf091cfdc"
      },
      "source": [
        "scores = nx.pagerank(graph)\n",
        "\n",
        "rank = sorted(scores.items(), key=lambda x: x[1], reverse=True)\n",
        "rank[:5]"
      ],
      "execution_count": null,
      "outputs": [
        {
          "output_type": "execute_result",
          "data": {
            "text/plain": [
              "[(('데이터', 'NNG'), 0.04440161015091129),\n",
              " (('센터', 'NNG'), 0.01637352097715778),\n",
              " (('한국', 'NNP'), 0.012528472823809035),\n",
              " (('경제', 'NNG'), 0.011955384156603086),\n",
              " (('정보', 'NNG'), 0.01095187571871316)]"
            ]
          },
          "metadata": {
            "tags": []
          },
          "execution_count": 13
        }
      ]
    },
    {
      "cell_type": "markdown",
      "metadata": {
        "id": "bdg3T37hGbhJ",
        "colab_type": "text"
      },
      "source": [
        "### 4)핵심 단어 추출"
      ]
    },
    {
      "cell_type": "code",
      "metadata": {
        "id": "s3aYD316GauU",
        "colab_type": "code",
        "colab": {}
      },
      "source": [
        "rank = rank[:100]"
      ],
      "execution_count": null,
      "outputs": []
    },
    {
      "cell_type": "markdown",
      "metadata": {
        "id": "0_Gi-Fwb31JY",
        "colab_type": "text"
      },
      "source": [
        "## 실습 3. TextRank 핵심 구 추출"
      ]
    },
    {
      "cell_type": "markdown",
      "metadata": {
        "id": "WlAPfNEQ3-2w",
        "colab_type": "text"
      },
      "source": [
        "### 1) 명사를 기준으로 구 추출\n"
      ]
    },
    {
      "cell_type": "code",
      "metadata": {
        "id": "1bFZRXkK37cF",
        "colab_type": "code",
        "colab": {
          "base_uri": "https://localhost:8080/",
          "height": 33
        },
        "outputId": "20b85232-1f98-42c1-8725-d3b8b119364c"
      },
      "source": [
        "phrases = []\n",
        "phrase  = ' '\n",
        "for word in tokens:\n",
        "  if word[1][0] == 'N':\n",
        "    phrase += str(word[0])\n",
        "    phrase += \" \"\n",
        "  else:\n",
        "    if phrase != ' ':\n",
        "      phrases.append(phrase.strip())\n",
        "    phrase = ' '\n",
        "\n",
        "unique_phrases = list(set(phrases))\n",
        "print(unique_phrases[:10])"
      ],
      "execution_count": null,
      "outputs": [
        {
          "output_type": "stream",
          "text": [
            "['기관', '이용자', '의료비 절감', '민간', '문화 플랫 폼', '영상', '개', '초석', '년 간', '예술 관람']\n"
          ],
          "name": "stdout"
        }
      ]
    },
    {
      "cell_type": "markdown",
      "metadata": {
        "id": "Tey-Psbe4Ixh",
        "colab_type": "text"
      },
      "source": [
        "### 2) 각 구의 Score 계산"
      ]
    },
    {
      "cell_type": "code",
      "metadata": {
        "id": "OCNPg7Kv4MRK",
        "colab_type": "code",
        "colab": {
          "base_uri": "https://localhost:8080/",
          "height": 183
        },
        "outputId": "68747a0b-014f-479e-b59e-164045438ade"
      },
      "source": [
        "vocabs = dict((r[0][0], r[1]) for r in rank)\n",
        "\n",
        "phrase_scores = []\n",
        "keywords = []\n",
        "for phrase in unique_phrases:\n",
        "  phrase_score = 0\n",
        "  for word in phrase.split():\n",
        "    if word in vocabs.keys():\n",
        "        phrase_score += vocabs[word.strip()]\n",
        "        \n",
        "  phrase_scores.append(phrase_score)\n",
        "  keywords.append(phrase) \n",
        "\n",
        "for i, keyword in enumerate(keywords[:10]):\n",
        "  print(\"Keyword : {} , Score : {}\".format(keyword, phrase_scores[i]))"
      ],
      "execution_count": null,
      "outputs": [
        {
          "output_type": "stream",
          "text": [
            "Keyword : 기관 , Score : 0.0029394578260479864\n",
            "Keyword : 이용자 , Score : 0.0017882366614242664\n",
            "Keyword : 의료비 절감 , Score : 0.010465871834157876\n",
            "Keyword : 민간 , Score : 0.007075709402775881\n",
            "Keyword : 문화 플랫 폼 , Score : 0.023732687445707147\n",
            "Keyword : 영상 , Score : 0.0006425358749196831\n",
            "Keyword : 개 , Score : 0\n",
            "Keyword : 초석 , Score : 0.0006425358749196831\n",
            "Keyword : 년 간 , Score : 0.0006425358749196831\n",
            "Keyword : 예술 관람 , Score : 0.005779708983172633\n"
          ],
          "name": "stdout"
        }
      ]
    },
    {
      "cell_type": "markdown",
      "metadata": {
        "id": "s9MipUl24NdW",
        "colab_type": "text"
      },
      "source": [
        "### 3) 각 구를 Score로 정렬하여 핵심 구 추출"
      ]
    },
    {
      "cell_type": "code",
      "metadata": {
        "id": "E4l6W3La4Q-E",
        "colab_type": "code",
        "colab": {
          "base_uri": "https://localhost:8080/",
          "height": 183
        },
        "outputId": "288a46a9-fce0-4f43-fd28-a50892a2ce1b"
      },
      "source": [
        "import numpy as np\n",
        "sorted_index = np.argsort(phrase_scores)[::-1]\n",
        "for i in range(10):\n",
        "  print(keywords[sorted_index[i]])"
      ],
      "execution_count": null,
      "outputs": [
        {
          "output_type": "stream",
          "text": [
            "여종 데이터 구축 민간 클라우드\n",
            "빅 데이터 플랫 폼\n",
            "빅 데이터 센터\n",
            "개 빅 데이터 센터\n",
            "빅 데이터 활용 시대\n",
            "민간 사이 데이터 파일 형식 등\n",
            "빅 데이터 활용\n",
            "픽사 베이 빅 데이터\n",
            "여종 데이터 구축\n",
            "데이터 경제\n"
          ],
          "name": "stdout"
        }
      ]
    },
    {
      "cell_type": "markdown",
      "metadata": {
        "id": "F_QifuKu4VNO",
        "colab_type": "text"
      },
      "source": [
        "## 실습 4. gensim 활용"
      ]
    },
    {
      "cell_type": "code",
      "metadata": {
        "id": "bIXFPGYE4Vvi",
        "colab_type": "code",
        "colab": {
          "base_uri": "https://localhost:8080/",
          "height": 33
        },
        "outputId": "49c8d411-64c6-4d12-ef3e-74145b6f0512"
      },
      "source": [
        "from gensim.summarization import keywords\n",
        "keywords(doc, words=5).split('\\n')"
      ],
      "execution_count": null,
      "outputs": [
        {
          "output_type": "execute_result",
          "data": {
            "text/plain": [
              "['데이터', '데이터를', '계획이다', '빅데이터', '문재인']"
            ]
          },
          "metadata": {
            "tags": []
          },
          "execution_count": 7
        }
      ]
    },
    {
      "cell_type": "code",
      "metadata": {
        "id": "1bpyfhnrh0pr",
        "colab_type": "code",
        "colab": {}
      },
      "source": [
        "keywords?"
      ],
      "execution_count": null,
      "outputs": []
    },
    {
      "cell_type": "code",
      "metadata": {
        "id": "cn5lzs30iDW6",
        "colab_type": "code",
        "colab": {}
      },
      "source": [
        ""
      ],
      "execution_count": null,
      "outputs": []
    }
  ]
}