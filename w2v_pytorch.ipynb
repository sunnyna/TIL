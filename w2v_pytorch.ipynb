{
  "nbformat": 4,
  "nbformat_minor": 0,
  "metadata": {
    "colab": {
      "name": "w2v_pytorch.ipynb",
      "provenance": [],
      "collapsed_sections": [],
      "mount_file_id": "1LBo03dkex_ZxAy7SwckH-wo3ZbrWlMuy",
      "authorship_tag": "ABX9TyOfMVkfZXLjKIOXaBG1Q6wh",
      "include_colab_link": true
    },
    "kernelspec": {
      "name": "python3",
      "display_name": "Python 3"
    }
  },
  "cells": [
    {
      "cell_type": "markdown",
      "metadata": {
        "id": "view-in-github",
        "colab_type": "text"
      },
      "source": [
        "<a href=\"https://colab.research.google.com/github/sunnyna/TIL/blob/master/w2v_pytorch.ipynb\" target=\"_parent\"><img src=\"https://colab.research.google.com/assets/colab-badge.svg\" alt=\"Open In Colab\"/></a>"
      ]
    },
    {
      "cell_type": "code",
      "metadata": {
        "id": "3f7RXZk3S9q9",
        "colab_type": "code",
        "colab": {}
      },
      "source": [
        "# Colab에 Mecab 설치\n",
        "!git clone https://github.com/SOMJANG/Mecab-ko-for-Google-Colab.git\n",
        "%cd Mecab-ko-for-Google-Colab\n",
        "!bash install_mecab-ko_on_colab190912.sh"
      ],
      "execution_count": null,
      "outputs": []
    },
    {
      "cell_type": "code",
      "metadata": {
        "id": "dtpQeFSYSsIC",
        "colab_type": "code",
        "colab": {}
      },
      "source": [
        "import urllib.request\n",
        "import pandas as pd"
      ],
      "execution_count": 26,
      "outputs": []
    },
    {
      "cell_type": "code",
      "metadata": {
        "id": "J4f3nXkBSxCV",
        "colab_type": "code",
        "colab": {
          "base_uri": "https://localhost:8080/",
          "height": 35
        },
        "outputId": "f92a43a3-9e8c-499f-d543-9e47492af222"
      },
      "source": [
        "urllib.request.urlretrieve(\"https://raw.githubusercontent.com/e9t/nsmc/master/ratings_train.txt\", filename=\"ratings_train.txt\")\n",
        "urllib.request.urlretrieve(\"https://raw.githubusercontent.com/e9t/nsmc/master/ratings_test.txt\", filename=\"ratings_test.txt\")"
      ],
      "execution_count": 27,
      "outputs": [
        {
          "output_type": "execute_result",
          "data": {
            "text/plain": [
              "('ratings_test.txt', <http.client.HTTPMessage at 0x7feb3892ca90>)"
            ]
          },
          "metadata": {
            "tags": []
          },
          "execution_count": 27
        }
      ]
    },
    {
      "cell_type": "code",
      "metadata": {
        "id": "MeFCPFdTSz8z",
        "colab_type": "code",
        "colab": {}
      },
      "source": [
        "train_df = pd.read_table('ratings_train.txt')\n",
        "test_df = pd.read_table('ratings_test.txt')"
      ],
      "execution_count": 28,
      "outputs": []
    },
    {
      "cell_type": "code",
      "metadata": {
        "id": "8iFU6BWVS2Ir",
        "colab_type": "code",
        "colab": {
          "base_uri": "https://localhost:8080/",
          "height": 194
        },
        "outputId": "8856d092-cf12-414f-f462-e8c49c3614a2"
      },
      "source": [
        "train_df.head()"
      ],
      "execution_count": 29,
      "outputs": [
        {
          "output_type": "execute_result",
          "data": {
            "text/html": [
              "<div>\n",
              "<style scoped>\n",
              "    .dataframe tbody tr th:only-of-type {\n",
              "        vertical-align: middle;\n",
              "    }\n",
              "\n",
              "    .dataframe tbody tr th {\n",
              "        vertical-align: top;\n",
              "    }\n",
              "\n",
              "    .dataframe thead th {\n",
              "        text-align: right;\n",
              "    }\n",
              "</style>\n",
              "<table border=\"1\" class=\"dataframe\">\n",
              "  <thead>\n",
              "    <tr style=\"text-align: right;\">\n",
              "      <th></th>\n",
              "      <th>id</th>\n",
              "      <th>document</th>\n",
              "      <th>label</th>\n",
              "    </tr>\n",
              "  </thead>\n",
              "  <tbody>\n",
              "    <tr>\n",
              "      <th>0</th>\n",
              "      <td>9976970</td>\n",
              "      <td>아 더빙.. 진짜 짜증나네요 목소리</td>\n",
              "      <td>0</td>\n",
              "    </tr>\n",
              "    <tr>\n",
              "      <th>1</th>\n",
              "      <td>3819312</td>\n",
              "      <td>흠...포스터보고 초딩영화줄....오버연기조차 가볍지 않구나</td>\n",
              "      <td>1</td>\n",
              "    </tr>\n",
              "    <tr>\n",
              "      <th>2</th>\n",
              "      <td>10265843</td>\n",
              "      <td>너무재밓었다그래서보는것을추천한다</td>\n",
              "      <td>0</td>\n",
              "    </tr>\n",
              "    <tr>\n",
              "      <th>3</th>\n",
              "      <td>9045019</td>\n",
              "      <td>교도소 이야기구먼 ..솔직히 재미는 없다..평점 조정</td>\n",
              "      <td>0</td>\n",
              "    </tr>\n",
              "    <tr>\n",
              "      <th>4</th>\n",
              "      <td>6483659</td>\n",
              "      <td>사이몬페그의 익살스런 연기가 돋보였던 영화!스파이더맨에서 늙어보이기만 했던 커스틴 ...</td>\n",
              "      <td>1</td>\n",
              "    </tr>\n",
              "  </tbody>\n",
              "</table>\n",
              "</div>"
            ],
            "text/plain": [
              "         id                                           document  label\n",
              "0   9976970                                아 더빙.. 진짜 짜증나네요 목소리      0\n",
              "1   3819312                  흠...포스터보고 초딩영화줄....오버연기조차 가볍지 않구나      1\n",
              "2  10265843                                  너무재밓었다그래서보는것을추천한다      0\n",
              "3   9045019                      교도소 이야기구먼 ..솔직히 재미는 없다..평점 조정      0\n",
              "4   6483659  사이몬페그의 익살스런 연기가 돋보였던 영화!스파이더맨에서 늙어보이기만 했던 커스틴 ...      1"
            ]
          },
          "metadata": {
            "tags": []
          },
          "execution_count": 29
        }
      ]
    },
    {
      "cell_type": "code",
      "metadata": {
        "id": "0M8q1huOS3tS",
        "colab_type": "code",
        "colab": {
          "base_uri": "https://localhost:8080/",
          "height": 194
        },
        "outputId": "81cf8917-71f0-4d05-8a01-5715f355c379"
      },
      "source": [
        "test_df.head()"
      ],
      "execution_count": 30,
      "outputs": [
        {
          "output_type": "execute_result",
          "data": {
            "text/html": [
              "<div>\n",
              "<style scoped>\n",
              "    .dataframe tbody tr th:only-of-type {\n",
              "        vertical-align: middle;\n",
              "    }\n",
              "\n",
              "    .dataframe tbody tr th {\n",
              "        vertical-align: top;\n",
              "    }\n",
              "\n",
              "    .dataframe thead th {\n",
              "        text-align: right;\n",
              "    }\n",
              "</style>\n",
              "<table border=\"1\" class=\"dataframe\">\n",
              "  <thead>\n",
              "    <tr style=\"text-align: right;\">\n",
              "      <th></th>\n",
              "      <th>id</th>\n",
              "      <th>document</th>\n",
              "      <th>label</th>\n",
              "    </tr>\n",
              "  </thead>\n",
              "  <tbody>\n",
              "    <tr>\n",
              "      <th>0</th>\n",
              "      <td>6270596</td>\n",
              "      <td>굳 ㅋ</td>\n",
              "      <td>1</td>\n",
              "    </tr>\n",
              "    <tr>\n",
              "      <th>1</th>\n",
              "      <td>9274899</td>\n",
              "      <td>GDNTOPCLASSINTHECLUB</td>\n",
              "      <td>0</td>\n",
              "    </tr>\n",
              "    <tr>\n",
              "      <th>2</th>\n",
              "      <td>8544678</td>\n",
              "      <td>뭐야 이 평점들은.... 나쁘진 않지만 10점 짜리는 더더욱 아니잖아</td>\n",
              "      <td>0</td>\n",
              "    </tr>\n",
              "    <tr>\n",
              "      <th>3</th>\n",
              "      <td>6825595</td>\n",
              "      <td>지루하지는 않은데 완전 막장임... 돈주고 보기에는....</td>\n",
              "      <td>0</td>\n",
              "    </tr>\n",
              "    <tr>\n",
              "      <th>4</th>\n",
              "      <td>6723715</td>\n",
              "      <td>3D만 아니었어도 별 다섯 개 줬을텐데.. 왜 3D로 나와서 제 심기를 불편하게 하죠??</td>\n",
              "      <td>0</td>\n",
              "    </tr>\n",
              "  </tbody>\n",
              "</table>\n",
              "</div>"
            ],
            "text/plain": [
              "        id                                           document  label\n",
              "0  6270596                                                굳 ㅋ      1\n",
              "1  9274899                               GDNTOPCLASSINTHECLUB      0\n",
              "2  8544678             뭐야 이 평점들은.... 나쁘진 않지만 10점 짜리는 더더욱 아니잖아      0\n",
              "3  6825595                   지루하지는 않은데 완전 막장임... 돈주고 보기에는....      0\n",
              "4  6723715  3D만 아니었어도 별 다섯 개 줬을텐데.. 왜 3D로 나와서 제 심기를 불편하게 하죠??      0"
            ]
          },
          "metadata": {
            "tags": []
          },
          "execution_count": 30
        }
      ]
    },
    {
      "cell_type": "code",
      "metadata": {
        "id": "VIdvx0_sS50c",
        "colab_type": "code",
        "colab": {
          "base_uri": "https://localhost:8080/",
          "height": 52
        },
        "outputId": "89405407-c9c4-4cd8-bf54-248636903e71"
      },
      "source": [
        "print('훈련 데이터 샘플의 개수 : {}'.format(len(train_df)))\n",
        "print('테스트 데이터 샘플의 개수 : {}'.format(len(test_df)))"
      ],
      "execution_count": 31,
      "outputs": [
        {
          "output_type": "stream",
          "text": [
            "훈련 데이터 샘플의 개수 : 150000\n",
            "테스트 데이터 샘플의 개수 : 50000\n"
          ],
          "name": "stdout"
        }
      ]
    },
    {
      "cell_type": "code",
      "metadata": {
        "id": "8TAqCr3dUGyp",
        "colab_type": "code",
        "colab": {}
      },
      "source": [
        ""
      ],
      "execution_count": null,
      "outputs": []
    },
    {
      "cell_type": "code",
      "metadata": {
        "id": "gmlv-bLHTFQ9",
        "colab_type": "code",
        "colab": {}
      },
      "source": [
        "from torchtext import data # torchtext.data 임포트\n",
        "from konlpy.tag import Mecab"
      ],
      "execution_count": 33,
      "outputs": []
    },
    {
      "cell_type": "code",
      "metadata": {
        "id": "IKoV5pQIT0EP",
        "colab_type": "code",
        "colab": {}
      },
      "source": [
        "# Mecab을 토크나이저로 사용\n",
        "# tokenizer = Mecab()"
      ],
      "execution_count": 83,
      "outputs": []
    },
    {
      "cell_type": "code",
      "metadata": {
        "id": "omd3HaD7byu7",
        "colab_type": "code",
        "colab": {}
      },
      "source": [
        "from konlpy.tag import Okt\n",
        "\n",
        "okt = Okt()"
      ],
      "execution_count": 79,
      "outputs": []
    },
    {
      "cell_type": "code",
      "metadata": {
        "id": "QcRyeoW4TFXE",
        "colab_type": "code",
        "colab": {}
      },
      "source": [
        "# 필드 정의\n",
        "ID = data.Field(sequential = False,\n",
        "                use_vocab = False) # 실제 사용은 하지 않을 예정\n",
        "\n",
        "TEXT = data.Field(sequential=True,\n",
        "                  use_vocab=True,\n",
        "                  tokenize=okt.nouns,\n",
        "                  # tokenize = tokenizer.morphs,\n",
        "                  lower=True,\n",
        "                  batch_first=True,\n",
        "                  fix_length=20)\n",
        "\n",
        "LABEL = data.Field(sequential=False,\n",
        "                   use_vocab=False,\n",
        "                   is_target=True)"
      ],
      "execution_count": 147,
      "outputs": []
    },
    {
      "cell_type": "code",
      "metadata": {
        "id": "T6MOu5TZpLpd",
        "colab_type": "code",
        "colab": {}
      },
      "source": [
        "def tokenize(sentence):\n",
        "    okt = Okt()\n",
        "    tokenized_sentence = []\n",
        "\n",
        "    # 우선 단어의 기본형으로 모두 살리고, 명사, 동사, 영어만 담는다.\n",
        "    # 그냥 nouns로 분리하는 것보다 좀 더 정확하고 많은 데이터를 얻을 수 있다.\n",
        "    for line in sentence:\n",
        "        result = []\n",
        "        temp_sentence = okt.pos(line, norm=True, stem=True) # 먼저 형태소 분리해서 리스트에 담고\n",
        "\n",
        "        for i in temp_sentence:                             \n",
        "            if (i[1] == 'Noun' or i[1] == 'Adjective' or i[1] == 'Alpha'):                  \n",
        "                result.append(i[0])\n",
        "            \n",
        "        tokenized_sentence.append(result)\n",
        "\n",
        "    return tokenized_sentence"
      ],
      "execution_count": null,
      "outputs": []
    },
    {
      "cell_type": "code",
      "metadata": {
        "id": "fNteEFrGTFLW",
        "colab_type": "code",
        "colab": {}
      },
      "source": [
        "from torchtext.data import TabularDataset"
      ],
      "execution_count": 139,
      "outputs": []
    },
    {
      "cell_type": "code",
      "metadata": {
        "id": "TdY9mdcUUKXU",
        "colab_type": "code",
        "colab": {
          "base_uri": "https://localhost:8080/",
          "height": 354
        },
        "outputId": "33900e08-ef7a-40b9-c5eb-8b2da75fb261"
      },
      "source": [
        "train_data, test_data = TabularDataset.splits(\n",
        "        path='.', train='/content/ratings_train.txt', test='/content/ratings_test.txt', format='tsv',\n",
        "        fields=[('id', ID), ('text', TEXT), ('label', LABEL)], skip_header=True)"
      ],
      "execution_count": 148,
      "outputs": [
        {
          "output_type": "error",
          "ename": "TypeError",
          "evalue": "ignored",
          "traceback": [
            "\u001b[0;31m---------------------------------------------------------------------------\u001b[0m",
            "\u001b[0;31mTypeError\u001b[0m                                 Traceback (most recent call last)",
            "\u001b[0;32m<ipython-input-148-b394b9d77267>\u001b[0m in \u001b[0;36m<module>\u001b[0;34m()\u001b[0m\n\u001b[1;32m      1\u001b[0m train_data, test_data = TabularDataset.splits(\n\u001b[1;32m      2\u001b[0m         \u001b[0mpath\u001b[0m\u001b[0;34m=\u001b[0m\u001b[0;34m'.'\u001b[0m\u001b[0;34m,\u001b[0m \u001b[0mtrain\u001b[0m\u001b[0;34m=\u001b[0m\u001b[0;34m'/content/ratings_train.txt'\u001b[0m\u001b[0;34m,\u001b[0m \u001b[0mtest\u001b[0m\u001b[0;34m=\u001b[0m\u001b[0;34m'/content/ratings_test.txt'\u001b[0m\u001b[0;34m,\u001b[0m \u001b[0mformat\u001b[0m\u001b[0;34m=\u001b[0m\u001b[0;34m'tsv'\u001b[0m\u001b[0;34m,\u001b[0m\u001b[0;34m\u001b[0m\u001b[0;34m\u001b[0m\u001b[0m\n\u001b[0;32m----> 3\u001b[0;31m         fields=[('id', ID), ('text', TEXT), ('label', LABEL)], skip_header=True)\n\u001b[0m",
            "\u001b[0;32m/usr/local/lib/python3.6/dist-packages/torchtext/data/dataset.py\u001b[0m in \u001b[0;36msplits\u001b[0;34m(cls, path, root, train, validation, test, **kwargs)\u001b[0m\n\u001b[1;32m     76\u001b[0m             \u001b[0mpath\u001b[0m \u001b[0;34m=\u001b[0m \u001b[0mcls\u001b[0m\u001b[0;34m.\u001b[0m\u001b[0mdownload\u001b[0m\u001b[0;34m(\u001b[0m\u001b[0mroot\u001b[0m\u001b[0;34m)\u001b[0m\u001b[0;34m\u001b[0m\u001b[0;34m\u001b[0m\u001b[0m\n\u001b[1;32m     77\u001b[0m         train_data = None if train is None else cls(\n\u001b[0;32m---> 78\u001b[0;31m             os.path.join(path, train), **kwargs)\n\u001b[0m\u001b[1;32m     79\u001b[0m         val_data = None if validation is None else cls(\n\u001b[1;32m     80\u001b[0m             os.path.join(path, validation), **kwargs)\n",
            "\u001b[0;32m/usr/local/lib/python3.6/dist-packages/torchtext/data/dataset.py\u001b[0m in \u001b[0;36m__init__\u001b[0;34m(self, path, format, fields, skip_header, csv_reader_params, **kwargs)\u001b[0m\n\u001b[1;32m    269\u001b[0m                 \u001b[0mnext\u001b[0m\u001b[0;34m(\u001b[0m\u001b[0mreader\u001b[0m\u001b[0;34m)\u001b[0m\u001b[0;34m\u001b[0m\u001b[0;34m\u001b[0m\u001b[0m\n\u001b[1;32m    270\u001b[0m \u001b[0;34m\u001b[0m\u001b[0m\n\u001b[0;32m--> 271\u001b[0;31m             \u001b[0mexamples\u001b[0m \u001b[0;34m=\u001b[0m \u001b[0;34m[\u001b[0m\u001b[0mmake_example\u001b[0m\u001b[0;34m(\u001b[0m\u001b[0mline\u001b[0m\u001b[0;34m,\u001b[0m \u001b[0mfields\u001b[0m\u001b[0;34m)\u001b[0m \u001b[0;32mfor\u001b[0m \u001b[0mline\u001b[0m \u001b[0;32min\u001b[0m \u001b[0mreader\u001b[0m\u001b[0;34m]\u001b[0m\u001b[0;34m\u001b[0m\u001b[0;34m\u001b[0m\u001b[0m\n\u001b[0m\u001b[1;32m    272\u001b[0m \u001b[0;34m\u001b[0m\u001b[0m\n\u001b[1;32m    273\u001b[0m         \u001b[0;32mif\u001b[0m \u001b[0misinstance\u001b[0m\u001b[0;34m(\u001b[0m\u001b[0mfields\u001b[0m\u001b[0;34m,\u001b[0m \u001b[0mdict\u001b[0m\u001b[0;34m)\u001b[0m\u001b[0;34m:\u001b[0m\u001b[0;34m\u001b[0m\u001b[0;34m\u001b[0m\u001b[0m\n",
            "\u001b[0;32m/usr/local/lib/python3.6/dist-packages/torchtext/data/dataset.py\u001b[0m in \u001b[0;36m<listcomp>\u001b[0;34m(.0)\u001b[0m\n\u001b[1;32m    269\u001b[0m                 \u001b[0mnext\u001b[0m\u001b[0;34m(\u001b[0m\u001b[0mreader\u001b[0m\u001b[0;34m)\u001b[0m\u001b[0;34m\u001b[0m\u001b[0;34m\u001b[0m\u001b[0m\n\u001b[1;32m    270\u001b[0m \u001b[0;34m\u001b[0m\u001b[0m\n\u001b[0;32m--> 271\u001b[0;31m             \u001b[0mexamples\u001b[0m \u001b[0;34m=\u001b[0m \u001b[0;34m[\u001b[0m\u001b[0mmake_example\u001b[0m\u001b[0;34m(\u001b[0m\u001b[0mline\u001b[0m\u001b[0;34m,\u001b[0m \u001b[0mfields\u001b[0m\u001b[0;34m)\u001b[0m \u001b[0;32mfor\u001b[0m \u001b[0mline\u001b[0m \u001b[0;32min\u001b[0m \u001b[0mreader\u001b[0m\u001b[0;34m]\u001b[0m\u001b[0;34m\u001b[0m\u001b[0;34m\u001b[0m\u001b[0m\n\u001b[0m\u001b[1;32m    272\u001b[0m \u001b[0;34m\u001b[0m\u001b[0m\n\u001b[1;32m    273\u001b[0m         \u001b[0;32mif\u001b[0m \u001b[0misinstance\u001b[0m\u001b[0;34m(\u001b[0m\u001b[0mfields\u001b[0m\u001b[0;34m,\u001b[0m \u001b[0mdict\u001b[0m\u001b[0;34m)\u001b[0m\u001b[0;34m:\u001b[0m\u001b[0;34m\u001b[0m\u001b[0;34m\u001b[0m\u001b[0m\n",
            "\u001b[0;32m/usr/local/lib/python3.6/dist-packages/torchtext/data/example.py\u001b[0m in \u001b[0;36mfromCSV\u001b[0;34m(cls, data, fields, field_to_index)\u001b[0m\n\u001b[1;32m     32\u001b[0m     \u001b[0;32mdef\u001b[0m \u001b[0mfromCSV\u001b[0m\u001b[0;34m(\u001b[0m\u001b[0mcls\u001b[0m\u001b[0;34m,\u001b[0m \u001b[0mdata\u001b[0m\u001b[0;34m,\u001b[0m \u001b[0mfields\u001b[0m\u001b[0;34m,\u001b[0m \u001b[0mfield_to_index\u001b[0m\u001b[0;34m=\u001b[0m\u001b[0;32mNone\u001b[0m\u001b[0;34m)\u001b[0m\u001b[0;34m:\u001b[0m\u001b[0;34m\u001b[0m\u001b[0;34m\u001b[0m\u001b[0m\n\u001b[1;32m     33\u001b[0m         \u001b[0;32mif\u001b[0m \u001b[0mfield_to_index\u001b[0m \u001b[0;32mis\u001b[0m \u001b[0;32mNone\u001b[0m\u001b[0;34m:\u001b[0m\u001b[0;34m\u001b[0m\u001b[0;34m\u001b[0m\u001b[0m\n\u001b[0;32m---> 34\u001b[0;31m             \u001b[0;32mreturn\u001b[0m \u001b[0mcls\u001b[0m\u001b[0;34m.\u001b[0m\u001b[0mfromlist\u001b[0m\u001b[0;34m(\u001b[0m\u001b[0mdata\u001b[0m\u001b[0;34m,\u001b[0m \u001b[0mfields\u001b[0m\u001b[0;34m)\u001b[0m\u001b[0;34m\u001b[0m\u001b[0;34m\u001b[0m\u001b[0m\n\u001b[0m\u001b[1;32m     35\u001b[0m         \u001b[0;32melse\u001b[0m\u001b[0;34m:\u001b[0m\u001b[0;34m\u001b[0m\u001b[0;34m\u001b[0m\u001b[0m\n\u001b[1;32m     36\u001b[0m             \u001b[0;32massert\u001b[0m\u001b[0;34m(\u001b[0m\u001b[0misinstance\u001b[0m\u001b[0;34m(\u001b[0m\u001b[0mfields\u001b[0m\u001b[0;34m,\u001b[0m \u001b[0mdict\u001b[0m\u001b[0;34m)\u001b[0m\u001b[0;34m)\u001b[0m\u001b[0;34m\u001b[0m\u001b[0;34m\u001b[0m\u001b[0m\n",
            "\u001b[0;32m/usr/local/lib/python3.6/dist-packages/torchtext/data/example.py\u001b[0m in \u001b[0;36mfromlist\u001b[0;34m(cls, data, fields)\u001b[0m\n\u001b[1;32m     50\u001b[0m                         \u001b[0msetattr\u001b[0m\u001b[0;34m(\u001b[0m\u001b[0mex\u001b[0m\u001b[0;34m,\u001b[0m \u001b[0mn\u001b[0m\u001b[0;34m,\u001b[0m \u001b[0mf\u001b[0m\u001b[0;34m.\u001b[0m\u001b[0mpreprocess\u001b[0m\u001b[0;34m(\u001b[0m\u001b[0mval\u001b[0m\u001b[0;34m)\u001b[0m\u001b[0;34m)\u001b[0m\u001b[0;34m\u001b[0m\u001b[0;34m\u001b[0m\u001b[0m\n\u001b[1;32m     51\u001b[0m                 \u001b[0;32melse\u001b[0m\u001b[0;34m:\u001b[0m\u001b[0;34m\u001b[0m\u001b[0;34m\u001b[0m\u001b[0m\n\u001b[0;32m---> 52\u001b[0;31m                     \u001b[0msetattr\u001b[0m\u001b[0;34m(\u001b[0m\u001b[0mex\u001b[0m\u001b[0;34m,\u001b[0m \u001b[0mname\u001b[0m\u001b[0;34m,\u001b[0m \u001b[0mfield\u001b[0m\u001b[0;34m.\u001b[0m\u001b[0mpreprocess\u001b[0m\u001b[0;34m(\u001b[0m\u001b[0mval\u001b[0m\u001b[0;34m)\u001b[0m\u001b[0;34m)\u001b[0m\u001b[0;34m\u001b[0m\u001b[0;34m\u001b[0m\u001b[0m\n\u001b[0m\u001b[1;32m     53\u001b[0m         \u001b[0;32mreturn\u001b[0m \u001b[0mex\u001b[0m\u001b[0;34m\u001b[0m\u001b[0;34m\u001b[0m\u001b[0m\n\u001b[1;32m     54\u001b[0m \u001b[0;34m\u001b[0m\u001b[0m\n",
            "\u001b[0;32m/usr/local/lib/python3.6/dist-packages/torchtext/data/field.py\u001b[0m in \u001b[0;36mpreprocess\u001b[0;34m(self, x)\u001b[0m\n\u001b[1;32m    179\u001b[0m             \u001b[0mx\u001b[0m \u001b[0;34m=\u001b[0m \u001b[0mself\u001b[0m\u001b[0;34m.\u001b[0m\u001b[0mtokenize\u001b[0m\u001b[0;34m(\u001b[0m\u001b[0mx\u001b[0m\u001b[0;34m.\u001b[0m\u001b[0mrstrip\u001b[0m\u001b[0;34m(\u001b[0m\u001b[0;34m'\\n'\u001b[0m\u001b[0;34m)\u001b[0m\u001b[0;34m)\u001b[0m\u001b[0;34m\u001b[0m\u001b[0;34m\u001b[0m\u001b[0m\n\u001b[1;32m    180\u001b[0m         \u001b[0;32mif\u001b[0m \u001b[0mself\u001b[0m\u001b[0;34m.\u001b[0m\u001b[0mlower\u001b[0m\u001b[0;34m:\u001b[0m\u001b[0;34m\u001b[0m\u001b[0;34m\u001b[0m\u001b[0m\n\u001b[0;32m--> 181\u001b[0;31m             \u001b[0mx\u001b[0m \u001b[0;34m=\u001b[0m \u001b[0mPipeline\u001b[0m\u001b[0;34m(\u001b[0m\u001b[0msix\u001b[0m\u001b[0;34m.\u001b[0m\u001b[0mtext_type\u001b[0m\u001b[0;34m.\u001b[0m\u001b[0mlower\u001b[0m\u001b[0;34m)\u001b[0m\u001b[0;34m(\u001b[0m\u001b[0mx\u001b[0m\u001b[0;34m)\u001b[0m\u001b[0;34m\u001b[0m\u001b[0;34m\u001b[0m\u001b[0m\n\u001b[0m\u001b[1;32m    182\u001b[0m         \u001b[0;32mif\u001b[0m \u001b[0mself\u001b[0m\u001b[0;34m.\u001b[0m\u001b[0msequential\u001b[0m \u001b[0;32mand\u001b[0m \u001b[0mself\u001b[0m\u001b[0;34m.\u001b[0m\u001b[0muse_vocab\u001b[0m \u001b[0;32mand\u001b[0m \u001b[0mself\u001b[0m\u001b[0;34m.\u001b[0m\u001b[0mstop_words\u001b[0m \u001b[0;32mis\u001b[0m \u001b[0;32mnot\u001b[0m \u001b[0;32mNone\u001b[0m\u001b[0;34m:\u001b[0m\u001b[0;34m\u001b[0m\u001b[0;34m\u001b[0m\u001b[0m\n\u001b[1;32m    183\u001b[0m             \u001b[0mx\u001b[0m \u001b[0;34m=\u001b[0m \u001b[0;34m[\u001b[0m\u001b[0mw\u001b[0m \u001b[0;32mfor\u001b[0m \u001b[0mw\u001b[0m \u001b[0;32min\u001b[0m \u001b[0mx\u001b[0m \u001b[0;32mif\u001b[0m \u001b[0mw\u001b[0m \u001b[0;32mnot\u001b[0m \u001b[0;32min\u001b[0m \u001b[0mself\u001b[0m\u001b[0;34m.\u001b[0m\u001b[0mstop_words\u001b[0m\u001b[0;34m]\u001b[0m\u001b[0;34m\u001b[0m\u001b[0;34m\u001b[0m\u001b[0m\n",
            "\u001b[0;32m/usr/local/lib/python3.6/dist-packages/torchtext/data/pipeline.py\u001b[0m in \u001b[0;36m__call__\u001b[0;34m(self, x, *args)\u001b[0m\n\u001b[1;32m     35\u001b[0m         \"\"\"\n\u001b[1;32m     36\u001b[0m         \u001b[0;32mfor\u001b[0m \u001b[0mpipe\u001b[0m \u001b[0;32min\u001b[0m \u001b[0mself\u001b[0m\u001b[0;34m.\u001b[0m\u001b[0mpipes\u001b[0m\u001b[0;34m:\u001b[0m\u001b[0;34m\u001b[0m\u001b[0;34m\u001b[0m\u001b[0m\n\u001b[0;32m---> 37\u001b[0;31m             \u001b[0mx\u001b[0m \u001b[0;34m=\u001b[0m \u001b[0mpipe\u001b[0m\u001b[0;34m.\u001b[0m\u001b[0mcall\u001b[0m\u001b[0;34m(\u001b[0m\u001b[0mx\u001b[0m\u001b[0;34m,\u001b[0m \u001b[0;34m*\u001b[0m\u001b[0margs\u001b[0m\u001b[0;34m)\u001b[0m\u001b[0;34m\u001b[0m\u001b[0;34m\u001b[0m\u001b[0m\n\u001b[0m\u001b[1;32m     38\u001b[0m         \u001b[0;32mreturn\u001b[0m \u001b[0mx\u001b[0m\u001b[0;34m\u001b[0m\u001b[0;34m\u001b[0m\u001b[0m\n\u001b[1;32m     39\u001b[0m \u001b[0;34m\u001b[0m\u001b[0m\n",
            "\u001b[0;32m/usr/local/lib/python3.6/dist-packages/torchtext/data/pipeline.py\u001b[0m in \u001b[0;36mcall\u001b[0;34m(self, x, *args)\u001b[0m\n\u001b[1;32m     50\u001b[0m         \"\"\"\n\u001b[1;32m     51\u001b[0m         \u001b[0;32mif\u001b[0m \u001b[0misinstance\u001b[0m\u001b[0;34m(\u001b[0m\u001b[0mx\u001b[0m\u001b[0;34m,\u001b[0m \u001b[0mlist\u001b[0m\u001b[0;34m)\u001b[0m\u001b[0;34m:\u001b[0m\u001b[0;34m\u001b[0m\u001b[0;34m\u001b[0m\u001b[0m\n\u001b[0;32m---> 52\u001b[0;31m             \u001b[0;32mreturn\u001b[0m \u001b[0;34m[\u001b[0m\u001b[0mself\u001b[0m\u001b[0;34m.\u001b[0m\u001b[0mconvert_token\u001b[0m\u001b[0;34m(\u001b[0m\u001b[0mtok\u001b[0m\u001b[0;34m,\u001b[0m \u001b[0;34m*\u001b[0m\u001b[0margs\u001b[0m\u001b[0;34m)\u001b[0m \u001b[0;32mfor\u001b[0m \u001b[0mtok\u001b[0m \u001b[0;32min\u001b[0m \u001b[0mx\u001b[0m\u001b[0;34m]\u001b[0m\u001b[0;34m\u001b[0m\u001b[0;34m\u001b[0m\u001b[0m\n\u001b[0m\u001b[1;32m     53\u001b[0m         \u001b[0;32mreturn\u001b[0m \u001b[0mself\u001b[0m\u001b[0;34m.\u001b[0m\u001b[0mconvert_token\u001b[0m\u001b[0;34m(\u001b[0m\u001b[0mx\u001b[0m\u001b[0;34m,\u001b[0m \u001b[0;34m*\u001b[0m\u001b[0margs\u001b[0m\u001b[0;34m)\u001b[0m\u001b[0;34m\u001b[0m\u001b[0;34m\u001b[0m\u001b[0m\n\u001b[1;32m     54\u001b[0m \u001b[0;34m\u001b[0m\u001b[0m\n",
            "\u001b[0;32m/usr/local/lib/python3.6/dist-packages/torchtext/data/pipeline.py\u001b[0m in \u001b[0;36m<listcomp>\u001b[0;34m(.0)\u001b[0m\n\u001b[1;32m     50\u001b[0m         \"\"\"\n\u001b[1;32m     51\u001b[0m         \u001b[0;32mif\u001b[0m \u001b[0misinstance\u001b[0m\u001b[0;34m(\u001b[0m\u001b[0mx\u001b[0m\u001b[0;34m,\u001b[0m \u001b[0mlist\u001b[0m\u001b[0;34m)\u001b[0m\u001b[0;34m:\u001b[0m\u001b[0;34m\u001b[0m\u001b[0;34m\u001b[0m\u001b[0m\n\u001b[0;32m---> 52\u001b[0;31m             \u001b[0;32mreturn\u001b[0m \u001b[0;34m[\u001b[0m\u001b[0mself\u001b[0m\u001b[0;34m.\u001b[0m\u001b[0mconvert_token\u001b[0m\u001b[0;34m(\u001b[0m\u001b[0mtok\u001b[0m\u001b[0;34m,\u001b[0m \u001b[0;34m*\u001b[0m\u001b[0margs\u001b[0m\u001b[0;34m)\u001b[0m \u001b[0;32mfor\u001b[0m \u001b[0mtok\u001b[0m \u001b[0;32min\u001b[0m \u001b[0mx\u001b[0m\u001b[0;34m]\u001b[0m\u001b[0;34m\u001b[0m\u001b[0;34m\u001b[0m\u001b[0m\n\u001b[0m\u001b[1;32m     53\u001b[0m         \u001b[0;32mreturn\u001b[0m \u001b[0mself\u001b[0m\u001b[0;34m.\u001b[0m\u001b[0mconvert_token\u001b[0m\u001b[0;34m(\u001b[0m\u001b[0mx\u001b[0m\u001b[0;34m,\u001b[0m \u001b[0;34m*\u001b[0m\u001b[0margs\u001b[0m\u001b[0;34m)\u001b[0m\u001b[0;34m\u001b[0m\u001b[0;34m\u001b[0m\u001b[0m\n\u001b[1;32m     54\u001b[0m \u001b[0;34m\u001b[0m\u001b[0m\n",
            "\u001b[0;31mTypeError\u001b[0m: descriptor 'lower' requires a 'str' object but received a 'tuple'"
          ]
        }
      ]
    },
    {
      "cell_type": "code",
      "metadata": {
        "id": "MJa3NKuUUKe-",
        "colab_type": "code",
        "colab": {
          "base_uri": "https://localhost:8080/",
          "height": 52
        },
        "outputId": "f1cd3f15-0c13-4e14-c326-b8a8a8e2d946"
      },
      "source": [
        "print('훈련 샘플의 개수 : {}'.format(len(train_data)))\n",
        "print('테스트 샘플의 개수 : {}'.format(len(test_data)))"
      ],
      "execution_count": 90,
      "outputs": [
        {
          "output_type": "stream",
          "text": [
            "훈련 샘플의 개수 : 150000\n",
            "테스트 샘플의 개수 : 50000\n"
          ],
          "name": "stdout"
        }
      ]
    },
    {
      "cell_type": "code",
      "metadata": {
        "id": "Vd889KdnUKUK",
        "colab_type": "code",
        "colab": {
          "base_uri": "https://localhost:8080/",
          "height": 35
        },
        "outputId": "51eb3fa0-2bb0-414d-8c13-28389577ba96"
      },
      "source": [
        "print(vars(train_data[0])['text'])"
      ],
      "execution_count": 122,
      "outputs": [
        {
          "output_type": "stream",
          "text": [
            "['더빙', '진짜', '목소리']\n"
          ],
          "name": "stdout"
        }
      ]
    },
    {
      "cell_type": "code",
      "metadata": {
        "id": "z0IDBJfirPIe",
        "colab_type": "code",
        "colab": {
          "base_uri": "https://localhost:8080/",
          "height": 35
        },
        "outputId": "eb10d575-bb36-4f08-e855-747285f7548f"
      },
      "source": [
        "vars(train_data[0])\n",
        "vars(train_data[1])['text']"
      ],
      "execution_count": 135,
      "outputs": [
        {
          "output_type": "execute_result",
          "data": {
            "text/plain": [
              "['흠', '포스터', '보고', '초딩', '영화', '줄', '오버', '연기']"
            ]
          },
          "metadata": {
            "tags": []
          },
          "execution_count": 135
        }
      ]
    },
    {
      "cell_type": "code",
      "metadata": {
        "id": "jkVbTKvOpm-e",
        "colab_type": "code",
        "colab": {
          "base_uri": "https://localhost:8080/",
          "height": 35
        },
        "outputId": "884c2885-805e-43a6-e2a0-c4e321700eef"
      },
      "source": [
        "print(vars(train_data[0]))"
      ],
      "execution_count": 123,
      "outputs": [
        {
          "output_type": "stream",
          "text": [
            "{'id': '9976970', 'text': ['더빙', '진짜', '목소리'], 'label': '0'}\n"
          ],
          "name": "stdout"
        }
      ]
    },
    {
      "cell_type": "code",
      "metadata": {
        "id": "Dy6xBBA3n585",
        "colab_type": "code",
        "colab": {}
      },
      "source": [
        ""
      ],
      "execution_count": null,
      "outputs": []
    },
    {
      "cell_type": "markdown",
      "metadata": {
        "id": "lQ-YBxOHS_Xw",
        "colab_type": "text"
      },
      "source": [
        "###konlpy 설치"
      ]
    },
    {
      "cell_type": "code",
      "metadata": {
        "id": "UgAxKEvlAV_o",
        "colab_type": "code",
        "colab": {
          "base_uri": "https://localhost:8080/",
          "height": 604
        },
        "outputId": "0a49e28c-60de-4f1f-f6a5-f1c563494b27"
      },
      "source": [
        "!pip install konlpy"
      ],
      "execution_count": 1,
      "outputs": [
        {
          "output_type": "stream",
          "text": [
            "Collecting konlpy\n",
            "\u001b[?25l  Downloading https://files.pythonhosted.org/packages/85/0e/f385566fec837c0b83f216b2da65db9997b35dd675e107752005b7d392b1/konlpy-0.5.2-py2.py3-none-any.whl (19.4MB)\n",
            "\u001b[K     |████████████████████████████████| 19.4MB 1.3MB/s \n",
            "\u001b[?25hCollecting beautifulsoup4==4.6.0\n",
            "\u001b[?25l  Downloading https://files.pythonhosted.org/packages/9e/d4/10f46e5cfac773e22707237bfcd51bbffeaf0a576b0a847ec7ab15bd7ace/beautifulsoup4-4.6.0-py3-none-any.whl (86kB)\n",
            "\u001b[K     |████████████████████████████████| 92kB 8.5MB/s \n",
            "\u001b[?25hCollecting colorama\n",
            "  Downloading https://files.pythonhosted.org/packages/c9/dc/45cdef1b4d119eb96316b3117e6d5708a08029992b2fee2c143c7a0a5cc5/colorama-0.4.3-py2.py3-none-any.whl\n",
            "Requirement already satisfied: lxml>=4.1.0 in /usr/local/lib/python3.6/dist-packages (from konlpy) (4.2.6)\n",
            "Requirement already satisfied: numpy>=1.6 in /usr/local/lib/python3.6/dist-packages (from konlpy) (1.18.5)\n",
            "Collecting JPype1>=0.7.0\n",
            "\u001b[?25l  Downloading https://files.pythonhosted.org/packages/8b/f7/a368401e630f0e390dd0e62c39fb928e5b23741b53c2360ee7d376660927/JPype1-1.0.2-cp36-cp36m-manylinux2010_x86_64.whl (3.8MB)\n",
            "\u001b[K     |████████████████████████████████| 3.8MB 38.6MB/s \n",
            "\u001b[?25hCollecting tweepy>=3.7.0\n",
            "  Downloading https://files.pythonhosted.org/packages/bb/7c/99d51f80f3b77b107ebae2634108717362c059a41384a1810d13e2429a81/tweepy-3.9.0-py2.py3-none-any.whl\n",
            "Requirement already satisfied: typing-extensions; python_version < \"3.8\" in /usr/local/lib/python3.6/dist-packages (from JPype1>=0.7.0->konlpy) (3.7.4.2)\n",
            "Requirement already satisfied: requests-oauthlib>=0.7.0 in /usr/local/lib/python3.6/dist-packages (from tweepy>=3.7.0->konlpy) (1.3.0)\n",
            "Requirement already satisfied: six>=1.10.0 in /usr/local/lib/python3.6/dist-packages (from tweepy>=3.7.0->konlpy) (1.15.0)\n",
            "Requirement already satisfied: requests[socks]>=2.11.1 in /usr/local/lib/python3.6/dist-packages (from tweepy>=3.7.0->konlpy) (2.23.0)\n",
            "Requirement already satisfied: oauthlib>=3.0.0 in /usr/local/lib/python3.6/dist-packages (from requests-oauthlib>=0.7.0->tweepy>=3.7.0->konlpy) (3.1.0)\n",
            "Requirement already satisfied: urllib3!=1.25.0,!=1.25.1,<1.26,>=1.21.1 in /usr/local/lib/python3.6/dist-packages (from requests[socks]>=2.11.1->tweepy>=3.7.0->konlpy) (1.24.3)\n",
            "Requirement already satisfied: idna<3,>=2.5 in /usr/local/lib/python3.6/dist-packages (from requests[socks]>=2.11.1->tweepy>=3.7.0->konlpy) (2.10)\n",
            "Requirement already satisfied: certifi>=2017.4.17 in /usr/local/lib/python3.6/dist-packages (from requests[socks]>=2.11.1->tweepy>=3.7.0->konlpy) (2020.6.20)\n",
            "Requirement already satisfied: chardet<4,>=3.0.2 in /usr/local/lib/python3.6/dist-packages (from requests[socks]>=2.11.1->tweepy>=3.7.0->konlpy) (3.0.4)\n",
            "Requirement already satisfied: PySocks!=1.5.7,>=1.5.6; extra == \"socks\" in /usr/local/lib/python3.6/dist-packages (from requests[socks]>=2.11.1->tweepy>=3.7.0->konlpy) (1.7.1)\n",
            "Installing collected packages: beautifulsoup4, colorama, JPype1, tweepy, konlpy\n",
            "  Found existing installation: beautifulsoup4 4.6.3\n",
            "    Uninstalling beautifulsoup4-4.6.3:\n",
            "      Successfully uninstalled beautifulsoup4-4.6.3\n",
            "  Found existing installation: tweepy 3.6.0\n",
            "    Uninstalling tweepy-3.6.0:\n",
            "      Successfully uninstalled tweepy-3.6.0\n",
            "Successfully installed JPype1-1.0.2 beautifulsoup4-4.6.0 colorama-0.4.3 konlpy-0.5.2 tweepy-3.9.0\n"
          ],
          "name": "stdout"
        }
      ]
    },
    {
      "cell_type": "code",
      "metadata": {
        "id": "NKf9um_FAaOl",
        "colab_type": "code",
        "colab": {
          "base_uri": "https://localhost:8080/",
          "height": 1000
        },
        "outputId": "7de33faf-e27e-4a0b-9efa-56f7cfd5f9e8"
      },
      "source": [
        "!sudo apt-get install g++ openjdk-7-jdk # Install Java 1.7+\n",
        "!sudo apt-get install python-dev; pip install konlpy     # Python 2.x\n",
        "!sudo apt-get install python3-dev; pip3 install konlpy   # Python 3.x\n",
        "!sudo apt-get install curl\n",
        "!bash <(curl -s https://raw.githubusercontent.com/konlpy/konlpy/master/scripts/mecab.sh)"
      ],
      "execution_count": 2,
      "outputs": [
        {
          "output_type": "stream",
          "text": [
            "Reading package lists... Done\n",
            "Building dependency tree       \n",
            "Reading state information... Done\n",
            "Package openjdk-7-jdk is not available, but is referred to by another package.\n",
            "This may mean that the package is missing, has been obsoleted, or\n",
            "is only available from another source\n",
            "\n",
            "E: Package 'openjdk-7-jdk' has no installation candidate\n",
            "Reading package lists... Done\n",
            "Building dependency tree       \n",
            "Reading state information... Done\n",
            "python-dev is already the newest version (2.7.15~rc1-1).\n",
            "The following package was automatically installed and is no longer required:\n",
            "  libnvidia-common-440\n",
            "Use 'sudo apt autoremove' to remove it.\n",
            "0 upgraded, 0 newly installed, 0 to remove and 35 not upgraded.\n",
            "Requirement already satisfied: konlpy in /usr/local/lib/python3.6/dist-packages (0.5.2)\n",
            "Requirement already satisfied: lxml>=4.1.0 in /usr/local/lib/python3.6/dist-packages (from konlpy) (4.2.6)\n",
            "Requirement already satisfied: JPype1>=0.7.0 in /usr/local/lib/python3.6/dist-packages (from konlpy) (1.0.2)\n",
            "Requirement already satisfied: beautifulsoup4==4.6.0 in /usr/local/lib/python3.6/dist-packages (from konlpy) (4.6.0)\n",
            "Requirement already satisfied: colorama in /usr/local/lib/python3.6/dist-packages (from konlpy) (0.4.3)\n",
            "Requirement already satisfied: numpy>=1.6 in /usr/local/lib/python3.6/dist-packages (from konlpy) (1.18.5)\n",
            "Requirement already satisfied: tweepy>=3.7.0 in /usr/local/lib/python3.6/dist-packages (from konlpy) (3.9.0)\n",
            "Requirement already satisfied: typing-extensions; python_version < \"3.8\" in /usr/local/lib/python3.6/dist-packages (from JPype1>=0.7.0->konlpy) (3.7.4.2)\n",
            "Requirement already satisfied: requests-oauthlib>=0.7.0 in /usr/local/lib/python3.6/dist-packages (from tweepy>=3.7.0->konlpy) (1.3.0)\n",
            "Requirement already satisfied: six>=1.10.0 in /usr/local/lib/python3.6/dist-packages (from tweepy>=3.7.0->konlpy) (1.15.0)\n",
            "Requirement already satisfied: requests[socks]>=2.11.1 in /usr/local/lib/python3.6/dist-packages (from tweepy>=3.7.0->konlpy) (2.23.0)\n",
            "Requirement already satisfied: oauthlib>=3.0.0 in /usr/local/lib/python3.6/dist-packages (from requests-oauthlib>=0.7.0->tweepy>=3.7.0->konlpy) (3.1.0)\n",
            "Requirement already satisfied: urllib3!=1.25.0,!=1.25.1,<1.26,>=1.21.1 in /usr/local/lib/python3.6/dist-packages (from requests[socks]>=2.11.1->tweepy>=3.7.0->konlpy) (1.24.3)\n",
            "Requirement already satisfied: idna<3,>=2.5 in /usr/local/lib/python3.6/dist-packages (from requests[socks]>=2.11.1->tweepy>=3.7.0->konlpy) (2.10)\n",
            "Requirement already satisfied: certifi>=2017.4.17 in /usr/local/lib/python3.6/dist-packages (from requests[socks]>=2.11.1->tweepy>=3.7.0->konlpy) (2020.6.20)\n",
            "Requirement already satisfied: chardet<4,>=3.0.2 in /usr/local/lib/python3.6/dist-packages (from requests[socks]>=2.11.1->tweepy>=3.7.0->konlpy) (3.0.4)\n",
            "Requirement already satisfied: PySocks!=1.5.7,>=1.5.6; extra == \"socks\" in /usr/local/lib/python3.6/dist-packages (from requests[socks]>=2.11.1->tweepy>=3.7.0->konlpy) (1.7.1)\n",
            "Reading package lists... Done\n",
            "Building dependency tree       \n",
            "Reading state information... Done\n",
            "python3-dev is already the newest version (3.6.7-1~18.04).\n",
            "The following package was automatically installed and is no longer required:\n",
            "  libnvidia-common-440\n",
            "Use 'sudo apt autoremove' to remove it.\n",
            "0 upgraded, 0 newly installed, 0 to remove and 35 not upgraded.\n",
            "Requirement already satisfied: konlpy in /usr/local/lib/python3.6/dist-packages (0.5.2)\n",
            "Requirement already satisfied: colorama in /usr/local/lib/python3.6/dist-packages (from konlpy) (0.4.3)\n",
            "Requirement already satisfied: lxml>=4.1.0 in /usr/local/lib/python3.6/dist-packages (from konlpy) (4.2.6)\n",
            "Requirement already satisfied: tweepy>=3.7.0 in /usr/local/lib/python3.6/dist-packages (from konlpy) (3.9.0)\n",
            "Requirement already satisfied: numpy>=1.6 in /usr/local/lib/python3.6/dist-packages (from konlpy) (1.18.5)\n",
            "Requirement already satisfied: JPype1>=0.7.0 in /usr/local/lib/python3.6/dist-packages (from konlpy) (1.0.2)\n",
            "Requirement already satisfied: beautifulsoup4==4.6.0 in /usr/local/lib/python3.6/dist-packages (from konlpy) (4.6.0)\n",
            "Requirement already satisfied: requests[socks]>=2.11.1 in /usr/local/lib/python3.6/dist-packages (from tweepy>=3.7.0->konlpy) (2.23.0)\n",
            "Requirement already satisfied: requests-oauthlib>=0.7.0 in /usr/local/lib/python3.6/dist-packages (from tweepy>=3.7.0->konlpy) (1.3.0)\n",
            "Requirement already satisfied: six>=1.10.0 in /usr/local/lib/python3.6/dist-packages (from tweepy>=3.7.0->konlpy) (1.15.0)\n",
            "Requirement already satisfied: typing-extensions; python_version < \"3.8\" in /usr/local/lib/python3.6/dist-packages (from JPype1>=0.7.0->konlpy) (3.7.4.2)\n",
            "Requirement already satisfied: chardet<4,>=3.0.2 in /usr/local/lib/python3.6/dist-packages (from requests[socks]>=2.11.1->tweepy>=3.7.0->konlpy) (3.0.4)\n",
            "Requirement already satisfied: idna<3,>=2.5 in /usr/local/lib/python3.6/dist-packages (from requests[socks]>=2.11.1->tweepy>=3.7.0->konlpy) (2.10)\n",
            "Requirement already satisfied: urllib3!=1.25.0,!=1.25.1,<1.26,>=1.21.1 in /usr/local/lib/python3.6/dist-packages (from requests[socks]>=2.11.1->tweepy>=3.7.0->konlpy) (1.24.3)\n",
            "Requirement already satisfied: certifi>=2017.4.17 in /usr/local/lib/python3.6/dist-packages (from requests[socks]>=2.11.1->tweepy>=3.7.0->konlpy) (2020.6.20)\n",
            "Requirement already satisfied: PySocks!=1.5.7,>=1.5.6; extra == \"socks\" in /usr/local/lib/python3.6/dist-packages (from requests[socks]>=2.11.1->tweepy>=3.7.0->konlpy) (1.7.1)\n",
            "Requirement already satisfied: oauthlib>=3.0.0 in /usr/local/lib/python3.6/dist-packages (from requests-oauthlib>=0.7.0->tweepy>=3.7.0->konlpy) (3.1.0)\n",
            "Reading package lists... Done\n",
            "Building dependency tree       \n",
            "Reading state information... Done\n",
            "curl is already the newest version (7.58.0-2ubuntu3.9).\n",
            "The following package was automatically installed and is no longer required:\n",
            "  libnvidia-common-440\n",
            "Use 'sudo apt autoremove' to remove it.\n",
            "0 upgraded, 0 newly installed, 0 to remove and 35 not upgraded.\n",
            "Installing automake (A dependency for mecab-ko)\n",
            "Get:1 http://security.ubuntu.com/ubuntu bionic-security InRelease [88.7 kB]\n",
            "Ign:2 https://developer.download.nvidia.com/compute/cuda/repos/ubuntu1804/x86_64  InRelease\n",
            "Get:3 https://cloud.r-project.org/bin/linux/ubuntu bionic-cran35/ InRelease [3,626 B]\n",
            "Hit:4 http://ppa.launchpad.net/graphics-drivers/ppa/ubuntu bionic InRelease\n",
            "Ign:5 https://developer.download.nvidia.com/compute/machine-learning/repos/ubuntu1804/x86_64  InRelease\n",
            "Hit:6 http://archive.ubuntu.com/ubuntu bionic InRelease\n",
            "Get:7 https://developer.download.nvidia.com/compute/cuda/repos/ubuntu1804/x86_64  Release [697 B]\n",
            "Hit:8 https://developer.download.nvidia.com/compute/machine-learning/repos/ubuntu1804/x86_64  Release\n",
            "Get:9 https://developer.download.nvidia.com/compute/cuda/repos/ubuntu1804/x86_64  Release.gpg [836 B]\n",
            "Get:10 http://archive.ubuntu.com/ubuntu bionic-updates InRelease [88.7 kB]\n",
            "Get:11 http://security.ubuntu.com/ubuntu bionic-security/main amd64 Packages [1,037 kB]\n",
            "Get:12 http://ppa.launchpad.net/marutter/c2d4u3.5/ubuntu bionic InRelease [15.4 kB]\n",
            "Get:13 http://security.ubuntu.com/ubuntu bionic-security/universe amd64 Packages [882 kB]\n",
            "Get:14 http://archive.ubuntu.com/ubuntu bionic-backports InRelease [74.6 kB]\n",
            "Ign:16 https://developer.download.nvidia.com/compute/cuda/repos/ubuntu1804/x86_64  Packages\n",
            "Get:16 https://developer.download.nvidia.com/compute/cuda/repos/ubuntu1804/x86_64  Packages [255 kB]\n",
            "Get:17 http://ppa.launchpad.net/marutter/c2d4u3.5/ubuntu bionic/main Sources [1,855 kB]\n",
            "Get:18 http://archive.ubuntu.com/ubuntu bionic-updates/main amd64 Packages [1,334 kB]\n",
            "Get:19 http://archive.ubuntu.com/ubuntu bionic-updates/universe amd64 Packages [1,413 kB]\n",
            "Get:20 http://archive.ubuntu.com/ubuntu bionic-updates/restricted amd64 Packages [116 kB]\n",
            "Get:21 http://archive.ubuntu.com/ubuntu bionic-updates/multiverse amd64 Packages [27.1 kB]\n",
            "Get:22 http://ppa.launchpad.net/marutter/c2d4u3.5/ubuntu bionic/main amd64 Packages [895 kB]\n",
            "Fetched 8,087 kB in 3s (3,068 kB/s)\n",
            "Reading package lists... Done\n",
            "Reading package lists... Done\n",
            "Building dependency tree       \n",
            "Reading state information... Done\n",
            "The following package was automatically installed and is no longer required:\n",
            "  libnvidia-common-440\n",
            "Use 'sudo apt autoremove' to remove it.\n",
            "The following additional packages will be installed:\n",
            "  autoconf autotools-dev libsigsegv2 m4\n",
            "Suggested packages:\n",
            "  autoconf-archive gnu-standards autoconf-doc libtool gettext m4-doc\n",
            "The following NEW packages will be installed:\n",
            "  autoconf automake autotools-dev libsigsegv2 m4\n",
            "0 upgraded, 5 newly installed, 0 to remove and 50 not upgraded.\n",
            "Need to get 1,082 kB of archives.\n",
            "After this operation, 3,994 kB of additional disk space will be used.\n",
            "Get:1 http://archive.ubuntu.com/ubuntu bionic/main amd64 libsigsegv2 amd64 2.12-1 [14.7 kB]\n",
            "Get:2 http://archive.ubuntu.com/ubuntu bionic/main amd64 m4 amd64 1.4.18-1 [197 kB]\n",
            "Get:3 http://archive.ubuntu.com/ubuntu bionic/main amd64 autoconf all 2.69-11 [322 kB]\n",
            "Get:4 http://archive.ubuntu.com/ubuntu bionic/main amd64 autotools-dev all 20180224.1 [39.6 kB]\n",
            "Get:5 http://archive.ubuntu.com/ubuntu bionic/main amd64 automake all 1:1.15.1-3ubuntu2 [509 kB]\n",
            "Fetched 1,082 kB in 1s (1,249 kB/s)\n",
            "debconf: unable to initialize frontend: Dialog\n",
            "debconf: (No usable dialog-like program is installed, so the dialog based frontend cannot be used. at /usr/share/perl5/Debconf/FrontEnd/Dialog.pm line 76, <> line 5.)\n",
            "debconf: falling back to frontend: Readline\n",
            "debconf: unable to initialize frontend: Readline\n",
            "debconf: (This frontend requires a controlling tty.)\n",
            "debconf: falling back to frontend: Teletype\n",
            "dpkg-preconfigure: unable to re-open stdin: \n",
            "Selecting previously unselected package libsigsegv2:amd64.\n",
            "(Reading database ... 144487 files and directories currently installed.)\n",
            "Preparing to unpack .../libsigsegv2_2.12-1_amd64.deb ...\n",
            "Unpacking libsigsegv2:amd64 (2.12-1) ...\n",
            "Selecting previously unselected package m4.\n",
            "Preparing to unpack .../archives/m4_1.4.18-1_amd64.deb ...\n",
            "Unpacking m4 (1.4.18-1) ...\n",
            "Selecting previously unselected package autoconf.\n",
            "Preparing to unpack .../autoconf_2.69-11_all.deb ...\n",
            "Unpacking autoconf (2.69-11) ...\n",
            "Selecting previously unselected package autotools-dev.\n",
            "Preparing to unpack .../autotools-dev_20180224.1_all.deb ...\n",
            "Unpacking autotools-dev (20180224.1) ...\n",
            "Selecting previously unselected package automake.\n",
            "Preparing to unpack .../automake_1%3a1.15.1-3ubuntu2_all.deb ...\n",
            "Unpacking automake (1:1.15.1-3ubuntu2) ...\n",
            "Setting up libsigsegv2:amd64 (2.12-1) ...\n",
            "Setting up m4 (1.4.18-1) ...\n",
            "Setting up autotools-dev (20180224.1) ...\n",
            "Setting up autoconf (2.69-11) ...\n",
            "Setting up automake (1:1.15.1-3ubuntu2) ...\n",
            "update-alternatives: using /usr/bin/automake-1.15 to provide /usr/bin/automake (automake) in auto mode\n",
            "Processing triggers for libc-bin (2.27-3ubuntu1) ...\n",
            "/sbin/ldconfig.real: /usr/local/lib/python3.6/dist-packages/ideep4py/lib/libmkldnn.so.0 is not a symbolic link\n",
            "\n",
            "Processing triggers for man-db (2.8.3-2ubuntu0.1) ...\n",
            "Install mecab-ko-dic\n",
            "  % Total    % Received % Xferd  Average Speed   Time    Time     Time  Current\n",
            "                                 Dload  Upload   Total   Spent    Left  Speed\n",
            "  0     0    0     0    0     0      0      0 --:--:-- --:--:-- --:--:--     0\n",
            "100 1381k  100 1381k    0     0  3386k      0 --:--:-- --:--:-- --:--:-- 3386k\n",
            "mecab-0.996-ko-0.9.2/\n",
            "mecab-0.996-ko-0.9.2/example/\n",
            "mecab-0.996-ko-0.9.2/example/example.cpp\n",
            "mecab-0.996-ko-0.9.2/example/example_lattice.cpp\n",
            "mecab-0.996-ko-0.9.2/example/example_lattice.c\n",
            "mecab-0.996-ko-0.9.2/example/example.c\n",
            "mecab-0.996-ko-0.9.2/example/thread_test.cpp\n",
            "mecab-0.996-ko-0.9.2/mecab-config.in\n",
            "mecab-0.996-ko-0.9.2/man/\n",
            "mecab-0.996-ko-0.9.2/man/Makefile.am\n",
            "mecab-0.996-ko-0.9.2/man/mecab.1\n",
            "mecab-0.996-ko-0.9.2/man/Makefile.in\n",
            "mecab-0.996-ko-0.9.2/mecab.iss.in\n",
            "mecab-0.996-ko-0.9.2/config.guess\n",
            "mecab-0.996-ko-0.9.2/README\n",
            "mecab-0.996-ko-0.9.2/COPYING\n",
            "mecab-0.996-ko-0.9.2/CHANGES.md\n",
            "mecab-0.996-ko-0.9.2/README.md\n",
            "mecab-0.996-ko-0.9.2/INSTALL\n",
            "mecab-0.996-ko-0.9.2/config.sub\n",
            "mecab-0.996-ko-0.9.2/configure.in\n",
            "mecab-0.996-ko-0.9.2/swig/\n",
            "mecab-0.996-ko-0.9.2/swig/Makefile\n",
            "mecab-0.996-ko-0.9.2/swig/version.h.in\n",
            "mecab-0.996-ko-0.9.2/swig/version.h\n",
            "mecab-0.996-ko-0.9.2/swig/MeCab.i\n",
            "mecab-0.996-ko-0.9.2/aclocal.m4\n",
            "mecab-0.996-ko-0.9.2/LGPL\n",
            "mecab-0.996-ko-0.9.2/Makefile.am\n",
            "mecab-0.996-ko-0.9.2/configure\n",
            "mecab-0.996-ko-0.9.2/tests/\n",
            "mecab-0.996-ko-0.9.2/tests/autolink/\n",
            "mecab-0.996-ko-0.9.2/tests/autolink/unk.def\n",
            "mecab-0.996-ko-0.9.2/tests/autolink/dicrc\n",
            "mecab-0.996-ko-0.9.2/tests/autolink/dic.csv\n",
            "mecab-0.996-ko-0.9.2/tests/autolink/test\n",
            "mecab-0.996-ko-0.9.2/tests/autolink/char.def\n",
            "mecab-0.996-ko-0.9.2/tests/autolink/matrix.def\n",
            "mecab-0.996-ko-0.9.2/tests/autolink/test.gld\n",
            "mecab-0.996-ko-0.9.2/tests/t9/\n",
            "mecab-0.996-ko-0.9.2/tests/t9/unk.def\n",
            "mecab-0.996-ko-0.9.2/tests/t9/ipadic.pl\n",
            "mecab-0.996-ko-0.9.2/tests/t9/dicrc\n",
            "mecab-0.996-ko-0.9.2/tests/t9/dic.csv\n",
            "mecab-0.996-ko-0.9.2/tests/t9/test\n",
            "mecab-0.996-ko-0.9.2/tests/t9/char.def\n",
            "mecab-0.996-ko-0.9.2/tests/t9/matrix.def\n",
            "mecab-0.996-ko-0.9.2/tests/t9/mkdic.pl\n",
            "mecab-0.996-ko-0.9.2/tests/t9/test.gld\n",
            "mecab-0.996-ko-0.9.2/tests/cost-train/\n",
            "mecab-0.996-ko-0.9.2/tests/cost-train/ipa.train\n",
            "mecab-0.996-ko-0.9.2/tests/cost-train/ipa.test\n",
            "mecab-0.996-ko-0.9.2/tests/cost-train/seed/\n",
            "mecab-0.996-ko-0.9.2/tests/cost-train/seed/rewrite.def\n",
            "mecab-0.996-ko-0.9.2/tests/cost-train/seed/feature.def\n",
            "mecab-0.996-ko-0.9.2/tests/cost-train/seed/unk.def\n",
            "mecab-0.996-ko-0.9.2/tests/cost-train/seed/dicrc\n",
            "mecab-0.996-ko-0.9.2/tests/cost-train/seed/dic.csv\n",
            "mecab-0.996-ko-0.9.2/tests/cost-train/seed/char.def\n",
            "mecab-0.996-ko-0.9.2/tests/cost-train/seed/matrix.def\n",
            "mecab-0.996-ko-0.9.2/tests/run-eval.sh\n",
            "mecab-0.996-ko-0.9.2/tests/run-cost-train.sh\n",
            "mecab-0.996-ko-0.9.2/tests/Makefile.am\n",
            "mecab-0.996-ko-0.9.2/tests/katakana/\n",
            "mecab-0.996-ko-0.9.2/tests/katakana/unk.def\n",
            "mecab-0.996-ko-0.9.2/tests/katakana/dicrc\n",
            "mecab-0.996-ko-0.9.2/tests/katakana/dic.csv\n",
            "mecab-0.996-ko-0.9.2/tests/katakana/test\n",
            "mecab-0.996-ko-0.9.2/tests/katakana/char.def\n",
            "mecab-0.996-ko-0.9.2/tests/katakana/matrix.def\n",
            "mecab-0.996-ko-0.9.2/tests/katakana/test.gld\n",
            "mecab-0.996-ko-0.9.2/tests/eval/\n",
            "mecab-0.996-ko-0.9.2/tests/eval/answer\n",
            "mecab-0.996-ko-0.9.2/tests/eval/system\n",
            "mecab-0.996-ko-0.9.2/tests/eval/test.gld\n",
            "mecab-0.996-ko-0.9.2/tests/shiin/\n",
            "mecab-0.996-ko-0.9.2/tests/shiin/unk.def\n",
            "mecab-0.996-ko-0.9.2/tests/shiin/dicrc\n",
            "mecab-0.996-ko-0.9.2/tests/shiin/dic.csv\n",
            "mecab-0.996-ko-0.9.2/tests/shiin/test\n",
            "mecab-0.996-ko-0.9.2/tests/shiin/char.def\n",
            "mecab-0.996-ko-0.9.2/tests/shiin/matrix.def\n",
            "mecab-0.996-ko-0.9.2/tests/shiin/mkdic.pl\n",
            "mecab-0.996-ko-0.9.2/tests/shiin/test.gld\n",
            "mecab-0.996-ko-0.9.2/tests/latin/\n",
            "mecab-0.996-ko-0.9.2/tests/latin/unk.def\n",
            "mecab-0.996-ko-0.9.2/tests/latin/dicrc\n",
            "mecab-0.996-ko-0.9.2/tests/latin/dic.csv\n",
            "mecab-0.996-ko-0.9.2/tests/latin/test\n",
            "mecab-0.996-ko-0.9.2/tests/latin/char.def\n",
            "mecab-0.996-ko-0.9.2/tests/latin/matrix.def\n",
            "mecab-0.996-ko-0.9.2/tests/latin/test.gld\n",
            "mecab-0.996-ko-0.9.2/tests/chartype/\n",
            "mecab-0.996-ko-0.9.2/tests/chartype/unk.def\n",
            "mecab-0.996-ko-0.9.2/tests/chartype/dicrc\n",
            "mecab-0.996-ko-0.9.2/tests/chartype/dic.csv\n",
            "mecab-0.996-ko-0.9.2/tests/chartype/test\n",
            "mecab-0.996-ko-0.9.2/tests/chartype/char.def\n",
            "mecab-0.996-ko-0.9.2/tests/chartype/matrix.def\n",
            "mecab-0.996-ko-0.9.2/tests/chartype/test.gld\n",
            "mecab-0.996-ko-0.9.2/tests/run-dics.sh\n",
            "mecab-0.996-ko-0.9.2/tests/ngram/\n",
            "mecab-0.996-ko-0.9.2/tests/ngram/unk.def\n",
            "mecab-0.996-ko-0.9.2/tests/ngram/dicrc\n",
            "mecab-0.996-ko-0.9.2/tests/ngram/dic.csv\n",
            "mecab-0.996-ko-0.9.2/tests/ngram/test\n",
            "mecab-0.996-ko-0.9.2/tests/ngram/char.def\n",
            "mecab-0.996-ko-0.9.2/tests/ngram/matrix.def\n",
            "mecab-0.996-ko-0.9.2/tests/ngram/test.gld\n",
            "mecab-0.996-ko-0.9.2/tests/Makefile.in\n",
            "mecab-0.996-ko-0.9.2/ltmain.sh\n",
            "mecab-0.996-ko-0.9.2/config.rpath\n",
            "mecab-0.996-ko-0.9.2/config.h.in\n",
            "mecab-0.996-ko-0.9.2/mecabrc.in\n",
            "mecab-0.996-ko-0.9.2/GPL\n",
            "mecab-0.996-ko-0.9.2/Makefile.train\n",
            "mecab-0.996-ko-0.9.2/ChangeLog\n",
            "mecab-0.996-ko-0.9.2/install-sh\n",
            "mecab-0.996-ko-0.9.2/AUTHORS\n",
            "mecab-0.996-ko-0.9.2/doc/\n",
            "mecab-0.996-ko-0.9.2/doc/bindings.html\n",
            "mecab-0.996-ko-0.9.2/doc/posid.html\n",
            "mecab-0.996-ko-0.9.2/doc/unk.html\n",
            "mecab-0.996-ko-0.9.2/doc/learn.html\n",
            "mecab-0.996-ko-0.9.2/doc/format.html\n",
            "mecab-0.996-ko-0.9.2/doc/libmecab.html\n",
            "mecab-0.996-ko-0.9.2/doc/mecab.css\n",
            "mecab-0.996-ko-0.9.2/doc/feature.html\n",
            "mecab-0.996-ko-0.9.2/doc/Makefile.am\n",
            "mecab-0.996-ko-0.9.2/doc/soft.html\n",
            "mecab-0.996-ko-0.9.2/doc/en/\n",
            "mecab-0.996-ko-0.9.2/doc/en/bindings.html\n",
            "mecab-0.996-ko-0.9.2/doc/dic-detail.html\n",
            "mecab-0.996-ko-0.9.2/doc/flow.png\n",
            "mecab-0.996-ko-0.9.2/doc/mecab.html\n",
            "mecab-0.996-ko-0.9.2/doc/index.html\n",
            "mecab-0.996-ko-0.9.2/doc/result.png\n",
            "mecab-0.996-ko-0.9.2/doc/doxygen/\n",
            "mecab-0.996-ko-0.9.2/doc/doxygen/tab_a.png\n",
            "mecab-0.996-ko-0.9.2/doc/doxygen/globals_eval.html\n",
            "mecab-0.996-ko-0.9.2/doc/doxygen/classMeCab_1_1Tagger-members.html\n",
            "mecab-0.996-ko-0.9.2/doc/doxygen/functions_vars.html\n",
            "mecab-0.996-ko-0.9.2/doc/doxygen/doxygen.css\n",
            "mecab-0.996-ko-0.9.2/doc/doxygen/tab_r.gif\n",
            "mecab-0.996-ko-0.9.2/doc/doxygen/classMeCab_1_1Lattice.html\n",
            "mecab-0.996-ko-0.9.2/doc/doxygen/functions.html\n",
            "mecab-0.996-ko-0.9.2/doc/doxygen/classMeCab_1_1Tagger.html\n",
            "mecab-0.996-ko-0.9.2/doc/doxygen/mecab_8h_source.html\n",
            "mecab-0.996-ko-0.9.2/doc/doxygen/tabs.css\n",
            "mecab-0.996-ko-0.9.2/doc/doxygen/nav_f.png\n",
            "mecab-0.996-ko-0.9.2/doc/doxygen/tab_b.png\n",
            "mecab-0.996-ko-0.9.2/doc/doxygen/globals.html\n",
            "mecab-0.996-ko-0.9.2/doc/doxygen/nav_h.png\n",
            "mecab-0.996-ko-0.9.2/doc/doxygen/tab_h.png\n",
            "mecab-0.996-ko-0.9.2/doc/doxygen/classMeCab_1_1Model.html\n",
            "mecab-0.996-ko-0.9.2/doc/doxygen/globals_func.html\n",
            "mecab-0.996-ko-0.9.2/doc/doxygen/closed.png\n",
            "mecab-0.996-ko-0.9.2/doc/doxygen/tab_l.gif\n",
            "mecab-0.996-ko-0.9.2/doc/doxygen/structmecab__path__t-members.html\n",
            "mecab-0.996-ko-0.9.2/doc/doxygen/functions_func.html\n",
            "mecab-0.996-ko-0.9.2/doc/doxygen/globals_type.html\n",
            "mecab-0.996-ko-0.9.2/doc/doxygen/classMeCab_1_1Lattice-members.html\n",
            "mecab-0.996-ko-0.9.2/doc/doxygen/structmecab__node__t.html\n",
            "mecab-0.996-ko-0.9.2/doc/doxygen/namespacemembers_func.html\n",
            "mecab-0.996-ko-0.9.2/doc/doxygen/tab_s.png\n",
            "mecab-0.996-ko-0.9.2/doc/doxygen/structmecab__dictionary__info__t-members.html\n",
            "mecab-0.996-ko-0.9.2/doc/doxygen/namespacemembers_type.html\n",
            "mecab-0.996-ko-0.9.2/doc/doxygen/classMeCab_1_1Model-members.html\n",
            "mecab-0.996-ko-0.9.2/doc/doxygen/structmecab__dictionary__info__t.html\n",
            "mecab-0.996-ko-0.9.2/doc/doxygen/namespaces.html\n",
            "mecab-0.996-ko-0.9.2/doc/doxygen/namespacemembers.html\n",
            "mecab-0.996-ko-0.9.2/doc/doxygen/namespaceMeCab.html\n",
            "mecab-0.996-ko-0.9.2/doc/doxygen/structmecab__path__t.html\n",
            "mecab-0.996-ko-0.9.2/doc/doxygen/files.html\n",
            "mecab-0.996-ko-0.9.2/doc/doxygen/structmecab__node__t-members.html\n",
            "mecab-0.996-ko-0.9.2/doc/doxygen/index.html\n",
            "mecab-0.996-ko-0.9.2/doc/doxygen/annotated.html\n",
            "mecab-0.996-ko-0.9.2/doc/doxygen/globals_defs.html\n",
            "mecab-0.996-ko-0.9.2/doc/doxygen/classes.html\n",
            "mecab-0.996-ko-0.9.2/doc/doxygen/mecab_8h-source.html\n",
            "mecab-0.996-ko-0.9.2/doc/doxygen/doxygen.png\n",
            "mecab-0.996-ko-0.9.2/doc/doxygen/tab_b.gif\n",
            "mecab-0.996-ko-0.9.2/doc/doxygen/bc_s.png\n",
            "mecab-0.996-ko-0.9.2/doc/doxygen/open.png\n",
            "mecab-0.996-ko-0.9.2/doc/doxygen/mecab_8h.html\n",
            "mecab-0.996-ko-0.9.2/doc/dic.html\n",
            "mecab-0.996-ko-0.9.2/doc/partial.html\n",
            "mecab-0.996-ko-0.9.2/doc/feature.png\n",
            "mecab-0.996-ko-0.9.2/doc/Makefile.in\n",
            "mecab-0.996-ko-0.9.2/missing\n",
            "mecab-0.996-ko-0.9.2/BSD\n",
            "mecab-0.996-ko-0.9.2/NEWS\n",
            "mecab-0.996-ko-0.9.2/mkinstalldirs\n",
            "mecab-0.996-ko-0.9.2/src/\n",
            "mecab-0.996-ko-0.9.2/src/dictionary.h\n",
            "mecab-0.996-ko-0.9.2/src/writer.h\n",
            "mecab-0.996-ko-0.9.2/src/utils.h\n",
            "mecab-0.996-ko-0.9.2/src/string_buffer.cpp\n",
            "mecab-0.996-ko-0.9.2/src/tokenizer.cpp\n",
            "mecab-0.996-ko-0.9.2/src/make.bat\n",
            "mecab-0.996-ko-0.9.2/src/mecab.h\n",
            "mecab-0.996-ko-0.9.2/src/freelist.h\n",
            "mecab-0.996-ko-0.9.2/src/string_buffer.h\n",
            "mecab-0.996-ko-0.9.2/src/learner_tagger.h\n",
            "mecab-0.996-ko-0.9.2/src/dictionary_compiler.cpp\n",
            "mecab-0.996-ko-0.9.2/src/eval.cpp\n",
            "mecab-0.996-ko-0.9.2/src/mecab-system-eval.cpp\n",
            "mecab-0.996-ko-0.9.2/src/darts.h\n",
            "mecab-0.996-ko-0.9.2/src/param.h\n",
            "mecab-0.996-ko-0.9.2/src/char_property.h\n",
            "mecab-0.996-ko-0.9.2/src/learner_node.h\n",
            "mecab-0.996-ko-0.9.2/src/mecab-dict-gen.cpp\n",
            "mecab-0.996-ko-0.9.2/src/mecab-dict-index.cpp\n",
            "mecab-0.996-ko-0.9.2/src/winmain.h\n",
            "mecab-0.996-ko-0.9.2/src/thread.h\n",
            "mecab-0.996-ko-0.9.2/src/context_id.cpp\n",
            "mecab-0.996-ko-0.9.2/src/Makefile.am\n",
            "mecab-0.996-ko-0.9.2/src/connector.h\n",
            "mecab-0.996-ko-0.9.2/src/common.h\n",
            "mecab-0.996-ko-0.9.2/src/dictionary_rewriter.cpp\n",
            "mecab-0.996-ko-0.9.2/src/Makefile.msvc.in\n",
            "mecab-0.996-ko-0.9.2/src/dictionary_rewriter.h\n",
            "mecab-0.996-ko-0.9.2/src/feature_index.h\n",
            "mecab-0.996-ko-0.9.2/src/iconv_utils.cpp\n",
            "mecab-0.996-ko-0.9.2/src/char_property.cpp\n",
            "mecab-0.996-ko-0.9.2/src/mecab-test-gen.cpp\n",
            "mecab-0.996-ko-0.9.2/src/tagger.cpp\n",
            "mecab-0.996-ko-0.9.2/src/mecab-cost-train.cpp\n",
            "mecab-0.996-ko-0.9.2/src/learner.cpp\n",
            "mecab-0.996-ko-0.9.2/src/dictionary.cpp\n",
            "mecab-0.996-ko-0.9.2/src/lbfgs.cpp\n",
            "mecab-0.996-ko-0.9.2/src/ucs.h\n",
            "mecab-0.996-ko-0.9.2/src/writer.cpp\n",
            "mecab-0.996-ko-0.9.2/src/learner_tagger.cpp\n",
            "mecab-0.996-ko-0.9.2/src/lbfgs.h\n",
            "mecab-0.996-ko-0.9.2/src/libmecab.cpp\n",
            "mecab-0.996-ko-0.9.2/src/tokenizer.h\n",
            "mecab-0.996-ko-0.9.2/src/mecab.cpp\n",
            "mecab-0.996-ko-0.9.2/src/utils.cpp\n",
            "mecab-0.996-ko-0.9.2/src/dictionary_generator.cpp\n",
            "mecab-0.996-ko-0.9.2/src/param.cpp\n",
            "mecab-0.996-ko-0.9.2/src/context_id.h\n",
            "mecab-0.996-ko-0.9.2/src/mmap.h\n",
            "mecab-0.996-ko-0.9.2/src/viterbi.h\n",
            "mecab-0.996-ko-0.9.2/src/viterbi.cpp\n",
            "mecab-0.996-ko-0.9.2/src/stream_wrapper.h\n",
            "mecab-0.996-ko-0.9.2/src/feature_index.cpp\n",
            "mecab-0.996-ko-0.9.2/src/nbest_generator.h\n",
            "mecab-0.996-ko-0.9.2/src/ucstable.h\n",
            "mecab-0.996-ko-0.9.2/src/nbest_generator.cpp\n",
            "mecab-0.996-ko-0.9.2/src/iconv_utils.h\n",
            "mecab-0.996-ko-0.9.2/src/connector.cpp\n",
            "mecab-0.996-ko-0.9.2/src/Makefile.in\n",
            "mecab-0.996-ko-0.9.2/src/scoped_ptr.h\n",
            "mecab-0.996-ko-0.9.2/Makefile.in\n",
            "checking for a BSD-compatible install... /usr/bin/install -c\n",
            "checking whether build environment is sane... yes\n",
            "checking for a thread-safe mkdir -p... /bin/mkdir -p\n",
            "checking for gawk... no\n",
            "checking for mawk... mawk\n",
            "checking whether make sets $(MAKE)... yes\n",
            "checking for gcc... gcc\n",
            "checking whether the C compiler works... yes\n",
            "checking for C compiler default output file name... a.out\n",
            "checking for suffix of executables... \n",
            "checking whether we are cross compiling... no\n",
            "checking for suffix of object files... o\n",
            "checking whether we are using the GNU C compiler... yes\n",
            "checking whether gcc accepts -g... yes\n",
            "checking for gcc option to accept ISO C89... none needed\n",
            "checking for style of include used by make... GNU\n",
            "checking dependency style of gcc... none\n",
            "checking for g++... g++\n",
            "checking whether we are using the GNU C++ compiler... yes\n",
            "checking whether g++ accepts -g... yes\n",
            "checking dependency style of g++... none\n",
            "checking how to run the C preprocessor... gcc -E\n",
            "checking for grep that handles long lines and -e... /bin/grep\n",
            "checking for egrep... /bin/grep -E\n",
            "checking whether gcc needs -traditional... no\n",
            "checking whether make sets $(MAKE)... (cached) yes\n",
            "checking build system type... x86_64-unknown-linux-gnu\n",
            "checking host system type... x86_64-unknown-linux-gnu\n",
            "checking how to print strings... printf\n",
            "checking for a sed that does not truncate output... /bin/sed\n",
            "checking for fgrep... /bin/grep -F\n",
            "checking for ld used by gcc... /usr/bin/ld\n",
            "checking if the linker (/usr/bin/ld) is GNU ld... yes\n",
            "checking for BSD- or MS-compatible name lister (nm)... /usr/bin/nm -B\n",
            "checking the name lister (/usr/bin/nm -B) interface... BSD nm\n",
            "checking whether ln -s works... yes\n",
            "checking the maximum length of command line arguments... 1572864\n",
            "checking whether the shell understands some XSI constructs... yes\n",
            "checking whether the shell understands \"+=\"... yes\n",
            "checking how to convert x86_64-unknown-linux-gnu file names to x86_64-unknown-linux-gnu format... func_convert_file_noop\n",
            "checking how to convert x86_64-unknown-linux-gnu file names to toolchain format... func_convert_file_noop\n",
            "checking for /usr/bin/ld option to reload object files... -r\n",
            "checking for objdump... objdump\n",
            "checking how to recognize dependent libraries... pass_all\n",
            "checking for dlltool... dlltool\n",
            "checking how to associate runtime and link libraries... printf %s\\n\n",
            "checking for ar... ar\n",
            "checking for archiver @FILE support... @\n",
            "checking for strip... strip\n",
            "checking for ranlib... ranlib\n",
            "checking command to parse /usr/bin/nm -B output from gcc object... ok\n",
            "checking for sysroot... no\n",
            "./configure: line 7378: /usr/bin/file: No such file or directory\n",
            "checking for mt... no\n",
            "checking if : is a manifest tool... no\n",
            "checking for ANSI C header files... yes\n",
            "checking for sys/types.h... yes\n",
            "checking for sys/stat.h... yes\n",
            "checking for stdlib.h... yes\n",
            "checking for string.h... yes\n",
            "checking for memory.h... yes\n",
            "checking for strings.h... yes\n",
            "checking for inttypes.h... yes\n",
            "checking for stdint.h... yes\n",
            "checking for unistd.h... yes\n",
            "checking for dlfcn.h... yes\n",
            "checking for objdir... .libs\n",
            "checking if gcc supports -fno-rtti -fno-exceptions... no\n",
            "checking for gcc option to produce PIC... -fPIC -DPIC\n",
            "checking if gcc PIC flag -fPIC -DPIC works... yes\n",
            "checking if gcc static flag -static works... yes\n",
            "checking if gcc supports -c -o file.o... yes\n",
            "checking if gcc supports -c -o file.o... (cached) yes\n",
            "checking whether the gcc linker (/usr/bin/ld) supports shared libraries... yes\n",
            "checking whether -lc should be explicitly linked in... no\n",
            "checking dynamic linker characteristics... GNU/Linux ld.so\n",
            "checking how to hardcode library paths into programs... immediate\n",
            "checking whether stripping libraries is possible... yes\n",
            "checking if libtool supports shared libraries... yes\n",
            "checking whether to build shared libraries... yes\n",
            "checking whether to build static libraries... yes\n",
            "checking how to run the C++ preprocessor... g++ -E\n",
            "checking for ld used by g++... /usr/bin/ld\n",
            "checking if the linker (/usr/bin/ld) is GNU ld... yes\n",
            "checking whether the g++ linker (/usr/bin/ld) supports shared libraries... yes\n",
            "checking for g++ option to produce PIC... -fPIC -DPIC\n",
            "checking if g++ PIC flag -fPIC -DPIC works... yes\n",
            "checking if g++ static flag -static works... yes\n",
            "checking if g++ supports -c -o file.o... yes\n",
            "checking if g++ supports -c -o file.o... (cached) yes\n",
            "checking whether the g++ linker (/usr/bin/ld) supports shared libraries... yes\n",
            "checking dynamic linker characteristics... (cached) GNU/Linux ld.so\n",
            "checking how to hardcode library paths into programs... immediate\n",
            "checking for library containing strerror... none required\n",
            "checking whether byte ordering is bigendian... no\n",
            "checking for ld used by GCC... /usr/bin/ld\n",
            "checking if the linker (/usr/bin/ld) is GNU ld... yes\n",
            "checking for shared library run path origin... done\n",
            "checking for iconv... yes\n",
            "checking for working iconv... yes\n",
            "checking for iconv declaration... \n",
            "         extern size_t iconv (iconv_t cd, char * *inbuf, size_t *inbytesleft, char * *outbuf, size_t *outbytesleft);\n",
            "checking for ANSI C header files... (cached) yes\n",
            "checking for an ANSI C-conforming const... yes\n",
            "checking whether byte ordering is bigendian... (cached) no\n",
            "checking for string.h... (cached) yes\n",
            "checking for stdlib.h... (cached) yes\n",
            "checking for unistd.h... (cached) yes\n",
            "checking fcntl.h usability... yes\n",
            "checking fcntl.h presence... yes\n",
            "checking for fcntl.h... yes\n",
            "checking for stdint.h... (cached) yes\n",
            "checking for sys/stat.h... (cached) yes\n",
            "checking sys/mman.h usability... yes\n",
            "checking sys/mman.h presence... yes\n",
            "checking for sys/mman.h... yes\n",
            "checking sys/times.h usability... yes\n",
            "checking sys/times.h presence... yes\n",
            "checking for sys/times.h... yes\n",
            "checking for sys/types.h... (cached) yes\n",
            "checking dirent.h usability... yes\n",
            "checking dirent.h presence... yes\n",
            "checking for dirent.h... yes\n",
            "checking ctype.h usability... yes\n",
            "checking ctype.h presence... yes\n",
            "checking for ctype.h... yes\n",
            "checking for sys/types.h... (cached) yes\n",
            "checking io.h usability... no\n",
            "checking io.h presence... no\n",
            "checking for io.h... no\n",
            "checking windows.h usability... no\n",
            "checking windows.h presence... no\n",
            "checking for windows.h... no\n",
            "checking pthread.h usability... yes\n",
            "checking pthread.h presence... yes\n",
            "checking for pthread.h... yes\n",
            "checking for off_t... yes\n",
            "checking for size_t... yes\n",
            "checking size of char... 1\n",
            "checking size of short... 2\n",
            "checking size of int... 4\n",
            "checking size of long... 8\n",
            "checking size of long long... 8\n",
            "checking size of size_t... 8\n",
            "checking for size_t... (cached) yes\n",
            "checking for unsigned long long int... yes\n",
            "checking for stdlib.h... (cached) yes\n",
            "checking for unistd.h... (cached) yes\n",
            "checking for sys/param.h... yes\n",
            "checking for getpagesize... yes\n",
            "checking for working mmap... yes\n",
            "checking for main in -lstdc++... yes\n",
            "checking for pthread_create in -lpthread... yes\n",
            "checking for pthread_join in -lpthread... yes\n",
            "checking for getenv... yes\n",
            "checking for opendir... yes\n",
            "checking whether make is GNU Make... yes\n",
            "checking if g++ supports stl <vector> (required)... yes\n",
            "checking if g++ supports stl <list> (required)... yes\n",
            "checking if g++ supports stl <map> (required)... yes\n",
            "checking if g++ supports stl <set> (required)... yes\n",
            "checking if g++ supports stl <queue> (required)... yes\n",
            "checking if g++ supports stl <functional> (required)... yes\n",
            "checking if g++ supports stl <algorithm> (required)... yes\n",
            "checking if g++ supports stl <string> (required)... yes\n",
            "checking if g++ supports stl <iostream> (required)... yes\n",
            "checking if g++ supports stl <sstream> (required)... yes\n",
            "checking if g++ supports stl <fstream> (required)... yes\n",
            "checking if g++ supports template <class T> (required)... yes\n",
            "checking if g++ supports const_cast<> (required)... yes\n",
            "checking if g++ supports static_cast<> (required)... yes\n",
            "checking if g++ supports reinterpret_cast<> (required)... yes\n",
            "checking if g++ supports namespaces (required) ... yes\n",
            "checking if g++ supports __thread (optional)... yes\n",
            "checking if g++ supports template <class T> (required)... yes\n",
            "checking if g++ supports GCC native atomic operations (optional)... yes\n",
            "checking if g++ supports OSX native atomic operations (optional)... no\n",
            "checking if g++ environment provides all required features... yes\n",
            "configure: creating ./config.status\n",
            "config.status: creating Makefile\n",
            "config.status: creating src/Makefile\n",
            "config.status: creating src/Makefile.msvc\n",
            "config.status: creating man/Makefile\n",
            "config.status: creating doc/Makefile\n",
            "config.status: creating tests/Makefile\n",
            "config.status: creating swig/version.h\n",
            "config.status: creating mecab.iss\n",
            "config.status: creating mecab-config\n",
            "config.status: creating mecabrc\n",
            "config.status: creating config.h\n",
            "config.status: executing depfiles commands\n",
            "config.status: executing libtool commands\n",
            "config.status: executing default commands\n",
            "make  all-recursive\n",
            "make[1]: Entering directory '/tmp/mecab-0.996-ko-0.9.2'\n",
            "Making all in src\n",
            "make[2]: Entering directory '/tmp/mecab-0.996-ko-0.9.2/src'\n",
            "/bin/bash ../libtool --tag=CXX   --mode=compile g++ -DHAVE_CONFIG_H -I. -I.. -DDIC_VERSION=102   -DMECAB_DEFAULT_RC=\"\\\"/usr/local/etc/mecabrc\\\"\"    -O3 -Wall  -c -o viterbi.lo viterbi.cpp\n",
            "libtool: compile:  g++ -DHAVE_CONFIG_H -I. -I.. -DDIC_VERSION=102 -DMECAB_DEFAULT_RC=\\\"/usr/local/etc/mecabrc\\\" -O3 -Wall -c viterbi.cpp  -fPIC -DPIC -o .libs/viterbi.o\n",
            "In file included from \u001b[01m\u001b[Kviterbi.cpp:14:0\u001b[m\u001b[K:\n",
            "\u001b[01m\u001b[Kparam.h:30:13:\u001b[m\u001b[K \u001b[01;35m\u001b[Kwarning: \u001b[m\u001b[K'\u001b[01m\u001b[KTarget {anonymous}::lexical_cast(Source) [with Target = std::__cxx11::basic_string<char>; Source = std::__cxx11::basic_string<char>]\u001b[m\u001b[K' defined but not used [\u001b[01;35m\u001b[K-Wunused-function\u001b[m\u001b[K]\n",
            " std::string \u001b[01;35m\u001b[Klexical_cast<std::string, std::string>\u001b[m\u001b[K(std::string arg) {\n",
            "             \u001b[01;35m\u001b[K^~~~~~~~~~~~~~~~~~~~~~~~~~~~~~~~~~~~~~\u001b[m\u001b[K\n",
            "libtool: compile:  g++ -DHAVE_CONFIG_H -I. -I.. -DDIC_VERSION=102 -DMECAB_DEFAULT_RC=\\\"/usr/local/etc/mecabrc\\\" -O3 -Wall -c viterbi.cpp -o viterbi.o >/dev/null 2>&1\n",
            "/bin/bash ../libtool --tag=CXX   --mode=compile g++ -DHAVE_CONFIG_H -I. -I.. -DDIC_VERSION=102   -DMECAB_DEFAULT_RC=\"\\\"/usr/local/etc/mecabrc\\\"\"    -O3 -Wall  -c -o tagger.lo tagger.cpp\n",
            "libtool: compile:  g++ -DHAVE_CONFIG_H -I. -I.. -DDIC_VERSION=102 -DMECAB_DEFAULT_RC=\\\"/usr/local/etc/mecabrc\\\" -O3 -Wall -c tagger.cpp  -fPIC -DPIC -o .libs/tagger.o\n",
            "libtool: compile:  g++ -DHAVE_CONFIG_H -I. -I.. -DDIC_VERSION=102 -DMECAB_DEFAULT_RC=\\\"/usr/local/etc/mecabrc\\\" -O3 -Wall -c tagger.cpp -o tagger.o >/dev/null 2>&1\n",
            "/bin/bash ../libtool --tag=CXX   --mode=compile g++ -DHAVE_CONFIG_H -I. -I.. -DDIC_VERSION=102   -DMECAB_DEFAULT_RC=\"\\\"/usr/local/etc/mecabrc\\\"\"    -O3 -Wall  -c -o utils.lo utils.cpp\n",
            "libtool: compile:  g++ -DHAVE_CONFIG_H -I. -I.. -DDIC_VERSION=102 -DMECAB_DEFAULT_RC=\\\"/usr/local/etc/mecabrc\\\" -O3 -Wall -c utils.cpp  -fPIC -DPIC -o .libs/utils.o\n",
            "libtool: compile:  g++ -DHAVE_CONFIG_H -I. -I.. -DDIC_VERSION=102 -DMECAB_DEFAULT_RC=\\\"/usr/local/etc/mecabrc\\\" -O3 -Wall -c utils.cpp -o utils.o >/dev/null 2>&1\n",
            "/bin/bash ../libtool --tag=CXX   --mode=compile g++ -DHAVE_CONFIG_H -I. -I.. -DDIC_VERSION=102   -DMECAB_DEFAULT_RC=\"\\\"/usr/local/etc/mecabrc\\\"\"    -O3 -Wall  -c -o eval.lo eval.cpp\n",
            "libtool: compile:  g++ -DHAVE_CONFIG_H -I. -I.. -DDIC_VERSION=102 -DMECAB_DEFAULT_RC=\\\"/usr/local/etc/mecabrc\\\" -O3 -Wall -c eval.cpp  -fPIC -DPIC -o .libs/eval.o\n",
            "libtool: compile:  g++ -DHAVE_CONFIG_H -I. -I.. -DDIC_VERSION=102 -DMECAB_DEFAULT_RC=\\\"/usr/local/etc/mecabrc\\\" -O3 -Wall -c eval.cpp -o eval.o >/dev/null 2>&1\n",
            "/bin/bash ../libtool --tag=CXX   --mode=compile g++ -DHAVE_CONFIG_H -I. -I.. -DDIC_VERSION=102   -DMECAB_DEFAULT_RC=\"\\\"/usr/local/etc/mecabrc\\\"\"    -O3 -Wall  -c -o iconv_utils.lo iconv_utils.cpp\n",
            "libtool: compile:  g++ -DHAVE_CONFIG_H -I. -I.. -DDIC_VERSION=102 -DMECAB_DEFAULT_RC=\\\"/usr/local/etc/mecabrc\\\" -O3 -Wall -c iconv_utils.cpp  -fPIC -DPIC -o .libs/iconv_utils.o\n",
            "libtool: compile:  g++ -DHAVE_CONFIG_H -I. -I.. -DDIC_VERSION=102 -DMECAB_DEFAULT_RC=\\\"/usr/local/etc/mecabrc\\\" -O3 -Wall -c iconv_utils.cpp -o iconv_utils.o >/dev/null 2>&1\n",
            "/bin/bash ../libtool --tag=CXX   --mode=compile g++ -DHAVE_CONFIG_H -I. -I.. -DDIC_VERSION=102   -DMECAB_DEFAULT_RC=\"\\\"/usr/local/etc/mecabrc\\\"\"    -O3 -Wall  -c -o dictionary_rewriter.lo dictionary_rewriter.cpp\n",
            "libtool: compile:  g++ -DHAVE_CONFIG_H -I. -I.. -DDIC_VERSION=102 -DMECAB_DEFAULT_RC=\\\"/usr/local/etc/mecabrc\\\" -O3 -Wall -c dictionary_rewriter.cpp  -fPIC -DPIC -o .libs/dictionary_rewriter.o\n",
            "libtool: compile:  g++ -DHAVE_CONFIG_H -I. -I.. -DDIC_VERSION=102 -DMECAB_DEFAULT_RC=\\\"/usr/local/etc/mecabrc\\\" -O3 -Wall -c dictionary_rewriter.cpp -o dictionary_rewriter.o >/dev/null 2>&1\n",
            "/bin/bash ../libtool --tag=CXX   --mode=compile g++ -DHAVE_CONFIG_H -I. -I.. -DDIC_VERSION=102   -DMECAB_DEFAULT_RC=\"\\\"/usr/local/etc/mecabrc\\\"\"    -O3 -Wall  -c -o dictionary_generator.lo dictionary_generator.cpp\n",
            "libtool: compile:  g++ -DHAVE_CONFIG_H -I. -I.. -DDIC_VERSION=102 -DMECAB_DEFAULT_RC=\\\"/usr/local/etc/mecabrc\\\" -O3 -Wall -c dictionary_generator.cpp  -fPIC -DPIC -o .libs/dictionary_generator.o\n",
            "libtool: compile:  g++ -DHAVE_CONFIG_H -I. -I.. -DDIC_VERSION=102 -DMECAB_DEFAULT_RC=\\\"/usr/local/etc/mecabrc\\\" -O3 -Wall -c dictionary_generator.cpp -o dictionary_generator.o >/dev/null 2>&1\n",
            "/bin/bash ../libtool --tag=CXX   --mode=compile g++ -DHAVE_CONFIG_H -I. -I.. -DDIC_VERSION=102   -DMECAB_DEFAULT_RC=\"\\\"/usr/local/etc/mecabrc\\\"\"    -O3 -Wall  -c -o dictionary_compiler.lo dictionary_compiler.cpp\n",
            "libtool: compile:  g++ -DHAVE_CONFIG_H -I. -I.. -DDIC_VERSION=102 -DMECAB_DEFAULT_RC=\\\"/usr/local/etc/mecabrc\\\" -O3 -Wall -c dictionary_compiler.cpp  -fPIC -DPIC -o .libs/dictionary_compiler.o\n",
            "libtool: compile:  g++ -DHAVE_CONFIG_H -I. -I.. -DDIC_VERSION=102 -DMECAB_DEFAULT_RC=\\\"/usr/local/etc/mecabrc\\\" -O3 -Wall -c dictionary_compiler.cpp -o dictionary_compiler.o >/dev/null 2>&1\n",
            "/bin/bash ../libtool --tag=CXX   --mode=compile g++ -DHAVE_CONFIG_H -I. -I.. -DDIC_VERSION=102   -DMECAB_DEFAULT_RC=\"\\\"/usr/local/etc/mecabrc\\\"\"    -O3 -Wall  -c -o context_id.lo context_id.cpp\n",
            "libtool: compile:  g++ -DHAVE_CONFIG_H -I. -I.. -DDIC_VERSION=102 -DMECAB_DEFAULT_RC=\\\"/usr/local/etc/mecabrc\\\" -O3 -Wall -c context_id.cpp  -fPIC -DPIC -o .libs/context_id.o\n",
            "libtool: compile:  g++ -DHAVE_CONFIG_H -I. -I.. -DDIC_VERSION=102 -DMECAB_DEFAULT_RC=\\\"/usr/local/etc/mecabrc\\\" -O3 -Wall -c context_id.cpp -o context_id.o >/dev/null 2>&1\n",
            "/bin/bash ../libtool --tag=CXX   --mode=compile g++ -DHAVE_CONFIG_H -I. -I.. -DDIC_VERSION=102   -DMECAB_DEFAULT_RC=\"\\\"/usr/local/etc/mecabrc\\\"\"    -O3 -Wall  -c -o connector.lo connector.cpp\n",
            "libtool: compile:  g++ -DHAVE_CONFIG_H -I. -I.. -DDIC_VERSION=102 -DMECAB_DEFAULT_RC=\\\"/usr/local/etc/mecabrc\\\" -O3 -Wall -c connector.cpp  -fPIC -DPIC -o .libs/connector.o\n",
            "libtool: compile:  g++ -DHAVE_CONFIG_H -I. -I.. -DDIC_VERSION=102 -DMECAB_DEFAULT_RC=\\\"/usr/local/etc/mecabrc\\\" -O3 -Wall -c connector.cpp -o connector.o >/dev/null 2>&1\n",
            "/bin/bash ../libtool --tag=CXX   --mode=compile g++ -DHAVE_CONFIG_H -I. -I.. -DDIC_VERSION=102   -DMECAB_DEFAULT_RC=\"\\\"/usr/local/etc/mecabrc\\\"\"    -O3 -Wall  -c -o nbest_generator.lo nbest_generator.cpp\n",
            "libtool: compile:  g++ -DHAVE_CONFIG_H -I. -I.. -DDIC_VERSION=102 -DMECAB_DEFAULT_RC=\\\"/usr/local/etc/mecabrc\\\" -O3 -Wall -c nbest_generator.cpp  -fPIC -DPIC -o .libs/nbest_generator.o\n",
            "libtool: compile:  g++ -DHAVE_CONFIG_H -I. -I.. -DDIC_VERSION=102 -DMECAB_DEFAULT_RC=\\\"/usr/local/etc/mecabrc\\\" -O3 -Wall -c nbest_generator.cpp -o nbest_generator.o >/dev/null 2>&1\n",
            "/bin/bash ../libtool --tag=CXX   --mode=compile g++ -DHAVE_CONFIG_H -I. -I.. -DDIC_VERSION=102   -DMECAB_DEFAULT_RC=\"\\\"/usr/local/etc/mecabrc\\\"\"    -O3 -Wall  -c -o writer.lo writer.cpp\n",
            "libtool: compile:  g++ -DHAVE_CONFIG_H -I. -I.. -DDIC_VERSION=102 -DMECAB_DEFAULT_RC=\\\"/usr/local/etc/mecabrc\\\" -O3 -Wall -c writer.cpp  -fPIC -DPIC -o .libs/writer.o\n",
            "libtool: compile:  g++ -DHAVE_CONFIG_H -I. -I.. -DDIC_VERSION=102 -DMECAB_DEFAULT_RC=\\\"/usr/local/etc/mecabrc\\\" -O3 -Wall -c writer.cpp -o writer.o >/dev/null 2>&1\n",
            "/bin/bash ../libtool --tag=CXX   --mode=compile g++ -DHAVE_CONFIG_H -I. -I.. -DDIC_VERSION=102   -DMECAB_DEFAULT_RC=\"\\\"/usr/local/etc/mecabrc\\\"\"    -O3 -Wall  -c -o string_buffer.lo string_buffer.cpp\n",
            "libtool: compile:  g++ -DHAVE_CONFIG_H -I. -I.. -DDIC_VERSION=102 -DMECAB_DEFAULT_RC=\\\"/usr/local/etc/mecabrc\\\" -O3 -Wall -c string_buffer.cpp  -fPIC -DPIC -o .libs/string_buffer.o\n",
            "libtool: compile:  g++ -DHAVE_CONFIG_H -I. -I.. -DDIC_VERSION=102 -DMECAB_DEFAULT_RC=\\\"/usr/local/etc/mecabrc\\\" -O3 -Wall -c string_buffer.cpp -o string_buffer.o >/dev/null 2>&1\n",
            "/bin/bash ../libtool --tag=CXX   --mode=compile g++ -DHAVE_CONFIG_H -I. -I.. -DDIC_VERSION=102   -DMECAB_DEFAULT_RC=\"\\\"/usr/local/etc/mecabrc\\\"\"    -O3 -Wall  -c -o param.lo param.cpp\n",
            "libtool: compile:  g++ -DHAVE_CONFIG_H -I. -I.. -DDIC_VERSION=102 -DMECAB_DEFAULT_RC=\\\"/usr/local/etc/mecabrc\\\" -O3 -Wall -c param.cpp  -fPIC -DPIC -o .libs/param.o\n",
            "libtool: compile:  g++ -DHAVE_CONFIG_H -I. -I.. -DDIC_VERSION=102 -DMECAB_DEFAULT_RC=\\\"/usr/local/etc/mecabrc\\\" -O3 -Wall -c param.cpp -o param.o >/dev/null 2>&1\n",
            "/bin/bash ../libtool --tag=CXX   --mode=compile g++ -DHAVE_CONFIG_H -I. -I.. -DDIC_VERSION=102   -DMECAB_DEFAULT_RC=\"\\\"/usr/local/etc/mecabrc\\\"\"    -O3 -Wall  -c -o tokenizer.lo tokenizer.cpp\n",
            "libtool: compile:  g++ -DHAVE_CONFIG_H -I. -I.. -DDIC_VERSION=102 -DMECAB_DEFAULT_RC=\\\"/usr/local/etc/mecabrc\\\" -O3 -Wall -c tokenizer.cpp  -fPIC -DPIC -o .libs/tokenizer.o\n",
            "libtool: compile:  g++ -DHAVE_CONFIG_H -I. -I.. -DDIC_VERSION=102 -DMECAB_DEFAULT_RC=\\\"/usr/local/etc/mecabrc\\\" -O3 -Wall -c tokenizer.cpp -o tokenizer.o >/dev/null 2>&1\n",
            "/bin/bash ../libtool --tag=CXX   --mode=compile g++ -DHAVE_CONFIG_H -I. -I.. -DDIC_VERSION=102   -DMECAB_DEFAULT_RC=\"\\\"/usr/local/etc/mecabrc\\\"\"    -O3 -Wall  -c -o char_property.lo char_property.cpp\n",
            "libtool: compile:  g++ -DHAVE_CONFIG_H -I. -I.. -DDIC_VERSION=102 -DMECAB_DEFAULT_RC=\\\"/usr/local/etc/mecabrc\\\" -O3 -Wall -c char_property.cpp  -fPIC -DPIC -o .libs/char_property.o\n",
            "libtool: compile:  g++ -DHAVE_CONFIG_H -I. -I.. -DDIC_VERSION=102 -DMECAB_DEFAULT_RC=\\\"/usr/local/etc/mecabrc\\\" -O3 -Wall -c char_property.cpp -o char_property.o >/dev/null 2>&1\n",
            "/bin/bash ../libtool --tag=CXX   --mode=compile g++ -DHAVE_CONFIG_H -I. -I.. -DDIC_VERSION=102   -DMECAB_DEFAULT_RC=\"\\\"/usr/local/etc/mecabrc\\\"\"    -O3 -Wall  -c -o dictionary.lo dictionary.cpp\n",
            "libtool: compile:  g++ -DHAVE_CONFIG_H -I. -I.. -DDIC_VERSION=102 -DMECAB_DEFAULT_RC=\\\"/usr/local/etc/mecabrc\\\" -O3 -Wall -c dictionary.cpp  -fPIC -DPIC -o .libs/dictionary.o\n",
            "libtool: compile:  g++ -DHAVE_CONFIG_H -I. -I.. -DDIC_VERSION=102 -DMECAB_DEFAULT_RC=\\\"/usr/local/etc/mecabrc\\\" -O3 -Wall -c dictionary.cpp -o dictionary.o >/dev/null 2>&1\n",
            "/bin/bash ../libtool --tag=CXX   --mode=compile g++ -DHAVE_CONFIG_H -I. -I.. -DDIC_VERSION=102   -DMECAB_DEFAULT_RC=\"\\\"/usr/local/etc/mecabrc\\\"\"    -O3 -Wall  -c -o feature_index.lo feature_index.cpp\n",
            "libtool: compile:  g++ -DHAVE_CONFIG_H -I. -I.. -DDIC_VERSION=102 -DMECAB_DEFAULT_RC=\\\"/usr/local/etc/mecabrc\\\" -O3 -Wall -c feature_index.cpp  -fPIC -DPIC -o .libs/feature_index.o\n",
            "libtool: compile:  g++ -DHAVE_CONFIG_H -I. -I.. -DDIC_VERSION=102 -DMECAB_DEFAULT_RC=\\\"/usr/local/etc/mecabrc\\\" -O3 -Wall -c feature_index.cpp -o feature_index.o >/dev/null 2>&1\n",
            "/bin/bash ../libtool --tag=CXX   --mode=compile g++ -DHAVE_CONFIG_H -I. -I.. -DDIC_VERSION=102   -DMECAB_DEFAULT_RC=\"\\\"/usr/local/etc/mecabrc\\\"\"    -O3 -Wall  -c -o lbfgs.lo lbfgs.cpp\n",
            "libtool: compile:  g++ -DHAVE_CONFIG_H -I. -I.. -DDIC_VERSION=102 -DMECAB_DEFAULT_RC=\\\"/usr/local/etc/mecabrc\\\" -O3 -Wall -c lbfgs.cpp  -fPIC -DPIC -o .libs/lbfgs.o\n",
            "libtool: compile:  g++ -DHAVE_CONFIG_H -I. -I.. -DDIC_VERSION=102 -DMECAB_DEFAULT_RC=\\\"/usr/local/etc/mecabrc\\\" -O3 -Wall -c lbfgs.cpp -o lbfgs.o >/dev/null 2>&1\n",
            "/bin/bash ../libtool --tag=CXX   --mode=compile g++ -DHAVE_CONFIG_H -I. -I.. -DDIC_VERSION=102   -DMECAB_DEFAULT_RC=\"\\\"/usr/local/etc/mecabrc\\\"\"    -O3 -Wall  -c -o learner_tagger.lo learner_tagger.cpp\n",
            "libtool: compile:  g++ -DHAVE_CONFIG_H -I. -I.. -DDIC_VERSION=102 -DMECAB_DEFAULT_RC=\\\"/usr/local/etc/mecabrc\\\" -O3 -Wall -c learner_tagger.cpp  -fPIC -DPIC -o .libs/learner_tagger.o\n",
            "\u001b[01m\u001b[Klearner_tagger.cpp:25:7:\u001b[m\u001b[K \u001b[01;35m\u001b[Kwarning: \u001b[m\u001b[K'\u001b[01m\u001b[Kchar* MeCab::{anonymous}::mystrdup(const string&)\u001b[m\u001b[K' defined but not used [\u001b[01;35m\u001b[K-Wunused-function\u001b[m\u001b[K]\n",
            " char *\u001b[01;35m\u001b[Kmystrdup\u001b[m\u001b[K(const std::string &str) {\n",
            "       \u001b[01;35m\u001b[K^~~~~~~~\u001b[m\u001b[K\n",
            "libtool: compile:  g++ -DHAVE_CONFIG_H -I. -I.. -DDIC_VERSION=102 -DMECAB_DEFAULT_RC=\\\"/usr/local/etc/mecabrc\\\" -O3 -Wall -c learner_tagger.cpp -o learner_tagger.o >/dev/null 2>&1\n",
            "/bin/bash ../libtool --tag=CXX   --mode=compile g++ -DHAVE_CONFIG_H -I. -I.. -DDIC_VERSION=102   -DMECAB_DEFAULT_RC=\"\\\"/usr/local/etc/mecabrc\\\"\"    -O3 -Wall  -c -o learner.lo learner.cpp\n",
            "libtool: compile:  g++ -DHAVE_CONFIG_H -I. -I.. -DDIC_VERSION=102 -DMECAB_DEFAULT_RC=\\\"/usr/local/etc/mecabrc\\\" -O3 -Wall -c learner.cpp  -fPIC -DPIC -o .libs/learner.o\n",
            "libtool: compile:  g++ -DHAVE_CONFIG_H -I. -I.. -DDIC_VERSION=102 -DMECAB_DEFAULT_RC=\\\"/usr/local/etc/mecabrc\\\" -O3 -Wall -c learner.cpp -o learner.o >/dev/null 2>&1\n",
            "/bin/bash ../libtool --tag=CXX   --mode=compile g++ -DHAVE_CONFIG_H -I. -I.. -DDIC_VERSION=102   -DMECAB_DEFAULT_RC=\"\\\"/usr/local/etc/mecabrc\\\"\"    -O3 -Wall  -c -o libmecab.lo libmecab.cpp\n",
            "libtool: compile:  g++ -DHAVE_CONFIG_H -I. -I.. -DDIC_VERSION=102 -DMECAB_DEFAULT_RC=\\\"/usr/local/etc/mecabrc\\\" -O3 -Wall -c libmecab.cpp  -fPIC -DPIC -o .libs/libmecab.o\n",
            "libtool: compile:  g++ -DHAVE_CONFIG_H -I. -I.. -DDIC_VERSION=102 -DMECAB_DEFAULT_RC=\\\"/usr/local/etc/mecabrc\\\" -O3 -Wall -c libmecab.cpp -o libmecab.o >/dev/null 2>&1\n",
            "/bin/bash ../libtool --tag=CXX   --mode=link g++  -O3 -Wall  -no-undefined -version-info 2:0:0  -o libmecab.la -rpath /usr/local/lib viterbi.lo tagger.lo utils.lo eval.lo iconv_utils.lo dictionary_rewriter.lo dictionary_generator.lo dictionary_compiler.lo context_id.lo connector.lo nbest_generator.lo writer.lo string_buffer.lo param.lo tokenizer.lo char_property.lo dictionary.lo feature_index.lo lbfgs.lo learner_tagger.lo learner.lo libmecab.lo  -lpthread -lpthread  -lstdc++ \n",
            "libtool: link: g++  -fPIC -DPIC -shared -nostdlib /usr/lib/gcc/x86_64-linux-gnu/7/../../../x86_64-linux-gnu/crti.o /usr/lib/gcc/x86_64-linux-gnu/7/crtbeginS.o  .libs/viterbi.o .libs/tagger.o .libs/utils.o .libs/eval.o .libs/iconv_utils.o .libs/dictionary_rewriter.o .libs/dictionary_generator.o .libs/dictionary_compiler.o .libs/context_id.o .libs/connector.o .libs/nbest_generator.o .libs/writer.o .libs/string_buffer.o .libs/param.o .libs/tokenizer.o .libs/char_property.o .libs/dictionary.o .libs/feature_index.o .libs/lbfgs.o .libs/learner_tagger.o .libs/learner.o .libs/libmecab.o   -lpthread -L/usr/lib/gcc/x86_64-linux-gnu/7 -L/usr/lib/gcc/x86_64-linux-gnu/7/../../../x86_64-linux-gnu -L/usr/lib/gcc/x86_64-linux-gnu/7/../../../../lib -L/lib/x86_64-linux-gnu -L/lib/../lib -L/usr/lib/x86_64-linux-gnu -L/usr/lib/../lib -L/usr/local/cuda/lib64/stubs -L/usr/lib/gcc/x86_64-linux-gnu/7/../../.. -lstdc++ -lm -lc -lgcc_s /usr/lib/gcc/x86_64-linux-gnu/7/crtendS.o /usr/lib/gcc/x86_64-linux-gnu/7/../../../x86_64-linux-gnu/crtn.o  -O3   -Wl,-soname -Wl,libmecab.so.2 -o .libs/libmecab.so.2.0.0\n",
            "libtool: link: (cd \".libs\" && rm -f \"libmecab.so.2\" && ln -s \"libmecab.so.2.0.0\" \"libmecab.so.2\")\n",
            "libtool: link: (cd \".libs\" && rm -f \"libmecab.so\" && ln -s \"libmecab.so.2.0.0\" \"libmecab.so\")\n",
            "libtool: link: ar cru .libs/libmecab.a  viterbi.o tagger.o utils.o eval.o iconv_utils.o dictionary_rewriter.o dictionary_generator.o dictionary_compiler.o context_id.o connector.o nbest_generator.o writer.o string_buffer.o param.o tokenizer.o char_property.o dictionary.o feature_index.o lbfgs.o learner_tagger.o learner.o libmecab.o\n",
            "ar: `u' modifier ignored since `D' is the default (see `U')\n",
            "libtool: link: ranlib .libs/libmecab.a\n",
            "libtool: link: ( cd \".libs\" && rm -f \"libmecab.la\" && ln -s \"../libmecab.la\" \"libmecab.la\" )\n",
            "g++ -DHAVE_CONFIG_H -I. -I.. -DDIC_VERSION=102   -DMECAB_DEFAULT_RC=\"\\\"/usr/local/etc/mecabrc\\\"\"    -O3 -Wall  -c -o mecab.o mecab.cpp\n",
            "/bin/bash ../libtool --tag=CXX   --mode=link g++  -O3 -Wall    -o mecab mecab.o libmecab.la -lpthread -lpthread  -lstdc++ \n",
            "libtool: link: g++ -O3 -Wall -o .libs/mecab mecab.o  ./.libs/libmecab.so -lpthread -lstdc++\n",
            "g++ -DHAVE_CONFIG_H -I. -I.. -DDIC_VERSION=102   -DMECAB_DEFAULT_RC=\"\\\"/usr/local/etc/mecabrc\\\"\"    -O3 -Wall  -c -o mecab-dict-index.o mecab-dict-index.cpp\n",
            "/bin/bash ../libtool --tag=CXX   --mode=link g++  -O3 -Wall    -o mecab-dict-index mecab-dict-index.o libmecab.la -lpthread -lpthread  -lstdc++ \n",
            "libtool: link: g++ -O3 -Wall -o .libs/mecab-dict-index mecab-dict-index.o  ./.libs/libmecab.so -lpthread -lstdc++\n",
            "g++ -DHAVE_CONFIG_H -I. -I.. -DDIC_VERSION=102   -DMECAB_DEFAULT_RC=\"\\\"/usr/local/etc/mecabrc\\\"\"    -O3 -Wall  -c -o mecab-dict-gen.o mecab-dict-gen.cpp\n",
            "/bin/bash ../libtool --tag=CXX   --mode=link g++  -O3 -Wall    -o mecab-dict-gen mecab-dict-gen.o libmecab.la -lpthread -lpthread  -lstdc++ \n",
            "libtool: link: g++ -O3 -Wall -o .libs/mecab-dict-gen mecab-dict-gen.o  ./.libs/libmecab.so -lpthread -lstdc++\n",
            "g++ -DHAVE_CONFIG_H -I. -I.. -DDIC_VERSION=102   -DMECAB_DEFAULT_RC=\"\\\"/usr/local/etc/mecabrc\\\"\"    -O3 -Wall  -c -o mecab-cost-train.o mecab-cost-train.cpp\n",
            "/bin/bash ../libtool --tag=CXX   --mode=link g++  -O3 -Wall    -o mecab-cost-train mecab-cost-train.o libmecab.la -lpthread -lpthread  -lstdc++ \n",
            "libtool: link: g++ -O3 -Wall -o .libs/mecab-cost-train mecab-cost-train.o  ./.libs/libmecab.so -lpthread -lstdc++\n",
            "g++ -DHAVE_CONFIG_H -I. -I.. -DDIC_VERSION=102   -DMECAB_DEFAULT_RC=\"\\\"/usr/local/etc/mecabrc\\\"\"    -O3 -Wall  -c -o mecab-system-eval.o mecab-system-eval.cpp\n",
            "/bin/bash ../libtool --tag=CXX   --mode=link g++  -O3 -Wall    -o mecab-system-eval mecab-system-eval.o libmecab.la -lpthread -lpthread  -lstdc++ \n",
            "libtool: link: g++ -O3 -Wall -o .libs/mecab-system-eval mecab-system-eval.o  ./.libs/libmecab.so -lpthread -lstdc++\n",
            "g++ -DHAVE_CONFIG_H -I. -I.. -DDIC_VERSION=102   -DMECAB_DEFAULT_RC=\"\\\"/usr/local/etc/mecabrc\\\"\"    -O3 -Wall  -c -o mecab-test-gen.o mecab-test-gen.cpp\n",
            "/bin/bash ../libtool --tag=CXX   --mode=link g++  -O3 -Wall    -o mecab-test-gen mecab-test-gen.o libmecab.la -lpthread -lpthread  -lstdc++ \n",
            "libtool: link: g++ -O3 -Wall -o .libs/mecab-test-gen mecab-test-gen.o  ./.libs/libmecab.so -lpthread -lstdc++\n",
            "make[2]: Leaving directory '/tmp/mecab-0.996-ko-0.9.2/src'\n",
            "Making all in man\n",
            "make[2]: Entering directory '/tmp/mecab-0.996-ko-0.9.2/man'\n",
            "make[2]: Nothing to be done for 'all'.\n",
            "make[2]: Leaving directory '/tmp/mecab-0.996-ko-0.9.2/man'\n",
            "Making all in doc\n",
            "make[2]: Entering directory '/tmp/mecab-0.996-ko-0.9.2/doc'\n",
            "make[2]: Nothing to be done for 'all'.\n",
            "make[2]: Leaving directory '/tmp/mecab-0.996-ko-0.9.2/doc'\n",
            "Making all in tests\n",
            "make[2]: Entering directory '/tmp/mecab-0.996-ko-0.9.2/tests'\n",
            "make[2]: Nothing to be done for 'all'.\n",
            "make[2]: Leaving directory '/tmp/mecab-0.996-ko-0.9.2/tests'\n",
            "make[2]: Entering directory '/tmp/mecab-0.996-ko-0.9.2'\n",
            "make[2]: Leaving directory '/tmp/mecab-0.996-ko-0.9.2'\n",
            "make[1]: Leaving directory '/tmp/mecab-0.996-ko-0.9.2'\n",
            "Making check in src\n",
            "make[1]: Entering directory '/tmp/mecab-0.996-ko-0.9.2/src'\n",
            "make[1]: Nothing to be done for 'check'.\n",
            "make[1]: Leaving directory '/tmp/mecab-0.996-ko-0.9.2/src'\n",
            "Making check in man\n",
            "make[1]: Entering directory '/tmp/mecab-0.996-ko-0.9.2/man'\n",
            "make[1]: Nothing to be done for 'check'.\n",
            "make[1]: Leaving directory '/tmp/mecab-0.996-ko-0.9.2/man'\n",
            "Making check in doc\n",
            "make[1]: Entering directory '/tmp/mecab-0.996-ko-0.9.2/doc'\n",
            "make[1]: Nothing to be done for 'check'.\n",
            "make[1]: Leaving directory '/tmp/mecab-0.996-ko-0.9.2/doc'\n",
            "Making check in tests\n",
            "make[1]: Entering directory '/tmp/mecab-0.996-ko-0.9.2/tests'\n",
            "make  check-TESTS\n",
            "make[2]: Entering directory '/tmp/mecab-0.996-ko-0.9.2/tests'\n",
            "./pos-id.def is not found. minimum setting is used\n",
            "reading ./unk.def ... 2\n",
            "emitting double-array: 100% |###########################################| \n",
            "./model.def is not found. skipped.\n",
            "./pos-id.def is not found. minimum setting is used\n",
            "reading ./dic.csv ... 177\n",
            "emitting double-array: 100% |###########################################| \n",
            "reading ./matrix.def ... 178x178\n",
            "emitting matrix      : 100% |###########################################| \n",
            "\n",
            "done!\n",
            "./pos-id.def is not found. minimum setting is used\n",
            "reading ./unk.def ... 2\n",
            "emitting double-array: 100% |###########################################| \n",
            "./model.def is not found. skipped.\n",
            "./pos-id.def is not found. minimum setting is used\n",
            "reading ./dic.csv ... 83\n",
            "emitting double-array: 100% |###########################################| \n",
            "reading ./matrix.def ... 84x84\n",
            "emitting matrix      : 100% |###########################################| \n",
            "\n",
            "done!\n",
            "./pos-id.def is not found. minimum setting is used\n",
            "reading ./unk.def ... 2\n",
            "emitting double-array: 100% |###########################################| \n",
            "./model.def is not found. skipped.\n",
            "./pos-id.def is not found. minimum setting is used\n",
            "reading ./dic.csv ... 450\n",
            "emitting double-array: 100% |###########################################| \n",
            "reading ./matrix.def ... 1x1\n",
            "\n",
            "done!\n",
            "./pos-id.def is not found. minimum setting is used\n",
            "reading ./unk.def ... 2\n",
            "emitting double-array: 100% |###########################################| \n",
            "./model.def is not found. skipped.\n",
            "./pos-id.def is not found. minimum setting is used\n",
            "reading ./dic.csv ... 162\n",
            "emitting double-array: 100% |###########################################| \n",
            "reading ./matrix.def ... 3x3\n",
            "emitting matrix      : 100% |###########################################| \n",
            "\n",
            "done!\n",
            "./pos-id.def is not found. minimum setting is used\n",
            "reading ./unk.def ... 2\n",
            "emitting double-array: 100% |###########################################| \n",
            "./model.def is not found. skipped.\n",
            "./pos-id.def is not found. minimum setting is used\n",
            "reading ./dic.csv ... 4\n",
            "emitting double-array: 100% |###########################################| \n",
            "reading ./matrix.def ... 1x1\n",
            "\n",
            "done!\n",
            "./pos-id.def is not found. minimum setting is used\n",
            "reading ./unk.def ... 11\n",
            "emitting double-array: 100% |###########################################| \n",
            "./model.def is not found. skipped.\n",
            "./pos-id.def is not found. minimum setting is used\n",
            "reading ./dic.csv ... 1\n",
            "reading ./matrix.def ... 1x1\n",
            "\n",
            "done!\n",
            "./pos-id.def is not found. minimum setting is used\n",
            "reading ./unk.def ... 2\n",
            "emitting double-array: 100% |###########################################| \n",
            "./model.def is not found. skipped.\n",
            "./pos-id.def is not found. minimum setting is used\n",
            "reading ./dic.csv ... 1\n",
            "reading ./matrix.def ... 1x1\n",
            "\n",
            "done!\n",
            "PASS: run-dics.sh\n",
            "PASS: run-eval.sh\n",
            "seed/pos-id.def is not found. minimum setting is used\n",
            "reading seed/unk.def ... 40\n",
            "emitting double-array: 100% |###########################################| \n",
            "seed/model.def is not found. skipped.\n",
            "seed/pos-id.def is not found. minimum setting is used\n",
            "reading seed/dic.csv ... 4335\n",
            "emitting double-array: 100% |###########################################| \n",
            "reading seed/matrix.def ... 1x1\n",
            "\n",
            "done!\n",
            "reading corpus ...\n",
            "Number of sentences: 34\n",
            "Number of features:  64108\n",
            "eta:                 0.00005\n",
            "freq:                1\n",
            "eval-size:           6\n",
            "unk-eval-size:       4\n",
            "threads:             1\n",
            "charset:             EUC-JP\n",
            "C(sigma^2):          1.00000\n",
            "\n",
            "iter=0 err=1.00000 F=0.35771 target=2406.28355 diff=1.00000\n",
            "iter=1 err=0.97059 F=0.65652 target=1484.25231 diff=0.38318\n",
            "iter=2 err=0.91176 F=0.79331 target=863.32765 diff=0.41834\n",
            "iter=3 err=0.85294 F=0.89213 target=596.72480 diff=0.30881\n",
            "iter=4 err=0.61765 F=0.95467 target=336.30744 diff=0.43641\n",
            "iter=5 err=0.50000 F=0.96702 target=246.53039 diff=0.26695\n",
            "iter=6 err=0.35294 F=0.95472 target=188.93963 diff=0.23361\n",
            "iter=7 err=0.20588 F=0.99106 target=168.62665 diff=0.10751\n",
            "iter=8 err=0.05882 F=0.99777 target=158.64865 diff=0.05917\n",
            "iter=9 err=0.08824 F=0.99665 target=154.14530 diff=0.02839\n",
            "iter=10 err=0.08824 F=0.99665 target=151.94257 diff=0.01429\n",
            "iter=11 err=0.02941 F=0.99888 target=147.20825 diff=0.03116\n",
            "iter=12 err=0.00000 F=1.00000 target=147.34956 diff=0.00096\n",
            "iter=13 err=0.02941 F=0.99888 target=146.32592 diff=0.00695\n",
            "iter=14 err=0.00000 F=1.00000 target=145.77299 diff=0.00378\n",
            "iter=15 err=0.02941 F=0.99888 target=145.24641 diff=0.00361\n",
            "iter=16 err=0.00000 F=1.00000 target=144.96490 diff=0.00194\n",
            "iter=17 err=0.02941 F=0.99888 target=144.90246 diff=0.00043\n",
            "iter=18 err=0.00000 F=1.00000 target=144.75959 diff=0.00099\n",
            "iter=19 err=0.00000 F=1.00000 target=144.71727 diff=0.00029\n",
            "iter=20 err=0.00000 F=1.00000 target=144.66337 diff=0.00037\n",
            "iter=21 err=0.00000 F=1.00000 target=144.61349 diff=0.00034\n",
            "iter=22 err=0.00000 F=1.00000 target=144.62987 diff=0.00011\n",
            "iter=23 err=0.00000 F=1.00000 target=144.60060 diff=0.00020\n",
            "iter=24 err=0.00000 F=1.00000 target=144.59125 diff=0.00006\n",
            "iter=25 err=0.00000 F=1.00000 target=144.58619 diff=0.00004\n",
            "iter=26 err=0.00000 F=1.00000 target=144.58219 diff=0.00003\n",
            "iter=27 err=0.00000 F=1.00000 target=144.58059 diff=0.00001\n",
            "\n",
            "Done! writing model file ... \n",
            "model-ipadic.c1.0.f1.model is not a binary model. reopen it as text mode...\n",
            "reading seed/unk.def ... 40\n",
            "reading seed/dic.csv ... 4335\n",
            "emitting model-ipadic.c1.0.f1.dic/left-id.def/ model-ipadic.c1.0.f1.dic/right-id.def\n",
            "emitting model-ipadic.c1.0.f1.dic/unk.def ... 40\n",
            "emitting model-ipadic.c1.0.f1.dic/dic.csv ... 4335\n",
            "emitting matrix      : 100% |###########################################| \n",
            "copying seed/char.def to model-ipadic.c1.0.f1.dic/char.def\n",
            "copying seed/rewrite.def to model-ipadic.c1.0.f1.dic/rewrite.def\n",
            "copying seed/dicrc to model-ipadic.c1.0.f1.dic/dicrc\n",
            "copying seed/feature.def to model-ipadic.c1.0.f1.dic/feature.def\n",
            "copying model-ipadic.c1.0.f1.model to model-ipadic.c1.0.f1.dic/model.def\n",
            "\n",
            "done!\n",
            "model-ipadic.c1.0.f1.dic/pos-id.def is not found. minimum setting is used\n",
            "reading model-ipadic.c1.0.f1.dic/unk.def ... 40\n",
            "emitting double-array: 100% |###########################################| \n",
            "model-ipadic.c1.0.f1.dic/pos-id.def is not found. minimum setting is used\n",
            "reading model-ipadic.c1.0.f1.dic/dic.csv ... 4335\n",
            "emitting double-array: 100% |###########################################| \n",
            "reading model-ipadic.c1.0.f1.dic/matrix.def ... 346x346\n",
            "emitting matrix      : 100% |###########################################| \n",
            "\n",
            "done!\n",
            "              precision          recall         F\n",
            "LEVEL 0:    12.8959(57/442) 11.8998(57/479) 12.3779\n",
            "LEVEL 1:    12.2172(54/442) 11.2735(54/479) 11.7264\n",
            "LEVEL 2:    11.7647(52/442) 10.8559(52/479) 11.2921\n",
            "LEVEL 4:    11.7647(52/442) 10.8559(52/479) 11.2921\n",
            "PASS: run-cost-train.sh\n",
            "==================\n",
            "All 3 tests passed\n",
            "==================\n",
            "make[2]: Leaving directory '/tmp/mecab-0.996-ko-0.9.2/tests'\n",
            "make[1]: Leaving directory '/tmp/mecab-0.996-ko-0.9.2/tests'\n",
            "make[1]: Entering directory '/tmp/mecab-0.996-ko-0.9.2'\n",
            "make[1]: Leaving directory '/tmp/mecab-0.996-ko-0.9.2'\n",
            "Making install in src\n",
            "make[1]: Entering directory '/tmp/mecab-0.996-ko-0.9.2/src'\n",
            "make[2]: Entering directory '/tmp/mecab-0.996-ko-0.9.2/src'\n",
            "test -z \"/usr/local/lib\" || /bin/mkdir -p \"/usr/local/lib\"\n",
            " /bin/bash ../libtool   --mode=install /usr/bin/install -c   libmecab.la '/usr/local/lib'\n",
            "libtool: install: /usr/bin/install -c .libs/libmecab.so.2.0.0 /usr/local/lib/libmecab.so.2.0.0\n",
            "libtool: install: (cd /usr/local/lib && { ln -s -f libmecab.so.2.0.0 libmecab.so.2 || { rm -f libmecab.so.2 && ln -s libmecab.so.2.0.0 libmecab.so.2; }; })\n",
            "libtool: install: (cd /usr/local/lib && { ln -s -f libmecab.so.2.0.0 libmecab.so || { rm -f libmecab.so && ln -s libmecab.so.2.0.0 libmecab.so; }; })\n",
            "libtool: install: /usr/bin/install -c .libs/libmecab.lai /usr/local/lib/libmecab.la\n",
            "libtool: install: /usr/bin/install -c .libs/libmecab.a /usr/local/lib/libmecab.a\n",
            "libtool: install: chmod 644 /usr/local/lib/libmecab.a\n",
            "libtool: install: ranlib /usr/local/lib/libmecab.a\n",
            "libtool: finish: PATH=\"/usr/local/sbin:/usr/local/bin:/usr/sbin:/usr/bin:/sbin:/bin:/snap/bin:/sbin\" ldconfig -n /usr/local/lib\n",
            "----------------------------------------------------------------------\n",
            "Libraries have been installed in:\n",
            "   /usr/local/lib\n",
            "\n",
            "If you ever happen to want to link against installed libraries\n",
            "in a given directory, LIBDIR, you must either use libtool, and\n",
            "specify the full pathname of the library, or use the `-LLIBDIR'\n",
            "flag during linking and do at least one of the following:\n",
            "   - add LIBDIR to the `LD_LIBRARY_PATH' environment variable\n",
            "     during execution\n",
            "   - add LIBDIR to the `LD_RUN_PATH' environment variable\n",
            "     during linking\n",
            "   - use the `-Wl,-rpath -Wl,LIBDIR' linker flag\n",
            "   - have your system administrator add LIBDIR to `/etc/ld.so.conf'\n",
            "\n",
            "See any operating system documentation about shared libraries for\n",
            "more information, such as the ld(1) and ld.so(8) manual pages.\n",
            "----------------------------------------------------------------------\n",
            "test -z \"/usr/local/bin\" || /bin/mkdir -p \"/usr/local/bin\"\n",
            "  /bin/bash ../libtool   --mode=install /usr/bin/install -c mecab '/usr/local/bin'\n",
            "libtool: install: /usr/bin/install -c .libs/mecab /usr/local/bin/mecab\n",
            "test -z \"/usr/local/libexec/mecab\" || /bin/mkdir -p \"/usr/local/libexec/mecab\"\n",
            "  /bin/bash ../libtool   --mode=install /usr/bin/install -c mecab-dict-index mecab-dict-gen mecab-cost-train mecab-system-eval mecab-test-gen '/usr/local/libexec/mecab'\n",
            "libtool: install: /usr/bin/install -c .libs/mecab-dict-index /usr/local/libexec/mecab/mecab-dict-index\n",
            "libtool: install: /usr/bin/install -c .libs/mecab-dict-gen /usr/local/libexec/mecab/mecab-dict-gen\n",
            "libtool: install: /usr/bin/install -c .libs/mecab-cost-train /usr/local/libexec/mecab/mecab-cost-train\n",
            "libtool: install: /usr/bin/install -c .libs/mecab-system-eval /usr/local/libexec/mecab/mecab-system-eval\n",
            "libtool: install: /usr/bin/install -c .libs/mecab-test-gen /usr/local/libexec/mecab/mecab-test-gen\n",
            "test -z \"/usr/local/include\" || /bin/mkdir -p \"/usr/local/include\"\n",
            " /usr/bin/install -c -m 644 mecab.h '/usr/local/include'\n",
            "make[2]: Leaving directory '/tmp/mecab-0.996-ko-0.9.2/src'\n",
            "make[1]: Leaving directory '/tmp/mecab-0.996-ko-0.9.2/src'\n",
            "Making install in man\n",
            "make[1]: Entering directory '/tmp/mecab-0.996-ko-0.9.2/man'\n",
            "make[2]: Entering directory '/tmp/mecab-0.996-ko-0.9.2/man'\n",
            "make[2]: Nothing to be done for 'install-exec-am'.\n",
            "test -z \"/usr/local/share/man/man1\" || /bin/mkdir -p \"/usr/local/share/man/man1\"\n",
            " /usr/bin/install -c -m 644 mecab.1 '/usr/local/share/man/man1'\n",
            "make[2]: Leaving directory '/tmp/mecab-0.996-ko-0.9.2/man'\n",
            "make[1]: Leaving directory '/tmp/mecab-0.996-ko-0.9.2/man'\n",
            "Making install in doc\n",
            "make[1]: Entering directory '/tmp/mecab-0.996-ko-0.9.2/doc'\n",
            "make[2]: Entering directory '/tmp/mecab-0.996-ko-0.9.2/doc'\n",
            "make[2]: Nothing to be done for 'install-exec-am'.\n",
            "make[2]: Nothing to be done for 'install-data-am'.\n",
            "make[2]: Leaving directory '/tmp/mecab-0.996-ko-0.9.2/doc'\n",
            "make[1]: Leaving directory '/tmp/mecab-0.996-ko-0.9.2/doc'\n",
            "Making install in tests\n",
            "make[1]: Entering directory '/tmp/mecab-0.996-ko-0.9.2/tests'\n",
            "make[2]: Entering directory '/tmp/mecab-0.996-ko-0.9.2/tests'\n",
            "make[2]: Nothing to be done for 'install-exec-am'.\n",
            "make[2]: Nothing to be done for 'install-data-am'.\n",
            "make[2]: Leaving directory '/tmp/mecab-0.996-ko-0.9.2/tests'\n",
            "make[1]: Leaving directory '/tmp/mecab-0.996-ko-0.9.2/tests'\n",
            "make[1]: Entering directory '/tmp/mecab-0.996-ko-0.9.2'\n",
            "make[2]: Entering directory '/tmp/mecab-0.996-ko-0.9.2'\n",
            "test -z \"/usr/local/bin\" || /bin/mkdir -p \"/usr/local/bin\"\n",
            " /usr/bin/install -c mecab-config '/usr/local/bin'\n",
            "test -z \"/usr/local/etc\" || /bin/mkdir -p \"/usr/local/etc\"\n",
            " /usr/bin/install -c -m 644 mecabrc '/usr/local/etc'\n",
            "make[2]: Leaving directory '/tmp/mecab-0.996-ko-0.9.2'\n",
            "make[1]: Leaving directory '/tmp/mecab-0.996-ko-0.9.2'\n",
            "Install mecab-ko-dic\n",
            "Install mecab-ko-dic\n",
            "  % Total    % Received % Xferd  Average Speed   Time    Time     Time  Current\n",
            "                                 Dload  Upload   Total   Spent    Left  Speed\n",
            "  0     0    0     0    0     0      0      0 --:--:-- --:--:-- --:--:--     0\n",
            "100 47.4M  100 47.4M    0     0  62.9M      0 --:--:-- --:--:-- --:--:-- 62.9M\n",
            "mecab-ko-dic-2.1.1-20180720/\n",
            "mecab-ko-dic-2.1.1-20180720/configure\n",
            "mecab-ko-dic-2.1.1-20180720/COPYING\n",
            "mecab-ko-dic-2.1.1-20180720/autogen.sh\n",
            "mecab-ko-dic-2.1.1-20180720/Place-station.csv\n",
            "mecab-ko-dic-2.1.1-20180720/NNG.csv\n",
            "mecab-ko-dic-2.1.1-20180720/README\n",
            "mecab-ko-dic-2.1.1-20180720/EF.csv\n",
            "mecab-ko-dic-2.1.1-20180720/MAG.csv\n",
            "mecab-ko-dic-2.1.1-20180720/Preanalysis.csv\n",
            "mecab-ko-dic-2.1.1-20180720/NNB.csv\n",
            "mecab-ko-dic-2.1.1-20180720/Person-actor.csv\n",
            "mecab-ko-dic-2.1.1-20180720/VV.csv\n",
            "mecab-ko-dic-2.1.1-20180720/Makefile.in\n",
            "mecab-ko-dic-2.1.1-20180720/matrix.def\n",
            "mecab-ko-dic-2.1.1-20180720/EC.csv\n",
            "mecab-ko-dic-2.1.1-20180720/NNBC.csv\n",
            "mecab-ko-dic-2.1.1-20180720/clean\n",
            "mecab-ko-dic-2.1.1-20180720/ChangeLog\n",
            "mecab-ko-dic-2.1.1-20180720/J.csv\n",
            "mecab-ko-dic-2.1.1-20180720/.keep\n",
            "mecab-ko-dic-2.1.1-20180720/feature.def\n",
            "mecab-ko-dic-2.1.1-20180720/Foreign.csv\n",
            "mecab-ko-dic-2.1.1-20180720/XPN.csv\n",
            "mecab-ko-dic-2.1.1-20180720/EP.csv\n",
            "mecab-ko-dic-2.1.1-20180720/NR.csv\n",
            "mecab-ko-dic-2.1.1-20180720/left-id.def\n",
            "mecab-ko-dic-2.1.1-20180720/Place.csv\n",
            "mecab-ko-dic-2.1.1-20180720/Symbol.csv\n",
            "mecab-ko-dic-2.1.1-20180720/dicrc\n",
            "mecab-ko-dic-2.1.1-20180720/NP.csv\n",
            "mecab-ko-dic-2.1.1-20180720/ETM.csv\n",
            "mecab-ko-dic-2.1.1-20180720/IC.csv\n",
            "mecab-ko-dic-2.1.1-20180720/Place-address.csv\n",
            "mecab-ko-dic-2.1.1-20180720/Group.csv\n",
            "mecab-ko-dic-2.1.1-20180720/model.def\n",
            "mecab-ko-dic-2.1.1-20180720/XSN.csv\n",
            "mecab-ko-dic-2.1.1-20180720/INSTALL\n",
            "mecab-ko-dic-2.1.1-20180720/rewrite.def\n",
            "mecab-ko-dic-2.1.1-20180720/Inflect.csv\n",
            "mecab-ko-dic-2.1.1-20180720/configure.ac\n",
            "mecab-ko-dic-2.1.1-20180720/NNP.csv\n",
            "mecab-ko-dic-2.1.1-20180720/CoinedWord.csv\n",
            "mecab-ko-dic-2.1.1-20180720/XSV.csv\n",
            "mecab-ko-dic-2.1.1-20180720/pos-id.def\n",
            "mecab-ko-dic-2.1.1-20180720/Makefile.am\n",
            "mecab-ko-dic-2.1.1-20180720/unk.def\n",
            "mecab-ko-dic-2.1.1-20180720/missing\n",
            "mecab-ko-dic-2.1.1-20180720/VCP.csv\n",
            "mecab-ko-dic-2.1.1-20180720/install-sh\n",
            "mecab-ko-dic-2.1.1-20180720/Hanja.csv\n",
            "mecab-ko-dic-2.1.1-20180720/MAJ.csv\n",
            "mecab-ko-dic-2.1.1-20180720/XSA.csv\n",
            "mecab-ko-dic-2.1.1-20180720/Wikipedia.csv\n",
            "mecab-ko-dic-2.1.1-20180720/tools/\n",
            "mecab-ko-dic-2.1.1-20180720/tools/add-userdic.sh\n",
            "mecab-ko-dic-2.1.1-20180720/tools/mecab-bestn.sh\n",
            "mecab-ko-dic-2.1.1-20180720/tools/convert_for_using_store.sh\n",
            "mecab-ko-dic-2.1.1-20180720/user-dic/\n",
            "mecab-ko-dic-2.1.1-20180720/user-dic/nnp.csv\n",
            "mecab-ko-dic-2.1.1-20180720/user-dic/place.csv\n",
            "mecab-ko-dic-2.1.1-20180720/user-dic/person.csv\n",
            "mecab-ko-dic-2.1.1-20180720/user-dic/README.md\n",
            "mecab-ko-dic-2.1.1-20180720/NorthKorea.csv\n",
            "mecab-ko-dic-2.1.1-20180720/VX.csv\n",
            "mecab-ko-dic-2.1.1-20180720/right-id.def\n",
            "mecab-ko-dic-2.1.1-20180720/VA.csv\n",
            "mecab-ko-dic-2.1.1-20180720/char.def\n",
            "mecab-ko-dic-2.1.1-20180720/NEWS\n",
            "mecab-ko-dic-2.1.1-20180720/MM.csv\n",
            "mecab-ko-dic-2.1.1-20180720/ETN.csv\n",
            "mecab-ko-dic-2.1.1-20180720/AUTHORS\n",
            "mecab-ko-dic-2.1.1-20180720/Person.csv\n",
            "mecab-ko-dic-2.1.1-20180720/XR.csv\n",
            "mecab-ko-dic-2.1.1-20180720/VCN.csv\n",
            "Looking in current directory for macros.\n",
            "configure.ac:2: warning: AM_INIT_AUTOMAKE: two- and three-arguments forms are deprecated.  For more info, see:\n",
            "configure.ac:2: http://www.gnu.org/software/automake/manual/automake.html#Modernize-AM_005fINIT_005fAUTOMAKE-invocation\n",
            "checking for a BSD-compatible install... /usr/bin/install -c\n",
            "checking whether build environment is sane... yes\n",
            "/tmp/mecab-ko-dic-2.1.1-20180720/missing: Unknown `--is-lightweight' option\n",
            "Try `/tmp/mecab-ko-dic-2.1.1-20180720/missing --help' for more information\n",
            "configure: WARNING: 'missing' script is too old or missing\n",
            "checking for a thread-safe mkdir -p... /bin/mkdir -p\n",
            "checking for gawk... no\n",
            "checking for mawk... mawk\n",
            "checking whether make sets $(MAKE)... yes\n",
            "checking whether make supports nested variables... yes\n",
            "checking for mecab-config... /usr/local/bin/mecab-config\n",
            "checking that generated files are newer than configure... done\n",
            "configure: creating ./config.status\n",
            "config.status: creating Makefile\n",
            "/usr/local/lib\n",
            "/sbin/ldconfig.real: /usr/local/lib/python3.6/dist-packages/ideep4py/lib/libmkldnn.so.0 is not a symbolic link\n",
            "\n",
            "/usr/local/libexec/mecab/mecab-dict-index -d . -o . -f UTF-8 -t UTF-8\n",
            "reading ./unk.def ... 13\n",
            "emitting double-array: 100% |###########################################| \n",
            "reading ./Symbol.csv ... 16\n",
            "reading ./Person-actor.csv ... 99230\n",
            "reading ./MAG.csv ... 14242\n",
            "reading ./Foreign.csv ... 11690\n",
            "reading ./Wikipedia.csv ... 36762\n",
            "reading ./NR.csv ... 482\n",
            "reading ./VA.csv ... 2360\n",
            "reading ./Hanja.csv ... 125750\n",
            "reading ./Preanalysis.csv ... 5\n",
            "reading ./XR.csv ... 3637\n",
            "reading ./VCP.csv ... 9\n",
            "reading ./Place-address.csv ... 19301\n",
            "reading ./XSA.csv ... 19\n",
            "reading ./NP.csv ... 342\n",
            "reading ./XPN.csv ... 83\n",
            "reading ./NNP.csv ... 2371\n",
            "reading ./Place-station.csv ... 1145\n",
            "reading ./Group.csv ... 3176\n",
            "reading ./XSN.csv ... 124\n",
            "reading ./NorthKorea.csv ... 3\n",
            "reading ./XSV.csv ... 23\n",
            "reading ./VX.csv ... 125\n",
            "reading ./EF.csv ... 1820\n",
            "reading ./EC.csv ... 2547\n",
            "reading ./IC.csv ... 1305\n",
            "reading ./VV.csv ... 7331\n",
            "reading ./ETM.csv ... 133\n",
            "reading ./NNB.csv ... 140\n",
            "reading ./Inflect.csv ... 44820\n",
            "reading ./J.csv ... 416\n",
            "reading ./Person.csv ... 196459\n",
            "reading ./NNG.csv ... 208524\n",
            "reading ./MAJ.csv ... 240\n",
            "reading ./Place.csv ... 30303\n",
            "reading ./ETN.csv ... 14\n",
            "reading ./CoinedWord.csv ... 148\n",
            "reading ./NNBC.csv ... 677\n",
            "reading ./MM.csv ... 453\n",
            "reading ./EP.csv ... 51\n",
            "reading ./VCN.csv ... 7\n",
            "emitting double-array: 100% |###########################################| \n",
            "reading ./matrix.def ... 3822x2693\n",
            "emitting matrix      : 100% |###########################################| \n",
            "\n",
            "done!\n",
            "echo To enable dictionary, rewrite /usr/local/etc/mecabrc as \\\"dicdir = /usr/local/lib/mecab/dic/mecab-ko-dic\\\"\n",
            "To enable dictionary, rewrite /usr/local/etc/mecabrc as \"dicdir = /usr/local/lib/mecab/dic/mecab-ko-dic\"\n",
            "make[1]: Entering directory '/tmp/mecab-ko-dic-2.1.1-20180720'\n",
            "make[1]: Nothing to be done for 'install-exec-am'.\n",
            " /bin/mkdir -p '/usr/local/lib/mecab/dic/mecab-ko-dic'\n",
            " /usr/bin/install -c -m 644 model.bin matrix.bin char.bin sys.dic unk.dic left-id.def right-id.def rewrite.def pos-id.def dicrc '/usr/local/lib/mecab/dic/mecab-ko-dic'\n",
            "make[1]: Leaving directory '/tmp/mecab-ko-dic-2.1.1-20180720'\n",
            "Install mecab-python\n",
            "/tmp /tmp/mecab-ko-dic-2.1.1-20180720\n",
            "Cloning into 'mecab-python-0.996'...\n",
            "remote: Counting objects: 17, done.\u001b[K\n",
            "remote: Compressing objects: 100% (16/16), done.\u001b[K\n",
            "remote: Total 17 (delta 3), reused 0 (delta 0)\u001b[K\n",
            "Unpacking objects: 100% (17/17), done.\n",
            "/tmp/mecab-ko-dic-2.1.1-20180720\n",
            "Processing /tmp/mecab-python-0.996\n",
            "Building wheels for collected packages: mecab-python\n",
            "  Building wheel for mecab-python (setup.py) ... \u001b[?25l\u001b[?25hdone\n",
            "  Created wheel for mecab-python: filename=mecab_python-0.996_ko_0.9.2-cp36-cp36m-linux_x86_64.whl size=140571 sha256=a7f2231b9e7fbabd01d89e1bf1fb333b734320c36ca6f7b4504bc7724fef734c\n",
            "  Stored in directory: /root/.cache/pip/wheels/99/75/a6/e9e73a1dbd73579383644942ef18a6d17ad728a3052a1147fb\n",
            "Successfully built mecab-python\n",
            "Installing collected packages: mecab-python\n",
            "Successfully installed mecab-python-0.996-ko-0.9.2\n",
            "Done.\n"
          ],
          "name": "stdout"
        }
      ]
    },
    {
      "cell_type": "code",
      "metadata": {
        "id": "3-NfPEVRA9cw",
        "colab_type": "code",
        "colab": {}
      },
      "source": [
        "f = open('/content/drive/My Drive/ CNN_project/ratings_train.txt', 'r', encoding='utf-8')"
      ],
      "execution_count": 4,
      "outputs": []
    },
    {
      "cell_type": "code",
      "metadata": {
        "id": "324ZGRuxBECm",
        "colab_type": "code",
        "colab": {
          "base_uri": "https://localhost:8080/",
          "height": 195
        },
        "outputId": "faa7f9bb-2f1b-462b-a6eb-ad726eadb03b"
      },
      "source": [
        "i=0\n",
        "while True:\n",
        "    line = f.readline()\n",
        "    if line != '\\n':\n",
        "        i=i+1\n",
        "        print(\"%d번째 줄 :\"%i + line)\n",
        "    if i==5:\n",
        "        break \n",
        "f.close()"
      ],
      "execution_count": 5,
      "outputs": [
        {
          "output_type": "stream",
          "text": [
            "1번째 줄 :id\tdocument\tlabel\n",
            "\n",
            "2번째 줄 :9976970\t아 더빙.. 진짜 짜증나네요 목소리\t0\n",
            "\n",
            "3번째 줄 :3819312\t흠...포스터보고 초딩영화줄....오버연기조차 가볍지 않구나\t1\n",
            "\n",
            "4번째 줄 :10265843\t너무재밓었다그래서보는것을추천한다\t0\n",
            "\n",
            "5번째 줄 :9045019\t교도소 이야기구먼 ..솔직히 재미는 없다..평점 조정\t0\n",
            "\n"
          ],
          "name": "stdout"
        }
      ]
    },
    {
      "cell_type": "code",
      "metadata": {
        "id": "MMaFedkWAJ2L",
        "colab_type": "code",
        "colab": {
          "base_uri": "https://localhost:8080/",
          "height": 550
        },
        "outputId": "ed7125b0-baf6-4631-fa19-a2f786a87ab7"
      },
      "source": [
        "from konlpy.tag import Okt  \n",
        "okt=Okt()\n",
        "fread = open('/content/drive/My Drive/ CNN_project/ratings_train.txt', 'r', encoding='utf-8')\n",
        "\n",
        "n=0\n",
        "result = []\n",
        "\n",
        "while True:\n",
        "    line = fread.readline() #한 줄씩 읽음.\n",
        "    if not line: break # 모두 읽으면 while문 종료.\n",
        "    n=n+1\n",
        "    if n%5000==0: # 5,000의 배수로 While문이 실행될 때마다 몇 번째 While문 실행인지 출력.\n",
        "        print(\"%d번째 While문.\"%n)\n",
        "    tokenlist = okt.pos(line, stem=True, norm=True) # 단어 토큰화\n",
        "    temp=[]\n",
        "    for word in tokenlist:\n",
        "        if word[1] in [\"Noun\"]: # 명사일 때만\n",
        "            temp.append((word[0])) # 해당 단어를 저장함\n",
        "\n",
        "    if temp: # 만약 이번에 읽은 데이터에 명사가 존재할 경우에만\n",
        "      result.append(temp) # 결과에 저장\n",
        "fread.close()"
      ],
      "execution_count": 6,
      "outputs": [
        {
          "output_type": "stream",
          "text": [
            "5000번째 While문.\n",
            "10000번째 While문.\n",
            "15000번째 While문.\n",
            "20000번째 While문.\n",
            "25000번째 While문.\n",
            "30000번째 While문.\n",
            "35000번째 While문.\n",
            "40000번째 While문.\n",
            "45000번째 While문.\n",
            "50000번째 While문.\n",
            "55000번째 While문.\n",
            "60000번째 While문.\n",
            "65000번째 While문.\n",
            "70000번째 While문.\n",
            "75000번째 While문.\n",
            "80000번째 While문.\n",
            "85000번째 While문.\n",
            "90000번째 While문.\n",
            "95000번째 While문.\n",
            "100000번째 While문.\n",
            "105000번째 While문.\n",
            "110000번째 While문.\n",
            "115000번째 While문.\n",
            "120000번째 While문.\n",
            "125000번째 While문.\n",
            "130000번째 While문.\n",
            "135000번째 While문.\n",
            "140000번째 While문.\n",
            "145000번째 While문.\n",
            "150000번째 While문.\n"
          ],
          "name": "stdout"
        }
      ]
    },
    {
      "cell_type": "code",
      "metadata": {
        "id": "NnoEqYulD7c5",
        "colab_type": "code",
        "colab": {
          "base_uri": "https://localhost:8080/",
          "height": 35
        },
        "outputId": "be5733c3-4291-45a5-af7e-9a291fde27c2"
      },
      "source": [
        "print('총 샘플의 개수 : {}'.format(len(result)))"
      ],
      "execution_count": 9,
      "outputs": [
        {
          "output_type": "stream",
          "text": [
            "총 샘플의 개수 : 143831\n"
          ],
          "name": "stdout"
        }
      ]
    },
    {
      "cell_type": "markdown",
      "metadata": {
        "id": "XAszNplNERPI",
        "colab_type": "text"
      },
      "source": [
        "### word2vec 훈련시키기"
      ]
    },
    {
      "cell_type": "code",
      "metadata": {
        "id": "P70jndymBM6_",
        "colab_type": "code",
        "colab": {}
      },
      "source": [
        "from gensim.models import Word2Vec\n",
        "model = Word2Vec(result, size=100, window=5, min_count=5, workers=4, sg=0)"
      ],
      "execution_count": 95,
      "outputs": []
    },
    {
      "cell_type": "code",
      "metadata": {
        "id": "IbrU9N9_F5ub",
        "colab_type": "code",
        "colab": {
          "base_uri": "https://localhost:8080/",
          "height": 72
        },
        "outputId": "0fdc62ef-f3bc-4705-cdb5-8a3e542555e7"
      },
      "source": [
        "from gensim.models import KeyedVectors\n",
        "\n",
        "model.wv.save_word2vec_format(\"NaverMovie.model\") # 모델 저장\n"
      ],
      "execution_count": 96,
      "outputs": [
        {
          "output_type": "stream",
          "text": [
            "/usr/local/lib/python3.6/dist-packages/smart_open/smart_open_lib.py:254: UserWarning: This function is deprecated, use smart_open.open instead. See the migration notes for details: https://github.com/RaRe-Technologies/smart_open/blob/master/README.rst#migrating-to-the-new-open-function\n",
            "  'See the migration notes for details: %s' % _MIGRATION_NOTES_URL\n"
          ],
          "name": "stderr"
        }
      ]
    },
    {
      "cell_type": "code",
      "metadata": {
        "id": "ME7lfY8sHzXT",
        "colab_type": "code",
        "colab": {
          "base_uri": "https://localhost:8080/",
          "height": 72
        },
        "outputId": "8b73e4de-a5c5-46cf-fcac-7532472e787c"
      },
      "source": [
        "word2vec_model = KeyedVectors.load_word2vec_format(\"NaverMovie.model\") # 모델 로드"
      ],
      "execution_count": 97,
      "outputs": [
        {
          "output_type": "stream",
          "text": [
            "/usr/local/lib/python3.6/dist-packages/smart_open/smart_open_lib.py:254: UserWarning: This function is deprecated, use smart_open.open instead. See the migration notes for details: https://github.com/RaRe-Technologies/smart_open/blob/master/README.rst#migrating-to-the-new-open-function\n",
            "  'See the migration notes for details: %s' % _MIGRATION_NOTES_URL\n"
          ],
          "name": "stderr"
        }
      ]
    },
    {
      "cell_type": "markdown",
      "metadata": {
        "id": "SqJ78LU-EcwJ",
        "colab_type": "text"
      },
      "source": [
        "#### 유사단어 구하기"
      ]
    },
    {
      "cell_type": "code",
      "metadata": {
        "id": "qKrs_D8wEaHO",
        "colab_type": "code",
        "colab": {
          "base_uri": "https://localhost:8080/",
          "height": 90
        },
        "outputId": "14d66c04-ecf4-4ac4-cc99-f341b2245026"
      },
      "source": [
        "model_result1=model.wv.most_similar(\"대한민국\")\n",
        "print(model_result1)"
      ],
      "execution_count": 98,
      "outputs": [
        {
          "output_type": "stream",
          "text": [
            "[('민비', 0.909217894077301), ('국민', 0.8969683647155762), ('반드시', 0.8895427584648132), ('문화', 0.8858072757720947), ('를', 0.8822508454322815), ('반성은', 0.8817092180252075), ('세계', 0.8805014491081238), ('마귀', 0.8797267079353333), ('자초', 0.8792022466659546), ('인류', 0.8762438893318176)]\n"
          ],
          "name": "stdout"
        },
        {
          "output_type": "stream",
          "text": [
            "/usr/local/lib/python3.6/dist-packages/gensim/matutils.py:737: FutureWarning: Conversion of the second argument of issubdtype from `int` to `np.signedinteger` is deprecated. In future, it will be treated as `np.int64 == np.dtype(int).type`.\n",
            "  if np.issubdtype(vec.dtype, np.int):\n"
          ],
          "name": "stderr"
        }
      ]
    },
    {
      "cell_type": "code",
      "metadata": {
        "id": "joWU2pPFEhTa",
        "colab_type": "code",
        "colab": {
          "base_uri": "https://localhost:8080/",
          "height": 90
        },
        "outputId": "dc306ab8-430c-4f82-e648-1484e3790eab"
      },
      "source": [
        "model_result2=model.wv.most_similar(\"어벤져스\")\n",
        "print(model_result2)"
      ],
      "execution_count": 99,
      "outputs": [
        {
          "output_type": "stream",
          "text": [
            "[('마크로스', 0.989535927772522), ('대전', 0.9848324060440063), ('반지', 0.9845572113990784), ('판매', 0.9813275337219238), ('리지', 0.9802685379981995), ('포세이돈', 0.9797341227531433), ('농구', 0.9797121286392212), ('슈퍼맨', 0.9777247905731201), ('봉', 0.9776566624641418), ('골드', 0.9770166873931885)]\n"
          ],
          "name": "stdout"
        },
        {
          "output_type": "stream",
          "text": [
            "/usr/local/lib/python3.6/dist-packages/gensim/matutils.py:737: FutureWarning: Conversion of the second argument of issubdtype from `int` to `np.signedinteger` is deprecated. In future, it will be treated as `np.int64 == np.dtype(int).type`.\n",
            "  if np.issubdtype(vec.dtype, np.int):\n"
          ],
          "name": "stderr"
        }
      ]
    },
    {
      "cell_type": "code",
      "metadata": {
        "id": "Ap-ugQRoEkeX",
        "colab_type": "code",
        "colab": {
          "base_uri": "https://localhost:8080/",
          "height": 336
        },
        "outputId": "75c335b0-2df1-4cf4-db61-08d8cac4e37d"
      },
      "source": [
        "model_result3=model.wv.most_similar(\"반도체\")\n",
        "print(model_result3)"
      ],
      "execution_count": 100,
      "outputs": [
        {
          "output_type": "error",
          "ename": "KeyError",
          "evalue": "ignored",
          "traceback": [
            "\u001b[0;31m---------------------------------------------------------------------------\u001b[0m",
            "\u001b[0;31mKeyError\u001b[0m                                  Traceback (most recent call last)",
            "\u001b[0;32m<ipython-input-100-f74f22c10219>\u001b[0m in \u001b[0;36m<module>\u001b[0;34m()\u001b[0m\n\u001b[0;32m----> 1\u001b[0;31m \u001b[0mmodel_result3\u001b[0m\u001b[0;34m=\u001b[0m\u001b[0mmodel\u001b[0m\u001b[0;34m.\u001b[0m\u001b[0mwv\u001b[0m\u001b[0;34m.\u001b[0m\u001b[0mmost_similar\u001b[0m\u001b[0;34m(\u001b[0m\u001b[0;34m\"반도체\"\u001b[0m\u001b[0;34m)\u001b[0m\u001b[0;34m\u001b[0m\u001b[0;34m\u001b[0m\u001b[0m\n\u001b[0m\u001b[1;32m      2\u001b[0m \u001b[0mprint\u001b[0m\u001b[0;34m(\u001b[0m\u001b[0mmodel_result3\u001b[0m\u001b[0;34m)\u001b[0m\u001b[0;34m\u001b[0m\u001b[0;34m\u001b[0m\u001b[0m\n",
            "\u001b[0;32m/usr/local/lib/python3.6/dist-packages/gensim/models/keyedvectors.py\u001b[0m in \u001b[0;36mmost_similar\u001b[0;34m(self, positive, negative, topn, restrict_vocab, indexer)\u001b[0m\n\u001b[1;32m    529\u001b[0m                 \u001b[0mmean\u001b[0m\u001b[0;34m.\u001b[0m\u001b[0mappend\u001b[0m\u001b[0;34m(\u001b[0m\u001b[0mweight\u001b[0m \u001b[0;34m*\u001b[0m \u001b[0mword\u001b[0m\u001b[0;34m)\u001b[0m\u001b[0;34m\u001b[0m\u001b[0;34m\u001b[0m\u001b[0m\n\u001b[1;32m    530\u001b[0m             \u001b[0;32melse\u001b[0m\u001b[0;34m:\u001b[0m\u001b[0;34m\u001b[0m\u001b[0;34m\u001b[0m\u001b[0m\n\u001b[0;32m--> 531\u001b[0;31m                 \u001b[0mmean\u001b[0m\u001b[0;34m.\u001b[0m\u001b[0mappend\u001b[0m\u001b[0;34m(\u001b[0m\u001b[0mweight\u001b[0m \u001b[0;34m*\u001b[0m \u001b[0mself\u001b[0m\u001b[0;34m.\u001b[0m\u001b[0mword_vec\u001b[0m\u001b[0;34m(\u001b[0m\u001b[0mword\u001b[0m\u001b[0;34m,\u001b[0m \u001b[0muse_norm\u001b[0m\u001b[0;34m=\u001b[0m\u001b[0;32mTrue\u001b[0m\u001b[0;34m)\u001b[0m\u001b[0;34m)\u001b[0m\u001b[0;34m\u001b[0m\u001b[0;34m\u001b[0m\u001b[0m\n\u001b[0m\u001b[1;32m    532\u001b[0m                 \u001b[0;32mif\u001b[0m \u001b[0mword\u001b[0m \u001b[0;32min\u001b[0m \u001b[0mself\u001b[0m\u001b[0;34m.\u001b[0m\u001b[0mvocab\u001b[0m\u001b[0;34m:\u001b[0m\u001b[0;34m\u001b[0m\u001b[0;34m\u001b[0m\u001b[0m\n\u001b[1;32m    533\u001b[0m                     \u001b[0mall_words\u001b[0m\u001b[0;34m.\u001b[0m\u001b[0madd\u001b[0m\u001b[0;34m(\u001b[0m\u001b[0mself\u001b[0m\u001b[0;34m.\u001b[0m\u001b[0mvocab\u001b[0m\u001b[0;34m[\u001b[0m\u001b[0mword\u001b[0m\u001b[0;34m]\u001b[0m\u001b[0;34m.\u001b[0m\u001b[0mindex\u001b[0m\u001b[0;34m)\u001b[0m\u001b[0;34m\u001b[0m\u001b[0;34m\u001b[0m\u001b[0m\n",
            "\u001b[0;32m/usr/local/lib/python3.6/dist-packages/gensim/models/keyedvectors.py\u001b[0m in \u001b[0;36mword_vec\u001b[0;34m(self, word, use_norm)\u001b[0m\n\u001b[1;32m    450\u001b[0m             \u001b[0;32mreturn\u001b[0m \u001b[0mresult\u001b[0m\u001b[0;34m\u001b[0m\u001b[0;34m\u001b[0m\u001b[0m\n\u001b[1;32m    451\u001b[0m         \u001b[0;32melse\u001b[0m\u001b[0;34m:\u001b[0m\u001b[0;34m\u001b[0m\u001b[0;34m\u001b[0m\u001b[0m\n\u001b[0;32m--> 452\u001b[0;31m             \u001b[0;32mraise\u001b[0m \u001b[0mKeyError\u001b[0m\u001b[0;34m(\u001b[0m\u001b[0;34m\"word '%s' not in vocabulary\"\u001b[0m \u001b[0;34m%\u001b[0m \u001b[0mword\u001b[0m\u001b[0;34m)\u001b[0m\u001b[0;34m\u001b[0m\u001b[0;34m\u001b[0m\u001b[0m\n\u001b[0m\u001b[1;32m    453\u001b[0m \u001b[0;34m\u001b[0m\u001b[0m\n\u001b[1;32m    454\u001b[0m     \u001b[0;32mdef\u001b[0m \u001b[0mget_vector\u001b[0m\u001b[0;34m(\u001b[0m\u001b[0mself\u001b[0m\u001b[0;34m,\u001b[0m \u001b[0mword\u001b[0m\u001b[0;34m)\u001b[0m\u001b[0;34m:\u001b[0m\u001b[0;34m\u001b[0m\u001b[0;34m\u001b[0m\u001b[0m\n",
            "\u001b[0;31mKeyError\u001b[0m: \"word '반도체' not in vocabulary\""
          ]
        }
      ]
    },
    {
      "cell_type": "markdown",
      "metadata": {
        "id": "GhKscqNUICne",
        "colab_type": "text"
      },
      "source": [
        "사전 훈련된 Word2Vec을 초기 임베딩으로 사용하기"
      ]
    },
    {
      "cell_type": "code",
      "metadata": {
        "id": "M6vSr8RfEpPD",
        "colab_type": "code",
        "colab": {}
      },
      "source": [
        "import torch\n",
        "import torch.nn as nn\n",
        "from torchtext.vocab import Vectors"
      ],
      "execution_count": 101,
      "outputs": []
    },
    {
      "cell_type": "code",
      "metadata": {
        "id": "hBeno0I4FAzj",
        "colab_type": "code",
        "colab": {
          "base_uri": "https://localhost:8080/",
          "height": 52
        },
        "outputId": "e09f0952-73ad-4e25-b014-a3147f0875e8"
      },
      "source": [
        "vectors = Vectors(name=\"NaverMovie.model\") # 사전 훈련된 Word2Vec 모델을 vectors에 저장"
      ],
      "execution_count": 102,
      "outputs": [
        {
          "output_type": "stream",
          "text": [
            "  0%|          | 0/11517 [00:00<?, ?it/s]Skipping token b'11517' with 1-dimensional vector [b'100']; likely a header\n",
            " 93%|█████████▎| 10728/11517 [00:00<00:00, 19845.86it/s]\n"
          ],
          "name": "stderr"
        }
      ]
    },
    {
      "cell_type": "code",
      "metadata": {
        "id": "hF0Le3xPO_aV",
        "colab_type": "code",
        "colab": {}
      },
      "source": [
        "TEXT.build_vocab(train_data, vectors=vectors, max_size=10000, min_freq=10) # Word2Vec 모델을 임베딩 벡터값으로 초기화"
      ],
      "execution_count": 103,
      "outputs": []
    },
    {
      "cell_type": "code",
      "metadata": {
        "id": "4AXcYRx0VIvW",
        "colab_type": "code",
        "colab": {
          "base_uri": "https://localhost:8080/",
          "height": 35
        },
        "outputId": "15fc569b-212c-4420-b8a1-e6bb5c890287"
      },
      "source": [
        "print('단어 집합의 크기 : {}'.format(len(TEXT.vocab)))"
      ],
      "execution_count": 104,
      "outputs": [
        {
          "output_type": "stream",
          "text": [
            "단어 집합의 크기 : 7096\n"
          ],
          "name": "stdout"
        }
      ]
    },
    {
      "cell_type": "code",
      "metadata": {
        "id": "ftDZ8ptTVLl_",
        "colab_type": "code",
        "colab": {
          "base_uri": "https://localhost:8080/",
          "height": 55
        },
        "outputId": "9d1d5e71-be14-4aef-a09b-6844093ea869"
      },
      "source": [
        "print(TEXT.vocab.stoi)"
      ],
      "execution_count": 105,
      "outputs": [
        {
          "output_type": "stream",
          "text": [
            "defaultdict(<function _default_unk_index at 0x7feb38f718c8>, {'<unk>': 0, '<pad>': 1, '영화': 2, '정말': 3, '진짜': 4, '이': 5, '점': 6, '연기': 7, '평점': 8, '것': 9, '최고': 10, '스토리': 11, '생각': 12, '왜': 13, '드라마': 14, '감동': 15, '사람': 16, '보고': 17, '말': 18, '더': 19, '때': 20, '내': 21, '배우': 22, '거': 23, '감독': 24, '재미': 25, '내용': 26, '그냥': 27, '뭐': 28, '그': 29, '좀': 30, '쓰레기': 31, '시간': 32, '수': 33, '나': 34, '작품': 35, '사랑': 36, '다시': 37, '하나': 38, '볼': 39, '마지막': 40, '이건': 41, '완전': 42, '정도': 43, '처음': 44, '장면': 45, '액션': 46, '주인공': 47, '걸': 48, '최악': 49, '지금': 50, '돈': 51, '이야기': 52, '별로': 53, '임': 54, '느낌': 55, '연출': 56, '개': 57, '끝': 58, '명작': 59, '듯': 60, '역시': 61, '이해': 62, '이영화': 63, '안': 64, '또': 65, '여자': 66, '때문': 67, '난': 68, '중': 69, '꼭': 70, '편': 71, '보기': 72, '기억': 73, '결말': 74, '마음': 75, '인생': 76, '소재': 77, '애': 78, '못': 79, '수준': 80, '현실': 81, '한번': 82, '가장': 83, '반전': 84, '매력': 85, '전개': 86, '남자': 87, '한국': 88, '가슴': 89, '저': 90, '알': 91, '음악': 92, '아이': 93, '원작': 94, '줄': 95, '인간': 96, '무슨': 97, '우리': 98, '추천': 99, '함': 100, '눈물': 101, '만': 102, '게': 103, '속': 104, '번': 105, '자체': 106, '도': 107, '눈': 108, '캐릭터': 109, '코미디': 110, '대박': 111, '움': 112, '뭔가': 113, '대한': 114, '전혀': 115, '이상': 116, '연기력': 117, '여운': 118, '굿': 119, '기대': 120, '별': 121, '모두': 122, '개봉': 123, '공감': 124, '일본': 125, '아주': 126, '중간': 127, '영상': 128, '부분': 129, '시리즈': 130, '모습': 131, '전': 132, '계속': 133, '제목': 134, '요': 135, '가족': 136, '내내': 137, '뿐': 138, '급': 139, '보지': 140, '진심': 141, '실망': 142, '다른': 143, '몰입': 144, '후': 145, '표현': 146, '기분': 147, '작가': 148, '위': 149, '이제': 150, '건': 151, '잼': 152, '공포': 153, '요즘': 154, '용': 155, '스릴러': 156, '감': 157, '점도': 158, '개인': 159, '긴장감': 160, '짱': 161, '모든': 162, '대사': 163, '조금': 164, '애니': 165, '이유': 166, '분': 167, '삶': 168, '알바': 169, '제대로': 170, '노래': 171, '극장': 172, '욕': 173, '노잼': 174, '점수': 175, '시작': 176, '막장': 177, '기': 178, '나름': 179, '제일': 180, '차라리': 181, '놈': 182, '친구': 183, '제': 184, '당시': 185, '영화로': 186, '류': 187, '절대': 188, '의미': 189, '세상': 190, '위해': 191, '도대체': 192, '미국': 193, '앞': 194, '공포영화': 195, '웃음': 196, '설정': 197, '무엇': 198, '로': 199, '수작': 200, '물': 201, '의': 202, '일': 203, '뭘': 204, '우리나라': 205, '데': 206, '남': 207, '초반': 208, '출연': 209, '명': 210, '추억': 211, '사실': 212, '장난': 213, '지루함': 214, '한국영': 215, '가지': 216, '시나리오': 217, '분위기': 218, '팬': 219, '관객': 220, '시대': 221, '졸작': 222, '살': 223, '자신': 224, '소리': 225, '감정': 226, '접': 227, '최고다': 228, '해': 229, '오늘': 230, '영화관': 231, '봄': 232, '엄마': 233, '엔딩': 234, '정신': 235, '제발': 236, '인상': 237, '더빙': 238, '문제': 239, '캐스팅': 240, '포스터': 241, '라면': 242, '음': 243, '준': 244, '평가': 245, '코믹': 246, '얼마나': 247, '애니메이션': 248, '몰입도': 249, '킬링타임': 250, '강추': 251, '티비': 252, '배경': 253, '대해': 254, '뒤': 255, '를': 256, '맘': 257, '스릴': 258, '충격': 259, '개연': 260, '만화': 261, '질': 262, '건가': 263, '전쟁': 264, '책': 265, '머리': 266, '얘기': 267, '구성': 268, '예술': 269, '갈수록': 270, '매우': 271, '머': 272, '얼굴': 273, '웃기': 274, '후회': 275, '이름': 276, '기도': 277, '어디': 278, '옛날': 279, '영화인': 280, '적': 281, '집중': 282, '장르': 283, '이후': 284, '꽤': 285, '집': 286, '은': 287, '주연': 288, '억지': 289, '존나': 290, '진': 291, '날': 292, '누구': 293, '다큐': 294, '상황': 295, '비': 296, '글': 297, '씬': 298, '짜증': 299, '시즌': 300, '언제': 301, '예전': 302, '다운': 303, '역사': 304, '후반': 305, '걸작': 306, '누가': 307, '여기': 308, '두': 309, '약간': 310, '자기': 311, '실화': 312, '니': 313, '소름': 314, '그것': 315, '인물': 316, '발연기': 317, '등': 318, '해도': 319, '그대로': 320, '방송': 321, '시절': 322, '작': 323, '부': 324, '비디오': 325, '만점': 326, '자': 327, '한마디': 328, '간만': 329, '다음': 330, '대체': 331, '보': 332, '아들': 333, '사회': 334, '소설': 335, '로맨스': 336, '비교': 337, '초딩': 338, '판': 339, '감성': 340, '네이버': 341, '꿈': 342, '여배우': 343, '전체': 344, '여주': 345, '코': 346, '나이': 347, '성룡': 348, '편이': 349, '너': 350, '재': 351, '삼류': 352, '혼자': 353, '순간': 354, '교훈': 355, '년': 356, '존재': 357, '힘': 358, '바로': 359, '주제': 360, '목소리': 361, '낭비': 362, '재밋': 363, '죽': 364, '거의': 365, '당신': 366, '몇번': 367, '안보': 368, '나라': 369, '질질': 370, '줄거리': 371, '딸': 372, '판타지': 373, '갑자기': 374, '신': 375, '아버지': 376, '이번': 377, '점주': 378, '좀비': 379, '피': 380, '의도': 381, '전부': 382, '어른': 383, '상영': 384, '실제': 385, '각본': 386, '시청률': 387, '제작': 388, '만하': 389, '맛': 390, '평론가': 391, '곳': 392, '바': 393, '답': 394, '땜': 395, '한편': 396, '화면': 397, '필요': 398, '그녀': 399, '영': 400, '극장판': 401, '간다': 402, '막': 403, '란': 404, '중국': 405, '평': 406, '이하': 407, '볼때': 408, '세': 409, '세계': 410, '밑': 411, '가치': 412, '선': 413, '관람': 414, '발': 415, '일단': 416, '똥': 417, '스타일': 418, '선택': 419, '복수': 420, '성우': 421, '터': 422, '뻔': 423, '요소': 424, '항상': 425, '둘': 426, '햇': 427, '역': 428, '흥행': 429, '구': 430, '거기': 431, '그때': 432, '더욱': 433, '참고': 434, '면': 435, '진행': 436, '점점': 437, '수가': 438, '아빠': 439, '역대': 440, '편집': 441, '완성': 442, '전형': 443, '멜로': 444, '어이': 445, '화이팅': 446, '상미': 447, '술': 448, '드': 449, '초': 450, '과': 451, '동안': 452, '불륜': 453, '개그': 454, '거지': 455, '엉망': 456, '예상': 457, '잠': 458, '미화': 459, '사건': 460, '낫다': 461, '병맛': 462, '중반': 463, '그게': 464, '꿀잼': 465, '무': 466, '설명': 467, '몇': 468, '과거': 469, '키': 470, '프랑스': 471, '또한': 472, '도저히': 473, '손': 474, '흥미진진': 475, '노력': 476, '원래': 477, '그래픽': 478, '댓글': 479, '죽음': 480, '척': 481, '티': 482, '무조건': 483, '흥미': 484, '거리': 485, '리': 486, '몸': 487, '취향': 488, '배': 489, '울': 490, '자극': 491, '화가': 492, '감상': 493, '화보': 494, '새끼': 495, '관': 496, '학교': 497, '자꾸': 498, '예고편': 499, '오히려': 500, '고': 501, '액션영화': 502, '결혼': 503, '바보': 504, '속편': 505, '심리': 506, '아저씨': 507, '오': 508, '게임': 509, '잘만': 510, '법': 511, '연기자': 512, '마무리': 513, '보이': 514, '관계': 515, '천재': 516, '귀신': 517, '땐': 518, '억지로': 519, '표정': 520, '전설': 521, '영환': 522, '최근': 523, '현재': 524, '상상': 525, '유치': 526, '산': 527, '젠': 528, '지루': 529, '식': 530, '전편': 531, '짐': 532, '대작': 533, '아쉬움': 534, '촬영': 535, '아무': 536, '여': 537, '총': 538, '그닥': 539, '다가': 540, '대한민국': 541, '타임': 542, '흠': 543, '열': 544, '길': 545, '짓': 546, '회': 547, '마': 548, '메세지': 549, '묘사': 550, '스타': 551, '존': 552, '철학': 553, '동화': 554, '프로그램': 555, '그림': 556, '씨': 557, '조연': 558, '프로': 559, '전달': 560, '서로': 561, '역할': 562, '유머': 563, '경찰': 564, '나중': 565, '등장': 566, '소녀': 567, '전작': 568, '먼저': 569, '무비': 570, '졸라': 571, '다행': 572, '정': 573, '마치': 574, '망작': 575, '봣': 576, '노': 577, '다만': 578, '살인': 579, '주의': 580, '특유': 581, '런가': 582, '관심': 583, '화': 584, '부터': 585, '첨': 586, '통해': 587, '행동': 588, '환상': 589, '미래': 590, '인정': 591, '바람': 592, '입': 593, '노출': 594, '저런': 595, '예산': 596, '청춘': 597, '군대': 598, '리메이크': 599, '깊이': 600, '희망': 601, '안나': 602, '반개': 603, '제작비': 604, '생애': 605, '영웅': 606, '효과': 607, '외': 608, '손발': 609, '용도': 610, '과정': 611, '얼': 612, '시도': 613, '케이블': 614, '평생': 615, '반': 616, '범인': 617, '채널': 618, '강': 619, '단': 620, '형님': 621, '능력': 622, '가끔': 623, '네': 624, '미소': 625, '상상력': 626, '생': 627, '스케일': 628, '결론': 629, '기세': 630, '시': 631, '카메라': 632, '다소': 633, '낚': 634, '독립영화': 635, '의리': 636, '광고': 637, '대안': 638, '대충': 639, '온': 640, '잘못': 641, '체': 642, '메시지': 643, '자막': 644, '부족': 645, '한계': 646, '고민': 647, '여성': 648, '고생': 649, '슬픔': 650, '차': 651, '모': 652, '이면': 653, '커플': 654, '동생': 655, '리얼': 656, '밤': 657, '방': 658, '짱짱': 659, '리뷰': 660, '박수': 661, '사이': 662, '유': 663, '보시': 664, '아침': 665, '어린이': 666, '인': 667, '지난': 668, '시청자': 669, '괴물': 670, '로맨틱': 671, '자연': 672, '게이': 673, '굳이': 674, '멋': 675, '용이': 676, '폭력': 677, '흐름': 678, '개도': 679, '개판': 680, '범죄': 681, '살짝': 682, '줌': 683, '포장': 684, '쓰래': 685, '암': 686, '표절': 687, '랄': 688, '발견': 689, '사극': 690, '연애': 691, '지도': 692, '진실': 693, '달': 694, '몸매': 695, '문화': 696, '빨': 697, '수도': 698, '스': 699, '악역': 700, '어찌': 701, '인기': 702, '포기': 703, '감탄': 704, '덕분': 705, '성인': 706, '주기': 707, '진정': 708, '치': 709, '대의': 710, '시선': 711, '일상': 712, '쩐다': 713, '혹시': 714, '과연': 715, '심': 716, '정서': 717, '조폭': 718, '는걸': 719, '순': 720, '퀄리티': 721, '표': 722, '로서': 723, '우정': 724, '끼리': 725, '뜻': 726, '병': 727, '상처': 728, '젤': 729, '하루': 730, '남녀': 731, '성도': 732, '오락': 733, '용서': 734, '이연걸': 735, '막판': 736, '홍콩': 737, '간': 738, '이기': 739, '정치': 740, '코드': 741, '말로': 742, '볼거리': 743, '죄': 744, '크게': 745, '홍보': 746, '별루': 747, '보라': 748, '빛': 749, '어제': 750, '국민': 751, '노답': 752, '느와르': 753, '뮤지컬': 754, '등장인물': 755, '만큼': 756, '북한': 757, '섹스': 758, '일이': 759, '해피엔딩': 760, '핵': 761, '보아': 762, '펑펑': 763, '힐링': 764, '감명': 765, '끌': 766, '나머지': 767, '무협': 768, '반성': 769, '첫': 770, '희생': 771, '눈빛': 772, '불가': 773, '형편': 774, '다큐멘터리': 775, '자식': 776, '자유': 777, '남편': 778, '본방': 779, '춤': 780, '공부': 781, '기술': 782, '소장': 783, '실감': 784, '올해': 785, '그다지': 786, '뜬금': 787, '행복': 788, '대화': 789, '싸움': 790, '악': 791, '열정': 792, '쫌': 793, '기본': 794, '차이': 795, '처럼': 796, '가면': 797, '늘': 798, '무시': 799, '불': 800, '비극': 801, '비주': 802, '의문': 803, '입장': 804, '제로': 805, '불구': 806, '싸구려': 807, '종교': 808, '기적': 809, '긴장': 810, '디즈니': 811, '으리': 812, '지구': 813, '게다가': 814, '따위': 815, '시사회': 816, '악당': 817, '주': 818, '결과': 819, '발전': 820, '실력': 821, '아픔': 822, '좀더': 823, '호러': 824, '동물': 825, '아줌마': 826, '글쎄': 827, '반복': 828, '아이돌': 829, '이제야': 830, '단지': 831, '러닝': 832, '밥': 833, '방금': 834, '본인': 835, '새': 836, '존경': 837, '창': 838, '토': 839, '형': 840, '분노': 841, '여행': 842, '전문가': 843, '꼴': 844, '왕': 845, '해석': 846, '그린': 847, '대가': 848, '라인': 849, '로봇': 850, '선생님': 851, '성': 852, '연예인': 853, '외국': 854, '인지': 855, '평이': 856, '그거': 857, '실패': 858, '어머니': 859, '와우': 860, '진리': 861, '청소년': 862, '누군가': 863, '무언가': 864, '벌써': 865, '새벽': 866, '짝': 867, '한국인': 868, '헐리우드': 869, '견자단': 870, '대표': 871, '쇼': 872, '오버': 873, '외모': 874, '이나': 875, '질리': 876, '달라': 877, '만족': 878, '방법': 879, '주기도': 880, '금': 881, '방식': 882, '베스트': 883, '시트콤': 884, '짝퉁': 885, '최': 886, '필름': 887, '굿굿': 888, '미드': 889, '갈등': 890, '과장': 891, '김기덕': 892, '로만': 893, '봣는데': 894, '비판': 895, '스스로': 896, '애기': 897, '연속': 898, '이미지': 899, '전개도': 900, '분명': 901, '세기': 902, '은근': 903, '쵝오': 904, '팀': 905, '히어로': 906, '심장': 907, '이자': 908, '푹': 909, '헐리웃': 910, '국내': 911, '명품': 912, '부모': 913, '조절': 914, '담': 915, '맥': 916, '시각': 917, '도전': 918, '미모': 919, '이정': 920, '주말': 921, '하하': 922, '극치': 923, '레전드': 924, '재밋다': 925, '편의': 926, '학생': 927, '확': 928, '끼': 929, '단연': 930, '라이': 931, '맨': 932, '에피소드': 933, '자살': 934, '조합': 935, '쩌': 936, '편견': 937, '검색': 938, '신고': 939, '양심': 940, '왜케': 941, '개성': 942, '달달': 943, '망': 944, '사기': 945, '사수': 946, '신경': 947, '신분': 948, '유발': 949, '전반': 950, '테러': 951, '향': 952, '경험': 953, '라지': 954, '영어': 955, '오브': 956, '카': 957, '한참': 958, '형사': 959, '가요': 960, '묘': 961, '무척': 962, '오빠': 963, '주변': 964, '캐리': 965, '코난': 966, '훨': 967, '대부분': 968, '도안': 969, '레알': 970, '생활': 971, '초등학생': 972, '포인트': 973, '허세': 974, '꽝': 975, '로써': 976, '이란': 977, '고양이': 978, '마이클': 979, '상업': 980, '아내': 981, '개뿔': 982, '기자': 983, '설마': 984, '성장': 985, '젠장': 986, '조': 987, '쪽': 988, '개념': 989, '개막': 990, '러브': 991, '마이너스': 992, '상': 993, '얘': 994, '영혼': 995, '옆': 996, '외계인': 997, '카리스마': 998, '학년': 999, '로그인': 1000, '만해': 1001, '명성': 1002, '변화': 1003, '스트레스': 1004, '약': 1005, '위로': 1006, '응원': 1007, '재밋어': 1008, '적임': 1009, '감히': 1010, '관점': 1011, '등등': 1012, '무지': 1013, '싸이코': 1014, '정체': 1015, '주성치': 1016, '풍경': 1017, '형제': 1018, '연결': 1019, '직접': 1020, '케': 1021, '피해자': 1022, '할머니': 1023, '겨': 1024, '교육': 1025, '기준': 1026, '점준': 1027, '칼': 1028, '포르노': 1029, '겨우': 1030, '남아': 1031, '아마': 1032, '악마': 1033, '어': 1034, '잠깐': 1035, '정의': 1036, '처': 1037, '투자': 1038, '편도': 1039, '덜': 1040, '빈': 1041, '세번': 1042, '쉬': 1043, '일품': 1044, '초등학교': 1045, '국가': 1046, '변태': 1047, '야동': 1048, '하나로': 1049, '해결': 1050, '효': 1051, '가수': 1052, '고통': 1053, '공짜': 1054, '기회': 1055, '막장드라마': 1056, '면서': 1057, '압권': 1058, '에로영화': 1059, '우주': 1060, '장': 1061, '크리스마스': 1062, '투': 1063, '기만': 1064, '린': 1065, '무술': 1066, '시청': 1067, '언니': 1068, '욕망': 1069, '의식': 1070, '이도': 1071, '자리': 1072, '틈': 1073, '홍콩영화': 1074, '확인': 1075, '결정': 1076, '내면': 1077, '바다': 1078, '세월': 1079, '이용': 1080, '정신병': 1081, '패러디': 1082, '감흥': 1083, '대중': 1084, '만들기': 1085, '배역': 1086, '부모님': 1087, '셈': 1088, '영국': 1089, '이보': 1090, '기법': 1091, '덕': 1092, '드림': 1093, '베': 1094, '비현실적': 1095, '사진': 1096, '선물': 1097, '안습': 1098, '어린시절': 1099, '참으로': 1100, '탓': 1101, '특수': 1102, '갑': 1103, '듬': 1104, '땅': 1105, '만남': 1106, '방영': 1107, '빵점': 1108, '스크린': 1109, '영화계': 1110, '흑인': 1111, '데리': 1112, '수고': 1113, '얼마': 1114, '의심': 1115, '이상은': 1116, '최강': 1117, '최초': 1118, '파': 1119, '근래': 1120, '깨': 1121, '내생': 1122, '달리': 1123, '예': 1124, '예능': 1125, '워': 1126, '조작': 1127, '폐지': 1128, '거짓말': 1129, '단어': 1130, '루': 1131, '목': 1132, '미가': 1133, '본적': 1134, '색감': 1135, '우려': 1136, '감각': 1137, '거나': 1138, '공포물': 1139, '녀': 1140, '상태': 1141, '시기': 1142, '아예': 1143, '전쟁영화': 1144, '채': 1145, '캐': 1146, '감안': 1147, '값': 1148, '관련': 1149, '꼬마': 1150, '냄새': 1151, '삭제': 1152, '설득': 1153, '용기': 1154, '잔': 1155, '잔뜩': 1156, '타': 1157, '트': 1158, '풍자': 1159, '호구': 1160, '갠': 1161, '깜짝': 1162, '넌': 1163, '번은': 1164, '보통': 1165, '성격': 1166, '아역': 1167, '여러분': 1168, '패': 1169, '가족영화': 1170, '껏': 1171, '명화': 1172, '성은': 1173, '아래': 1174, '작위': 1175, '전율': 1176, '케릭': 1177, '하자': 1178, '부부': 1179, '여러가지': 1180, '장가': 1181, '점줌': 1182, '짜임새': 1183, '가득': 1184, '군': 1185, '기독교': 1186, '김': 1187, '대본': 1188, '던데': 1189, '동시': 1190, '디': 1191, '밋': 1192, '신의': 1193, '원': 1194, '재난영화': 1195, '결코': 1196, '리즈': 1197, '명의': 1198, '박': 1199, '아': 1200, '여러': 1201, '여태': 1202, '자주': 1203, '타고': 1204, '탄생': 1205, '고전': 1206, '곡': 1207, '라이언': 1208, '마이': 1209, '몇몇': 1210, '비밀': 1211, '앞뒤': 1212, '애가': 1213, '운명': 1214, '이따': 1215, '제외': 1216, '낚시': 1217, '낫': 1218, '모험': 1219, '목숨': 1220, '목적': 1221, '무서움': 1222, '물이': 1223, '브루스': 1224, '승리': 1225, '심지어': 1226, '아동': 1227, '아이디어': 1228, '았': 1229, '톰': 1230, '포스': 1231, '한숨': 1232, '골': 1233, '블록버스터': 1234, '사고': 1235, '사상': 1236, '연인': 1237, '철': 1238, '감정이입': 1239, '구나': 1240, '뇌': 1241, '빵빵': 1242, '시점': 1243, '열연': 1244, '첫사랑': 1245, '탈': 1246, '팔이': 1247, '후속작': 1248, '구리': 1249, '누나': 1250, '려고': 1251, '매니아': 1252, '버전': 1253, '선동': 1254, '안감': 1255, '욕심': 1256, '최대': 1257, '할아버지': 1258, '금보': 1259, '소년': 1260, '신파': 1261, '야구': 1262, '어쩜': 1263, '재밋음': 1264, '통': 1265, '호': 1266, '거부': 1267, '담배': 1268, '둘째': 1269, '마리': 1270, '무료': 1271, '성공': 1272, '요리': 1273, '장국영': 1274, '조카': 1275, '중독': 1276, '중심': 1277, '꽃': 1278, '낚였다': 1279, '당황': 1280, '린다': 1281, '배경음악': 1282, '옷': 1283, '탑': 1284, '귀': 1285, '단순': 1286, '대신': 1287, '된거': 1288, '사투리': 1289, '삼': 1290, '저리': 1291, '종영': 1292, '주제가': 1293, '집착': 1294, '틴': 1295, '플롯': 1296, '가정': 1297, '공': 1298, '교과서': 1299, '대통령': 1300, '두번째': 1301, '뭥미': 1302, '심형래': 1303, '의사': 1304, '추리': 1305, '고등학교': 1306, '로코': 1307, '마냥': 1308, '보구': 1309, '부작': 1310, '빵': 1311, '아기': 1312, '여름': 1313, '임팩트': 1314, '잠시': 1315, '정보': 1316, '쥐': 1317, '천국': 1318, '틀': 1319, '하늘': 1320, '현대': 1321, '꼬': 1322, '따름': 1323, '로버트': 1324, '메': 1325, '모양': 1326, '색': 1327, '습': 1328, '앤': 1329, '여자친구': 1330, '의상': 1331, '일부러': 1332, '쿡': 1333, '파괴': 1334, '논리': 1335, '뱀파이어': 1336, '여자애': 1337, '이전': 1338, '정작': 1339, '졸리': 1340, '찾기': 1341, '클레멘타인': 1342, '터미네이터': 1343, '감사': 1344, '나은': 1345, '돼지': 1346, '레이': 1347, '만드': 1348, '바탕': 1349, '반드시': 1350, '보이지': 1351, '손색': 1352, '제니퍼': 1353, '컨셉': 1354, '해리포터': 1355, '공간': 1356, '링': 1357, '반대': 1358, '발상': 1359, '선정': 1360, '숨': 1361, '어디가': 1362, '여친': 1363, '웃': 1364, '유덕화': 1365, '인내심': 1366, '재능': 1367, '절정': 1368, '정이': 1369, '조화': 1370, '주윤발': 1371, '중학교': 1372, '참나': 1373, '키드': 1374, '하지원': 1375, '하품': 1376, '거장': 1377, '고딩': 1378, '과학': 1379, '그동안': 1380, '류작': 1381, '만약': 1382, '매일': 1383, '사운드': 1384, '실수': 1385, '어쩌': 1386, '의지': 1387, '인지도': 1388, '잡고': 1389, '조니뎁': 1390, '졸': 1391, '주지': 1392, '착각': 1393, '화의': 1394, '겁': 1395, '길이': 1396, '레': 1397, '무기': 1398, '박진': 1399, '배트맨': 1400, '연극': 1401, '영화제': 1402, '우뢰매': 1403, '음식': 1404, '일본인': 1405, '자고': 1406, '잡': 1407, '제임스': 1408, '지경': 1409, '탈출': 1410, '홍상수': 1411, '동성애': 1412, '디워': 1413, '운': 1414, '이소룡': 1415, '인도': 1416, '제이슨': 1417, '팔': 1418, '폴': 1419, '마약': 1420, '마음속': 1421, '만화책': 1422, '메이드': 1423, '뭐임': 1424, '살인마': 1425, '어처구니': 1426, '연': 1427, '자동차': 1428, '전투': 1429, '체적': 1430, '캬': 1431, '평균': 1432, '하정우': 1433, '극단': 1434, '논': 1435, '사용': 1436, '센스': 1437, '영화감독': 1438, '걱정': 1439, '나레이션': 1440, '능': 1441, '다리': 1442, '동영상': 1443, '론': 1444, '만이': 1445, '민폐': 1446, '분량': 1447, '블랙': 1448, '션': 1449, '슴': 1450, '울면': 1451, '잭': 1452, '케빈': 1453, '코메디': 1454, '환경': 1455, '흥': 1456, '거품': 1457, '기존': 1458, '남성': 1459, '니콜': 1460, '다': 1461, '루즈': 1462, '베리': 1463, '수입': 1464, '슈퍼': 1465, '아놀드': 1466, '옴': 1467, '인터넷': 1468, '진수': 1469, '최고봉': 1470, '할리우드': 1471, '겨울': 1472, '난리': 1473, '내일': 1474, '네티즌': 1475, '도무지': 1476, '도움': 1477, '리지': 1478, '매': 1479, '명복': 1480, '배신': 1481, '상실': 1482, '성의': 1483, '신인': 1484, '어거지': 1485, '에이': 1486, '여신': 1487, '여인': 1488, '영향': 1489, '이군': 1490, '인형': 1491, '절': 1492, '친': 1493, '포': 1494, '폭발': 1495, '하이': 1496, '화일': 1497, '각색': 1498, '겉': 1499, '리가': 1500, '명대사': 1501, '무대': 1502, '보신': 1503, '사': 1504, '어색': 1505, '어쩌면': 1506, '역사상': 1507, '인류': 1508, '재미나': 1509, '준비': 1510, '피해': 1511, '겉멋': 1512, '깡패': 1513, '다세포': 1514, '동심': 1515, '말투': 1516, '및': 1517, '발음': 1518, '배급사': 1519, '버': 1520, '베드': 1521, '손가락': 1522, '송강호': 1523, '아만다': 1524, '완벽': 1525, '요새': 1526, '출신': 1527, '컴퓨터': 1528, '판단': 1529, '평소': 1530, '한국판': 1531, '혐오': 1532, '곧': 1533, '극복': 1534, '김치': 1535, '데뷔': 1536, '분장': 1537, '비중': 1538, '오프닝': 1539, '유럽': 1540, '일반': 1541, '차원': 1542, '첨부': 1543, '최소': 1544, '파리': 1545, '황당': 1546, '게뭐': 1547, '끝내': 1548, '때매': 1549, '라스트': 1550, '러시아': 1551, '리얼리티': 1552, '무한': 1553, '성적': 1554, '아치': 1555, '영화사': 1556, '웬': 1557, '임창정': 1558, '정우성': 1559, '찬': 1560, '추': 1561, '키스': 1562, '흡입': 1563, '게스트': 1564, '도데': 1565, '듭니': 1566, '류승범': 1567, '별하나': 1568, '부족함': 1569, '소개': 1570, '압도': 1571, '웰': 1572, '응': 1573, '이해도': 1574, '전하': 1575, '최소한': 1576, '축구': 1577, '컷': 1578, '콩': 1579, '화란': 1580, '강력': 1581, '글자': 1582, '널': 1583, '단점': 1584, '단체': 1585, '동네': 1586, '매미': 1587, '명불허전': 1588, '무게': 1589, '미스': 1590, '부인': 1591, '부정': 1592, '빨갱이': 1593, '샘': 1594, '소화': 1595, '스티븐': 1596, '실험': 1597, '역량': 1598, '왜곡': 1599, '윌리스': 1600, '유지': 1601, '파격': 1602, '판이': 1603, '하니': 1604, '하라': 1605, '개콘': 1606, '계기': 1607, '녀석': 1608, '년전': 1609, '대결': 1610, '만세': 1611, '만화영화': 1612, '몽환': 1613, '무난': 1614, '무재': 1615, '블랙코미디': 1616, '서부': 1617, '액션씬': 1618, '이만': 1619, '치유': 1620, '필': 1621, '호기심': 1622, '가능성': 1623, '군인': 1624, '그대': 1625, '깨알': 1626, '대사도': 1627, '듣기': 1628, '명연기': 1629, '무리': 1630, '미녀': 1631, '배꼽': 1632, '범죄자': 1633, '서도': 1634, '아아': 1635, '열자': 1636, '염': 1637, '정리': 1638, '정상': 1639, '중년': 1640, '중딩': 1641, '흉내': 1642, '노인': 1643, '모로': 1644, '미도': 1645, '베일': 1646, '부활': 1647, '상어': 1648, '신하균': 1649, '왤케': 1650, '우연': 1651, '이병헌': 1652, '일주일': 1653, '절망': 1654, '절제': 1655, '쭉': 1656, '처리': 1657, '킬링': 1658, '타란티노': 1659, '하나님': 1660, '한순간': 1661, '화장실': 1662, '고뇌': 1663, '다해': 1664, '드니': 1665, '등록': 1666, '멍': 1667, '무간도': 1668, '백인': 1669, '보임': 1670, '본능': 1671, '비행기': 1672, '빠': 1673, '알파': 1674, '우선': 1675, '원숭이': 1676, '잉': 1677, '장애인': 1678, '향수': 1679, '각자': 1680, '교회': 1681, '님': 1682, '독일': 1683, '디테일': 1684, '매번': 1685, '박중훈': 1686, '선사': 1687, '소': 1688, '속지': 1689, '애초': 1690, '재난': 1691, '존스': 1692, '지나': 1693, '직업': 1694, '캐릭': 1695, '향연': 1696, '공유': 1697, '과대': 1698, '단편': 1699, '레옹': 1700, '밀': 1701, '박보영': 1702, '버튼': 1703, '비쥬': 1704, '상징': 1705, '선생': 1706, '이별': 1707, '짬뽕': 1708, '포드': 1709, '한가지': 1710, '가야': 1711, '강간': 1712, '개그맨': 1713, '객관': 1714, '경우': 1715, '고독': 1716, '년도': 1717, '닥': 1718, '답답': 1719, '도둑': 1720, '땀': 1721, '바닥': 1722, '방해': 1723, '변신': 1724, '부로': 1725, '상대': 1726, '솔': 1727, '스파이더맨': 1728, '쌍': 1729, '아이유': 1730, '의외': 1731, '장점': 1732, '졸업': 1733, '지옥': 1734, '케이': 1735, '포함': 1736, '회사': 1737, '갓': 1738, '강동원': 1739, '김수현': 1740, '다시금': 1741, '대부': 1742, '덩어리': 1743, '두운': 1744, '드네': 1745, '리암': 1746, '범': 1747, '부탁': 1748, '서울': 1749, '선수': 1750, '소통': 1751, '스포': 1752, '아오이': 1753, '연습': 1754, '예측': 1755, '올레': 1756, '워낙': 1757, '제작자': 1758, '칭찬': 1759, '커서': 1760, '한효주': 1761, '가나': 1762, '가짜': 1763, '낭만': 1764, '놀란': 1765, '도시': 1766, '뒤죽박죽': 1767, '리도': 1768, '명장': 1769, '미스터리': 1770, '미스테리': 1771, '믿음': 1772, '반영': 1773, '보나': 1774, '본질': 1775, '비록': 1776, '비호감': 1777, '상식': 1778, '수록': 1779, '수면제': 1780, '스타워즈': 1781, '엽기': 1782, '우드': 1783, '우린': 1784, '일부': 1785, '절로': 1786, '정부': 1787, '찬양': 1788, '초월': 1789, '최후': 1790, '치노': 1791, '케미': 1792, '픽사': 1793, '혁명': 1794, '계': 1795, '공룡': 1796, '광구': 1797, '극적': 1798, '도중': 1799, '디카프리오': 1800, '멜로영화': 1801, '밖': 1802, '살이': 1803, '상이': 1804, '생명': 1805, '순위': 1806, '왕조현': 1807, '이안': 1808, '잔인함': 1809, '중학생': 1810, '지식': 1811, '징': 1812, '차승원': 1813, '출연자': 1814, '클래식': 1815, '혼란': 1816, '고증': 1817, '국어': 1818, '권력': 1819, '낼': 1820, '당장': 1821, '말씀': 1822, '무어': 1823, '뭣': 1824, '미스캐스팅': 1825, '미학': 1826, '부산': 1827, '섹시': 1828, '스릴러물': 1829, '슨': 1830, '아마추어': 1831, '전성기': 1832, '조선': 1833, '중국영화': 1834, '킬러': 1835, '특집': 1836, '페이크': 1837, '흑백': 1838, '구분': 1839, '나무': 1840, '남친': 1841, '너희': 1842, '떄': 1843, '떡': 1844, '떡밥': 1845, '민족': 1846, '사과': 1847, '섬': 1848, '스텝': 1849, '시종일관': 1850, '식이': 1851, '애인': 1852, '엄정화': 1853, '연관': 1854, '연상': 1855, '위트': 1856, '이지': 1857, '일지': 1858, '장진': 1859, '절대로': 1860, '추가': 1861, '호불호': 1862, '화질': 1863, '고인': 1864, '공주': 1865, '구로': 1866, '국산': 1867, '김혜수': 1868, '남자배우': 1869, '누님': 1870, '능가': 1871, '다른사람': 1872, '닥치고': 1873, '뎅': 1874, '돌': 1875, '로맨틱코미디': 1876, '만화가': 1877, '머릿속': 1878, '문': 1879, '별거': 1880, '세대': 1881, '세트': 1882, '순수': 1883, '슈퍼맨': 1884, '승부': 1885, '아누': 1886, '아무나': 1887, '엔딩크레딧': 1888, '옥': 1889, '유아': 1890, '작화': 1891, '커버': 1892, '트리': 1893, '피아노': 1894, '한석규': 1895, '호흡': 1896, '거짓': 1897, '광기': 1898, '국': 1899, '기획': 1900, '나루토': 1901, '눈치': 1902, '로움': 1903, '마누라': 1904, '마찬가지': 1905, '망치': 1906, '반응': 1907, '사이코': 1908, '상큼': 1909, '세계관': 1910, '시험': 1911, '심사': 1912, '애니매이션': 1913, '이드': 1914, '재앙': 1915, '전문': 1916, '조지': 1917, '주관': 1918, '지지': 1919, '짱짱맨': 1920, '폭풍': 1921, '풀': 1922, '한지': 1923, '해지': 1924, '행': 1925, '허무': 1926, '형식': 1927, '가라': 1928, '검사': 1929, '고문': 1930, '구조': 1931, '권상우': 1932, '김희선': 1933, '꿀': 1934, '난후': 1935, '납득': 1936, '낮': 1937, '두고두고': 1938, '리기': 1939, '만난': 1940, '문득': 1941, '방황': 1942, '산다': 1943, '살때': 1944, '스포츠': 1945, '신화': 1946, '아우': 1947, '어차피': 1948, '예고': 1949, '원조': 1950, '위주': 1951, '인권': 1952, '일반인': 1953, '재치': 1954, '주가': 1955, '쯤': 1956, '콜린': 1957, '택시': 1958, '테이큰': 1959, '티나': 1960, '환자': 1961, '데이': 1962, '렉': 1963, '메이': 1964, '본격': 1965, '색채': 1966, '성과': 1967, '안해': 1968, '알바생': 1969, '어쨌든': 1970, '언어': 1971, '업': 1972, '에바': 1973, '여지': 1974, '역작': 1975, '예수': 1976, '외국인': 1977, '의견': 1978, '인식': 1979, '장애': 1980, '적당': 1981, '제시카': 1982, '즐거움': 1983, '추격': 1984, '크리스찬': 1985, '클라라': 1986, '합': 1987, '가까이': 1988, '고등학생': 1989, '나로': 1990, '니콜라스': 1991, '데이빗': 1992, '로빈': 1993, '맙시': 1994, '반도': 1995, '복선': 1996, '부담': 1997, '성형': 1998, '스펙': 1999, '전지현': 2000, '찍': 2001, '거임': 2002, '관리': 2003, '광': 2004, '극본': 2005, '기사': 2006, '기전': 2007, '기타': 2008, '난무': 2009, '방향': 2010, '볼라': 2011, '빠순이': 2012, '설': 2013, '시골': 2014, '시체': 2015, '아담': 2016, '압': 2017, '어딘가': 2018, '영활': 2019, '외면': 2020, '인연': 2021, '중후': 2022, '집단': 2023, '찌': 2024, '천사': 2025, '층': 2026, '치료': 2027, '크레딧': 2028, '투성이': 2029, '회상': 2030, '간지': 2031, '개꿀잼': 2032, '겨울왕국': 2033, '고해': 2034, '권': 2035, '남고': 2036, '대역': 2037, '던': 2038, '뎀': 2039, '동양': 2040, '러셀': 2041, '먹기': 2042, '박찬욱': 2043, '살인자': 2044, '설경구': 2045, '스필버그': 2046, '시장': 2047, '신세계': 2048, '실': 2049, '애정': 2050, '영웅본색': 2051, '오해': 2052, '원피스': 2053, '유치원': 2054, '유행': 2055, '질문': 2056, '참여': 2057, '크리스': 2058, '킹': 2059, '태국': 2060, '폼': 2061, '해외': 2062, '홀로': 2063, '간직': 2064, '개똥': 2065, '공연': 2066, '구석': 2067, '깜놀': 2068, '끈': 2069, '넹': 2070, '늑대': 2071, '도라에몽': 2072, '로드': 2073, '목사': 2074, '미달': 2075, '볼일': 2076, '손예진': 2077, '스콧': 2078, '스키': 2079, '쏘우': 2080, '아바타': 2081, '아이언맨': 2082, '애로': 2083, '에드워드': 2084, '오직': 2085, '장소': 2086, '전라도': 2087, '조차': 2088, '직': 2089, '진창': 2090, '짱구': 2091, '찬사': 2092, '최민수': 2093, '침': 2094, '클라스': 2095, '타인': 2096, '톤': 2097, '평화': 2098, '픽션': 2099, '화판': 2100, '흔적': 2101, '강요': 2102, '개발': 2103, '거듭': 2104, '고어': 2105, '구만': 2106, '구혜선': 2107, '금지': 2108, '난국': 2109, '납치': 2110, '노튼': 2111, '다이하드': 2112, '당': 2113, '대고': 2114, '대학': 2115, '동감': 2116, '마블': 2117, '백배': 2118, '소지섭': 2119, '소품': 2120, '수위': 2121, '양': 2122, '어째': 2123, '왕가위': 2124, '유령': 2125, '유쾌': 2126, '유혹': 2127, '이정재': 2128, '일찍': 2129, '재방': 2130, '쯧쯧': 2131, '최민식': 2132, '파워': 2133, '팝콘': 2134, '한국어': 2135, '향기': 2136, '혹': 2137, '화중': 2138, '후기': 2139, '힙합': 2140, '가관': 2141, '가기': 2142, '강아지': 2143, '경악': 2144, '고작': 2145, '군더더기': 2146, '극': 2147, '김명민': 2148, '나머진': 2149, '농담': 2150, '대상': 2151, '대하': 2152, '람보': 2153, '로버츠': 2154, '마디': 2155, '막상': 2156, '모욕': 2157, '반감': 2158, '번역': 2159, '사람과': 2160, '성유리': 2161, '송승헌': 2162, '신부': 2163, '실상': 2164, '싸이코패스': 2165, '에로물': 2166, '영구': 2167, '오지': 2168, '왕자': 2169, '외로움': 2170, '우롱': 2171, '음향': 2172, '이의': 2173, '인도영화': 2174, '재주': 2175, '정선': 2176, '정점': 2177, '종': 2178, '주온': 2179, '지대': 2180, '지배': 2181, '출발': 2182, '가게': 2183, '격': 2184, '곤': 2185, '과도': 2186, '구역': 2187, '굿굿굿': 2188, '긴박': 2189, '김태희': 2190, '깨달음': 2191, '끝판': 2192, '누': 2193, '뉴스': 2194, '대학생': 2195, '덤': 2196, '디테': 2197, '락': 2198, '민': 2199, '보고서': 2200, '사장': 2201, '살기': 2202, '새록새록': 2203, '색깔': 2204, '스파이': 2205, '신데렐라': 2206, '에드': 2207, '엑스맨': 2208, '영광': 2209, '완젼': 2210, '이은주': 2211, '작전': 2212, '젊은이': 2213, '주네': 2214, '주행': 2215, '첩보': 2216, '추구': 2217, '출현': 2218, '칠': 2219, '하드': 2220, '헛웃음': 2221, '혀': 2222, '호감': 2223, '감옥': 2224, '고도': 2225, '곰': 2226, '관람객': 2227, '구경': 2228, '극혐': 2229, '기승': 2230, '기용': 2231, '다니엘': 2232, '더욱더': 2233, '드래곤볼': 2234, '디젤': 2235, '라스': 2236, '멘탈': 2237, '모독': 2238, '벌': 2239, '생기': 2240, '스킵': 2241, '시간대': 2242, '신세경': 2243, '안성기': 2244, '애국심': 2245, '온갖': 2246, '유의': 2247, '이스트': 2248, '자랑': 2249, '장동건': 2250, '재밋네': 2251, '재방송': 2252, '전화': 2253, '조명': 2254, '졸잼': 2255, '주위': 2256, '주인': 2257, '줄리아': 2258, '지고': 2259, '집안': 2260, '차별': 2261, '청년': 2262, '커녕': 2263, '폰': 2264, '피디': 2265, '학살': 2266, '학창시절': 2267, '한정': 2268, '가안': 2269, '감기': 2270, '걸이': 2271, '겹': 2272, '김구라': 2273, '김민종': 2274, '다운로드': 2275, '댄스': 2276, '래야': 2277, '레이첼': 2278, '롱': 2279, '마다': 2280, '마르': 2281, '먼지': 2282, '멀리': 2283, '모순': 2284, '배속': 2285, '본성': 2286, '뻥': 2287, '상관': 2288, '연주': 2289, '원주율': 2290, '임신': 2291, '자격': 2292, '자본': 2293, '재료': 2294, '잭슨': 2295, '정석': 2296, '정화': 2297, '지인': 2298, '진영화': 2299, '차태현': 2300, '충': 2301, '테': 2302, '특': 2303, '할배': 2304, '함부로': 2305, '각각': 2306, '감수성': 2307, '경계': 2308, '경의': 2309, '고스': 2310, '공중파': 2311, '꼽': 2312, '나와라': 2313, '남매': 2314, '다크나이트': 2315, '독립': 2316, '랩': 2317, '러브스토리': 2318, '마녀': 2319, '모방': 2320, '미국인': 2321, '미장센': 2322, '버그': 2323, '볼걸': 2324, '사무라이': 2325, '새삼': 2326, '성찰': 2327, '셋': 2328, '스페인': 2329, '심정': 2330, '양반': 2331, '여유': 2332, '엽문': 2333, '오페라': 2334, '완죤': 2335, '운동': 2336, '유우': 2337, '이민기': 2338, '이연희': 2339, '이외': 2340, '이탈리아': 2341, '임청하': 2342, '재현': 2343, '적극': 2344, '전도연': 2345, '제왕': 2346, '차마': 2347, '퍼스': 2348, '프리': 2349, '한텐': 2350, '행위': 2351, '황정민': 2352, '흉내내': 2353, '흐지부지': 2354, '고자': 2355, '국제': 2356, '낯': 2357, '답지': 2358, '덜덜': 2359, '로망': 2360, '마법': 2361, '마을': 2362, '마틴': 2363, '박평': 2364, '부디': 2365, '불쌍': 2366, '서양': 2367, '성함': 2368, '스탈': 2369, '스피드': 2370, '신민아': 2371, '신비': 2372, '썩': 2373, '엉터리': 2374, '예술가': 2375, '오로라': 2376, '와중': 2377, '요약': 2378, '이웃': 2379, '일수': 2380, '자의': 2381, '전기': 2382, '정통': 2383, '조승우': 2384, '종합': 2385, '지네': 2386, '초기': 2387, '촌': 2388, '카메론': 2389, '칸': 2390, '커피': 2391, '크루즈': 2392, '토끼': 2393, '토니': 2394, '트랜스포머': 2395, '품': 2396, '헛': 2397, '홧팅': 2398, '각': 2399, '격투': 2400, '구려': 2401, '구멍': 2402, '내기': 2403, '노골': 2404, '단역': 2405, '대로': 2406, '대비': 2407, '덴젤': 2408, '뚝뚝': 2409, '맥스': 2410, '멤버': 2411, '법정': 2412, '베이': 2413, '부자': 2414, '삐': 2415, '사기꾼': 2416, '생존': 2417, '서정': 2418, '섭외': 2419, '신념': 2420, '씨발': 2421, '아카데미': 2422, '앞서': 2423, '에러': 2424, '위원회': 2425, '유리': 2426, '유지태': 2427, '이형': 2428, '인종차별': 2429, '인척': 2430, '자위': 2431, '장난감': 2432, '죽지': 2433, '지브리': 2434, '최하': 2435, '카피': 2436, '타이틀': 2437, '톰크루즈': 2438, '파라': 2439, '포켓몬': 2440, '하디': 2441, '혹평': 2442, '흑역사': 2443, '가식': 2444, '강조': 2445, '강지환': 2446, '고수': 2447, '공원': 2448, '괜': 2449, '구원': 2450, '극찬': 2451, '기록': 2452, '꼬맹이': 2453, '나니': 2454, '낙': 2455, '노예': 2456, '눈요기': 2457, '님들': 2458, '드립': 2459, '머피': 2460, '메인': 2461, '명도': 2462, '몬': 2463, '무색': 2464, '봉': 2465, '뽕짝': 2466, '아프리카': 2467, '에릭': 2468, '역활': 2469, '오우삼': 2470, '오인혜': 2471, '우왕': 2472, '울림': 2473, '울음': 2474, '원표': 2475, '월드': 2476, '위기': 2477, '윤아': 2478, '이예': 2479, '전사': 2480, '전투씬': 2481, '절반': 2482, '주먹': 2483, '증말': 2484, '최선': 2485, '컬트': 2486, '타령': 2487, '태양': 2488, '특징': 2489, '한글': 2490, '환타지': 2491, '강제': 2492, '곁': 2493, '고로': 2494, '공식': 2495, '교수': 2496, '구도': 2497, '구성은': 2498, '글쎄요': 2499, '나나': 2500, '남발': 2501, '남자라면': 2502, '노무': 2503, '더니': 2504, '도로': 2505, '독': 2506, '마마': 2507, '몇개': 2508, '모야': 2509, '무적': 2510, '미이라': 2511, '반지': 2512, '비치': 2513, '사나이': 2514, '서프라이즈': 2515, '선율': 2516, '송지효': 2517, '송혜교': 2518, '스텝업': 2519, '신도': 2520, '신선': 2521, '아시': 2522, '아이러니': 2523, '어의': 2524, '엉엉': 2525, '여기저기': 2526, '여왕': 2527, '오유': 2528, '워커': 2529, '원인': 2530, '인터뷰': 2531, '장근석': 2532, '장나라': 2533, '장치': 2534, '장혁': 2535, '전락': 2536, '전환': 2537, '절절': 2538, '젊음': 2539, '접근': 2540, '정사': 2541, '조정': 2542, '존내': 2543, '쥬라기': 2544, '쩜': 2545, '초점': 2546, '치면': 2547, '퀴어': 2548, '패턴': 2549, '호텔': 2550, '홍': 2551, '흥분': 2552, '가해자': 2553, '광팬': 2554, '남지': 2555, '뉴욕': 2556, '닷': 2557, '닼': 2558, '대가리': 2559, '두려움': 2560, '똑바로': 2561, '런닝맨': 2562, '레드': 2563, '레오': 2564, '려': 2565, '로마': 2566, '몫': 2567, '뮤직비디오': 2568, '미야자키': 2569, '배려': 2570, '버스': 2571, '벽': 2572, '비롯': 2573, '생략': 2574, '안함': 2575, '와이프': 2576, '왓': 2577, '우익': 2578, '월': 2579, '율': 2580, '이범수': 2581, '임수정': 2582, '자본주의': 2583, '자아': 2584, '작렬': 2585, '저번': 2586, '정당화': 2587, '종류': 2588, '주상욱': 2589, '준영': 2590, '줄리': 2591, '증명': 2592, '지적': 2593, '진작': 2594, '취급': 2595, '퍼즐': 2596, '하나요': 2597, '해안가': 2598, '허구': 2599, '호강': 2600, '호화': 2601, '획': 2602, '희망이': 2603, '가능': 2604, '과잉': 2605, '구역질': 2606, '그로': 2607, '낚였': 2608, '노동자': 2609, '녹화': 2610, '다크': 2611, '단편영화': 2612, '동료': 2613, '드림웍스': 2614, '들보': 2615, '등급': 2616, '땜시': 2617, '루이스': 2618, '만듬': 2619, '모성애': 2620, '물건': 2621, '부여': 2622, '불후': 2623, '상치': 2624, '시민': 2625, '시스': 2626, '양동근': 2627, '외화': 2628, '용두사미': 2629, '웅장': 2630, '이나영': 2631, '일도': 2632, '일리': 2633, '일요일': 2634, '임권택': 2635, '재밋는데': 2636, '접함': 2637, '졸음': 2638, '중국인': 2639, '책임': 2640, '체험': 2641, '태도': 2642, '파악': 2643, '패션': 2644, '피트': 2645, '홍금보': 2646, '활용': 2647, '휴먼': 2648, '히스': 2649, '가미': 2650, '가사': 2651, '가을': 2652, '강시': 2653, '계획': 2654, '국적': 2655, '궁': 2656, '깝': 2657, '높이': 2658, '대전': 2659, '도입': 2660, '도통': 2661, '로우': 2662, '마케팅': 2663, '매혹': 2664, '맷': 2665, '모티브': 2666, '묘미': 2667, '물의': 2668, '미안': 2669, '박신양': 2670, '병원': 2671, '보스': 2672, '불면증': 2673, '빼': 2674, '뼈': 2675, '뽕': 2676, '서스펜스': 2677, '수애': 2678, '실사': 2679, '안남': 2680, '어서': 2681, '엉덩이': 2682, '역쉬': 2683, '오타쿠': 2684, '위원': 2685, '유아인': 2686, '은퇴': 2687, '읍': 2688, '의학': 2689, '이구': 2690, '이완': 2691, '이혼': 2692, '일드': 2693, '자매': 2694, '작년': 2695, '제작사': 2696, '증거': 2697, '직원': 2698, '진짜진짜': 2699, '짐승': 2700, '짓거리': 2701, '차지': 2702, '천만': 2703, '총알': 2704, '침묵': 2705, '코스프레': 2706, '투표': 2707, '파워레인저': 2708, '펭귄': 2709, '평론': 2710, '피터': 2711, '해적': 2712, '해피': 2713, '헐크': 2714, '호소': 2715, '활동': 2716, '간첩': 2717, '강호동': 2718, '거만': 2719, '경이': 2720, '고발': 2721, '긍정': 2722, '기독교인': 2723, '기쁨': 2724, '날로': 2725, '대감': 2726, '땡': 2727, '록키': 2728, '르': 2729, '멘붕': 2730, '미션': 2731, '미키': 2732, '박사': 2733, '배드': 2734, '밴드': 2735, '복': 2736, '부가': 2737, '분석': 2738, '불만': 2739, '블루': 2740, '서방': 2741, '성경': 2742, '숲': 2743, '식스센스': 2744, '양조위': 2745, '엄': 2746, '엑소시스트': 2747, '여정': 2748, '예수님': 2749, '온몸': 2750, '웹툰': 2751, '재밋는': 2752, '재탕': 2753, '저기': 2754, '제시': 2755, '조직': 2756, '존중': 2757, '종일': 2758, '주옥': 2759, '주원': 2760, '지상': 2761, '지역': 2762, '추락': 2763, '츠': 2764, '컨저링': 2765, '파이팅': 2766, '학원': 2767, '행크스': 2768, '허무맹랑': 2769, '활': 2770, '히트': 2771, '가시': 2772, '강혜정': 2773, '게리': 2774, '구라': 2775, '그땐': 2776, '김강우': 2777, '나발': 2778, '닉': 2779, '다기': 2780, '대만': 2781, '데스': 2782, '도하': 2783, '동호': 2784, '면도': 2785, '물씬': 2786, '미국영화': 2787, '발생': 2788, '북': 2789, '뿌리': 2790, '사라': 2791, '사망': 2792, '사연': 2793, '슬래셔': 2794, '실소': 2795, '쌈': 2796, '쓰기': 2797, '아가': 2798, '아시아': 2799, '어케': 2800, '엠마': 2801, '욕구': 2802, '용가리': 2803, '워싱턴': 2804, '이동욱': 2805, '이성재': 2806, '이승기': 2807, '인터스텔라': 2808, '일베충': 2809, '저녁': 2810, '저절로': 2811, '저주': 2812, '전세계': 2813, '전이': 2814, '조조': 2815, '존잼': 2816, '줄리엣': 2817, '지금껏': 2818, '지원': 2819, '진보': 2820, '큐브': 2821, '클리셰': 2822, '탕웨이': 2823, '하이킥': 2824, '하차': 2825, '호러물': 2826, '홍진호': 2827, '화만': 2828, '환불': 2829, '활약': 2830, '후속': 2831, '휴가': 2832, '가슴속': 2833, '개잼': 2834, '거울': 2835, '격전': 2836, '고질라': 2837, '고찰': 2838, '공존': 2839, '귀가': 2840, '귀요미': 2841, '글구': 2842, '기간': 2843, '기리': 2844, '김하늘': 2845, '노말': 2846, '대도': 2847, '디자인': 2848, '리브': 2849, '리스': 2850, '망상': 2851, '매트릭스': 2852, '몰락': 2853, '무도': 2854, '무리수': 2855, '뭡': 2856, '미리': 2857, '미술': 2858, '발레': 2859, '법칙': 2860, '불법': 2861, '비유': 2862, '빅뱅': 2863, '빚': 2864, '상의': 2865, '서극': 2866, '서기': 2867, '수치': 2868, '습작': 2869, '실컷': 2870, '아역배우': 2871, '언급': 2872, '에일리언': 2873, '영감': 2874, '예매': 2875, '완': 2876, '욤': 2877, '이념': 2878, '이준기': 2879, '인디아나': 2880, '일생': 2881, '자제': 2882, '잠수함': 2883, '장쯔이': 2884, '저급': 2885, '저희': 2886, '족': 2887, '증': 2888, '찬란': 2889, '초능력': 2890, '최저': 2891, '쿠': 2892, '태': 2893, '트릭': 2894, '필수': 2895, '혹성탈출': 2896, '화해': 2897, '훈남': 2898, '감당': 2899, '거뭐': 2900, '건아': 2901, '곳곳': 2902, '극한': 2903, '금요일': 2904, '기어': 2905, '내러티브': 2906, '뇌리': 2907, '다문화': 2908, '대책': 2909, '덕후': 2910, '동아리': 2911, '런닝타임': 2912, '리오': 2913, '마크': 2914, '명곡': 2915, '미인': 2916, '박해일': 2917, '보물': 2918, '부재': 2919, '브래드피트': 2920, '비난': 2921, '비명': 2922, '비슷': 2923, '사다코': 2924, '샤론스톤': 2925, '샤를': 2926, '설레임': 2927, '소문': 2928, '속도': 2929, '스톤': 2930, '승': 2931, '시사': 2932, '신현준': 2933, '애도': 2934, '어우': 2935, '여동생': 2936, '역사왜곡': 2937, '연장': 2938, '예의': 2939, '옹박': 2940, '우월': 2941, '유명': 2942, '일베': 2943, '잣': 2944, '저예산영화': 2945, '전적': 2946, '절실': 2947, '정재영': 2948, '주목': 2949, '주지훈': 2950, '즉': 2951, '즐': 2952, '지존': 2953, '질투': 2954, '치기': 2955, '케이트': 2956, '한장': 2957, '해리슨': 2958, '허니': 2959, '현빈': 2960, '황비홍': 2961, '가치관': 2962, '간의': 2963, '고백': 2964, '광주': 2965, '괴수': 2966, '기차': 2967, '꾹': 2968, '나열': 2969, '나이트': 2970, '넋': 2971, '대형': 2972, '따윈': 2973, '레이싱': 2974, '롯데': 2975, '만날': 2976, '말기': 2977, '무니': 2978, '무려': 2979, '미군': 2980, '미로': 2981, '버금': 2982, '서우': 2983, '선전': 2984, '수다': 2985, '슈렉': 2986, '시스템': 2987, '쓰레기통': 2988, '악평': 2989, '암살': 2990, '압박': 2991, '에리': 2992, '엘': 2993, '연령': 2994, '우리네': 2995, '인종': 2996, '자료': 2997, '장편': 2998, '조선족': 2999, '주체': 3000, '찰리': 3001, '채플린': 3002, '충만': 3003, '충무로': 3004, '측면': 3005, '켄': 3006, '콤비': 3007, '크로우': 3008, '크리스틴': 3009, '테론': 3010, '토마스': 3011, '투자자': 3012, '파일': 3013, '폭': 3014, '프레디': 3015, '플레이': 3016, '한예슬': 3017, '헤어': 3018, '현장': 3019, '화답': 3020, '개독': 3021, '개미': 3022, '게왜': 3023, '고요': 3024, '공개': 3025, '교감': 3026, '근거': 3027, '까메오': 3028, '다음주': 3029, '다한': 3030, '대략': 3031, '듣보잡': 3032, '디스': 3033, '따라서': 3034, '라마': 3035, '로그': 3036, '로렌스': 3037, '로보캅': 3038, '리들리': 3039, '리스트': 3040, '리즈시절': 3041, '마인드': 3042, '매년': 3043, '멍청이': 3044, '몬스터': 3045, '문근영': 3046, '미만': 3047, '벨': 3048, '보석': 3049, '보장': 3050, '봣다': 3051, '상투': 3052, '선배': 3053, '시청율': 3054, '실종': 3055, '싹': 3056, '악의': 3057, '안녕': 3058, '안목': 3059, '앵글': 3060, '어둠': 3061, '어려움': 3062, '언론': 3063, '에너지': 3064, '오류': 3065, '옹': 3066, '옹호': 3067, '요구': 3068, '우디': 3069, '웨슬리': 3070, '유오성': 3071, '일대기': 3072, '자비': 3073, '작업': 3074, '작정': 3075, '장군': 3076, '재회': 3077, '적응': 3078, '조인성': 3079, '조재현': 3080, '진구': 3081, '진화': 3082, '창작': 3083, '콘서트': 3084, '크리스토퍼': 3085, '퉤': 3086, '표본': 3087, '한쪽': 3088, '함정': 3089, '현대인': 3090, '형성': 3091, '호러영화': 3092, '화평': 3093, '황': 3094, '회장': 3095, '휴머니즘': 3096, '가문': 3097, '각인': 3098, '고소영': 3099, '고현정': 3100, '공효진': 3101, '김남길': 3102, '김선아': 3103, '껄': 3104, '놀이': 3105, '대치': 3106, '도박': 3107, '때메': 3108, '로드무비': 3109, '루크': 3110, '마구': 3111, '마루': 3112, '맑은': 3113, '멜깁슨': 3114, '몰래': 3115, '바이러스': 3116, '발톱': 3117, '발휘': 3118, '버젼': 3119, '변호사': 3120, '볼껄': 3121, '사전': 3122, '세라': 3123, '솜씨': 3124, '수사': 3125, '슈스케': 3126, '스캔들': 3127, '시보': 3128, '신파극': 3129, '실존': 3130, '쌍욕': 3131, '쏙': 3132, '알맹이': 3133, '어깨': 3134, '어째서': 3135, '에이리언': 3136, '엑스트라': 3137, '오토바이': 3138, '욬': 3139, '원빈': 3140, '유도': 3141, '육체': 3142, '윤계상': 3143, '음모': 3144, '이민정': 3145, '이순신': 3146, '이종석': 3147, '인셉션': 3148, '임용': 3149, '자세': 3150, '적도': 3151, '전의': 3152, '정신건강': 3153, '제법': 3154, '조각': 3155, '주의자': 3156, '지진희': 3157, '직전': 3158, '초심': 3159, '출연료': 3160, '큐': 3161, '클루니': 3162, '턱': 3163, '통수': 3164, '페이지': 3165, '프레데터': 3166, '핸드폰': 3167, '호평': 3168, '확신': 3169, '황제': 3170, '효민': 3171, '후지': 3172, '가운데': 3173, '거중': 3174, '건물': 3175, '결과물': 3176, '고래': 3177, '구해': 3178, '금방': 3179, '급전': 3180, '나오니': 3181, '낯선': 3182, '놀람': 3183, '다수': 3184, '대리': 3185, '데이먼': 3186, '도덕': 3187, '독도': 3188, '독창': 3189, '듯이': 3190, '떄문': 3191, '똥폼': 3192, '뜸': 3193, '마초': 3194, '멋대로': 3195, '며': 3196, '모델': 3197, '무얼': 3198, '문성우': 3199, '방이': 3200, '백미': 3201, '변명': 3202, '병사': 3203, '비정상': 3204, '뺨': 3205, '사서': 3206, '사춘기': 3207, '산드라': 3208, '수술': 3209, '수정': 3210, '스티브': 3211, '승화': 3212, '신기': 3213, '악몽': 3214, '앓이': 3215, '얼른': 3216, '여우': 3217, '여진구': 3218, '우마': 3219, '위안': 3220, '유작': 3221, '이남': 3222, '이상형': 3223, '인증': 3224, '자하': 3225, '잡지': 3226, '재기': 3227, '전국': 3228, '종이': 3229, '줄알': 3230, '참신': 3231, '코스트': 3232, '콧물': 3233, '클린트': 3234, '통쾌': 3235, '통한': 3236, '평범': 3237, '평타': 3238, '피라냐': 3239, '하필': 3240, '한지민': 3241, '해대': 3242, '훈련': 3243, '훼손': 3244, '감독판': 3245, '걸레': 3246, '경기': 3247, '고려': 3248, '고향': 3249, '공리': 3250, '관객수': 3251, '근본': 3252, '기부': 3253, '김수로': 3254, '나비': 3255, '나인': 3256, '남자친구': 3257, '낭': 3258, '내겐': 3259, '댓글알바': 3260, '더보': 3261, '데이트': 3262, '도망': 3263, '도아': 3264, '독백': 3265, '뒤통수': 3266, '린치': 3267, '막스': 3268, '매튜': 3269, '미니': 3270, '민주주의': 3271, '반의': 3272, '발암': 3273, '보호': 3274, '볼땐': 3275, '부수': 3276, '부의': 3277, '브래드': 3278, '빅': 3279, '사막': 3280, '사의': 3281, '서서히': 3282, '서인국': 3283, '소린': 3284, '소방관': 3285, '소수': 3286, '소외': 3287, '소유': 3288, '쉣': 3289, '아이리스': 3290, '악인': 3291, '어벤져스': 3292, '어보': 3293, '에혀': 3294, '여명': 3295, '예정': 3296, '이분': 3297, '이선균': 3298, '이슈': 3299, '자마자': 3300, '정답': 3301, '정돈': 3302, '정유미': 3303, '정적': 3304, '제공': 3305, '조커': 3306, '좌파': 3307, '주장': 3308, '지성': 3309, '직장': 3310, '진의': 3311, '질주': 3312, '창조': 3313, '채민서': 3314, '치가': 3315, '치명': 3316, '퀄': 3317, '크리': 3318, '탕': 3319, '팬심': 3320, '한국말': 3321, '행운': 3322, '허준': 3323, '현': 3324, '혼': 3325, '황금': 3326, '후유증': 3327, '흐': 3328, '각성': 3329, '거대': 3330, '거여': 3331, '결합': 3332, '경제': 3333, '계단': 3334, '공격': 3335, '과제': 3336, '관계자': 3337, '괴작': 3338, '교차': 3339, '구매': 3340, '그룹': 3341, '김래원': 3342, '낚임': 3343, '농구': 3344, '농락': 3345, '뉴': 3346, '대구': 3347, '동기': 3348, '동의': 3349, '동참': 3350, '레인': 3351, '리언': 3352, '마련': 3353, '마피아': 3354, '메리': 3355, '무작정': 3356, '보영': 3357, '부러': 3358, '불가능': 3359, '브로디': 3360, '블': 3361, '서민': 3362, '스탤론': 3363, '스트립': 3364, '시바': 3365, '신은경': 3366, '심해': 3367, '쓰나미': 3368, '아날로그': 3369, '안고': 3370, '안듬': 3371, '안티': 3372, '양산': 3373, '어메이징': 3374, '어물': 3375, '어울림': 3376, '어유': 3377, '엄태웅': 3378, '여실히': 3379, '여야': 3380, '오디션': 3381, '오래오래': 3382, '오리': 3383, '옴니버스': 3384, '와나': 3385, '우울증': 3386, '유승준': 3387, '유역비': 3388, '의존': 3389, '이브': 3390, '인내': 3391, '인피니트': 3392, '일방': 3393, '일본애니': 3394, '일일': 3395, '잉여': 3396, '전통': 3397, '정글': 3398, '제이': 3399, '제인': 3400, '주신': 3401, '주제곡': 3402, '중이': 3403, '즘': 3404, '지능': 3405, '지속': 3406, '지하철': 3407, '짐작': 3408, '최대한': 3409, '취미': 3410, '케로로': 3411, '쾌감': 3412, '큰일': 3413, '타입': 3414, '타짜': 3415, '토르': 3416, '토미': 3417, '토이스토리': 3418, '팬티': 3419, '평정': 3420, '한몫': 3421, '합리화': 3422, '화장': 3423, '후의': 3424, '휘': 3425, '히치콕': 3426, '가가': 3427, '거도': 3428, '검': 3429, '관성': 3430, '구림': 3431, '궁금증': 3432, '기계': 3433, '끝장': 3434, '난방': 3435, '내공': 3436, '냥': 3437, '노무현': 3438, '논란': 3439, '대변': 3440, '뎁': 3441, '된장': 3442, '두서': 3443, '때론': 3444, '로맨스영화': 3445, '망신': 3446, '먹음': 3447, '모드': 3448, '목표': 3449, '무장': 3450, '문학': 3451, '미성년': 3452, '미스터': 3453, '벌레': 3454, '별반': 3455, '보삼': 3456, '봉태규': 3457, '부대': 3458, '붕괴': 3459, '브리': 3460, '비급': 3461, '빈틈': 3462, '사랑과전쟁': 3463, '사례': 3464, '성향': 3465, '수업': 3466, '스타뎀': 3467, '스토': 3468, '신동엽': 3469, '신뢰': 3470, '신앙': 3471, '아담샌들러': 3472, '아르': 3473, '아웃': 3474, '안경': 3475, '약속': 3476, '어필': 3477, '엠비씨': 3478, '와이어': 3479, '왕따': 3480, '욧': 3481, '위치': 3482, '윌스미스': 3483, '유행어': 3484, '은희': 3485, '을': 3486, '의아': 3487, '이자벨': 3488, '자가': 3489, '자녀': 3490, '자신감': 3491, '자존심': 3492, '작살': 3493, '잔혹': 3494, '장만옥': 3495, '정권': 3496, '정성': 3497, '좆': 3498, '좌빨': 3499, '좌절': 3500, '주민': 3501, '준수': 3502, '중구': 3503, '지상파': 3504, '진부': 3505, '진자': 3506, '진지': 3507, '천녀유혼': 3508, '천하': 3509, '최지우': 3510, '침대': 3511, '침몰': 3512, '카타르': 3513, '캐서린': 3514, '쿠바': 3515, '퀸': 3516, '타이밍': 3517, '탐욕': 3518, '테스트': 3519, '통틀어': 3520, '패기': 3521, '패닝': 3522, '프로젝트': 3523, '하루하루': 3524, '한니발': 3525, '해리': 3526, '해설': 3527, '핵심': 3528, '화이': 3529, '흐흐': 3530, '힐': 3531, '고고': 3532, '괜찬': 3533, '괴': 3534, '구지성': 3535, '균형': 3536, '기반': 3537, '기운': 3538, '나소': 3539, '남동생': 3540, '데미무어': 3541, '동원': 3542, '라며': 3543, '런닝': 3544, '롭': 3545, '마주': 3546, '말리': 3547, '멸망': 3548, '명량': 3549, '무표정': 3550, '문제점': 3551, '물고기': 3552, '물질': 3553, '뮤직': 3554, '므': 3555, '미남': 3556, '미션임파서블': 3557, '발차기': 3558, '배두나': 3559, '보상': 3560, '부각': 3561, '부류': 3562, '불꽃': 3563, '브라이언': 3564, '블록': 3565, '블루레이': 3566, '뽀로로': 3567, '사형': 3568, '삼국지': 3569, '서세원': 3570, '수년': 3571, '수습': 3572, '시킴': 3573, '실체': 3574, '아키라': 3575, '알리': 3576, '암시': 3577, '어쨋': 3578, '엑소': 3579, '여군': 3580, '오줌': 3581, '유해진': 3582, '이틀': 3583, '인공': 3584, '자전거': 3585, '장담': 3586, '점임': 3587, '제도': 3588, '제레미': 3589, '제적': 3590, '조롱': 3591, '주시': 3592, '진국': 3593, '쪽바리': 3594, '차인표': 3595, '책임감': 3596, '청': 3597, '초적': 3598, '초콜릿': 3599, '최진실': 3600, '축': 3601, '키스신': 3602, '테이크': 3603, '통일': 3604, '통찰': 3605, '특성': 3606, '판타스틱': 3607, '판타지영화': 3608, '피터팬': 3609, '하나경': 3610, '해학': 3611, '허영': 3612, '헛소리': 3613, '현상': 3614, '형태': 3615, '홈': 3616, '가도': 3617, '가위': 3618, '감우성': 3619, '개봉관': 3620, '건달': 3621, '결제': 3622, '경지': 3623, '고집': 3624, '공기': 3625, '궁금': 3626, '그림자': 3627, '극도': 3628, '김승우': 3629, '낚였어': 3630, '난생': 3631, '난이': 3632, '날림': 3633, '남한': 3634, '내지': 3635, '닌자': 3636, '다그': 3637, '다나': 3638, '단계': 3639, '단막극': 3640, '대기업': 3641, '대학교': 3642, '도감': 3643, '돌이': 3644, '드래곤': 3645, '띠': 3646, '랍시고': 3647, '레저': 3648, '리치': 3649, '마동석': 3650, '만인': 3651, '메릴': 3652, '며칠': 3653, '모건': 3654, '모니터': 3655, '모자': 3656, '모처럼': 3657, '뮤': 3658, '바비': 3659, '박신혜': 3660, '박자': 3661, '반지의제왕': 3662, '배슬기': 3663, '번만': 3664, '별개': 3665, '보더': 3666, '봣던': 3667, '봣음': 3668, '부리': 3669, '브금': 3670, '비노': 3671, '삘': 3672, '상승': 3673, '생일': 3674, '서양인': 3675, '성질': 3676, '세명': 3677, '시간여행': 3678, '시망': 3679, '시원': 3680, '심은하': 3681, '싸이': 3682, '아리': 3683, '악플': 3684, '안정': 3685, '안젤리나': 3686, '안주': 3687, '액': 3688, '약자': 3689, '어요': 3690, '여자도': 3691, '엮': 3692, '영호': 3693, '오늘날': 3694, '오우': 3695, '요원': 3696, '욕설': 3697, '우베': 3698, '움직임': 3699, '웨이': 3700, '유명배우': 3701, '유이': 3702, '유준상': 3703, '윽': 3704, '이내': 3705, '이수근': 3706, '이중': 3707, '이치': 3708, '인칭': 3709, '자라': 3710, '자질': 3711, '장사': 3712, '장인': 3713, '잼남': 3714, '저건': 3715, '전범': 3716, '조디': 3717, '중요성': 3718, '진출': 3719, '최강희': 3720, '축하': 3721, '충분': 3722, '친일파': 3723, '카드': 3724, '컬': 3725, '케이스': 3726, '테러리스트': 3727, '트와일라잇': 3728, '퍼펙트': 3729, '편지': 3730, '피하': 3731, '하든': 3732, '하여튼': 3733, '해운대': 3734, '화신': 3735, '회복': 3736, '희극': 3737, '건너': 3738, '건담': 3739, '경쟁': 3740, '고기': 3741, '과감': 3742, '국뽕': 3743, '군데': 3744, '권리': 3745, '규': 3746, '극영화': 3747, '금발': 3748, '기념': 3749, '기업': 3750, '기절': 3751, '김정은': 3752, '꽉': 3753, '노다메': 3754, '니미': 3755, '닭': 3756, '당대': 3757, '대립': 3758, '대면': 3759, '덧': 3760, '동정': 3761, '된장녀': 3762, '로나': 3763, '로라': 3764, '맥주': 3765, '멘스': 3766, '명언': 3767, '모자라': 3768, '몸부림': 3769, '민영화': 3770, '박영화': 3771, '박정희': 3772, '반면': 3773, '뱀': 3774, '보수': 3775, '불멸': 3776, '비용': 3777, '사가': 3778, '사이코패스': 3779, '살해': 3780, '삼촌': 3781, '상속': 3782, '샤말란': 3783, '서사시': 3784, '선입견': 3785, '성장기': 3786, '세지': 3787, '손오공': 3788, '송중기': 3789, '순정': 3790, '스칼렛': 3791, '스콜': 3792, '스토리텔링': 3793, '스틱': 3794, '시위': 3795, '쌍둥이': 3796, '아일랜드': 3797, '압축': 3798, '앜': 3799, '앤딩': 3800, '엇어': 3801, '에디': 3802, '여고괴담': 3803, '여고생': 3804, '연민': 3805, '영화음악': 3806, '오점': 3807, '외로': 3808, '원스': 3809, '원제': 3810, '위성': 3811, '위안부': 3812, '윤리': 3813, '윤시윤': 3814, '이정현': 3815, '이제껏': 3816, '이프': 3817, '인간미': 3818, '인사': 3819, '입가': 3820, '자칫': 3821, '장미': 3822, '전결': 3823, '정신병원': 3824, '제자': 3825, '조기': 3826, '조여정': 3827, '조치': 3828, '종종': 3829, '좌좀': 3830, '죄책감': 3831, '중세': 3832, '지다': 3833, '지리': 3834, '지망': 3835, '초한지': 3836, '추강': 3837, '추석': 3838, '출동': 3839, '충족': 3840, '치중': 3841, '칠이': 3842, '클래스': 3843, '타이타닉': 3844, '탁': 3845, '탈락': 3846, '토비': 3847, '파티': 3848, '팔마': 3849, '폭탄': 3850, '푸른': 3851, '피어스': 3852, '필립': 3853, '한수': 3854, '한시': 3855, '한일': 3856, '핫': 3857, '허각': 3858, '헌터': 3859, '헤': 3860, '획기': 3861, '히틀러': 3862, '가왜': 3863, '강예원': 3864, '개방': 3865, '거참': 3866, '걸왜': 3867, '결투': 3868, '고개': 3869, '고루': 3870, '고릴라': 3871, '고정': 3872, '공각기동대': 3873, '공상': 3874, '곽지민': 3875, '구입': 3876, '권선': 3877, '그로테스크': 3878, '그릇': 3879, '그이': 3880, '기원': 3881, '김규리': 3882, '꺄': 3883, '눈물샘': 3884, '느': 3885, '다케시': 3886, '닥터': 3887, '단말': 3888, '당한': 3889, '더더': 3890, '데드': 3891, '도배': 3892, '동성애자': 3893, '동화책': 3894, '두뇌': 3895, '두루': 3896, '드릅': 3897, '딸아이': 3898, '떼': 3899, '러시': 3900, '로사': 3901, '론데': 3902, '루시': 3903, '류승룡': 3904, '림': 3905, '마니아': 3906, '마모루': 3907, '명예': 3908, '모니카': 3909, '모자이크': 3910, '문구': 3911, '물결': 3912, '미셸': 3913, '민간인': 3914, '밍밍': 3915, '박스오피스': 3916, '박유천': 3917, '방울': 3918, '배제': 3919, '범죄영화': 3920, '변질': 3921, '복귀': 3922, '부실': 3923, '부조리': 3924, '불안': 3925, '블레이드': 3926, '비행': 3927, '빠다': 3928, '사정': 3929, '삼천포': 3930, '서태지': 3931, '세월호': 3932, '솔로': 3933, '술함': 3934, '슈': 3935, '스님': 3936, '스틸': 3937, '시어머니': 3938, '식당': 3939, '신들': 3940, '쌤': 3941, '아메리칸': 3942, '아유': 3943, '아트': 3944, '안달': 3945, '알고싶다': 3946, '야쿠자': 3947, '양키': 3948, '어쩐지': 3949, '연락': 3950, '영화배우': 3951, '오기': 3952, '올드보이': 3953, '용의': 3954, '우승': 3955, '원한': 3956, '유루': 3957, '유산': 3958, '유승호': 3959, '이상우': 3960, '이스라엘': 3961, '인디언': 3962, '일기': 3963, '일본어': 3964, '일어나서': 3965, '일인': 3966, '장백지': 3967, '장용': 3968, '장진영': 3969, '저능': 3970, '전투기': 3971, '전파': 3972, '정책': 3973, '정치인': 3974, '제한': 3975, '조건': 3976, '종말': 3977, '줫': 3978, '지라': 3979, '진상': 3980, '질감': 3981, '창문': 3982, '첩보물': 3983, '케이온': 3984, '킬빌': 3985, '태권도': 3986, '통속': 3987, '퍼': 3988, '페이': 3989, '평작': 3990, '폭소': 3991, '폭파': 3992, '풀이': 3993, '피고': 3994, '피로': 3995, '학': 3996, '학대': 3997, '해안': 3998, '헬기': 3999, '호랑이': 4000, '화재': 4001, '화제': 4002, '후보': 4003, '거구': 4004, '결혼식': 4005, '공익': 4006, '관우': 4007, '광해': 4008, '교사': 4009, '구지': 4010, '근육': 4011, '긴급': 4012, '김민준': 4013, '껀': 4014, '꾸밈': 4015, '남아도': 4016, '넼': 4017, '녹음': 4018, '놀': 4019, '달인': 4020, '답습': 4021, '당췌': 4022, '대니': 4023, '데스노트': 4024, '도가니': 4025, '돌림': 4026, '둘리': 4027, '드라큐라': 4028, '라이트': 4029, '마스터': 4030, '마스터피스': 4031, '마이크': 4032, '만원': 4033, '매드': 4034, '매치': 4035, '멕': 4036, '멘트': 4037, '명절': 4038, '무명': 4039, '무방': 4040, '미련': 4041, '미숙': 4042, '민주화': 4043, '바램': 4044, '박살': 4045, '박한별': 4046, '범벅': 4047, '보드': 4048, '봉준호': 4049, '부영': 4050, '불우': 4051, '붕': 4052, '비둘기': 4053, '비리': 4054, '빠르기': 4055, '사골': 4056, '삽입': 4057, '서바이벌': 4058, '서커스': 4059, '성동일': 4060, '세력': 4061, '숀': 4062, '숀펜': 4063, '수단': 4064, '수지': 4065, '스무살': 4066, '스크림': 4067, '스포일러': 4068, '슬슬': 4069, '싱크로': 4070, '아이디': 4071, '알렉스': 4072, '앗': 4073, '억압': 4074, '엇음': 4075, '에반게리온': 4076, '엠씨': 4077, '연결고리': 4078, '연예': 4079, '영애': 4080, '영점': 4081, '영화광': 4082, '오그': 4083, '오덕': 4084, '오드리': 4085, '완결': 4086, '우울': 4087, '운전': 4088, '위선': 4089, '위험': 4090, '윌리엄스': 4091, '음모론': 4092, '의의': 4093, '이모': 4094, '이문식': 4095, '이민호': 4096, '이입': 4097, '이준': 4098, '이지나': 4099, '인용': 4100, '인위': 4101, '장동민': 4102, '장선우': 4103, '장수': 4104, '재벌': 4105, '재생': 4106, '재판': 4107, '정준호': 4108, '조잡': 4109, '죄악': 4110, '진도': 4111, '진주': 4112, '짝사랑': 4113, '짤': 4114, '쩔어요': 4115, '참내': 4116, '청춘영화': 4117, '초등': 4118, '코너': 4119, '클럽': 4120, '톱': 4121, '파멸': 4122, '폐해': 4123, '폴라': 4124, '피노키오': 4125, '피어': 4126, '하우스': 4127, '하이라이트': 4128, '해주': 4129, '헤헤': 4130, '호프': 4131, '환': 4132, '환영': 4133, '후배': 4134, '후진': 4135, '훌륭': 4136, '휴잭맨': 4137, '흠뻑': 4138, '가나다': 4139, '가보': 4140, '간접': 4141, '갈수': 4142, '감점': 4143, '건강': 4144, '건데': 4145, '걸음': 4146, '것임': 4147, '겄': 4148, '결': 4149, '고갈': 4150, '고급': 4151, '고본': 4152, '공장': 4153, '과언': 4154, '관찰': 4155, '굿바이': 4156, '그레이': 4157, '금도': 4158, '기기': 4159, '기한': 4160, '김민희': 4161, '김보성': 4162, '김주혁': 4163, '김창완': 4164, '김현주': 4165, '나하': 4166, '노아': 4167, '늑대인간': 4168, '대처': 4169, '대판': 4170, '댐': 4171, '동경': 4172, '디아즈': 4173, '라이더': 4174, '라이브': 4175, '람': 4176, '러': 4177, '러브레터': 4178, '로안': 4179, '리그': 4180, '리부트': 4181, '막무가내': 4182, '말장난': 4183, '맥그리거': 4184, '모름': 4185, '무고': 4186, '무성영화': 4187, '무한도전': 4188, '문명': 4189, '물리': 4190, '물체': 4191, '뭘말': 4192, '밋게봣': 4193, '밋음': 4194, '박용우': 4195, '박현지': 4196, '반점': 4197, '반쪽': 4198, '방사': 4199, '베트남': 4200, '변': 4201, '보너스': 4202, '본드': 4203, '불교': 4204, '비트': 4205, '뿐더러': 4206, '사신': 4207, '사자': 4208, '사토시': 4209, '삽질': 4210, '석': 4211, '설리': 4212, '성인영화': 4213, '세이': 4214, '소비': 4215, '소원': 4216, '쇼킹': 4217, '슬레': 4218, '시네마': 4219, '시퀀스': 4220, '시한': 4221, '심심': 4222, '썅': 4223, '아야': 4224, '악어': 4225, '안개': 4226, '안드로메다': 4227, '애비': 4228, '어게인': 4229, '얼음': 4230, '업그레이드': 4231, '에어': 4232, '에이미': 4233, '여서': 4234, '여자아이': 4235, '연설': 4236, '영하': 4237, '영화니': 4238, '영화평론가': 4239, '오름': 4240, '오열': 4241, '온통': 4242, '완존': 4243, '요가': 4244, '욱': 4245, '운지': 4246, '월드컵': 4247, '웨스턴': 4248, '윌리엄': 4249, '유튜브': 4250, '을해': 4251, '이기심': 4252, '이미연': 4253, '이서': 4254, '이정진': 4255, '인간성': 4256, '인시디어스': 4257, '잡스': 4258, '재일': 4259, '재희': 4260, '저격': 4261, '저그': 4262, '전후': 4263, '절용': 4264, '접영': 4265, '정상인': 4266, '제리': 4267, '조선시대': 4268, '조한선': 4269, '존잘': 4270, '주년': 4271, '주리': 4272, '주진모': 4273, '중견': 4274, '증오': 4275, '지니어스': 4276, '지못미': 4277, '지연': 4278, '지은': 4279, '집합': 4280, '징악': 4281, '참패': 4282, '창의': 4283, '천년': 4284, '최수종': 4285, '추적': 4286, '취지': 4287, '취하': 4288, '캡틴': 4289, '컨데': 4290, '콩가루': 4291, '킬': 4292, '타워': 4293, '타잔': 4294, '택': 4295, '토요명화': 4296, '톱스타': 4297, '투모로우': 4298, '투쟁': 4299, '파이': 4300, '파치노': 4301, '파트너': 4302, '패스': 4303, '페미니즘': 4304, '편향': 4305, '프리드': 4306, '핑계': 4307, '해소': 4308, '햇던': 4309, '헌신': 4310, '협박': 4311, '환희': 4312, '훅': 4313, '훌쩍': 4314, '흑형': 4315, '각심': 4316, '갈망': 4317, '강남': 4318, '강소라': 4319, '강우석': 4320, '개척': 4321, '갱': 4322, '게로': 4323, '경력': 4324, '고난': 4325, '고마': 4326, '고사': 4327, '관념': 4328, '관능': 4329, '괴수영화': 4330, '교양': 4331, '구식': 4332, '그리움': 4333, '기네': 4334, '기능': 4335, '길거리': 4336, '김소연': 4337, '김옥빈': 4338, '김윤석': 4339, '김준호': 4340, '깔깔': 4341, '껍데기': 4342, '나래': 4343, '나선': 4344, '남상미': 4345, '눈살': 4346, '눈앞': 4347, '대답': 4348, '대인': 4349, '대장': 4350, '대지': 4351, '도도': 4352, '됫': 4353, '디비디': 4354, '똥꼬': 4355, '라운드': 4356, '레고': 4357, '레즈': 4358, '리얼리즘': 4359, '릴리': 4360, '마는': 4361, '마력': 4362, '마셈': 4363, '마저': 4364, '만행': 4365, '머리카락': 4366, '멀미': 4367, '메이저': 4368, '바라지': 4369, '박물관': 4370, '박진영': 4371, '반항': 4372, '발악': 4373, '백': 4374, '번방': 4375, '범작': 4376, '법도': 4377, '볼바': 4378, '봣습니': 4379, '봣어': 4380, '분류': 4381, '불과': 4382, '불어': 4383, '불행': 4384, '블러드': 4385, '비평': 4386, '빙의': 4387, '사나': 4388, '사도': 4389, '사업': 4390, '사하나': 4391, '산업': 4392, '삼성': 4393, '상자': 4394, '서서': 4395, '성시경': 4396, '성폭행': 4397, '세심': 4398, '소녀시대': 4399, '소라': 4400, '소련': 4401, '소유진': 4402, '수식어': 4403, '수호': 4404, '순이': 4405, '스물': 4406, '스케': 4407, '습격': 4408, '실천': 4409, '심금': 4410, '쌩뚱맞': 4411, '아따': 4412, '앨리스': 4413, '야수': 4414, '여태껏': 4415, '연출자': 4416, '예상외': 4417, '온건': 4418, '올인': 4419, '와인': 4420, '우주전쟁': 4421, '울버린': 4422, '위협': 4423, '유선': 4424, '유진': 4425, '윤발': 4426, '은유': 4427, '읍니': 4428, '이빨': 4429, '이성': 4430, '인내력': 4431, '인성': 4432, '일병': 4433, '일진': 4434, '입체': 4435, '작고': 4436, '잔인': 4437, '잡탕': 4438, '재연': 4439, '저학년': 4440, '좌': 4441, '죠스': 4442, '주님': 4443, '주문': 4444, '주변인': 4445, '주어': 4446, '직장인': 4447, '진가': 4448, '쫙': 4449, '차기작': 4450, '치부': 4451, '친일': 4452, '카이': 4453, '코넬': 4454, '쿠엔틴': 4455, '쿨': 4456, '쿵푸팬더': 4457, '킹콩': 4458, '탄탄': 4459, '탱고': 4460, '테이프': 4461, '특급': 4462, '파탄': 4463, '패륜': 4464, '퍼센트': 4465, '편성': 4466, '포커스': 4467, '프리퀄': 4468, '핀': 4469, '하리': 4470, '한구석': 4471, '한잔': 4472, '햇음': 4473, '화이트': 4474, '회의': 4475, '가르침': 4476, '강도': 4477, '강원도': 4478, '개망작': 4479, '개월': 4480, '결승전': 4481, '고함': 4482, '괴기': 4483, '괴담': 4484, '교통사고': 4485, '그날': 4486, '금은': 4487, '깃': 4488, '꼽으라': 4489, '꽃미남': 4490, '나비효과': 4491, '나오미': 4492, '나잇': 4493, '나탈리': 4494, '날개': 4495, '남우': 4496, '노소': 4497, '눈높이': 4498, '눈알': 4499, '니모': 4500, '다양성': 4501, '다임': 4502, '다짐': 4503, '대요': 4504, '댓': 4505, '도록': 4506, '드류': 4507, '때로는': 4508, '라이즈': 4509, '룰': 4510, '리차드': 4511, '마법사': 4512, '마스크': 4513, '모리': 4514, '모음': 4515, '무덤': 4516, '무죄': 4517, '뮤비': 4518, '민호': 4519, '바사': 4520, '발가락': 4521, '발정': 4522, '밸런스': 4523, '베를린': 4524, '벨라': 4525, '보고또보고': 4526, '보람': 4527, '본분': 4528, '부천': 4529, '분투': 4530, '비약': 4531, '사이트': 4532, '산타': 4533, '상사': 4534, '상쾌': 4535, '성기': 4536, '성지순례': 4537, '세금': 4538, '섹': 4539, '소가': 4540, '송새벽': 4541, '송윤아': 4542, '수영': 4543, '수학': 4544, '쉰': 4545, '스나입스': 4546, '스머프': 4547, '스토커': 4548, '스티': 4549, '스포츠영화': 4550, '슬로우': 4551, '신발': 4552, '실속': 4553, '심판': 4554, '십대': 4555, '싸가지': 4556, '싸인': 4557, '쌍벽': 4558, '아가씨': 4559, '아포칼립토': 4560, '애국': 4561, '어렷을때': 4562, '어장': 4563, '에밀리': 4564, '연대기': 4565, '오정세': 4566, '완소': 4567, '우디앨런': 4568, '우웩': 4569, '원망': 4570, '웟': 4571, '유부녀': 4572, '유희': 4573, '윤은혜': 4574, '이경영': 4575, '이나라': 4576, '이미숙': 4577, '이불': 4578, '이서진': 4579, '이슬람': 4580, '이익': 4581, '이즈': 4582, '이지아': 4583, '이진': 4584, '이해해': 4585, '인격': 4586, '인즈': 4587, '인질': 4588, '임성한': 4589, '입력': 4590, '자국': 4591, '잡기': 4592, '장비': 4593, '재활용': 4594, '절친': 4595, '젖': 4596, '제국': 4597, '제대': 4598, '제라드': 4599, '제멋대로': 4600, '제시카알바': 4601, '조니': 4602, '조안': 4603, '조장': 4604, '존예': 4605, '종결': 4606, '종교영화': 4607, '주식': 4608, '주저': 4609, '죽겠네': 4610, '중점': 4611, '즈음': 4612, '지향': 4613, '직설': 4614, '짜장면': 4615, '짝짝': 4616, '처벌': 4617, '청자': 4618, '축복': 4619, '출시': 4620, '취해': 4621, '침략': 4622, '클로이': 4623, '클로즈업': 4624, '킴': 4625, '킹왕짱': 4626, '탐정': 4627, '털': 4628, '테일러': 4629, '테잎': 4630, '통제': 4631, '퇴보': 4632, '퇴폐': 4633, '특색': 4634, '판도': 4635, '패밀리': 4636, '펜': 4637, '하': 4638, '하락': 4639, '하모니': 4640, '학예회': 4641, '합격': 4642, '허망': 4643, '혼합': 4644, '홍경인': 4645, '후레쉬맨': 4646, '후편': 4647, '휴지': 4648, '가스': 4649, '강수연': 4650, '개봉일': 4651, '거북': 4652, '경': 4653, '경치': 4654, '공군': 4655, '과분': 4656, '관해': 4657, '굴': 4658, '권장': 4659, '그리스': 4660, '기다림': 4661, '긴장도': 4662, '긴지': 4663, '김대희': 4664, '김수미': 4665, '김아중': 4666, '김우빈': 4667, '김지수': 4668, '꼬리': 4669, '낄낄': 4670, '나치': 4671, '냉소': 4672, '넨': 4673, '니슨': 4674, '달린다': 4675, '닭살': 4676, '당첨': 4677, '대다수': 4678, '덩': 4679, '도나': 4680, '도서관': 4681, '도의': 4682, '동양인': 4683, '둘이서': 4684, '똥망': 4685, '라라': 4686, '라서': 4687, '라이토': 4688, '래서': 4689, '런': 4690, '레벨': 4691, '로부터': 4692, '록': 4693, '류덕환': 4694, '리더': 4695, '리프': 4696, '마녀사냥': 4697, '마돈나': 4698, '마술': 4699, '만능': 4700, '말론': 4701, '매기': 4702, '맥락': 4703, '명분': 4704, '모레': 4705, '모범': 4706, '몸짓': 4707, '문소리': 4708, '물어': 4709, '뭉클': 4710, '미사일': 4711, '바이블': 4712, '박스': 4713, '박시환': 4714, '박진희': 4715, '베토벤': 4716, '보편': 4717, '불신': 4718, '브라질': 4719, '비됴': 4720, '빈약': 4721, '사냥': 4722, '살림': 4723, '생뚱맞': 4724, '샹': 4725, '서사': 4726, '성냥': 4727, '세계대전': 4728, '소위': 4729, '숫자': 4730, '슴가': 4731, '시계': 4732, '시시': 4733, '신랑': 4734, '신영화': 4735, '신지': 4736, '십분': 4737, '싱크': 4738, '싸대기': 4739, '썸띵': 4740, '아파트': 4741, '악행': 4742, '안소니': 4743, '애환': 4744, '액션연기': 4745, '앤드류': 4746, '엌': 4747, '여느': 4748, '여럿': 4749, '여사': 4750, '영역': 4751, '예감': 4752, '예나': 4753, '오마쥬': 4754, '올드': 4755, '외치': 4756, '요정': 4757, '우상': 4758, '운영': 4759, '워쇼스키': 4760, '워스트': 4761, '월화': 4762, '위인': 4763, '유코': 4764, '유태인': 4765, '은애': 4766, '은행': 4767, '이동진': 4768, '이보영': 4769, '이요원': 4770, '이집트': 4771, '이쯤': 4772, '이해력': 4773, '일관': 4774, '일만': 4775, '일치': 4776, '자도': 4777, '작성': 4778, '장예모': 4779, '장창': 4780, '재수': 4781, '쟁쟁': 4782, '전기영': 4783, '절때': 4784, '정복': 4785, '제국주의': 4786, '제주도': 4787, '조국': 4788, '조심': 4789, '존쿠삭': 4790, '좀해': 4791, '종편': 4792, '주로': 4793, '줄라': 4794, '지게': 4795, '쪼금': 4796, '천': 4797, '체인지': 4798, '초보': 4799, '총격': 4800, '추상': 4801, '치매': 4802, '치킨': 4803, '친척': 4804, '클레이': 4805, '타임머신': 4806, '터널': 4807, '토요일': 4808, '토토': 4809, '팩트': 4810, '퍼포먼스': 4811, '폐': 4812, '폰부스': 4813, '표지': 4814, '풋': 4815, '피부': 4816, '하트': 4817, '학적': 4818, '한반도': 4819, '한적': 4820, '함축': 4821, '허락': 4822, '헨리': 4823, '현우': 4824, '혈압': 4825, '확실': 4826, '횽': 4827, '가든': 4828, '가필드': 4829, '감회': 4830, '강용석': 4831, '강의': 4832, '개구리': 4833, '개쩌': 4834, '갱스터': 4835, '거저': 4836, '게다': 4837, '계급': 4838, '고서': 4839, '고아라': 4840, '고질': 4841, '곽부성': 4842, '교도소': 4843, '구심': 4844, '국가대표': 4845, '국회의원': 4846, '굿닥터': 4847, '권총': 4848, '근대': 4849, '금고': 4850, '금성무': 4851, '기름': 4852, '기초': 4853, '김고은': 4854, '김대중': 4855, '김윤진': 4856, '김지운': 4857, '꼬꼬': 4858, '꼬박꼬박': 4859, '꼽는': 4860, '꾀': 4861, '나위': 4862, '낭패': 4863, '내사': 4864, '넘버': 4865, '넘침': 4866, '노고': 4867, '놨': 4868, '누굴': 4869, '누드': 4870, '느님': 4871, '다섯': 4872, '담당': 4873, '대중성': 4874, '동거': 4875, '동방불패': 4876, '둔갑': 4877, '뒷맛': 4878, '드릴': 4879, '들': 4880, '라만': 4881, '레즈비언': 4882, '렌트': 4883, '련': 4884, '루카스': 4885, '류승완': 4886, '리플': 4887, '매료': 4888, '맥과이어': 4889, '맴도': 4890, '멘타리': 4891, '면상': 4892, '못만드': 4893, '무심코': 4894, '문자': 4895, '문채원': 4896, '미생': 4897, '미스터빈': 4898, '밑바닥': 4899, '바디': 4900, '바람둥이': 4901, '바하': 4902, '박력': 4903, '박시후': 4904, '박아': 4905, '발랄': 4906, '발성': 4907, '방화': 4908, '배우진': 4909, '배틀로얄': 4910, '백프로': 4911, '베니': 4912, '베드씬': 4913, '별그대': 4914, '보리': 4915, '복싱': 4916, '복잡': 4917, '복장': 4918, '봣으': 4919, '분신사바': 4920, '불명': 4921, '불문': 4922, '브로스': 4923, '비긴': 4924, '빠돌이': 4925, '사고방식': 4926, '사위': 4927, '사치': 4928, '사태': 4929, '살수': 4930, '상도': 4931, '상업성': 4932, '상한': 4933, '생동감': 4934, '서비스': 4935, '서유기': 4936, '선교': 4937, '세뇌': 4938, '셧': 4939, '스마트폰': 4940, '스페이스': 4941, '승자': 4942, '실적': 4943, '씬들': 4944, '아나운서': 4945, '아메리카': 4946, '아비': 4947, '아씨': 4948, '안내': 4949, '안중근': 4950, '애교': 4951, '앤더슨': 4952, '어쩌구': 4953, '억': 4954, '여성부': 4955, '여학생': 4956, '연발': 4957, '연평해전': 4958, '영향력': 4959, '오만': 4960, '오버액션': 4961, '올리비아': 4962, '왜캐': 4963, '우물': 4964, '월요일': 4965, '유대인': 4966, '유전자': 4967, '유죄': 4968, '이득': 4969, '이색': 4970, '이세': 4971, '이태임': 4972, '일로': 4973, '일류': 4974, '일제': 4975, '입맛': 4976, '입술': 4977, '입양': 4978, '자칭': 4979, '장안': 4980, '쟤': 4981, '저딴': 4982, '전두환': 4983, '전무후무': 4984, '전용': 4985, '정무문': 4986, '정사씬': 4987, '정준': 4988, '정준영': 4989, '제격': 4990, '졋': 4991, '종북': 4992, '지아': 4993, '지하': 4994, '진전': 4995, '질적': 4996, '짱깨': 4997, '찰스': 4998, '챔피언': 4999, '천원': 5000, '최신': 5001, '추모': 5002, '출품': 5003, '취권': 5004, '치자': 5005, '카메오': 5006, '카펜터': 5007, '코끝': 5008, '쿵푸': 5009, '크기': 5010, '키이라': 5011, '탱크': 5012, '테마': 5013, '투입': 5014, '툭': 5015, '트루': 5016, '특정': 5017, '티라노': 5018, '파도': 5019, '팍': 5020, '패배': 5021, '포스트': 5022, '퓨전': 5023, '프랭크': 5024, '플러스': 5025, '핀처': 5026, '하녀': 5027, '한가인': 5028, '한자': 5029, '한층': 5030, '한판': 5031, '합작': 5032, '핸드': 5033, '화구': 5034, '회수': 5035, '훈녀': 5036, '힛걸': 5037, '가오': 5038, '거꾸로': 5039, '거미': 5040, '검술': 5041, '겜': 5042, '결여': 5043, '겸': 5044, '경고': 5045, '경향': 5046, '고스트': 5047, '고추': 5048, '곱': 5049, '공략': 5050, '공자': 5051, '국민학교': 5052, '굴곡': 5053, '굿굿굿굿': 5054, '권투': 5055, '귓가': 5056, '그레이스': 5057, '글로리아': 5058, '기념비': 5059, '김동완': 5060, '꿀잼임': 5061, '나기': 5062, '낚시질': 5063, '난감': 5064, '노릇': 5065, '눈길': 5066, '눈시울': 5067, '는바': 5068, '니야': 5069, '다섯손가락': 5070, '다지': 5071, '다코타': 5072, '달러': 5073, '대륙': 5074, '대세': 5075, '댄서': 5076, '더락': 5077, '더러': 5078, '도리': 5079, '돌고래': 5080, '동물농장': 5081, '뒷모습': 5082, '딱지': 5083, '라가': 5084, '라디오스타': 5085, '레기': 5086, '레이미': 5087, '렌': 5088, '로드리게즈': 5089, '로리': 5090, '료코': 5091, '리나': 5092, '리처드': 5093, '릴': 5094, '마더': 5095, '마부': 5096, '막말': 5097, '망정': 5098, '맹': 5099, '먹방': 5100, '모세': 5101, '무관심': 5102, '미지': 5103, '믹스': 5104, '바가지': 5105, '바이올린': 5106, '반미': 5107, '발매': 5108, '방송국': 5109, '방어율': 5110, '방지': 5111, '배틀': 5112, '백퍼': 5113, '벌이': 5114, '벗': 5115, '베테': 5116, '별것': 5117, '본래': 5118, '부시': 5119, '불편': 5120, '비운': 5121, '비틀즈': 5122, '뽀뽀': 5123, '사람인': 5124, '삼박자': 5125, '삽입곡': 5126, '상대로': 5127, '상품': 5128, '생명체': 5129, '생방송': 5130, '샤론': 5131, '샤이니': 5132, '서영희': 5133, '세밀': 5134, '세운': 5135, '셜록': 5136, '소금': 5137, '소림사': 5138, '수긍': 5139, '수녀': 5140, '수능': 5141, '수면': 5142, '스미스': 5143, '스카이': 5144, '스티븐시걸': 5145, '시궁창': 5146, '시내': 5147, '시리': 5148, '식구': 5149, '신성일': 5150, '심각': 5151, '심플': 5152, '십자': 5153, '싱어': 5154, '써니': 5155, '썸머': 5156, '쒸레기': 5157, '아야세': 5158, '아청법': 5159, '악령': 5160, '악한': 5161, '안전': 5162, '알포인트': 5163, '야마카시': 5164, '양념': 5165, '에': 5166, '여백': 5167, '여부': 5168, '역경': 5169, '연속극': 5170, '열차': 5171, '염정아': 5172, '옆집': 5173, '오감': 5174, '오마이갓': 5175, '오멘': 5176, '오션스': 5177, '오컬트': 5178, '왕국': 5179, '외설': 5180, '요괴': 5181, '요한슨': 5182, '용인': 5183, '우에노': 5184, '움직': 5185, '웨스': 5186, '유감': 5187, '유동근': 5188, '유방': 5189, '유투브': 5190, '이로': 5191, '이상준': 5192, '이제훈': 5193, '이참': 5194, '이처럼': 5195, '이크': 5196, '이하나': 5197, '인양': 5198, '자동': 5199, '자만': 5200, '자폐': 5201, '장교': 5202, '장기': 5203, '장영': 5204, '재림': 5205, '재즈': 5206, '잼슴': 5207, '저걸': 5208, '전설의고향': 5209, '전체관람가': 5210, '정경호': 5211, '제이콥': 5212, '존슨': 5213, '졸귀': 5214, '죄송': 5215, '주걸륜': 5216, '줄줄': 5217, '중국어': 5218, '쥬': 5219, '진영': 5220, '쭈욱': 5221, '착오': 5222, '천상': 5223, '천지': 5224, '초대': 5225, '최상': 5226, '출생': 5227, '충돌': 5228, '취한': 5229, '치도': 5230, '치아': 5231, '커트': 5232, '켈리': 5233, '코끼리': 5234, '콜': 5235, '퀴': 5236, '클릭': 5237, '탄압': 5238, '탐험': 5239, '태권브이': 5240, '템포': 5241, '토모': 5242, '퇴': 5243, '트라우마': 5244, '티스': 5245, '파이널': 5246, '파커': 5247, '판사': 5248, '팬텀': 5249, '펀치': 5250, '페넬로페': 5251, '페인': 5252, '푸하하하': 5253, '피닉스': 5254, '하울': 5255, '한류': 5256, '한치': 5257, '할로윈': 5258, '항': 5259, '해바라기': 5260, '해병대': 5261, '호연': 5262, '홍석천': 5263, '화살': 5264, '황정음': 5265, '황진이': 5266, '효과음': 5267, '흑백영화': 5268, '히로': 5269, '가발': 5270, '가방': 5271, '각종': 5272, '갈팡질팡': 5273, '강박증': 5274, '강인': 5275, '개그콘서트': 5276, '개재': 5277, '거절': 5278, '건축': 5279, '경상도': 5280, '고리': 5281, '고의': 5282, '고창석': 5283, '골든': 5284, '과소': 5285, '과자': 5286, '괴리감': 5287, '구속': 5288, '굿잡': 5289, '궁극': 5290, '귀여니': 5291, '그다음': 5292, '극우': 5293, '극히': 5294, '글래디에이터': 5295, '기선': 5296, '기여': 5297, '김병만': 5298, '김정화': 5299, '김정훈': 5300, '꼽는다': 5301, '난장판': 5302, '남여': 5303, '내부': 5304, '널리': 5305, '넘사벽': 5306, '노랑': 5307, '노부': 5308, '놈놈놈': 5309, '능청': 5310, '닐': 5311, '다람쥐': 5312, '다우니': 5313, '다인': 5314, '단면': 5315, '단호': 5316, '닮음': 5317, '대머리': 5318, '대서': 5319, '대우': 5320, '대적': 5321, '대회': 5322, '더블': 5323, '도현': 5324, '독보': 5325, '독재': 5326, '돌프': 5327, '동작': 5328, '뒷이야기': 5329, '디지털': 5330, '똑': 5331, '뚝': 5332, '라디오': 5333, '랜드': 5334, '럼': 5335, '레미제라블': 5336, '레이스': 5337, '로더': 5338, '로치': 5339, '료': 5340, '루고': 5341, '루나': 5342, '뤽': 5343, '리버': 5344, '리좀': 5345, '링컨': 5346, '마다가스카': 5347, '마사': 5348, '마키': 5349, '말년': 5350, '맘에듬': 5351, '매체': 5352, '맹목': 5353, '메가박스': 5354, '메카': 5355, '멕시코': 5356, '멜로디': 5357, '모토': 5358, '몹시': 5359, '몽골': 5360, '무관': 5361, '무너': 5362, '무당': 5363, '무민': 5364, '무식': 5365, '무인도': 5366, '뮤지컬영화': 5367, '미덕': 5368, '미라': 5369, '미사': 5370, '민주': 5371, '바리': 5372, '바스코': 5373, '바위': 5374, '박하': 5375, '밥맛': 5376, '배경음': 5377, '배달': 5378, '백만': 5379, '백진희': 5380, '번의': 5381, '베댓': 5382, '본연': 5383, '볼맛': 5384, '분만': 5385, '불량': 5386, '불법체류자': 5387, '붙이': 5388, '브레드': 5389, '비스트': 5390, '비위': 5391, '빙빙': 5392, '빙자': 5393, '빽': 5394, '사만': 5395, '사무엘': 5396, '사뭇': 5397, '사탄': 5398, '산이': 5399, '삼총사': 5400, '상남자': 5401, '상위': 5402, '생산': 5403, '생전': 5404, '서른': 5405, '설계': 5406, '설교': 5407, '섭': 5408, '성욕': 5409, '성해': 5410, '세븐': 5411, '세포': 5412, '소동': 5413, '소란': 5414, '소망': 5415, '소스': 5416, '손님': 5417, '쇼크': 5418, '수행': 5419, '순식간': 5420, '슈퍼스타': 5421, '스탭': 5422, '스턴': 5423, '스페셜': 5424, '시대극': 5425, '시초': 5426, '심보': 5427, '썰전': 5428, '썸': 5429, '아이덴티티': 5430, '아이템': 5431, '아하': 5432, '안대': 5433, '안무': 5434, '안이': 5435, '안타': 5436, '알콩달콩': 5437, '앤디': 5438, '어간': 5439, '어스': 5440, '업적': 5441, '에나': 5442, '에플렉': 5443, '엑스파일': 5444, '엘리베이터': 5445, '여균동': 5446, '연성': 5447, '영화제작': 5448, '예외': 5449, '오광록': 5450, '오시': 5451, '오오': 5452, '오후': 5453, '요시': 5454, '요청': 5455, '우기': 5456, '우산': 5457, '우울함': 5458, '웅': 5459, '원주고': 5460, '윌': 5461, '유괴': 5462, '유재석': 5463, '윤재': 5464, '은밀': 5465, '은지원': 5466, '응징': 5467, '이명박': 5468, '이소연': 5469, '이수정': 5470, '이시영': 5471, '이하늬': 5472, '인의': 5473, '일과': 5474, '일부분': 5475, '일어나지': 5476, '임무': 5477, '임요환': 5478, '자꾸만': 5479, '자이언트': 5480, '자임': 5481, '작자': 5482, '잔잔': 5483, '잔치': 5484, '잘해야': 5485, '장님': 5486, '장식': 5487, '장통': 5488, '장학우': 5489, '재밋엇음': 5490, '전과': 5491, '전우치': 5492, '점차': 5493, '정녕': 5494, '정보석': 5495, '정식': 5496, '정은지': 5497, '제보': 5498, '조음': 5499, '존트라볼타': 5500, '종족': 5501, '중국산': 5502, '중요': 5503, '즌': 5504, '증언': 5505, '지기': 5506, '지니': 5507, '지로': 5508, '지방': 5509, '지수': 5510, '지스토리': 5511, '지혜': 5512, '징기스칸': 5513, '짱짱걸': 5514, '쫄깃': 5515, '찌꺼기': 5516, '찍기': 5517, '찰리채플린': 5518, '참가자': 5519, '창의력': 5520, '처지': 5521, '최곤데': 5522, '최루성': 5523, '최선정': 5524, '최시원': 5525, '최종': 5526, '쵝': 5527, '코메': 5528, '키키': 5529, '타겟': 5530, '토리': 5531, '토시': 5532, '톡톡': 5533, '투니버스': 5534, '투신': 5535, '투척': 5536, '툭툭': 5537, '파트': 5538, '판빙빙': 5539, '페': 5540, '페이스': 5541, '편승': 5542, '편협': 5543, '폐인': 5544, '폭동': 5545, '표방': 5546, '하느님': 5547, '하류': 5548, '하비에르': 5549, '하트넷': 5550, '한고은': 5551, '한눈': 5552, '한창': 5553, '한채영': 5554, '해군': 5555, '해체': 5556, '허탈': 5557, '호주': 5558, '확장': 5559, '휴대폰': 5560, '히히히': 5561, '힝': 5562, '가상': 5563, '갈증': 5564, '갈피': 5565, '갑툭튀': 5566, '강철': 5567, '강풀': 5568, '개신교': 5569, '개입': 5570, '거인': 5571, '격정': 5572, '결심': 5573, '경비': 5574, '계시': 5575, '고은아': 5576, '고정관념': 5577, '공중': 5578, '곽경택': 5579, '광대': 5580, '광수': 5581, '괴물영화': 5582, '교체': 5583, '군국': 5584, '굴욕': 5585, '궁합': 5586, '궈': 5587, '금물': 5588, '금치': 5589, '기해': 5590, '기황후': 5591, '김동욱': 5592, '김두한': 5593, '김민정': 5594, '김원효': 5595, '김유정': 5596, '김인권': 5597, '김지영': 5598, '김청기': 5599, '끈끈': 5600, '나니아': 5601, '나리': 5602, '나마': 5603, '난도질': 5604, '난생처음': 5605, '내심': 5606, '내적': 5607, '넘버원': 5608, '넣기': 5609, '노민우': 5610, '노트북': 5611, '는가': 5612, '니스': 5613, '다다': 5614, '달성': 5615, '담임': 5616, '대강': 5617, '대원': 5618, '대체로': 5619, '더군다나': 5620, '더스틴': 5621, '더티': 5622, '도끼': 5623, '도발': 5624, '도시락': 5625, '독수리': 5626, '독특': 5627, '돌파': 5628, '동갑': 5629, '동이': 5630, '둥이': 5631, '드하': 5632, '듬뿍': 5633, '디자이너': 5634, '딘': 5635, '딸도': 5636, '똘끼': 5637, '뜻밖': 5638, '라푼젤': 5639, '락스': 5640, '랄프': 5641, '람사': 5642, '랬': 5643, '레아': 5644, '롤': 5645, '루피': 5646, '리듬': 5647, '리슨': 5648, '마당': 5649, '마징': 5650, '만족감': 5651, '매너': 5652, '매장': 5653, '먹이': 5654, '멍하니': 5655, '메리다': 5656, '면모': 5657, '모녀': 5658, '모조리': 5659, '무의식': 5660, '무조': 5661, '문어': 5662, '민중': 5663, '밋밋': 5664, '바이': 5665, '박상민': 5666, '박시연': 5667, '박하선': 5668, '발달': 5669, '발킬머': 5670, '밨': 5671, '방도': 5672, '방치': 5673, '배급': 5674, '번개': 5675, '벨루치': 5676, '벨소리': 5677, '병자': 5678, '보성': 5679, '복제': 5680, '복제인간': 5681, '볼륨': 5682, '봣네': 5683, '부들': 5684, '분야': 5685, '분전': 5686, '불평': 5687, '뷁': 5688, '브': 5689, '브란도': 5690, '브리트니': 5691, '비로소': 5692, '사운드트랙': 5693, '사이비': 5694, '사족': 5695, '사채': 5696, '삼각관계': 5697, '삼생이': 5698, '상기': 5699, '생명력': 5700, '생생': 5701, '샷': 5702, '서동요': 5703, '서유리': 5704, '서인': 5705, '성준': 5706, '세련': 5707, '세로': 5708, '센세이션': 5709, '손녀': 5710, '송희진': 5711, '수박': 5712, '수사물': 5713, '수십': 5714, '숙면': 5715, '순정만화': 5716, '쉐프': 5717, '슈나이더': 5718, '슌': 5719, '스리': 5720, '스승': 5721, '스웨덴': 5722, '스턴트맨': 5723, '스텔론': 5724, '시가': 5725, '시공간': 5726, '시나': 5727, '시놉시스': 5728, '시티': 5729, '신경안': 5730, '신음': 5731, '실버': 5732, '실사판': 5733, '심야': 5734, '심은경': 5735, '심취': 5736, '쑈': 5737, '아동학대': 5738, '아버': 5739, '아부': 5740, '아빠어디가': 5741, '아이큐': 5742, '안구': 5743, '알렌': 5744, '앙상블': 5745, '애슐리': 5746, '약점': 5747, '양자경': 5748, '얔': 5749, '어도': 5750, '어르신': 5751, '어쩌다가': 5752, '어후': 5753, '엘리자베스': 5754, '엘리트': 5755, '연개소문': 5756, '연구': 5757, '연말': 5758, '연애시대': 5759, '예지원': 5760, '예체능': 5761, '오달수': 5762, '오픈': 5763, '올리버': 5764, '외로워': 5765, '외전': 5766, '우디알렌': 5767, '우왕좌왕': 5768, '우주선': 5769, '유년': 5770, '유부': 5771, '유사라': 5772, '윤제문': 5773, '윤진서': 5774, '은혜': 5775, '이글': 5776, '이듬': 5777, '이론': 5778, '이뭐병': 5779, '인간관계': 5780, '인간극장': 5781, '인제': 5782, '인천': 5783, '인크레더블': 5784, '일본만화': 5785, '일색': 5786, '입사': 5787, '자부': 5788, '재개': 5789, '절규': 5790, '절벽': 5791, '정려원': 5792, '정수': 5793, '정우': 5794, '정준하': 5795, '조로': 5796, '조미료': 5797, '조성': 5798, '조진웅': 5799, '좆망': 5800, '죄인': 5801, '주름': 5802, '주입': 5803, '주자': 5804, '중앙': 5805, '지현우': 5806, '집시': 5807, '짜임': 5808, '짱개': 5809, '쨋': 5810, '쭉쭉': 5811, '차예련': 5812, '차카': 5813, '착': 5814, '책보': 5815, '천안함': 5816, '천장': 5817, '첩혈쌍웅': 5818, '총기': 5819, '최고급': 5820, '추기경': 5821, '출근': 5822, '치장': 5823, '카스': 5824, '컬러': 5825, '컴백': 5826, '켜': 5827, '코리아': 5828, '탄식': 5829, '테드': 5830, '툭하면': 5831, '특선': 5832, '특이': 5833, '티아라': 5834, '파이터': 5835, '팔레스타인': 5836, '편중': 5837, '포맷': 5838, '포켓몬스터': 5839, '포트': 5840, '폭풍눈물': 5841, '표면': 5842, '프렌즈': 5843, '필드': 5844, '할리웃': 5845, '해품달': 5846, '핵꿀잼': 5847, '행오버': 5848, '헛점': 5849, '현주소': 5850, '형사물': 5851, '호모': 5852, '호프만': 5853, '홀': 5854, '홉킨스': 5855, '홍어': 5856, '화류': 5857, '화성': 5858, '횡설수설': 5859, '후려': 5860, '훗날': 5861, '훨신': 5862, '흐미': 5863, '흡혈귀': 5864, '가다가': 5865, '가세': 5866, '가중': 5867, '가출': 5868, '각본가': 5869, '각오': 5870, '간혹': 5871, '감탄사': 5872, '강정': 5873, '강철중': 5874, '개망': 5875, '개밥': 5876, '거물': 5877, '거북이': 5878, '건만': 5879, '고가': 5880, '고든': 5881, '고하': 5882, '공무원': 5883, '과욕': 5884, '관광': 5885, '괜춘': 5886, '교': 5887, '구름': 5888, '구토': 5889, '구현': 5890, '국영': 5891, '근성': 5892, '글썽': 5893, '금시': 5894, '급작': 5895, '기교': 5896, '기질': 5897, '기함': 5898, '김사랑': 5899, '김씨': 5900, '김영철': 5901, '김재원': 5902, '김혜선': 5903, '김효진': 5904, '꽃님': 5905, '꿈속': 5906, '끈기': 5907, '나락': 5908, '나부랭이': 5909, '날수': 5910, '날씨': 5911, '내포': 5912, '노출씬': 5913, '노홍철': 5914, '눈가': 5915, '늑대소년': 5916, '능력자': 5917, '니콜슨': 5918, '닌': 5919, '다카': 5920, '단독': 5921, '단언컨대': 5922, '대명사': 5923, '대소': 5924, '더구나': 5925, '더글라스': 5926, '덕화': 5927, '데스티네이션': 5928, '데인': 5929, '뎈': 5930, '도달': 5931, '도신': 5932, '도주': 5933, '독자': 5934, '돌아이': 5935, '두사부일체': 5936, '둥': 5937, '드럼': 5938, '듯해': 5939, '디다': 5940, '라나': 5941, '랴': 5942, '러쉬': 5943, '레슬링': 5944, '렷': 5945, '로또': 5946, '로멘틱': 5947, '로미오': 5948, '로이': 5949, '로티': 5950, '루비': 5951, '리딕': 5952, '마감': 5953, '마구잡이': 5954, '마나': 5955, '망각': 5956, '맞춤': 5957, '매염방': 5958, '맴': 5959, '맴버': 5960, '메르스': 5961, '며느리': 5962, '명목': 5963, '명치': 5964, '모도': 5965, '모래': 5966, '모션': 5967, '모어': 5968, '모차르트': 5969, '모텔': 5970, '몽': 5971, '무분별': 5972, '무쟈': 5973, '무진장': 5974, '무차별': 5975, '미녀삼총사': 5976, '미노': 5977, '민비': 5978, '민아': 5979, '밀고': 5980, '바둑': 5981, '박재정': 5982, '박철수': 5983, '반대편': 5984, '반말': 5985, '발끝': 5986, '방가': 5987, '방안': 5988, '밭': 5989, '백년': 5990, '백제': 5991, '버디': 5992, '버러지': 5993, '버킷리스트': 5994, '버틀러': 5995, '범죄물': 5996, '베티': 5997, '보도': 5998, '보복': 5999, '보트': 6000, '복습': 6001, '볼품': 6002, '봉인': 6003, '부들부들': 6004, '분단': 6005, '불사조': 6006, '브라보': 6007, '블레어': 6008, '비율': 6009, '뽀': 6010, '사색': 6011, '사지': 6012, '사탕': 6013, '사투': 6014, '산만': 6015, '상담': 6016, '상세': 6017, '상술': 6018, '상임': 6019, '색기': 6020, '생물': 6021, '샤워': 6022, '샤크': 6023, '성관계': 6024, '성취': 6025, '세기말': 6026, '셀': 6027, '셜록홈즈': 6028, '소림축구': 6029, '소신': 6030, '소의': 6031, '속물': 6032, '숙제': 6033, '스시': 6034, '스팅': 6035, '슬랩': 6036, '습관': 6037, '습니': 6038, '신자': 6039, '십': 6040, '쓰시': 6041, '아멘': 6042, '아베': 6043, '아지': 6044, '악녀': 6045, '안도': 6046, '안치': 6047, '암만': 6048, '애국가': 6049, '애니스톤': 6050, '앨런': 6051, '야호': 6052, '양쪽': 6053, '어가': 6054, '어그': 6055, '어드벤처': 6056, '어드벤쳐': 6057, '얼간이': 6058, '얼렁뚱땅': 6059, '었': 6060, '에피': 6061, '엔딩씬': 6062, '엘리': 6063, '여장': 6064, '여전': 6065, '역설': 6066, '연예계': 6067, '연정훈': 6068, '열매': 6069, '엽': 6070, '영화상': 6071, '옜날': 6072, '오로라공주': 6073, '오씨': 6074, '오징어': 6075, '올린다': 6076, '올슨': 6077, '왈': 6078, '왓으': 6079, '왕정': 6080, '왜봄': 6081, '외계': 6082, '우수': 6083, '우스': 6084, '우연이': 6085, '울트라': 6086, '원본': 6087, '원주민': 6088, '웩': 6089, '위노나': 6090, '위력': 6091, '유료': 6092, '유사': 6093, '유일': 6094, '은정': 6095, '은주': 6096, '음미': 6097, '음성': 6098, '의욕': 6099, '의자': 6100, '이거슨': 6101, '이기주의': 6102, '이루': 6103, '이벤트': 6104, '이순재': 6105, '이씨': 6106, '이오': 6107, '이유리': 6108, '이재은': 6109, '이주승': 6110, '이청아': 6111, '이편': 6112, '이필': 6113, '이현우': 6114, '익': 6115, '인과': 6116, '일상생활': 6117, '일어': 6118, '일어나고': 6119, '일정': 6120, '입담': 6121, '자화상': 6122, '작작': 6123, '잠도': 6124, '재밋내': 6125, '재산': 6126, '잭블랙': 6127, '저스틴': 6128, '전직': 6129, '접속': 6130, '정신과': 6131, '정윤희': 6132, '정해': 6133, '제압': 6134, '제프': 6135, '조의': 6136, '졸림': 6137, '죠': 6138, '주니어': 6139, '주류': 6140, '주몽': 6141, '죽도': 6142, '중복': 6143, '중사': 6144, '직시': 6145, '진진': 6146, '질색': 6147, '쩔': 6148, '찌라시': 6149, '찜': 6150, '차고': 6151, '차려': 6152, '차례': 6153, '차안': 6154, '창고': 6155, '천정명': 6156, '체감': 6157, '초창': 6158, '추격씬': 6159, '추격자': 6160, '축제': 6161, '취': 6162, '취업': 6163, '취재': 6164, '치의': 6165, '캠코더': 6166, '컨텐츠': 6167, '코미': 6168, '코비': 6169, '코치': 6170, '쿵': 6171, '쿵후': 6172, '퀴즈': 6173, '클레': 6174, '탐구': 6175, '태민': 6176, '테니스': 6177, '토대': 6178, '퇴화': 6179, '트렁크': 6180, '특공대': 6181, '특촬물': 6182, '티켓': 6183, '파란': 6184, '패틴슨': 6185, '편파': 6186, '폭스': 6187, '푼': 6188, '프': 6189, '프레': 6190, '피라미드': 6191, '하진': 6192, '학원물': 6193, '한나': 6194, '한스': 6195, '할리': 6196, '해골': 6197, '해답': 6198, '해당': 6199, '해먹': 6200, '해피앤딩': 6201, '햄버거': 6202, '햇살': 6203, '허드': 6204, '헤드': 6205, '헬': 6206, '현저': 6207, '혐': 6208, '혼신': 6209, '홀딱': 6210, '홀리': 6211, '화려': 6212, '화로': 6213, '화법': 6214, '회한': 6215, '횟수': 6216, '훈훈': 6217, '힐러리': 6218, '가격': 6219, '가드': 6220, '가려진': 6221, '가르시아': 6222, '가차': 6223, '가트': 6224, '간수': 6225, '갈기': 6226, '갈리': 6227, '갈릴': 6228, '감격': 6229, '감금': 6230, '감방': 6231, '감수': 6232, '갑옷': 6233, '갓파더': 6234, '강츄': 6235, '개떡': 6236, '개똥이': 6237, '개멋': 6238, '개선': 6239, '개쩜': 6240, '개차반': 6241, '거래': 6242, '거려': 6243, '거림': 6244, '검색어': 6245, '겉도': 6246, '게시판': 6247, '게이트': 6248, '겐': 6249, '격인': 6250, '격투기': 6251, '격투씬': 6252, '결단': 6253, '계약': 6254, '계층': 6255, '고간': 6256, '고대로': 6257, '공백': 6258, '곸': 6259, '관상': 6260, '괴짜': 6261, '구먼': 6262, '구상': 6263, '구인': 6264, '구한': 6265, '귀환': 6266, '균': 6267, '그간': 6268, '기네스': 6269, '기립박수': 6270, '기보': 6271, '기태': 6272, '기획사': 6273, '김범': 6274, '김상경': 6275, '김새론': 6276, '김신': 6277, '김일성': 6278, '꼭두각시': 6279, '나왓으': 6280, '낙원': 6281, '날때': 6282, '남자에게': 6283, '내리막': 6284, '너머': 6285, '노년': 6286, '노래방': 6287, '노리': 6288, '뇨': 6289, '눈꼽': 6290, '눈동자': 6291, '눈썹': 6292, '느꼇다': 6293, '닉쿤': 6294, '다이아몬드': 6295, '다이애나': 6296, '다짜고짜': 6297, '당근': 6298, '대조': 6299, '댁': 6300, '댄싱': 6301, '댕기': 6302, '덩달아': 6303, '데니스': 6304, '도자기': 6305, '도착': 6306, '도쿄': 6307, '도피': 6308, '돌연변이': 6309, '동남아': 6310, '동반': 6311, '동해': 6312, '들것': 6313, '딜레마': 6314, '딥블루씨': 6315, '딴사람': 6316, '또래': 6317, '라울': 6318, '랫': 6319, '레나': 6320, '레디': 6321, '로건': 6322, '로고': 6323, '로다주': 6324, '로랑': 6325, '로리타': 6326, '로빈윌리엄스': 6327, '로지': 6328, '롤러코스터': 6329, '룬드': 6330, '르노': 6331, '리턴즈': 6332, '리틀': 6333, '리플리': 6334, '린데': 6335, '린즈링': 6336, '마담': 6337, '마린': 6338, '마이너': 6339, '막내': 6340, '막심': 6341, '만끽': 6342, '맨몸': 6343, '머랄': 6344, '머임': 6345, '메가폰': 6346, '메이킹': 6347, '모모': 6348, '모임': 6349, '몰이': 6350, '못난이': 6351, '무렵': 6352, '무법자': 6353, '무인': 6354, '문성근': 6355, '뭐길': 6356, '뭔': 6357, '뮬란': 6358, '미끼': 6359, '미자': 6360, '민세': 6361, '밀러': 6362, '바르뎀': 6363, '박은혜': 6364, '박지성': 6365, '박지윤': 6366, '반했어': 6367, '발단': 6368, '방구': 6369, '배용준': 6370, '배타': 6371, '백야': 6372, '버릇': 6373, '베스트셀러': 6374, '베이비': 6375, '베이커': 6376, '별도': 6377, '보정': 6378, '복고': 6379, '복원': 6380, '봉만대': 6381, '봉하': 6382, '부패': 6383, '분발': 6384, '분신': 6385, '분열': 6386, '불급': 6387, '불사신': 6388, '불체': 6389, '불협화음': 6390, '뷰티': 6391, '비애': 6392, '비포': 6393, '빌딩': 6394, '빌어': 6395, '빌어먹을': 6396, '빠리': 6397, '빡': 6398, '사단': 6399, '사무': 6400, '사살': 6401, '사이먼': 6402, '사적': 6403, '사촌동생': 6404, '살의': 6405, '상대방': 6406, '상류층': 6407, '색즉시공': 6408, '샤': 6409, '샤넬': 6410, '서리': 6411, '석양': 6412, '선언': 6413, '세얼간이': 6414, '소드': 6415, '소모': 6416, '소속': 6417, '소속사': 6418, '소송': 6419, '소식': 6420, '소지': 6421, '손해': 6422, '솔직': 6423, '송일국': 6424, '쇼생': 6425, '쇼생크탈출': 6426, '수목': 6427, '수치심': 6428, '순풍': 6429, '술집': 6430, '숨기': 6431, '숨바꼭질': 6432, '숨소리': 6433, '숨죽': 6434, '스멜': 6435, '스완': 6436, '스킬': 6437, '스튜어트': 6438, '슬링': 6439, '승승장구': 6440, '시련': 6441, '시로': 6442, '시오': 6443, '시적': 6444, '식인': 6445, '신드롬': 6446, '신물': 6447, '신애': 6448, '신작': 6449, '실로': 6450, '실물': 6451, '실질': 6452, '실현': 6453, '심혜진': 6454, '쌀': 6455, '쌩': 6456, '쒯': 6457, '아부지': 6458, '아우라': 6459, '아이폰': 6460, '아티스트': 6461, '안면': 6462, '암흑': 6463, '애쉬': 6464, '앨범': 6465, '야마': 6466, '야심': 6467, '양익준': 6468, '엄지': 6469, '엄지원': 6470, '엇을': 6471, '에고': 6472, '에어컨': 6473, '에프': 6474, '여하튼': 6475, '연쇄': 6476, '연제욱': 6477, '영원': 6478, '예스': 6479, '예언': 6480, '오리엔탈리즘': 6481, '오전': 6482, '오즈': 6483, '오케스트라': 6484, '오케이': 6485, '온주완': 6486, '왈츠': 6487, '왕가네': 6488, '외도': 6489, '왼쪽': 6490, '요리사': 6491, '욕정': 6492, '용의자': 6493, '우리엄마': 6494, '우애': 6495, '우어': 6496, '원수': 6497, '윌리암스': 6498, '유물': 6499, '유유': 6500, '윤': 6501, '으뜸': 6502, '은하': 6503, '의무': 6504, '이건정': 6505, '이두': 6506, '이레': 6507, '이수경': 6508, '이아': 6509, '이어도': 6510, '이영애': 6511, '이영환': 6512, '이요': 6513, '이이': 6514, '이종혁': 6515, '인디영화': 6516, '인육': 6517, '인조': 6518, '일편': 6519, '임상수': 6520, '입증': 6521, '자락': 6522, '자의식': 6523, '잘봣습니': 6524, '잘봣어': 6525, '장화홍련': 6526, '쟈': 6527, '전역': 6528, '절도': 6529, '점령': 6530, '정겨운': 6531, '정규': 6532, '정도껏해': 6533, '정색': 6534, '정신연령': 6535, '제기': 6536, '조미': 6537, '조사': 6538, '조폭마누라': 6539, '조형기': 6540, '종료': 6541, '주룩주룩': 6542, '주르륵': 6543, '주유소': 6544, '중경삼림': 6545, '중단': 6546, '중립': 6547, '증인': 6548, '지미': 6549, '지민': 6550, '지식인': 6551, '지점': 6552, '진과': 6553, '징징': 6554, '쩌네': 6555, '쯔쯔': 6556, '차도': 6557, '찬성': 6558, '채시라': 6559, '챙': 6560, '철철': 6561, '첨가': 6562, '첫날': 6563, '청소년기': 6564, '청순': 6565, '체제': 6566, '최다니엘': 6567, '최상급': 6568, '최우식': 6569, '충성': 6570, '치히로': 6571, '카렐': 6572, '카메론디아즈': 6573, '카페': 6574, '캐리비안': 6575, '캠프': 6576, '캡': 6577, '컴': 6578, '케인': 6579, '코스': 6580, '코스모스': 6581, '코피': 6582, '콜린스': 6583, '콱': 6584, '쾌락': 6585, '쿠퍼': 6586, '크레이지': 6587, '크루': 6588, '크림슨': 6589, '킥': 6590, '타락': 6591, '타이': 6592, '타임슬립': 6593, '탁재훈': 6594, '탈북자': 6595, '태극기': 6596, '태희': 6597, '텅빈': 6598, '토크': 6599, '투영': 6600, '투캅스': 6601, '퉤퉤': 6602, '트렌드': 6603, '트리오': 6604, '티남': 6605, '티브이': 6606, '파고': 6607, '파렐': 6608, '팝': 6609, '팝송': 6610, '팬더': 6611, '퍼레이드': 6612, '편의점': 6613, '평가절하': 6614, '평면': 6615, '포로': 6616, '폴리스스토리': 6617, '프랑스인': 6618, '프로도': 6619, '피아니스트': 6620, '핏줄': 6621, '하치': 6622, '하희라': 6623, '한지훈': 6624, '함량': 6625, '핫세': 6626, '해변': 6627, '해주시': 6628, '행성': 6629, '행세': 6630, '허공': 6631, '허황': 6632, '헝거게임': 6633, '현기증': 6634, '현지': 6635, '홍길동': 6636, '홍수': 6637, '화기': 6638, '화남': 6639, '화이자': 6640, '확률': 6641, '환호': 6642, '후손': 6643, '후진국': 6644, '후퇴': 6645, '흙': 6646, '가난': 6647, '가레스': 6648, '가의': 6649, '가정부': 6650, '가지가지': 6651, '각시탈': 6652, '간디': 6653, '간호사': 6654, '강연': 6655, '갖은': 6656, '개무시': 6657, '개취': 6658, '객': 6659, '겁내': 6660, '게머': 6661, '게이고': 6662, '결핍': 6663, '계승': 6664, '계절': 6665, '고장': 6666, '고조': 6667, '고준희': 6668, '고향이': 6669, '곤충': 6670, '골드버그': 6671, '골든타임': 6672, '골빈': 6673, '공권력': 6674, '공사': 6675, '공산당': 6676, '과유': 6677, '관계도': 6678, '관통': 6679, '광신도': 6680, '광태': 6681, '구가': 6682, '구사': 6683, '국정원': 6684, '군생활': 6685, '그루': 6686, '그루지': 6687, '극악': 6688, '근원': 6689, '근처': 6690, '근친상간': 6691, '금기': 6692, '기지': 6693, '껀데': 6694, '껌': 6695, '끝임': 6696, '낌': 6697, '나문희': 6698, '나미': 6699, '나사': 6700, '낙태': 6701, '난건': 6702, '난해': 6703, '남궁민': 6704, '내년': 6705, '냉무': 6706, '냉장고': 6707, '너리': 6708, '노르웨이': 6709, '노숙자': 6710, '논스톱': 6711, '누적': 6712, '뉘': 6713, '니드': 6714, '다망': 6715, '다이나믹': 6716, '다작': 6717, '단절': 6718, '달기': 6719, '답안': 6720, '당초': 6721, '대게': 6722, '대런': 6723, '대루': 6724, '대입': 6725, '대자연': 6726, '댕': 6727, '덤벼': 6728, '데모': 6729, '데미': 6730, '델피': 6731, '도구': 6732, '도구로': 6733, '도둑질': 6734, '도보': 6735, '도희': 6736, '독고': 6737, '독일군': 6738, '돈벌이': 6739, '돈좀': 6740, '동성': 6741, '동포': 6742, '두기': 6743, '드뎌': 6744, '드라마스페셜': 6745, '드라큘라': 6746, '딸내미': 6747, '떡칠': 6748, '똥파리': 6749, '뚱땡이': 6750, '라붐': 6751, '랏': 6752, '래미': 6753, '램버트': 6754, '랭보': 6755, '러블': 6756, '럭': 6757, '런던': 6758, '려원': 6759, '로맨틱영화': 6760, '로스': 6761, '류현경': 6762, '마우스': 6763, '마음껏': 6764, '마자': 6765, '만발': 6766, '만일': 6767, '맘껏': 6768, '매니저': 6769, '매진': 6770, '맥클레인': 6771, '맹인': 6772, '머신': 6773, '먹듯': 6774, '메이퀸': 6775, '멘토': 6776, '면적': 6777, '모가지': 6778, '모시': 6779, '모욕감': 6780, '목욕': 6781, '무릎팍': 6782, '무사': 6783, '무언': 6784, '무참': 6785, '문장': 6786, '물든': 6787, '물음표': 6788, '뭍': 6789, '미개': 6790, '미나': 6791, '미디어': 6792, '미술관': 6793, '미치광이': 6794, '미켈슨': 6795, '바다로': 6796, '바랬는데': 6797, '바지': 6798, '바티칸': 6799, '박선영': 6800, '박영규': 6801, '박예진': 6802, '박준형': 6803, '박철민': 6804, '반짝': 6805, '발표': 6806, '밥상': 6807, '방향성': 6808, '배신자': 6809, '배출': 6810, '백설공주': 6811, '백성현': 6812, '백윤식': 6813, '버무린': 6814, '베송': 6815, '베스타': 6816, '베이컨': 6817, '별명': 6818, '복사': 6819, '복수초': 6820, '본드걸': 6821, '본영': 6822, '볼빠': 6823, '볼타': 6824, '부다': 6825, '부제': 6826, '부처': 6827, '분노의질주': 6828, '붐': 6829, '브라': 6830, '브레이크': 6831, '블로그': 6832, '비견': 6833, '비긴즈': 6834, '비보이': 6835, '비서': 6836, '뺴': 6837, '뻘짓': 6838, '뻥튀기': 6839, '뿌': 6840, '뿜': 6841, '사생활': 6842, '사형수': 6843, '산트': 6844, '상감': 6845, '상하': 6846, '서구': 6847, '서든': 6848, '서론': 6849, '서편제': 6850, '선조': 6851, '설날': 6852, '설원': 6853, '성별': 6854, '세도': 6855, '세인': 6856, '센터': 6857, '소고기': 6858, '소나기': 6859, '소시민': 6860, '소이현': 6861, '손목': 6862, '손자': 6863, '솔까말': 6864, '송': 6865, '송재림': 6866, '수선': 6867, '수염': 6868, '수의': 6869, '수출': 6870, '수퍼맨': 6871, '순서': 6872, '숲속': 6873, '슈트': 6874, '스마트': 6875, '스타크래프트': 6876, '스타트렉': 6877, '스탠리': 6878, '스톰': 6879, '슨상님': 6880, '슬': 6881, '신경질': 6882, '신사': 6883, '신체': 6884, '실태': 6885, '심리전': 6886, '아대': 6887, '아론': 6888, '아마존': 6889, '아악': 6890, '아이스': 6891, '아이언': 6892, '아이콘': 6893, '알라': 6894, '애니메': 6895, '애뜻': 6896, '애물': 6897, '애착': 6898, '야망': 6899, '양은': 6900, '어쩌자': 6901, '엎': 6902, '에스': 6903, '에이즈': 6904, '에코': 6905, '엘렌': 6906, '엠버': 6907, '여비': 6908, '여타': 6909, '연재': 6910, '연출가': 6911, '연희': 6912, '열등감': 6913, '영아': 6914, '오른': 6915, '오분': 6916, '오스카': 6917, '오지랖': 6918, '올림픽': 6919, '와일드': 6920, '왓츠': 6921, '왕년': 6922, '왕창': 6923, '외침': 6924, '요런': 6925, '요한': 6926, '욜라': 6927, '욥': 6928, '용면': 6929, '욯': 6930, '웃음소리': 6931, '워낭소리': 6932, '워리어': 6933, '워킹': 6934, '워터': 6935, '원조교제': 6936, '월터': 6937, '위엄': 6938, '위태': 6939, '유주': 6940, '육아': 6941, '은영': 6942, '음란': 6943, '의료': 6944, '의원': 6945, '이광수': 6946, '이다해': 6947, '이덕화': 6948, '이데올로기': 6949, '이라크': 6950, '이신': 6951, '이준익': 6952, '이중성': 6953, '이화영': 6954, '인과관계': 6955, '인대': 6956, '인원': 6957, '인주': 6958, '일침': 6959, '자네': 6960, '자시': 6961, '자지': 6962, '자폭': 6963, '잘껄': 6964, '잠재': 6965, '장가휘': 6966, '장례식': 6967, '재밋엇다': 6968, '재밋엇어': 6969, '재밋었음': 6970, '저따위': 6971, '저하': 6972, '적벽대전': 6973, '적용': 6974, '전도': 6975, '전병': 6976, '점프': 6977, '정신분열증': 6978, '정신차려라': 6979, '정심': 6980, '정지훈': 6981, '정치가': 6982, '제안': 6983, '제약': 6984, '제이크': 6985, '제타': 6986, '제트': 6987, '조던': 6988, '조상': 6989, '조율': 6990, '존시나': 6991, '졷': 6992, '좌충우돌': 6993, '죵': 6994, '주더': 6995, '주도': 6996, '주소': 6997, '줄기': 6998, '줄줄이': 6999, '중국사람': 7000, '지스': 7001, '지우': 7002, '진미': 7003, '진주만': 7004, '진지희': 7005, '진찌': 7006, '쩌리': 7007, '쩍': 7008, '차량': 7009, '차서': 7010, '차용': 7011, '처분': 7012, '천명': 7013, '철수': 7014, '체리': 7015, '축소': 7016, '충전': 7017, '취소': 7018, '치즈': 7019, '친자': 7020, '카밀라': 7021, '카터': 7022, '캐나다': 7023, '캠': 7024, '커리어': 7025, '컴플렉스': 7026, '콘택트': 7027, '쿄코': 7028, '퀼리티': 7029, '클린': 7030, '킨': 7031, '타의': 7032, '타카': 7033, '타파': 7034, '탄도': 7035, '태권': 7036, '태풍': 7037, '터키': 7038, '턴': 7039, '테러범': 7040, '테스': 7041, '텔': 7042, '토로': 7043, '퇴마록': 7044, '퇴색': 7045, '퉁': 7046, '퉷': 7047, '트랩': 7048, '특수부대': 7049, '판매': 7050, '판정': 7051, '패러디영화': 7052, '패션왕': 7053, '팽이': 7054, '퍼시픽림': 7055, '퍽': 7056, '평보': 7057, '포토': 7058, '품격': 7059, '풍': 7060, '풍선': 7061, '풍운': 7062, '프레임': 7063, '플래툰': 7064, '피나': 7065, '피리': 7066, '피자': 7067, '피티': 7068, '핑': 7069, '하드코어': 7070, '하소': 7071, '하의': 7072, '한경직': 7073, '할인': 7074, '햐': 7075, '허리': 7076, '헬드': 7077, '헵번': 7078, '혁신': 7079, '현혹': 7080, '혈': 7081, '형아': 7082, '혼돈': 7083, '홍성': 7084, '화끈': 7085, '화병': 7086, '화학': 7087, '회도': 7088, '회전': 7089, '횡포': 7090, '후세': 7091, '훗': 7092, '휴일': 7093, '희생양': 7094, '히데': 7095})\n"
          ],
          "name": "stdout"
        }
      ]
    },
    {
      "cell_type": "code",
      "metadata": {
        "id": "Zih6GoL5VcfD",
        "colab_type": "code",
        "colab": {
          "base_uri": "https://localhost:8080/",
          "height": 35
        },
        "outputId": "422fe494-819d-4589-99ca-3c3045db691b"
      },
      "source": [
        "print('임베딩 벡터의 개수와 차원 : {} '.format(TEXT.vocab.vectors.shape))"
      ],
      "execution_count": 106,
      "outputs": [
        {
          "output_type": "stream",
          "text": [
            "임베딩 벡터의 개수와 차원 : torch.Size([7096, 100]) \n"
          ],
          "name": "stdout"
        }
      ]
    },
    {
      "cell_type": "code",
      "metadata": {
        "id": "adGvNeopVkbr",
        "colab_type": "code",
        "colab": {
          "base_uri": "https://localhost:8080/",
          "height": 106
        },
        "outputId": "e54be9ea-6f4a-4192-bd77-ca362aecbf12"
      },
      "source": [
        "print(TEXT.vocab.vectors[0]) # <unk>의 임베딩 벡터값"
      ],
      "execution_count": 107,
      "outputs": [
        {
          "output_type": "stream",
          "text": [
            "tensor([0., 0., 0., 0., 0., 0., 0., 0., 0., 0., 0., 0., 0., 0., 0., 0., 0., 0., 0., 0., 0., 0., 0., 0.,\n",
            "        0., 0., 0., 0., 0., 0., 0., 0., 0., 0., 0., 0., 0., 0., 0., 0., 0., 0., 0., 0., 0., 0., 0., 0.,\n",
            "        0., 0., 0., 0., 0., 0., 0., 0., 0., 0., 0., 0., 0., 0., 0., 0., 0., 0., 0., 0., 0., 0., 0., 0.,\n",
            "        0., 0., 0., 0., 0., 0., 0., 0., 0., 0., 0., 0., 0., 0., 0., 0., 0., 0., 0., 0., 0., 0., 0., 0.,\n",
            "        0., 0., 0., 0.])\n"
          ],
          "name": "stdout"
        }
      ]
    },
    {
      "cell_type": "code",
      "metadata": {
        "id": "YjfOts-nVnmY",
        "colab_type": "code",
        "colab": {
          "base_uri": "https://localhost:8080/",
          "height": 106
        },
        "outputId": "1fb97b25-9393-4a30-f539-810d71554369"
      },
      "source": [
        "print(TEXT.vocab.vectors[1]) # <pad>의 임베딩 벡터값"
      ],
      "execution_count": 108,
      "outputs": [
        {
          "output_type": "stream",
          "text": [
            "tensor([0., 0., 0., 0., 0., 0., 0., 0., 0., 0., 0., 0., 0., 0., 0., 0., 0., 0., 0., 0., 0., 0., 0., 0.,\n",
            "        0., 0., 0., 0., 0., 0., 0., 0., 0., 0., 0., 0., 0., 0., 0., 0., 0., 0., 0., 0., 0., 0., 0., 0.,\n",
            "        0., 0., 0., 0., 0., 0., 0., 0., 0., 0., 0., 0., 0., 0., 0., 0., 0., 0., 0., 0., 0., 0., 0., 0.,\n",
            "        0., 0., 0., 0., 0., 0., 0., 0., 0., 0., 0., 0., 0., 0., 0., 0., 0., 0., 0., 0., 0., 0., 0., 0.,\n",
            "        0., 0., 0., 0.])\n"
          ],
          "name": "stdout"
        }
      ]
    },
    {
      "cell_type": "code",
      "metadata": {
        "id": "2OYYSjsWVu7o",
        "colab_type": "code",
        "colab": {}
      },
      "source": [
        "embedding_layer = nn.Embedding.from_pretrained(TEXT.vocab.vectors, freeze=False)"
      ],
      "execution_count": 109,
      "outputs": []
    },
    {
      "cell_type": "code",
      "metadata": {
        "id": "gOOE7BHfV0Wj",
        "colab_type": "code",
        "colab": {
          "base_uri": "https://localhost:8080/",
          "height": 248
        },
        "outputId": "b8cf68b5-d2d1-49be-a631-bf219c8304bd"
      },
      "source": [
        "embedding_layer(torch.LongTensor([7095])) "
      ],
      "execution_count": 113,
      "outputs": [
        {
          "output_type": "execute_result",
          "data": {
            "text/plain": [
              "tensor([[-0.0103, -0.1007,  0.0201,  0.0155,  0.0929,  0.1179, -0.0598,  0.0881,\n",
              "          0.0718,  0.0560, -0.0802, -0.0119,  0.0803, -0.0355, -0.0315,  0.0622,\n",
              "          0.1481, -0.0476, -0.1000, -0.0824,  0.0039, -0.0644, -0.0164,  0.1158,\n",
              "         -0.0627,  0.0670,  0.0272, -0.0653,  0.0236, -0.0499,  0.0926, -0.0044,\n",
              "         -0.0113, -0.0031,  0.0655,  0.0809,  0.0173, -0.0808,  0.0014, -0.0217,\n",
              "         -0.1439,  0.0304, -0.0911, -0.1536,  0.0693, -0.1510,  0.0712, -0.0722,\n",
              "          0.0860, -0.0374,  0.0223,  0.0552,  0.0244, -0.1349,  0.0638, -0.0790,\n",
              "          0.0031,  0.0287,  0.0903, -0.0215, -0.0243, -0.0456, -0.0120,  0.0722,\n",
              "          0.0780,  0.0205,  0.0544,  0.0252,  0.0042,  0.0079,  0.1659, -0.0024,\n",
              "          0.0583,  0.0407,  0.0945,  0.0036, -0.1078,  0.0235, -0.0059,  0.0510,\n",
              "         -0.0066,  0.0721, -0.0783,  0.1035, -0.1706,  0.1352,  0.1352,  0.1084,\n",
              "         -0.0547,  0.1588,  0.0479,  0.0409,  0.0472,  0.0757,  0.0299, -0.0225,\n",
              "          0.0987, -0.1655,  0.0050, -0.0685]], grad_fn=<EmbeddingBackward>)"
            ]
          },
          "metadata": {
            "tags": []
          },
          "execution_count": 113
        }
      ]
    },
    {
      "cell_type": "code",
      "metadata": {
        "id": "LW6B-gPBZHfm",
        "colab_type": "code",
        "colab": {
          "base_uri": "https://localhost:8080/",
          "height": 35
        },
        "outputId": "eb28eba6-769c-4715-e238-23e0c8e1767e"
      },
      "source": [
        ""
      ],
      "execution_count": 66,
      "outputs": [
        {
          "output_type": "execute_result",
          "data": {
            "text/plain": [
              "<torchtext.data.example.Example at 0x7feb1f76efd0>"
            ]
          },
          "metadata": {
            "tags": []
          },
          "execution_count": 66
        }
      ]
    },
    {
      "cell_type": "markdown",
      "metadata": {
        "id": "C9NlF7BvYBFt",
        "colab_type": "text"
      },
      "source": [
        "#model"
      ]
    },
    {
      "cell_type": "code",
      "metadata": {
        "id": "UaqDFbcmXBx4",
        "colab_type": "code",
        "colab": {}
      },
      "source": [
        "def pad_sequence(sentences, padding_word=\"<pad>\"): #  오른쪽을 패딩주기\n",
        "    maxlen = 40\n",
        "    padded_sentences = []\n",
        "    for i in range(len(sentences)):\n",
        "        sentence = sentences[i]\n",
        "        if len(sentence)<=maxlen:\n",
        "            num_padding = maxlen - len(sentence)\n",
        "            new_sentence = sentence + [padding_word] * num_padding\n",
        "        else : new_sentence = sentence[:maxlen]\n",
        "        padded_sentences.append(new_sentence)\n",
        "    return padded_sentences"
      ],
      "execution_count": 61,
      "outputs": []
    },
    {
      "cell_type": "code",
      "metadata": {
        "id": "RmAzd6o6YFEM",
        "colab_type": "code",
        "colab": {}
      },
      "source": [
        "def vectorize(padded_sentences, max_len = 40):\n",
        "    # model = word2vec.Word2Vec.load(\"NaverMovie.model\")\n",
        "    \n",
        "    paddedarray = np.array([word2vec_model.wv.word_vec(token) for x in padded_sentences for token in x])\n",
        "    final_array = paddedarray.reshape(-1,max_len,300)\n",
        "    return final_array"
      ],
      "execution_count": 72,
      "outputs": []
    },
    {
      "cell_type": "code",
      "metadata": {
        "id": "AJn-4NCWYLsD",
        "colab_type": "code",
        "colab": {}
      },
      "source": [
        "\n",
        "import pickle\n",
        "import pandas as pd\n",
        "train = pd.read_pickle('/content/drive/My Drive/ CNN_project/token_train_data.pkl')\n",
        "test = pd.read_pickle('/content/drive/My Drive/ CNN_project/token_test_data.pkl')"
      ],
      "execution_count": 119,
      "outputs": []
    },
    {
      "cell_type": "code",
      "metadata": {
        "id": "FS8dw7SCZvmd",
        "colab_type": "code",
        "colab": {}
      },
      "source": [
        "import tensorflow as tf\n",
        "from tensorflow.keras.preprocessing.text import Tokenizer\n",
        "from tensorflow.keras.preprocessing.sequence import pad_sequences"
      ],
      "execution_count": 68,
      "outputs": []
    },
    {
      "cell_type": "code",
      "metadata": {
        "id": "AdSe8qWtoWoT",
        "colab_type": "code",
        "colab": {
          "base_uri": "https://localhost:8080/",
          "height": 399
        },
        "outputId": "85730f4a-af53-4b41-f5c3-b7e6cb1e3f65"
      },
      "source": [
        "train"
      ],
      "execution_count": 120,
      "outputs": [
        {
          "output_type": "execute_result",
          "data": {
            "text/html": [
              "<div>\n",
              "<style scoped>\n",
              "    .dataframe tbody tr th:only-of-type {\n",
              "        vertical-align: middle;\n",
              "    }\n",
              "\n",
              "    .dataframe tbody tr th {\n",
              "        vertical-align: top;\n",
              "    }\n",
              "\n",
              "    .dataframe thead th {\n",
              "        text-align: right;\n",
              "    }\n",
              "</style>\n",
              "<table border=\"1\" class=\"dataframe\">\n",
              "  <thead>\n",
              "    <tr style=\"text-align: right;\">\n",
              "      <th></th>\n",
              "      <th>tokens</th>\n",
              "      <th>labels</th>\n",
              "    </tr>\n",
              "  </thead>\n",
              "  <tbody>\n",
              "    <tr>\n",
              "      <th>0</th>\n",
              "      <td>[더빙, 진짜, 짜증나다, 목소리]</td>\n",
              "      <td>0</td>\n",
              "    </tr>\n",
              "    <tr>\n",
              "      <th>1</th>\n",
              "      <td>[흠, 포스터, 보고, 초딩, 영화, 줄, 오버, 연기, 가볍다]</td>\n",
              "      <td>1</td>\n",
              "    </tr>\n",
              "    <tr>\n",
              "      <th>2</th>\n",
              "      <td>[무재, 밓었, 다그, 래서, 추천]</td>\n",
              "      <td>0</td>\n",
              "    </tr>\n",
              "    <tr>\n",
              "      <th>3</th>\n",
              "      <td>[교도소, 이야기, 구먼, 솔직하다, 재미, 없다, 평점, 조정]</td>\n",
              "      <td>0</td>\n",
              "    </tr>\n",
              "    <tr>\n",
              "      <th>4</th>\n",
              "      <td>[몬페, 의, 익살스럽다, 연기, 영화, 스파이더맨, 커스틴, 던스트, 이쁘다]</td>\n",
              "      <td>1</td>\n",
              "    </tr>\n",
              "    <tr>\n",
              "      <th>...</th>\n",
              "      <td>...</td>\n",
              "      <td>...</td>\n",
              "    </tr>\n",
              "    <tr>\n",
              "      <th>145786</th>\n",
              "      <td>[인간, 문제, 소, 죄인]</td>\n",
              "      <td>0</td>\n",
              "    </tr>\n",
              "    <tr>\n",
              "      <th>145787</th>\n",
              "      <td>[평점, 낮다]</td>\n",
              "      <td>1</td>\n",
              "    </tr>\n",
              "    <tr>\n",
              "      <th>145788</th>\n",
              "      <td>[이, 뭐, 한국인, 먹거리, 필리핀, 혼혈, 착하다]</td>\n",
              "      <td>0</td>\n",
              "    </tr>\n",
              "    <tr>\n",
              "      <th>145789</th>\n",
              "      <td>[청춘, 영화, 최고봉, 방황, 우울하다, 날, 자화상]</td>\n",
              "      <td>1</td>\n",
              "    </tr>\n",
              "    <tr>\n",
              "      <th>145790</th>\n",
              "      <td>[한국, 영화, 최초, 수간, 내용, 영화]</td>\n",
              "      <td>0</td>\n",
              "    </tr>\n",
              "  </tbody>\n",
              "</table>\n",
              "<p>145791 rows × 2 columns</p>\n",
              "</div>"
            ],
            "text/plain": [
              "                                              tokens  labels\n",
              "0                                [더빙, 진짜, 짜증나다, 목소리]       0\n",
              "1               [흠, 포스터, 보고, 초딩, 영화, 줄, 오버, 연기, 가볍다]       1\n",
              "2                               [무재, 밓었, 다그, 래서, 추천]       0\n",
              "3               [교도소, 이야기, 구먼, 솔직하다, 재미, 없다, 평점, 조정]       0\n",
              "4       [몬페, 의, 익살스럽다, 연기, 영화, 스파이더맨, 커스틴, 던스트, 이쁘다]       1\n",
              "...                                              ...     ...\n",
              "145786                               [인간, 문제, 소, 죄인]       0\n",
              "145787                                      [평점, 낮다]       1\n",
              "145788                [이, 뭐, 한국인, 먹거리, 필리핀, 혼혈, 착하다]       0\n",
              "145789               [청춘, 영화, 최고봉, 방황, 우울하다, 날, 자화상]       1\n",
              "145790                      [한국, 영화, 최초, 수간, 내용, 영화]       0\n",
              "\n",
              "[145791 rows x 2 columns]"
            ]
          },
          "metadata": {
            "tags": []
          },
          "execution_count": 120
        }
      ]
    },
    {
      "cell_type": "code",
      "metadata": {
        "id": "tbnd7ZE_pDbb",
        "colab_type": "code",
        "colab": {}
      },
      "source": [
        ""
      ],
      "execution_count": null,
      "outputs": []
    },
    {
      "cell_type": "code",
      "metadata": {
        "id": "skwKkDiPZ4rL",
        "colab_type": "code",
        "colab": {
          "base_uri": "https://localhost:8080/",
          "height": 312
        },
        "outputId": "f481b964-74c4-4df4-bfe6-1c1967c84480"
      },
      "source": [
        "token_train_data, train_lable = train_data['tokens'], train_data['labels']\n",
        "token_test_data, test_lable = test_data['tokens'], test_data['labels']"
      ],
      "execution_count": 118,
      "outputs": [
        {
          "output_type": "error",
          "ename": "TypeError",
          "evalue": "ignored",
          "traceback": [
            "\u001b[0;31m---------------------------------------------------------------------------\u001b[0m",
            "\u001b[0;31mTypeError\u001b[0m                                 Traceback (most recent call last)",
            "\u001b[0;32m<ipython-input-118-7ef6f51b7b0d>\u001b[0m in \u001b[0;36m<module>\u001b[0;34m()\u001b[0m\n\u001b[0;32m----> 1\u001b[0;31m \u001b[0mtoken_train_data\u001b[0m\u001b[0;34m,\u001b[0m \u001b[0mtrain_lable\u001b[0m \u001b[0;34m=\u001b[0m \u001b[0mtrain_data\u001b[0m\u001b[0;34m[\u001b[0m\u001b[0;34m'tokens'\u001b[0m\u001b[0;34m]\u001b[0m\u001b[0;34m,\u001b[0m \u001b[0mtrain_data\u001b[0m\u001b[0;34m[\u001b[0m\u001b[0;34m'labels'\u001b[0m\u001b[0;34m]\u001b[0m\u001b[0;34m\u001b[0m\u001b[0;34m\u001b[0m\u001b[0m\n\u001b[0m\u001b[1;32m      2\u001b[0m \u001b[0mtoken_test_data\u001b[0m\u001b[0;34m,\u001b[0m \u001b[0mtest_lable\u001b[0m \u001b[0;34m=\u001b[0m \u001b[0mtest_data\u001b[0m\u001b[0;34m[\u001b[0m\u001b[0;34m'tokens'\u001b[0m\u001b[0;34m]\u001b[0m\u001b[0;34m,\u001b[0m \u001b[0mtest_data\u001b[0m\u001b[0;34m[\u001b[0m\u001b[0;34m'labels'\u001b[0m\u001b[0;34m]\u001b[0m\u001b[0;34m\u001b[0m\u001b[0;34m\u001b[0m\u001b[0m\n",
            "\u001b[0;32m/usr/local/lib/python3.6/dist-packages/torchtext/data/dataset.py\u001b[0m in \u001b[0;36m__getitem__\u001b[0;34m(self, i)\u001b[0m\n\u001b[1;32m    137\u001b[0m \u001b[0;34m\u001b[0m\u001b[0m\n\u001b[1;32m    138\u001b[0m     \u001b[0;32mdef\u001b[0m \u001b[0m__getitem__\u001b[0m\u001b[0;34m(\u001b[0m\u001b[0mself\u001b[0m\u001b[0;34m,\u001b[0m \u001b[0mi\u001b[0m\u001b[0;34m)\u001b[0m\u001b[0;34m:\u001b[0m\u001b[0;34m\u001b[0m\u001b[0;34m\u001b[0m\u001b[0m\n\u001b[0;32m--> 139\u001b[0;31m         \u001b[0;32mreturn\u001b[0m \u001b[0mself\u001b[0m\u001b[0;34m.\u001b[0m\u001b[0mexamples\u001b[0m\u001b[0;34m[\u001b[0m\u001b[0mi\u001b[0m\u001b[0;34m]\u001b[0m\u001b[0;34m\u001b[0m\u001b[0;34m\u001b[0m\u001b[0m\n\u001b[0m\u001b[1;32m    140\u001b[0m \u001b[0;34m\u001b[0m\u001b[0m\n\u001b[1;32m    141\u001b[0m     \u001b[0;32mdef\u001b[0m \u001b[0m__len__\u001b[0m\u001b[0;34m(\u001b[0m\u001b[0mself\u001b[0m\u001b[0;34m)\u001b[0m\u001b[0;34m:\u001b[0m\u001b[0;34m\u001b[0m\u001b[0;34m\u001b[0m\u001b[0m\n",
            "\u001b[0;31mTypeError\u001b[0m: list indices must be integers or slices, not str"
          ]
        }
      ]
    },
    {
      "cell_type": "code",
      "metadata": {
        "id": "WVQgsBVtZ6x9",
        "colab_type": "code",
        "colab": {
          "base_uri": "https://localhost:8080/",
          "height": 426
        },
        "outputId": "1a709265-a15e-48b2-f642-8754bf9832bf"
      },
      "source": [
        "token_train_data, train_lable "
      ],
      "execution_count": 70,
      "outputs": [
        {
          "output_type": "execute_result",
          "data": {
            "text/plain": [
              "(0                                  [더빙, 진짜, 짜증나다, 목소리]\n",
              " 1                 [흠, 포스터, 보고, 초딩, 영화, 줄, 오버, 연기, 가볍다]\n",
              " 2                                 [무재, 밓었, 다그, 래서, 추천]\n",
              " 3                 [교도소, 이야기, 구먼, 솔직하다, 재미, 없다, 평점, 조정]\n",
              " 4         [몬페, 의, 익살스럽다, 연기, 영화, 스파이더맨, 커스틴, 던스트, 이쁘다]\n",
              "                               ...                     \n",
              " 145786                                 [인간, 문제, 소, 죄인]\n",
              " 145787                                        [평점, 낮다]\n",
              " 145788                  [이, 뭐, 한국인, 먹거리, 필리핀, 혼혈, 착하다]\n",
              " 145789                 [청춘, 영화, 최고봉, 방황, 우울하다, 날, 자화상]\n",
              " 145790                        [한국, 영화, 최초, 수간, 내용, 영화]\n",
              " Name: tokens, Length: 145791, dtype: object, 0         0\n",
              " 1         1\n",
              " 2         0\n",
              " 3         0\n",
              " 4         1\n",
              "          ..\n",
              " 145786    0\n",
              " 145787    1\n",
              " 145788    0\n",
              " 145789    1\n",
              " 145790    0\n",
              " Name: labels, Length: 145791, dtype: int64)"
            ]
          },
          "metadata": {
            "tags": []
          },
          "execution_count": 70
        }
      ]
    },
    {
      "cell_type": "code",
      "metadata": {
        "id": "5j6V3rbdZ8uM",
        "colab_type": "code",
        "colab": {
          "base_uri": "https://localhost:8080/",
          "height": 407
        },
        "outputId": "6a5bdec1-c741-4652-93cc-efd13b38e0ff"
      },
      "source": [
        "import numpy as np\n",
        "max_len=30\n",
        "final_train_data = vectorize(pad_sequence(token_train_data), max_len=max_len)\n",
        "final_test_data = vectorize(pad_sequence(token_test_data), max_len=max_len)\n"
      ],
      "execution_count": 114,
      "outputs": [
        {
          "output_type": "stream",
          "text": [
            "/usr/local/lib/python3.6/dist-packages/ipykernel_launcher.py:4: DeprecationWarning: Call to deprecated `wv` (Attribute will be removed in 4.0.0, use self instead).\n",
            "  after removing the cwd from sys.path.\n"
          ],
          "name": "stderr"
        },
        {
          "output_type": "error",
          "ename": "KeyError",
          "evalue": "ignored",
          "traceback": [
            "\u001b[0;31m---------------------------------------------------------------------------\u001b[0m",
            "\u001b[0;31mKeyError\u001b[0m                                  Traceback (most recent call last)",
            "\u001b[0;32m<ipython-input-114-7720e78f13b2>\u001b[0m in \u001b[0;36m<module>\u001b[0;34m()\u001b[0m\n\u001b[1;32m      1\u001b[0m \u001b[0;32mimport\u001b[0m \u001b[0mnumpy\u001b[0m \u001b[0;32mas\u001b[0m \u001b[0mnp\u001b[0m\u001b[0;34m\u001b[0m\u001b[0;34m\u001b[0m\u001b[0m\n\u001b[1;32m      2\u001b[0m \u001b[0mmax_len\u001b[0m\u001b[0;34m=\u001b[0m\u001b[0;36m30\u001b[0m\u001b[0;34m\u001b[0m\u001b[0;34m\u001b[0m\u001b[0m\n\u001b[0;32m----> 3\u001b[0;31m \u001b[0mfinal_train_data\u001b[0m \u001b[0;34m=\u001b[0m \u001b[0mvectorize\u001b[0m\u001b[0;34m(\u001b[0m\u001b[0mpad_sequence\u001b[0m\u001b[0;34m(\u001b[0m\u001b[0mtoken_train_data\u001b[0m\u001b[0;34m)\u001b[0m\u001b[0;34m,\u001b[0m \u001b[0mmax_len\u001b[0m\u001b[0;34m=\u001b[0m\u001b[0mmax_len\u001b[0m\u001b[0;34m)\u001b[0m\u001b[0;34m\u001b[0m\u001b[0;34m\u001b[0m\u001b[0m\n\u001b[0m\u001b[1;32m      4\u001b[0m \u001b[0mfinal_test_data\u001b[0m \u001b[0;34m=\u001b[0m \u001b[0mvectorize\u001b[0m\u001b[0;34m(\u001b[0m\u001b[0mpad_sequence\u001b[0m\u001b[0;34m(\u001b[0m\u001b[0mtoken_test_data\u001b[0m\u001b[0;34m)\u001b[0m\u001b[0;34m,\u001b[0m \u001b[0mmax_len\u001b[0m\u001b[0;34m=\u001b[0m\u001b[0mmax_len\u001b[0m\u001b[0;34m)\u001b[0m\u001b[0;34m\u001b[0m\u001b[0;34m\u001b[0m\u001b[0m\n",
            "\u001b[0;32m<ipython-input-72-97bf2bbcd810>\u001b[0m in \u001b[0;36mvectorize\u001b[0;34m(padded_sentences, max_len)\u001b[0m\n\u001b[1;32m      2\u001b[0m     \u001b[0;31m# model = word2vec.Word2Vec.load(\"NaverMovie.model\")\u001b[0m\u001b[0;34m\u001b[0m\u001b[0;34m\u001b[0m\u001b[0;34m\u001b[0m\u001b[0m\n\u001b[1;32m      3\u001b[0m \u001b[0;34m\u001b[0m\u001b[0m\n\u001b[0;32m----> 4\u001b[0;31m     \u001b[0mpaddedarray\u001b[0m \u001b[0;34m=\u001b[0m \u001b[0mnp\u001b[0m\u001b[0;34m.\u001b[0m\u001b[0marray\u001b[0m\u001b[0;34m(\u001b[0m\u001b[0;34m[\u001b[0m\u001b[0mword2vec_model\u001b[0m\u001b[0;34m.\u001b[0m\u001b[0mwv\u001b[0m\u001b[0;34m.\u001b[0m\u001b[0mword_vec\u001b[0m\u001b[0;34m(\u001b[0m\u001b[0mtoken\u001b[0m\u001b[0;34m)\u001b[0m \u001b[0;32mfor\u001b[0m \u001b[0mx\u001b[0m \u001b[0;32min\u001b[0m \u001b[0mpadded_sentences\u001b[0m \u001b[0;32mfor\u001b[0m \u001b[0mtoken\u001b[0m \u001b[0;32min\u001b[0m \u001b[0mx\u001b[0m\u001b[0;34m]\u001b[0m\u001b[0;34m)\u001b[0m\u001b[0;34m\u001b[0m\u001b[0;34m\u001b[0m\u001b[0m\n\u001b[0m\u001b[1;32m      5\u001b[0m     \u001b[0mfinal_array\u001b[0m \u001b[0;34m=\u001b[0m \u001b[0mpaddedarray\u001b[0m\u001b[0;34m.\u001b[0m\u001b[0mreshape\u001b[0m\u001b[0;34m(\u001b[0m\u001b[0;34m-\u001b[0m\u001b[0;36m1\u001b[0m\u001b[0;34m,\u001b[0m\u001b[0mmax_len\u001b[0m\u001b[0;34m,\u001b[0m\u001b[0;36m300\u001b[0m\u001b[0;34m)\u001b[0m\u001b[0;34m\u001b[0m\u001b[0;34m\u001b[0m\u001b[0m\n\u001b[1;32m      6\u001b[0m     \u001b[0;32mreturn\u001b[0m \u001b[0mfinal_array\u001b[0m\u001b[0;34m\u001b[0m\u001b[0;34m\u001b[0m\u001b[0m\n",
            "\u001b[0;32m<ipython-input-72-97bf2bbcd810>\u001b[0m in \u001b[0;36m<listcomp>\u001b[0;34m(.0)\u001b[0m\n\u001b[1;32m      2\u001b[0m     \u001b[0;31m# model = word2vec.Word2Vec.load(\"NaverMovie.model\")\u001b[0m\u001b[0;34m\u001b[0m\u001b[0;34m\u001b[0m\u001b[0;34m\u001b[0m\u001b[0m\n\u001b[1;32m      3\u001b[0m \u001b[0;34m\u001b[0m\u001b[0m\n\u001b[0;32m----> 4\u001b[0;31m     \u001b[0mpaddedarray\u001b[0m \u001b[0;34m=\u001b[0m \u001b[0mnp\u001b[0m\u001b[0;34m.\u001b[0m\u001b[0marray\u001b[0m\u001b[0;34m(\u001b[0m\u001b[0;34m[\u001b[0m\u001b[0mword2vec_model\u001b[0m\u001b[0;34m.\u001b[0m\u001b[0mwv\u001b[0m\u001b[0;34m.\u001b[0m\u001b[0mword_vec\u001b[0m\u001b[0;34m(\u001b[0m\u001b[0mtoken\u001b[0m\u001b[0;34m)\u001b[0m \u001b[0;32mfor\u001b[0m \u001b[0mx\u001b[0m \u001b[0;32min\u001b[0m \u001b[0mpadded_sentences\u001b[0m \u001b[0;32mfor\u001b[0m \u001b[0mtoken\u001b[0m \u001b[0;32min\u001b[0m \u001b[0mx\u001b[0m\u001b[0;34m]\u001b[0m\u001b[0;34m)\u001b[0m\u001b[0;34m\u001b[0m\u001b[0;34m\u001b[0m\u001b[0m\n\u001b[0m\u001b[1;32m      5\u001b[0m     \u001b[0mfinal_array\u001b[0m \u001b[0;34m=\u001b[0m \u001b[0mpaddedarray\u001b[0m\u001b[0;34m.\u001b[0m\u001b[0mreshape\u001b[0m\u001b[0;34m(\u001b[0m\u001b[0;34m-\u001b[0m\u001b[0;36m1\u001b[0m\u001b[0;34m,\u001b[0m\u001b[0mmax_len\u001b[0m\u001b[0;34m,\u001b[0m\u001b[0;36m300\u001b[0m\u001b[0;34m)\u001b[0m\u001b[0;34m\u001b[0m\u001b[0;34m\u001b[0m\u001b[0m\n\u001b[1;32m      6\u001b[0m     \u001b[0;32mreturn\u001b[0m \u001b[0mfinal_array\u001b[0m\u001b[0;34m\u001b[0m\u001b[0;34m\u001b[0m\u001b[0m\n",
            "\u001b[0;32m/usr/local/lib/python3.6/dist-packages/gensim/models/keyedvectors.py\u001b[0m in \u001b[0;36mword_vec\u001b[0;34m(self, word, use_norm)\u001b[0m\n\u001b[1;32m    450\u001b[0m             \u001b[0;32mreturn\u001b[0m \u001b[0mresult\u001b[0m\u001b[0;34m\u001b[0m\u001b[0;34m\u001b[0m\u001b[0m\n\u001b[1;32m    451\u001b[0m         \u001b[0;32melse\u001b[0m\u001b[0;34m:\u001b[0m\u001b[0;34m\u001b[0m\u001b[0;34m\u001b[0m\u001b[0m\n\u001b[0;32m--> 452\u001b[0;31m             \u001b[0;32mraise\u001b[0m \u001b[0mKeyError\u001b[0m\u001b[0;34m(\u001b[0m\u001b[0;34m\"word '%s' not in vocabulary\"\u001b[0m \u001b[0;34m%\u001b[0m \u001b[0mword\u001b[0m\u001b[0;34m)\u001b[0m\u001b[0;34m\u001b[0m\u001b[0;34m\u001b[0m\u001b[0m\n\u001b[0m\u001b[1;32m    453\u001b[0m \u001b[0;34m\u001b[0m\u001b[0m\n\u001b[1;32m    454\u001b[0m     \u001b[0;32mdef\u001b[0m \u001b[0mget_vector\u001b[0m\u001b[0;34m(\u001b[0m\u001b[0mself\u001b[0m\u001b[0;34m,\u001b[0m \u001b[0mword\u001b[0m\u001b[0;34m)\u001b[0m\u001b[0;34m:\u001b[0m\u001b[0;34m\u001b[0m\u001b[0;34m\u001b[0m\u001b[0m\n",
            "\u001b[0;31mKeyError\u001b[0m: \"word '짜증나다' not in vocabulary\""
          ]
        }
      ]
    },
    {
      "cell_type": "code",
      "metadata": {
        "id": "p5g5OqYPnuNQ",
        "colab_type": "code",
        "colab": {}
      },
      "source": [
        ""
      ],
      "execution_count": null,
      "outputs": []
    }
  ]
}