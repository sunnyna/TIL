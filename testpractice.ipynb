{
  "nbformat": 4,
  "nbformat_minor": 0,
  "metadata": {
    "colab": {
      "name": "testpractice.ipynb",
      "provenance": [],
      "collapsed_sections": [],
      "authorship_tag": "ABX9TyPzqMHxYUVMdLUAbNB5kydv",
      "include_colab_link": true
    },
    "kernelspec": {
      "name": "python3",
      "display_name": "Python 3"
    }
  },
  "cells": [
    {
      "cell_type": "markdown",
      "metadata": {
        "id": "view-in-github",
        "colab_type": "text"
      },
      "source": [
        "<a href=\"https://colab.research.google.com/github/sunnyna/TIL/blob/master/testpractice.ipynb\" target=\"_parent\"><img src=\"https://colab.research.google.com/assets/colab-badge.svg\" alt=\"Open In Colab\"/></a>"
      ]
    },
    {
      "cell_type": "markdown",
      "metadata": {
        "id": "mpB1N-Tv949H",
        "colab_type": "text"
      },
      "source": [
        "# TDM 계산"
      ]
    },
    {
      "cell_type": "code",
      "metadata": {
        "id": "qnKUAfd094bQ",
        "colab_type": "code",
        "colab": {}
      },
      "source": [
        ""
      ],
      "execution_count": null,
      "outputs": []
    },
    {
      "cell_type": "code",
      "metadata": {
        "id": "vD16Y3S390_r",
        "colab_type": "code",
        "colab": {}
      },
      "source": [
        ""
      ],
      "execution_count": null,
      "outputs": []
    },
    {
      "cell_type": "code",
      "metadata": {
        "id": "MJLYRz-d9ytr",
        "colab_type": "code",
        "colab": {}
      },
      "source": [
        ""
      ],
      "execution_count": null,
      "outputs": []
    },
    {
      "cell_type": "markdown",
      "metadata": {
        "id": "bTD8IHd995vf",
        "colab_type": "text"
      },
      "source": [
        "# TF-IDF"
      ]
    },
    {
      "cell_type": "code",
      "metadata": {
        "id": "XntJxPtj96yv",
        "colab_type": "code",
        "colab": {}
      },
      "source": [
        ""
      ],
      "execution_count": null,
      "outputs": []
    },
    {
      "cell_type": "code",
      "metadata": {
        "id": "fpRygnyr96oX",
        "colab_type": "code",
        "colab": {}
      },
      "source": [
        ""
      ],
      "execution_count": null,
      "outputs": []
    },
    {
      "cell_type": "code",
      "metadata": {
        "id": "fAniH7o896go",
        "colab_type": "code",
        "colab": {}
      },
      "source": [
        ""
      ],
      "execution_count": null,
      "outputs": []
    },
    {
      "cell_type": "code",
      "metadata": {
        "id": "u8uNNDzA96JA",
        "colab_type": "code",
        "colab": {}
      },
      "source": [
        ""
      ],
      "execution_count": null,
      "outputs": []
    },
    {
      "cell_type": "markdown",
      "metadata": {
        "id": "6cU-R_Io97VI",
        "colab_type": "text"
      },
      "source": [
        "# 유사도"
      ]
    },
    {
      "cell_type": "code",
      "metadata": {
        "id": "StZvv_KwFqDI",
        "colab_type": "code",
        "colab": {}
      },
      "source": [
        "word_embedding_dic = { '사과' : [1.0, 0.5], '바나나' : [0.9, 1.2], '원숭이' : [0.5, 1.5] }"
      ],
      "execution_count": null,
      "outputs": []
    },
    {
      "cell_type": "code",
      "metadata": {
        "id": "y_QsqhaG98PZ",
        "colab_type": "code",
        "colab": {
          "base_uri": "https://localhost:8080/",
          "height": 34
        },
        "outputId": "3494e889-c5dc-48c9-bb8f-c022b3a1c12f"
      },
      "source": [
        "# 유클리디안 유사도\n",
        "import numpy as np\n",
        "\n",
        "def euclidean_sim(x,y):\n",
        "  x= np.array(x)\n",
        "  y= np.array(y)\n",
        "\n",
        "  return np.sqrt(np.sum(x-y)**2)\n",
        "\n",
        "euclidean_sim(word_embedding_dic['사과'],word_embedding_dic['바나나'])"
      ],
      "execution_count": null,
      "outputs": [
        {
          "output_type": "execute_result",
          "data": {
            "text/plain": [
              "0.6"
            ]
          },
          "metadata": {
            "tags": []
          },
          "execution_count": 4
        }
      ]
    },
    {
      "cell_type": "code",
      "metadata": {
        "id": "WPpAU-fHH35B",
        "colab_type": "code",
        "colab": {
          "base_uri": "https://localhost:8080/",
          "height": 34
        },
        "outputId": "1c7f8e85-3e75-43df-cab8-2ee408f2b518"
      },
      "source": [
        "# 코사인 유사도\n",
        "import numpy as np\n",
        "from numpy import dot\n",
        "from numpy.linalg import norm\n",
        "\n",
        "def cosine_sim(x,y) :\n",
        "\n",
        "  return dot(x,y)/(norm(x)*norm(y))\n",
        "\n",
        "cosine_sim(word_embedding_dic['사과'],word_embedding_dic['바나나'])"
      ],
      "execution_count": null,
      "outputs": [
        {
          "output_type": "execute_result",
          "data": {
            "text/plain": [
              "0.8944271909999159"
            ]
          },
          "metadata": {
            "tags": []
          },
          "execution_count": 11
        }
      ]
    },
    {
      "cell_type": "code",
      "metadata": {
        "id": "v8rBmC9c98Af",
        "colab_type": "code",
        "colab": {}
      },
      "source": [
        "# 자카드 유사도\n",
        "\n",
        "s1 = '대부분 원숭이는 바나나를 좋아합니다.'\n",
        "s2 = '코주부 원숭이는 바나나를 싫어합니다.'"
      ],
      "execution_count": 14,
      "outputs": []
    },
    {
      "cell_type": "code",
      "metadata": {
        "id": "rQq_ttM-97rX",
        "colab_type": "code",
        "colab": {
          "base_uri": "https://localhost:8080/",
          "height": 34
        },
        "outputId": "ca6022f8-3e28-4b0c-bb39-d5051f862dbe"
      },
      "source": [
        "# 토큰화\n",
        "s1_t = s1.split()\n",
        "s2_t = s2.split()\n",
        "\n",
        "\n",
        "intersection = set(s1_t).intersection(set(s2_t)) \n",
        "union = set(s1_t).union(set(s2_t))\n",
        "\n",
        "jaccad_sim = len(intersection)/ len(union)\n",
        "\n",
        "jaccad_sim"
      ],
      "execution_count": 17,
      "outputs": [
        {
          "output_type": "execute_result",
          "data": {
            "text/plain": [
              "0.3333333333333333"
            ]
          },
          "metadata": {
            "tags": []
          },
          "execution_count": 17
        }
      ]
    },
    {
      "cell_type": "markdown",
      "metadata": {
        "id": "GDVeO9zu98k3",
        "colab_type": "text"
      },
      "source": [
        "# Naive Baysian"
      ]
    },
    {
      "cell_type": "code",
      "metadata": {
        "id": "ADPmMuLl998P",
        "colab_type": "code",
        "colab": {}
      },
      "source": [
        ""
      ],
      "execution_count": null,
      "outputs": []
    },
    {
      "cell_type": "code",
      "metadata": {
        "id": "aOCs7FdT9-Qn",
        "colab_type": "code",
        "colab": {}
      },
      "source": [
        ""
      ],
      "execution_count": null,
      "outputs": []
    },
    {
      "cell_type": "code",
      "metadata": {
        "id": "NW8gULPa99jP",
        "colab_type": "code",
        "colab": {}
      },
      "source": [
        ""
      ],
      "execution_count": null,
      "outputs": []
    }
  ]
}