{
  "nbformat": 4,
  "nbformat_minor": 0,
  "metadata": {
    "colab": {
      "name": "testpractice.ipynb",
      "provenance": [],
      "collapsed_sections": [],
      "authorship_tag": "ABX9TyMqayufAcZRXKYGiL6lgDGj",
      "include_colab_link": true
    },
    "kernelspec": {
      "name": "python3",
      "display_name": "Python 3"
    }
  },
  "cells": [
    {
      "cell_type": "markdown",
      "metadata": {
        "id": "view-in-github",
        "colab_type": "text"
      },
      "source": [
        "<a href=\"https://colab.research.google.com/github/sunnyna/TIL/blob/master/testpractice.ipynb\" target=\"_parent\"><img src=\"https://colab.research.google.com/assets/colab-badge.svg\" alt=\"Open In Colab\"/></a>"
      ]
    },
    {
      "cell_type": "markdown",
      "metadata": {
        "id": "mpB1N-Tv949H",
        "colab_type": "text"
      },
      "source": [
        "# TDM 계산"
      ]
    },
    {
      "cell_type": "code",
      "metadata": {
        "id": "qnKUAfd094bQ",
        "colab_type": "code",
        "colab": {}
      },
      "source": [
        "docs = ['오늘 동물원에서 원숭이를 봤어',\n",
        "        '오늘 동물원에서 코끼리를 봤어 봤어',\n",
        "        '동물원에서 원숭이에게 바나나를 줬어 바나나를']"
      ],
      "execution_count": 19,
      "outputs": []
    },
    {
      "cell_type": "code",
      "metadata": {
        "id": "KxXHecKreb5a",
        "colab_type": "code",
        "colab": {
          "base_uri": "https://localhost:8080/",
          "height": 70
        },
        "outputId": "f2bee52e-49dd-434d-b546-b7238addd564"
      },
      "source": [
        "# 띄어쓰기 단위로 토큰화\n",
        "\n",
        "doc_ls = [doc.split() for doc in docs]\n",
        "\n"
      ],
      "execution_count": 86,
      "outputs": [
        {
          "output_type": "execute_result",
          "data": {
            "text/plain": [
              "[['오늘', '동물원에서', '원숭이를', '봤어'],\n",
              " ['오늘', '동물원에서', '코끼리를', '봤어', '봤어'],\n",
              " ['동물원에서', '원숭이에게', '바나나를', '줬어', '바나나를']]"
            ]
          },
          "metadata": {
            "tags": []
          },
          "execution_count": 86
        }
      ]
    },
    {
      "cell_type": "code",
      "metadata": {
        "id": "exgq-95qeb3W",
        "colab_type": "code",
        "colab": {
          "base_uri": "https://localhost:8080/",
          "height": 34
        },
        "outputId": "5aaa6dc6-9f9c-4868-9131-2f405d7446ad"
      },
      "source": [
        "# 인덱스 지정\n",
        "from collections import defaultdict\n",
        "\n",
        "word2id = defaultdict(lambda : len(word2id))\n",
        "\n",
        "[word2id[token] for doc in docs_ls for token in doc]\n",
        "\n"
      ],
      "execution_count": 95,
      "outputs": [
        {
          "output_type": "execute_result",
          "data": {
            "text/plain": [
              "7"
            ]
          },
          "metadata": {
            "tags": []
          },
          "execution_count": 95
        }
      ]
    },
    {
      "cell_type": "code",
      "metadata": {
        "id": "-nsj2VKHebzs",
        "colab_type": "code",
        "colab": {
          "base_uri": "https://localhost:8080/",
          "height": 158
        },
        "outputId": "5b99beec-6150-4d7e-f51f-23175cb4bafc"
      },
      "source": [
        "# TDM 구하기\n",
        "import numpy as np\n",
        "\n",
        "TDM = np.zeros((len(word2id),len(doc_ls)), dtype= int)\n",
        "\n",
        "for i, doc in enumerate(doc_ls):\n",
        "  for token in doc:\n",
        "    TDM[word2id[token],i] +=1\n",
        "\n",
        "TDM"
      ],
      "execution_count": 89,
      "outputs": [
        {
          "output_type": "execute_result",
          "data": {
            "text/plain": [
              "array([[1, 1, 0],\n",
              "       [1, 1, 1],\n",
              "       [1, 0, 0],\n",
              "       [1, 2, 0],\n",
              "       [0, 1, 0],\n",
              "       [0, 0, 1],\n",
              "       [0, 0, 2],\n",
              "       [0, 0, 1]])"
            ]
          },
          "metadata": {
            "tags": []
          },
          "execution_count": 89
        }
      ]
    },
    {
      "cell_type": "code",
      "metadata": {
        "id": "WRnQMuk_ebta",
        "colab_type": "code",
        "colab": {}
      },
      "source": [
        ""
      ],
      "execution_count": null,
      "outputs": []
    },
    {
      "cell_type": "code",
      "metadata": {
        "id": "vD16Y3S390_r",
        "colab_type": "code",
        "colab": {
          "base_uri": "https://localhost:8080/",
          "height": 70
        },
        "outputId": "a0198466-b635-4524-fbf0-7b8a2747034e"
      },
      "source": [
        "# 띄어쓰기 단위로 토큰화\n"
      ],
      "execution_count": 96,
      "outputs": [
        {
          "output_type": "execute_result",
          "data": {
            "text/plain": [
              "[['오늘', '동물원에서', '원숭이를', '봤어'],\n",
              " ['오늘', '동물원에서', '코끼리를', '봤어', '봤어'],\n",
              " ['동물원에서', '원숭이에게', '바나나를', '줬어', '바나나를']]"
            ]
          },
          "metadata": {
            "tags": []
          },
          "execution_count": 96
        }
      ]
    },
    {
      "cell_type": "code",
      "metadata": {
        "id": "MJLYRz-d9ytr",
        "colab_type": "code",
        "colab": {
          "base_uri": "https://localhost:8080/",
          "height": 176
        },
        "outputId": "05c11e83-2dc2-4a31-e15e-e876370a9973"
      },
      "source": [
        "# 인덱스 지정\n"
      ],
      "execution_count": 97,
      "outputs": [
        {
          "output_type": "execute_result",
          "data": {
            "text/plain": [
              "defaultdict(<function __main__.<lambda>>,\n",
              "            {'동물원에서': 1,\n",
              "             '바나나를': 6,\n",
              "             '봤어': 3,\n",
              "             '오늘': 0,\n",
              "             '원숭이를': 2,\n",
              "             '원숭이에게': 5,\n",
              "             '줬어': 7,\n",
              "             '코끼리를': 4})"
            ]
          },
          "metadata": {
            "tags": []
          },
          "execution_count": 97
        }
      ]
    },
    {
      "cell_type": "code",
      "metadata": {
        "id": "sZjCQpEPZyeZ",
        "colab_type": "code",
        "colab": {
          "base_uri": "https://localhost:8080/",
          "height": 158
        },
        "outputId": "e1dd2413-628c-4eda-c544-7099a2c51b03"
      },
      "source": [
        "# TDM 생성\n"
      ],
      "execution_count": 99,
      "outputs": [
        {
          "output_type": "execute_result",
          "data": {
            "text/plain": [
              "array([[1, 1, 0],\n",
              "       [1, 1, 1],\n",
              "       [1, 0, 0],\n",
              "       [1, 2, 0],\n",
              "       [0, 1, 0],\n",
              "       [0, 0, 1],\n",
              "       [0, 0, 2],\n",
              "       [0, 0, 1]])"
            ]
          },
          "metadata": {
            "tags": []
          },
          "execution_count": 99
        }
      ]
    },
    {
      "cell_type": "markdown",
      "metadata": {
        "id": "bTD8IHd995vf",
        "colab_type": "text"
      },
      "source": [
        "# TF-IDF"
      ]
    },
    {
      "cell_type": "code",
      "metadata": {
        "id": "yuIIhIj6id09",
        "colab_type": "code",
        "colab": {}
      },
      "source": [
        "docs = ['오늘 동물원에서 원숭이를 봤어',\n",
        "        '오늘 동물원에서 코끼리를 봤어 봤어',\n",
        "        '동물원에서 원숭이에게 바나나를 줬어 바나나를']"
      ],
      "execution_count": 100,
      "outputs": []
    },
    {
      "cell_type": "code",
      "metadata": {
        "id": "UIorYFYU-RDF",
        "colab_type": "code",
        "colab": {}
      },
      "source": [
        "# 띄어쓰기 단위로 토큰화\n",
        "\n",
        "docs_ls = [doc.split() for doc in docs]\n"
      ],
      "execution_count": 101,
      "outputs": []
    },
    {
      "cell_type": "code",
      "metadata": {
        "id": "d5pfj15l-RT7",
        "colab_type": "code",
        "colab": {
          "base_uri": "https://localhost:8080/",
          "height": 176
        },
        "outputId": "451443ba-6683-41b7-e57f-b88014eb2dde"
      },
      "source": [
        "# 인덱스 지정\n",
        "from collections import defaultdict\n",
        "\n",
        "word2id = defaultdict(lambda: len(word2id))\n",
        "\n",
        "[word2id[token] for doc in doc_ls for token in doc]\n",
        "\n",
        "word2id"
      ],
      "execution_count": 104,
      "outputs": [
        {
          "output_type": "execute_result",
          "data": {
            "text/plain": [
              "defaultdict(<function __main__.<lambda>>,\n",
              "            {'동물원에서': 1,\n",
              "             '바나나를': 6,\n",
              "             '봤어': 3,\n",
              "             '오늘': 0,\n",
              "             '원숭이를': 2,\n",
              "             '원숭이에게': 5,\n",
              "             '줬어': 7,\n",
              "             '코끼리를': 4})"
            ]
          },
          "metadata": {
            "tags": []
          },
          "execution_count": 104
        }
      ]
    },
    {
      "cell_type": "code",
      "metadata": {
        "id": "9WDuc7qJ-Qzw",
        "colab_type": "code",
        "colab": {
          "base_uri": "https://localhost:8080/",
          "height": 70
        },
        "outputId": "9795efc5-0285-44a9-9798-a94b35617805"
      },
      "source": [
        "# DTM 계산\n",
        "\n",
        "DTM = TDM.transpose()\n",
        "\n",
        "DTM"
      ],
      "execution_count": 105,
      "outputs": [
        {
          "output_type": "execute_result",
          "data": {
            "text/plain": [
              "array([[1, 1, 1, 1, 0, 0, 0, 0],\n",
              "       [1, 1, 0, 2, 1, 0, 0, 0],\n",
              "       [0, 1, 0, 0, 0, 1, 2, 1]])"
            ]
          },
          "metadata": {
            "tags": []
          },
          "execution_count": 105
        }
      ]
    },
    {
      "cell_type": "code",
      "metadata": {
        "id": "1OmmEfLN-UUS",
        "colab_type": "code",
        "colab": {
          "base_uri": "https://localhost:8080/",
          "height": 70
        },
        "outputId": "2122fb2c-da46-46b6-a878-69f23d9fae71"
      },
      "source": [
        "# TF 계산\n",
        "\n",
        "def computeTF(DTM):\n",
        "  doc_len = len(DTM)\n",
        "  word_len = len(DTM[0])\n",
        "\n",
        "  tf = np.zeros((doc_len, word_len))\n",
        "\n",
        "  for doc_i in range(doc_len):\n",
        "    for word_i in range(word_len):\n",
        "      tf[doc_i, word_i] = DTM[doc_i, word_i]/ DTM[doc_i].sum()\n",
        "  return tf\n",
        "\n",
        "\n",
        "computeTF(DTM)"
      ],
      "execution_count": 128,
      "outputs": [
        {
          "output_type": "execute_result",
          "data": {
            "text/plain": [
              "array([[0.25, 0.25, 0.25, 0.25, 0.  , 0.  , 0.  , 0.  ],\n",
              "       [0.2 , 0.2 , 0.  , 0.4 , 0.2 , 0.  , 0.  , 0.  ],\n",
              "       [0.  , 0.2 , 0.  , 0.  , 0.  , 0.2 , 0.4 , 0.2 ]])"
            ]
          },
          "metadata": {
            "tags": []
          },
          "execution_count": 128
        }
      ]
    },
    {
      "cell_type": "code",
      "metadata": {
        "id": "6nHJQvPM-Vs6",
        "colab_type": "code",
        "colab": {
          "base_uri": "https://localhost:8080/",
          "height": 52
        },
        "outputId": "56ee11b8-0f5d-4b36-f631-5a5dd0f3b622"
      },
      "source": [
        "# idf 계산 \n",
        "import math\n",
        "\n",
        "def compute_idf(DTM):\n",
        "  doc_len = len(DTM)\n",
        "  word_len = len(DTM[0])\n",
        "\n",
        "  idf = np.zeros(word_len)\n",
        "\n",
        "  for i in range(word_len):\n",
        "    idf[i] = - math.log10(np.count_nonzero(DTM[:,i])/doc_len)\n",
        "  return idf\n",
        "\n",
        "compute_idf(DTM) "
      ],
      "execution_count": 132,
      "outputs": [
        {
          "output_type": "execute_result",
          "data": {
            "text/plain": [
              "array([ 0.17609126, -0.        ,  0.47712125,  0.17609126,  0.47712125,\n",
              "        0.47712125,  0.47712125,  0.47712125])"
            ]
          },
          "metadata": {
            "tags": []
          },
          "execution_count": 132
        }
      ]
    },
    {
      "cell_type": "code",
      "metadata": {
        "id": "XntJxPtj96yv",
        "colab_type": "code",
        "colab": {
          "base_uri": "https://localhost:8080/",
          "height": 70
        },
        "outputId": "6379aa1b-10df-4260-a9c9-218b3bd2bef4"
      },
      "source": [
        "# 띄어쓰기 단위로 토큰화\n",
        "\n",
        "docs_ls = [doc.split() for doc in docs]\n",
        "\n",
        "docs_ls"
      ],
      "execution_count": 71,
      "outputs": [
        {
          "output_type": "execute_result",
          "data": {
            "text/plain": [
              "[['오늘', '동물원에서', '원숭이를', '봤어'],\n",
              " ['오늘', '동물원에서', '코끼리를', '봤어', '봤어'],\n",
              " ['동물원에서', '원숭이에게', '바나나를', '줬어', '바나나를']]"
            ]
          },
          "metadata": {
            "tags": []
          },
          "execution_count": 71
        }
      ]
    },
    {
      "cell_type": "code",
      "metadata": {
        "id": "fpRygnyr96oX",
        "colab_type": "code",
        "colab": {
          "base_uri": "https://localhost:8080/",
          "height": 176
        },
        "outputId": "30235164-8978-4f40-ee8c-64a28c316484"
      },
      "source": [
        "# 인덱스 지정\n",
        "from collections import defaultdict\n",
        "\n",
        "word2id = defaultdict(lambda : len(word2id))\n",
        "\n",
        "[word2id[token] for doc in docs_ls for token in doc]\n",
        "\n",
        "word2id"
      ],
      "execution_count": 74,
      "outputs": [
        {
          "output_type": "execute_result",
          "data": {
            "text/plain": [
              "defaultdict(<function __main__.<lambda>>,\n",
              "            {'동물원에서': 1,\n",
              "             '바나나를': 6,\n",
              "             '봤어': 3,\n",
              "             '오늘': 0,\n",
              "             '원숭이를': 2,\n",
              "             '원숭이에게': 5,\n",
              "             '줬어': 7,\n",
              "             '코끼리를': 4})"
            ]
          },
          "metadata": {
            "tags": []
          },
          "execution_count": 74
        }
      ]
    },
    {
      "cell_type": "code",
      "metadata": {
        "id": "fAniH7o896go",
        "colab_type": "code",
        "colab": {
          "base_uri": "https://localhost:8080/",
          "height": 70
        },
        "outputId": "aa237b32-2fcb-4c72-85ec-de93f703fb90"
      },
      "source": [
        "# DTM 계산\n",
        "\n",
        "DTM = TDM.transpose()\n",
        "\n",
        "DTM"
      ],
      "execution_count": 75,
      "outputs": [
        {
          "output_type": "execute_result",
          "data": {
            "text/plain": [
              "array([[1, 1, 1, 1, 0, 0, 0, 0],\n",
              "       [1, 1, 0, 2, 1, 0, 0, 0],\n",
              "       [0, 1, 0, 0, 0, 1, 2, 1]])"
            ]
          },
          "metadata": {
            "tags": []
          },
          "execution_count": 75
        }
      ]
    },
    {
      "cell_type": "code",
      "metadata": {
        "id": "CY3WBu3v0B8A",
        "colab_type": "code",
        "colab": {
          "base_uri": "https://localhost:8080/",
          "height": 70
        },
        "outputId": "5f6a1aab-0651-4b6f-bf5b-a4ae0c6bee14"
      },
      "source": [
        "# TF 계산\n",
        "# 문서내 토큰 빈도/ 문서내 전체 토큰빈도\n",
        "\n",
        "def computeTF(DTM):\n",
        "  doc_len = len(DTM)\n",
        "  word_len = len(DTM[0])\n",
        "\n",
        "  tf = np.zeros((doc_len, word_len))\n",
        "\n",
        "  for doc_i in range(doc_len):\n",
        "    for word_i in range(word_len):\n",
        "      tf[doc_i, word_i] = DTM[doc_i,word_i] / DTM[doc_i].sum()\n",
        "  return tf\n",
        "\n",
        "computeTF(DTM)"
      ],
      "execution_count": 79,
      "outputs": [
        {
          "output_type": "execute_result",
          "data": {
            "text/plain": [
              "array([[0.25, 0.25, 0.25, 0.25, 0.  , 0.  , 0.  , 0.  ],\n",
              "       [0.2 , 0.2 , 0.  , 0.4 , 0.2 , 0.  , 0.  , 0.  ],\n",
              "       [0.  , 0.2 , 0.  , 0.  , 0.  , 0.2 , 0.4 , 0.2 ]])"
            ]
          },
          "metadata": {
            "tags": []
          },
          "execution_count": 79
        }
      ]
    },
    {
      "cell_type": "code",
      "metadata": {
        "id": "u8uNNDzA96JA",
        "colab_type": "code",
        "colab": {
          "base_uri": "https://localhost:8080/",
          "height": 52
        },
        "outputId": "03f0e7ba-3f10-4a03-e8b0-c0520f3ef4e0"
      },
      "source": [
        "# idf 계산 \n",
        "# IDF = log(총문서수/토큰이등장한문서수)\n",
        "import math\n",
        "\n",
        "\n",
        "def computeIDF(DTM):\n",
        "  doc_len = len(DTM)\n",
        "  word_len = len(DTM[0])\n",
        "\n",
        "  idf = np.zeros(word_len)\n",
        "\n",
        "  for i in range(word_len):\n",
        "    idf[i] = - math.log10(np.count_nonzero(DTM[:,i])/ doc_len)\n",
        "\n",
        "  return idf\n",
        "\n",
        "computeIDF(DTM)\n"
      ],
      "execution_count": 85,
      "outputs": [
        {
          "output_type": "execute_result",
          "data": {
            "text/plain": [
              "array([ 0.17609126, -0.        ,  0.47712125,  0.17609126,  0.47712125,\n",
              "        0.47712125,  0.47712125,  0.47712125])"
            ]
          },
          "metadata": {
            "tags": []
          },
          "execution_count": 85
        }
      ]
    },
    {
      "cell_type": "markdown",
      "metadata": {
        "id": "6cU-R_Io97VI",
        "colab_type": "text"
      },
      "source": [
        "# 유사도"
      ]
    },
    {
      "cell_type": "code",
      "metadata": {
        "id": "StZvv_KwFqDI",
        "colab_type": "code",
        "colab": {}
      },
      "source": [
        "word_embedding_dic = { '사과' : [1.0, 0.5], '바나나' : [0.9, 1.2], '원숭이' : [0.5, 1.5] }"
      ],
      "execution_count": null,
      "outputs": []
    },
    {
      "cell_type": "code",
      "metadata": {
        "id": "n4t6-0oD6l9b",
        "colab_type": "code",
        "colab": {
          "base_uri": "https://localhost:8080/",
          "height": 34
        },
        "outputId": "028acb7c-f341-4dab-fd2e-ed5c8a5b2c65"
      },
      "source": [
        "# 유클리디안 유사도\n",
        "import numpy as np\n",
        "def euclidean_sim(x,y):\n",
        "  x= np.array(x)\n",
        "  y= np.array(y)\n",
        "\n",
        "  return np.sqrt(np.sum(x-y)**2)\n",
        "\n",
        "euclidean_sim(word_embedding_dic['사과'],word_embedding_dic['바나나'])"
      ],
      "execution_count": 107,
      "outputs": [
        {
          "output_type": "execute_result",
          "data": {
            "text/plain": [
              "0.6"
            ]
          },
          "metadata": {
            "tags": []
          },
          "execution_count": 107
        }
      ]
    },
    {
      "cell_type": "code",
      "metadata": {
        "id": "fK3VJYoW6xqi",
        "colab_type": "code",
        "colab": {
          "base_uri": "https://localhost:8080/",
          "height": 34
        },
        "outputId": "f7bfca88-9e88-4577-e954-6e4d3846da1a"
      },
      "source": [
        "# 코사인 유사도\n",
        "from numpy import dot\n",
        "from numpy.linalg import norm\n",
        "\n",
        "def cosine_sim(x,y):\n",
        "  \n",
        "  return dot(x,y)/(norm(x)*norm(y))\n",
        "\n",
        "cosine_sim(word_embedding_dic['사과'],word_embedding_dic['바나나'])\n",
        "\n"
      ],
      "execution_count": 108,
      "outputs": [
        {
          "output_type": "execute_result",
          "data": {
            "text/plain": [
              "0.8944271909999159"
            ]
          },
          "metadata": {
            "tags": []
          },
          "execution_count": 108
        }
      ]
    },
    {
      "cell_type": "code",
      "metadata": {
        "id": "SmHNsbFr6zu0",
        "colab_type": "code",
        "colab": {}
      },
      "source": [
        "# 자카드 유사도\n",
        "s1 = '대부분 원숭이는 바나나를 좋아합니다.'\n",
        "s2 = '코주부 원숭이는 바나나를 싫어합니다.'\n"
      ],
      "execution_count": null,
      "outputs": []
    },
    {
      "cell_type": "code",
      "metadata": {
        "id": "i29IpKZw62HZ",
        "colab_type": "code",
        "colab": {
          "base_uri": "https://localhost:8080/",
          "height": 34
        },
        "outputId": "98089b96-c317-453e-d5a7-bec3325d1674"
      },
      "source": [
        "s1_t = s1.split()\n",
        "s2_t = s2.split()\n",
        "\n",
        "intersection = set(s1_t).intersection(set(s2_t))\n",
        "union = set(s1_t).union(set(s2_t))\n",
        "\n",
        "jaccad_sim = len(intersection)/ len(union)\n",
        "jaccad_sim"
      ],
      "execution_count": 110,
      "outputs": [
        {
          "output_type": "execute_result",
          "data": {
            "text/plain": [
              "0.3333333333333333"
            ]
          },
          "metadata": {
            "tags": []
          },
          "execution_count": 110
        }
      ]
    },
    {
      "cell_type": "code",
      "metadata": {
        "id": "y_QsqhaG98PZ",
        "colab_type": "code",
        "colab": {
          "base_uri": "https://localhost:8080/",
          "height": 34
        },
        "outputId": "3494e889-c5dc-48c9-bb8f-c022b3a1c12f"
      },
      "source": [
        "# 유클리디안 유사도\n",
        "import numpy as np\n",
        "\n",
        "def euclidean_sim(x,y):\n",
        "  x= np.array(x)\n",
        "  y= np.array(y)\n",
        "\n",
        "  return np.sqrt(np.sum(x-y)**2)\n",
        "\n",
        "euclidean_sim(word_embedding_dic['사과'],word_embedding_dic['바나나'])"
      ],
      "execution_count": null,
      "outputs": [
        {
          "output_type": "execute_result",
          "data": {
            "text/plain": [
              "0.6"
            ]
          },
          "metadata": {
            "tags": []
          },
          "execution_count": 4
        }
      ]
    },
    {
      "cell_type": "code",
      "metadata": {
        "id": "WPpAU-fHH35B",
        "colab_type": "code",
        "colab": {
          "base_uri": "https://localhost:8080/",
          "height": 34
        },
        "outputId": "1c7f8e85-3e75-43df-cab8-2ee408f2b518"
      },
      "source": [
        "# 코사인 유사도\n",
        "import numpy as np\n",
        "from numpy import dot\n",
        "from numpy.linalg import norm\n",
        "\n",
        "def cosine_sim(x,y) :\n",
        "\n",
        "  return dot(x,y)/(norm(x)*norm(y))\n",
        "\n",
        "cosine_sim(word_embedding_dic['사과'],word_embedding_dic['바나나'])"
      ],
      "execution_count": null,
      "outputs": [
        {
          "output_type": "execute_result",
          "data": {
            "text/plain": [
              "0.8944271909999159"
            ]
          },
          "metadata": {
            "tags": []
          },
          "execution_count": 11
        }
      ]
    },
    {
      "cell_type": "code",
      "metadata": {
        "id": "v8rBmC9c98Af",
        "colab_type": "code",
        "colab": {}
      },
      "source": [
        "# 자카드 유사도\n",
        "\n",
        "s1 = '대부분 원숭이는 바나나를 좋아합니다.'\n",
        "s2 = '코주부 원숭이는 바나나를 싫어합니다.'"
      ],
      "execution_count": 14,
      "outputs": []
    },
    {
      "cell_type": "code",
      "metadata": {
        "id": "rQq_ttM-97rX",
        "colab_type": "code",
        "colab": {
          "base_uri": "https://localhost:8080/",
          "height": 34
        },
        "outputId": "ca6022f8-3e28-4b0c-bb39-d5051f862dbe"
      },
      "source": [
        "# 토큰화\n",
        "s1_t = s1.split()\n",
        "s2_t = s2.split()\n",
        "\n",
        "\n",
        "intersection = set(s1_t).intersection(set(s2_t)) \n",
        "union = set(s1_t).union(set(s2_t))\n",
        "\n",
        "jaccad_sim = len(intersection)/ len(union)\n",
        "\n",
        "jaccad_sim"
      ],
      "execution_count": 17,
      "outputs": [
        {
          "output_type": "execute_result",
          "data": {
            "text/plain": [
              "0.3333333333333333"
            ]
          },
          "metadata": {
            "tags": []
          },
          "execution_count": 17
        }
      ]
    },
    {
      "cell_type": "markdown",
      "metadata": {
        "id": "GDVeO9zu98k3",
        "colab_type": "text"
      },
      "source": [
        "# Naive Baysian"
      ]
    },
    {
      "cell_type": "code",
      "metadata": {
        "id": "ADPmMuLl998P",
        "colab_type": "code",
        "colab": {}
      },
      "source": [
        "training_set = [['me free lottery', 1],\n",
        " ['free get free you', 1],\n",
        " ['you free scholarship', 0],\n",
        " ['free to contact me', 0],\n",
        " ['you won award', 0],\n",
        " ['you ticket lottery', 1]]"
      ],
      "execution_count": null,
      "outputs": []
    },
    {
      "cell_type": "code",
      "metadata": {
        "id": "aOCs7FdT9-Qn",
        "colab_type": "code",
        "colab": {}
      },
      "source": [
        "from collections import defaultdict\n",
        "\n",
        "# 범주에 속하는 토큰수 세기 1(스팸), 0(정상))\n",
        "doccnt0 = 0\n",
        "doccnt1 = 0\n",
        "\n",
        "# 토큰별로 문서내 빈도수 카운팅\n",
        "wordfreq = defaultdict(lambda : [0, 0])\n",
        "\n",
        "for doc, label in training_set:\n",
        "  words = doc.split()\n",
        "  for word in words:\n",
        "    wordfreq[word][label] += 1\n",
        "\n",
        "for key, (cnt0, cnt1) in wordfreq.items():\n",
        "  doccnt0 += cnt0\n",
        "  doccnt1 += cnt1\n",
        "\n",
        "print('doccnt0 : {}'.format(doccnt0))\n",
        "print('doccnt1 : {}'.format(doccnt1))"
      ],
      "execution_count": null,
      "outputs": []
    },
    {
      "cell_type": "code",
      "metadata": {
        "id": "NW8gULPa99jP",
        "colab_type": "code",
        "colab": {}
      },
      "source": [
        "# 토큰별 조건부 확률 계산\n",
        "k = 0.5\n",
        "\n",
        "wordprobs = defaultdict(lambda : [0, 0])\n",
        "for key, (cnt0, cnt1) in wordfreq.items():\n",
        "  wordprobs[key][0] = (cnt0 + k) /(2 * k + doccnt0)\n",
        "  wordprobs[key][1] = (cnt1 + k) /(2 * k + doccnt1)\n",
        "\n",
        "wordprobs"
      ],
      "execution_count": null,
      "outputs": []
    },
    {
      "cell_type": "code",
      "metadata": {
        "id": "r28M2akF59_P",
        "colab_type": "code",
        "colab": {}
      },
      "source": [
        "# Classify : 신규 텍스트가 주어졌을 때 확률 계산"
      ],
      "execution_count": null,
      "outputs": []
    },
    {
      "cell_type": "code",
      "metadata": {
        "id": "R9xAIo5-6BF5",
        "colab_type": "code",
        "colab": {}
      },
      "source": [
        "import math\n",
        "\n",
        "doc = \"free lottery\"\n",
        "tokens = doc.split()\n",
        "\n",
        "log_prob1 = log_prob0 = 0.0\n",
        "\n",
        "for word, (prob0, prob1) in wordprobs.items():\n",
        "  if word in tokens:\n",
        "    log_prob0 += math.log(prob0) \n",
        "    log_prob1 += math.log(prob1)\n",
        "\n",
        "log_prob0 += math.log(doccnt0/(doccnt0 + doccnt1))\n",
        "log_prob1 += math.log(doccnt1/(doccnt0 + doccnt1))\n",
        "\n",
        "prob0 = math.exp(log_prob0)\n",
        "prob1 = math.exp(log_prob1)\n",
        "\n",
        "print(prob0)\n",
        "print(prob1)\n",
        "\n",
        "print(\"정상확률 : {}\".format( prob0 /(prob0 + prob1) * 100))\n",
        "print(\"스팸확률 : {}\".format( prob1 /(prob0 + prob1) * 100))"
      ],
      "execution_count": null,
      "outputs": []
    }
  ]
}