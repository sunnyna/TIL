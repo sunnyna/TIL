{
  "nbformat": 4,
  "nbformat_minor": 0,
  "metadata": {
    "colab": {
      "name": "testpractice.ipynb",
      "provenance": [],
      "collapsed_sections": [],
      "authorship_tag": "ABX9TyOzghEropZYXRLkiFZKCTmZ",
      "include_colab_link": true
    },
    "kernelspec": {
      "name": "python3",
      "display_name": "Python 3"
    }
  },
  "cells": [
    {
      "cell_type": "markdown",
      "metadata": {
        "id": "view-in-github",
        "colab_type": "text"
      },
      "source": [
        "<a href=\"https://colab.research.google.com/github/sunnyna/TIL/blob/master/testpractice.ipynb\" target=\"_parent\"><img src=\"https://colab.research.google.com/assets/colab-badge.svg\" alt=\"Open In Colab\"/></a>"
      ]
    },
    {
      "cell_type": "markdown",
      "metadata": {
        "id": "mpB1N-Tv949H",
        "colab_type": "text"
      },
      "source": [
        "# TDM 계산"
      ]
    },
    {
      "cell_type": "code",
      "metadata": {
        "id": "qnKUAfd094bQ",
        "colab_type": "code",
        "colab": {}
      },
      "source": [
        "docs = ['오늘 동물원에서 원숭이를 봤어',\n",
        "        '오늘 동물원에서 코끼리를 봤어 봤어',\n",
        "        '동물원에서 원숭이에게 바나나를 줬어 바나나를']"
      ],
      "execution_count": 19,
      "outputs": []
    },
    {
      "cell_type": "code",
      "metadata": {
        "id": "KxXHecKreb5a",
        "colab_type": "code",
        "colab": {}
      },
      "source": [
        "# 띄어쓰기 단위로 토큰화\n"
      ],
      "execution_count": 57,
      "outputs": []
    },
    {
      "cell_type": "code",
      "metadata": {
        "id": "exgq-95qeb3W",
        "colab_type": "code",
        "colab": {
          "base_uri": "https://localhost:8080/",
          "height": 176
        },
        "outputId": "aaac9a88-95cf-4ee6-c5c7-2fcdf33921af"
      },
      "source": [
        "# 인덱스 지정\n"
      ],
      "execution_count": 58,
      "outputs": [
        {
          "output_type": "execute_result",
          "data": {
            "text/plain": [
              "defaultdict(<function __main__.<lambda>>,\n",
              "            {'동물원에서': 1,\n",
              "             '바나나를': 6,\n",
              "             '봤어': 3,\n",
              "             '오늘': 0,\n",
              "             '원숭이를': 2,\n",
              "             '원숭이에게': 5,\n",
              "             '줬어': 7,\n",
              "             '코끼리를': 4})"
            ]
          },
          "metadata": {
            "tags": []
          },
          "execution_count": 58
        }
      ]
    },
    {
      "cell_type": "code",
      "metadata": {
        "id": "-nsj2VKHebzs",
        "colab_type": "code",
        "colab": {
          "base_uri": "https://localhost:8080/",
          "height": 158
        },
        "outputId": "8a23d0b0-e680-4e08-a60f-ad5ead606654"
      },
      "source": [
        "# TDM 구하기\n"
      ],
      "execution_count": 62,
      "outputs": [
        {
          "output_type": "execute_result",
          "data": {
            "text/plain": [
              "array([[1, 1, 0],\n",
              "       [1, 1, 1],\n",
              "       [1, 0, 0],\n",
              "       [1, 2, 0],\n",
              "       [0, 1, 0],\n",
              "       [0, 0, 1],\n",
              "       [0, 0, 2],\n",
              "       [0, 0, 1]])"
            ]
          },
          "metadata": {
            "tags": []
          },
          "execution_count": 62
        }
      ]
    },
    {
      "cell_type": "code",
      "metadata": {
        "id": "PxJY6fqqebwb",
        "colab_type": "code",
        "colab": {
          "base_uri": "https://localhost:8080/",
          "height": 317
        },
        "outputId": "a50a32a5-7956-45a6-9ab9-902b3c255092"
      },
      "source": [
        "# dataframe 생성\n",
        "\n"
      ],
      "execution_count": 70,
      "outputs": [
        {
          "output_type": "execute_result",
          "data": {
            "text/html": [
              "<div>\n",
              "<style scoped>\n",
              "    .dataframe tbody tr th:only-of-type {\n",
              "        vertical-align: middle;\n",
              "    }\n",
              "\n",
              "    .dataframe tbody tr th {\n",
              "        vertical-align: top;\n",
              "    }\n",
              "\n",
              "    .dataframe thead th {\n",
              "        text-align: right;\n",
              "    }\n",
              "</style>\n",
              "<table border=\"1\" class=\"dataframe\">\n",
              "  <thead>\n",
              "    <tr style=\"text-align: right;\">\n",
              "      <th></th>\n",
              "      <th>문서0</th>\n",
              "      <th>문서1</th>\n",
              "      <th>문서2</th>\n",
              "    </tr>\n",
              "    <tr>\n",
              "      <th>단어</th>\n",
              "      <th></th>\n",
              "      <th></th>\n",
              "      <th></th>\n",
              "    </tr>\n",
              "  </thead>\n",
              "  <tbody>\n",
              "    <tr>\n",
              "      <th>동물원에서</th>\n",
              "      <td>1</td>\n",
              "      <td>1</td>\n",
              "      <td>0</td>\n",
              "    </tr>\n",
              "    <tr>\n",
              "      <th>바나나를</th>\n",
              "      <td>1</td>\n",
              "      <td>1</td>\n",
              "      <td>1</td>\n",
              "    </tr>\n",
              "    <tr>\n",
              "      <th>봤어</th>\n",
              "      <td>1</td>\n",
              "      <td>0</td>\n",
              "      <td>0</td>\n",
              "    </tr>\n",
              "    <tr>\n",
              "      <th>오늘</th>\n",
              "      <td>1</td>\n",
              "      <td>2</td>\n",
              "      <td>0</td>\n",
              "    </tr>\n",
              "    <tr>\n",
              "      <th>원숭이를</th>\n",
              "      <td>0</td>\n",
              "      <td>1</td>\n",
              "      <td>0</td>\n",
              "    </tr>\n",
              "    <tr>\n",
              "      <th>원숭이에게</th>\n",
              "      <td>0</td>\n",
              "      <td>0</td>\n",
              "      <td>1</td>\n",
              "    </tr>\n",
              "    <tr>\n",
              "      <th>줬어</th>\n",
              "      <td>0</td>\n",
              "      <td>0</td>\n",
              "      <td>2</td>\n",
              "    </tr>\n",
              "    <tr>\n",
              "      <th>코끼리를</th>\n",
              "      <td>0</td>\n",
              "      <td>0</td>\n",
              "      <td>1</td>\n",
              "    </tr>\n",
              "  </tbody>\n",
              "</table>\n",
              "</div>"
            ],
            "text/plain": [
              "       문서0  문서1  문서2\n",
              "단어                  \n",
              "동물원에서    1    1    0\n",
              "바나나를     1    1    1\n",
              "봤어       1    0    0\n",
              "오늘       1    2    0\n",
              "원숭이를     0    1    0\n",
              "원숭이에게    0    0    1\n",
              "줬어       0    0    2\n",
              "코끼리를     0    0    1"
            ]
          },
          "metadata": {
            "tags": []
          },
          "execution_count": 70
        }
      ]
    },
    {
      "cell_type": "code",
      "metadata": {
        "id": "WRnQMuk_ebta",
        "colab_type": "code",
        "colab": {}
      },
      "source": [
        ""
      ],
      "execution_count": null,
      "outputs": []
    },
    {
      "cell_type": "code",
      "metadata": {
        "id": "vD16Y3S390_r",
        "colab_type": "code",
        "colab": {
          "base_uri": "https://localhost:8080/",
          "height": 70
        },
        "outputId": "572a453f-d45e-43c3-a355-c204bbec1d35"
      },
      "source": [
        "# 띄어쓰기 단위로 토큰화\n",
        "\n",
        "docs_token = [doc.split() for doc in docs]\n",
        "\n",
        "docs_token"
      ],
      "execution_count": 20,
      "outputs": [
        {
          "output_type": "execute_result",
          "data": {
            "text/plain": [
              "[['오늘', '동물원에서', '원숭이를', '봤어'],\n",
              " ['오늘', '동물원에서', '코끼리를', '봤어', '봤어'],\n",
              " ['동물원에서', '원숭이에게', '바나나를', '줬어', '바나나를']]"
            ]
          },
          "metadata": {
            "tags": []
          },
          "execution_count": 20
        }
      ]
    },
    {
      "cell_type": "code",
      "metadata": {
        "id": "MJLYRz-d9ytr",
        "colab_type": "code",
        "colab": {
          "base_uri": "https://localhost:8080/",
          "height": 176
        },
        "outputId": "fe25fc78-71f4-411b-be1c-70209331d6c5"
      },
      "source": [
        "# 인덱스 지정\n",
        "from collections import defaultdict\n",
        "\n",
        "word2id = defaultdict(lambda: len(word2id))\n",
        "\n",
        "[word2id[token] for doc in docs_token for token in doc]\n",
        "word2id"
      ],
      "execution_count": 22,
      "outputs": [
        {
          "output_type": "execute_result",
          "data": {
            "text/plain": [
              "defaultdict(<function __main__.<lambda>>,\n",
              "            {'동물원에서': 1,\n",
              "             '바나나를': 6,\n",
              "             '봤어': 3,\n",
              "             '오늘': 0,\n",
              "             '원숭이를': 2,\n",
              "             '원숭이에게': 5,\n",
              "             '줬어': 7,\n",
              "             '코끼리를': 4})"
            ]
          },
          "metadata": {
            "tags": []
          },
          "execution_count": 22
        }
      ]
    },
    {
      "cell_type": "code",
      "metadata": {
        "id": "sZjCQpEPZyeZ",
        "colab_type": "code",
        "colab": {
          "base_uri": "https://localhost:8080/",
          "height": 158
        },
        "outputId": "739b74ee-b00d-47ac-d23e-2cabf1202796"
      },
      "source": [
        "# TDM 생성\n",
        "import numpy as np\n",
        "\n",
        "TDM = np.zeros((len(word2id),len(docs_token)),dtype= int)\n",
        "\n",
        "for i, doc in enumerate(docs_token):\n",
        "  for token in doc:\n",
        "    TDM[word2id[token],i] +=1\n",
        "\n",
        "TDM"
      ],
      "execution_count": 32,
      "outputs": [
        {
          "output_type": "execute_result",
          "data": {
            "text/plain": [
              "array([[1, 1, 0],\n",
              "       [1, 1, 1],\n",
              "       [1, 0, 0],\n",
              "       [1, 2, 0],\n",
              "       [0, 1, 0],\n",
              "       [0, 0, 1],\n",
              "       [0, 0, 2],\n",
              "       [0, 0, 1]])"
            ]
          },
          "metadata": {
            "tags": []
          },
          "execution_count": 32
        }
      ]
    },
    {
      "cell_type": "code",
      "metadata": {
        "id": "e1U04-BYcCv6",
        "colab_type": "code",
        "colab": {
          "base_uri": "https://localhost:8080/",
          "height": 317
        },
        "outputId": "9d06688b-9757-4ba7-c0c6-25162576bf44"
      },
      "source": [
        "import pandas as pd\n",
        "\n",
        "doc_names = ['문서' + str(i) for i in range(len(docs_token))]\n",
        "sorted_vocab = sorted((key, value)for key, value in word2id.items())\n",
        "\n",
        "vocab = [v[0] for v in sorted_vocab]\n",
        "\n",
        "df = pd.DataFrame(TDM, columns=doc_names)\n",
        "\n",
        "df['단어'] = vocab\n",
        "df.set_index('단어')\n"
      ],
      "execution_count": 44,
      "outputs": [
        {
          "output_type": "execute_result",
          "data": {
            "text/html": [
              "<div>\n",
              "<style scoped>\n",
              "    .dataframe tbody tr th:only-of-type {\n",
              "        vertical-align: middle;\n",
              "    }\n",
              "\n",
              "    .dataframe tbody tr th {\n",
              "        vertical-align: top;\n",
              "    }\n",
              "\n",
              "    .dataframe thead th {\n",
              "        text-align: right;\n",
              "    }\n",
              "</style>\n",
              "<table border=\"1\" class=\"dataframe\">\n",
              "  <thead>\n",
              "    <tr style=\"text-align: right;\">\n",
              "      <th></th>\n",
              "      <th>문서0</th>\n",
              "      <th>문서1</th>\n",
              "      <th>문서2</th>\n",
              "    </tr>\n",
              "    <tr>\n",
              "      <th>단어</th>\n",
              "      <th></th>\n",
              "      <th></th>\n",
              "      <th></th>\n",
              "    </tr>\n",
              "  </thead>\n",
              "  <tbody>\n",
              "    <tr>\n",
              "      <th>동물원에서</th>\n",
              "      <td>1</td>\n",
              "      <td>1</td>\n",
              "      <td>0</td>\n",
              "    </tr>\n",
              "    <tr>\n",
              "      <th>바나나를</th>\n",
              "      <td>1</td>\n",
              "      <td>1</td>\n",
              "      <td>1</td>\n",
              "    </tr>\n",
              "    <tr>\n",
              "      <th>봤어</th>\n",
              "      <td>1</td>\n",
              "      <td>0</td>\n",
              "      <td>0</td>\n",
              "    </tr>\n",
              "    <tr>\n",
              "      <th>오늘</th>\n",
              "      <td>1</td>\n",
              "      <td>2</td>\n",
              "      <td>0</td>\n",
              "    </tr>\n",
              "    <tr>\n",
              "      <th>원숭이를</th>\n",
              "      <td>0</td>\n",
              "      <td>1</td>\n",
              "      <td>0</td>\n",
              "    </tr>\n",
              "    <tr>\n",
              "      <th>원숭이에게</th>\n",
              "      <td>0</td>\n",
              "      <td>0</td>\n",
              "      <td>1</td>\n",
              "    </tr>\n",
              "    <tr>\n",
              "      <th>줬어</th>\n",
              "      <td>0</td>\n",
              "      <td>0</td>\n",
              "      <td>2</td>\n",
              "    </tr>\n",
              "    <tr>\n",
              "      <th>코끼리를</th>\n",
              "      <td>0</td>\n",
              "      <td>0</td>\n",
              "      <td>1</td>\n",
              "    </tr>\n",
              "  </tbody>\n",
              "</table>\n",
              "</div>"
            ],
            "text/plain": [
              "       문서0  문서1  문서2\n",
              "단어                  \n",
              "동물원에서    1    1    0\n",
              "바나나를     1    1    1\n",
              "봤어       1    0    0\n",
              "오늘       1    2    0\n",
              "원숭이를     0    1    0\n",
              "원숭이에게    0    0    1\n",
              "줬어       0    0    2\n",
              "코끼리를     0    0    1"
            ]
          },
          "metadata": {
            "tags": []
          },
          "execution_count": 44
        }
      ]
    },
    {
      "cell_type": "markdown",
      "metadata": {
        "id": "bTD8IHd995vf",
        "colab_type": "text"
      },
      "source": [
        "# TF-IDF"
      ]
    },
    {
      "cell_type": "code",
      "metadata": {
        "id": "yuIIhIj6id09",
        "colab_type": "code",
        "colab": {}
      },
      "source": [
        "docs = ['오늘 동물원에서 원숭이를 봤어',\n",
        "        '오늘 동물원에서 코끼리를 봤어 봤어',\n",
        "        '동물원에서 원숭이에게 바나나를 줬어 바나나를']"
      ],
      "execution_count": null,
      "outputs": []
    },
    {
      "cell_type": "code",
      "metadata": {
        "id": "XntJxPtj96yv",
        "colab_type": "code",
        "colab": {
          "base_uri": "https://localhost:8080/",
          "height": 70
        },
        "outputId": "6379aa1b-10df-4260-a9c9-218b3bd2bef4"
      },
      "source": [
        "# 띄어쓰기 단위로 토큰화\n",
        "\n",
        "docs_ls = [doc.split() for doc in docs]\n",
        "\n",
        "docs_ls"
      ],
      "execution_count": 71,
      "outputs": [
        {
          "output_type": "execute_result",
          "data": {
            "text/plain": [
              "[['오늘', '동물원에서', '원숭이를', '봤어'],\n",
              " ['오늘', '동물원에서', '코끼리를', '봤어', '봤어'],\n",
              " ['동물원에서', '원숭이에게', '바나나를', '줬어', '바나나를']]"
            ]
          },
          "metadata": {
            "tags": []
          },
          "execution_count": 71
        }
      ]
    },
    {
      "cell_type": "code",
      "metadata": {
        "id": "fpRygnyr96oX",
        "colab_type": "code",
        "colab": {
          "base_uri": "https://localhost:8080/",
          "height": 176
        },
        "outputId": "30235164-8978-4f40-ee8c-64a28c316484"
      },
      "source": [
        "# 인덱스 지정\n",
        "from collections import defaultdict\n",
        "\n",
        "word2id = defaultdict(lambda : len(word2id))\n",
        "\n",
        "[word2id[token] for doc in docs_ls for token in doc]\n",
        "\n",
        "word2id"
      ],
      "execution_count": 74,
      "outputs": [
        {
          "output_type": "execute_result",
          "data": {
            "text/plain": [
              "defaultdict(<function __main__.<lambda>>,\n",
              "            {'동물원에서': 1,\n",
              "             '바나나를': 6,\n",
              "             '봤어': 3,\n",
              "             '오늘': 0,\n",
              "             '원숭이를': 2,\n",
              "             '원숭이에게': 5,\n",
              "             '줬어': 7,\n",
              "             '코끼리를': 4})"
            ]
          },
          "metadata": {
            "tags": []
          },
          "execution_count": 74
        }
      ]
    },
    {
      "cell_type": "code",
      "metadata": {
        "id": "fAniH7o896go",
        "colab_type": "code",
        "colab": {
          "base_uri": "https://localhost:8080/",
          "height": 70
        },
        "outputId": "aa237b32-2fcb-4c72-85ec-de93f703fb90"
      },
      "source": [
        "# DTM 계산\n",
        "\n",
        "DTM = TDM.transpose()\n",
        "\n",
        "DTM"
      ],
      "execution_count": 75,
      "outputs": [
        {
          "output_type": "execute_result",
          "data": {
            "text/plain": [
              "array([[1, 1, 1, 1, 0, 0, 0, 0],\n",
              "       [1, 1, 0, 2, 1, 0, 0, 0],\n",
              "       [0, 1, 0, 0, 0, 1, 2, 1]])"
            ]
          },
          "metadata": {
            "tags": []
          },
          "execution_count": 75
        }
      ]
    },
    {
      "cell_type": "code",
      "metadata": {
        "id": "u8uNNDzA96JA",
        "colab_type": "code",
        "colab": {}
      },
      "source": [
        ""
      ],
      "execution_count": null,
      "outputs": []
    },
    {
      "cell_type": "markdown",
      "metadata": {
        "id": "6cU-R_Io97VI",
        "colab_type": "text"
      },
      "source": [
        "# 유사도"
      ]
    },
    {
      "cell_type": "code",
      "metadata": {
        "id": "StZvv_KwFqDI",
        "colab_type": "code",
        "colab": {}
      },
      "source": [
        "word_embedding_dic = { '사과' : [1.0, 0.5], '바나나' : [0.9, 1.2], '원숭이' : [0.5, 1.5] }"
      ],
      "execution_count": null,
      "outputs": []
    },
    {
      "cell_type": "code",
      "metadata": {
        "id": "y_QsqhaG98PZ",
        "colab_type": "code",
        "colab": {
          "base_uri": "https://localhost:8080/",
          "height": 34
        },
        "outputId": "3494e889-c5dc-48c9-bb8f-c022b3a1c12f"
      },
      "source": [
        "# 유클리디안 유사도\n",
        "import numpy as np\n",
        "\n",
        "def euclidean_sim(x,y):\n",
        "  x= np.array(x)\n",
        "  y= np.array(y)\n",
        "\n",
        "  return np.sqrt(np.sum(x-y)**2)\n",
        "\n",
        "euclidean_sim(word_embedding_dic['사과'],word_embedding_dic['바나나'])"
      ],
      "execution_count": null,
      "outputs": [
        {
          "output_type": "execute_result",
          "data": {
            "text/plain": [
              "0.6"
            ]
          },
          "metadata": {
            "tags": []
          },
          "execution_count": 4
        }
      ]
    },
    {
      "cell_type": "code",
      "metadata": {
        "id": "WPpAU-fHH35B",
        "colab_type": "code",
        "colab": {
          "base_uri": "https://localhost:8080/",
          "height": 34
        },
        "outputId": "1c7f8e85-3e75-43df-cab8-2ee408f2b518"
      },
      "source": [
        "# 코사인 유사도\n",
        "import numpy as np\n",
        "from numpy import dot\n",
        "from numpy.linalg import norm\n",
        "\n",
        "def cosine_sim(x,y) :\n",
        "\n",
        "  return dot(x,y)/(norm(x)*norm(y))\n",
        "\n",
        "cosine_sim(word_embedding_dic['사과'],word_embedding_dic['바나나'])"
      ],
      "execution_count": null,
      "outputs": [
        {
          "output_type": "execute_result",
          "data": {
            "text/plain": [
              "0.8944271909999159"
            ]
          },
          "metadata": {
            "tags": []
          },
          "execution_count": 11
        }
      ]
    },
    {
      "cell_type": "code",
      "metadata": {
        "id": "v8rBmC9c98Af",
        "colab_type": "code",
        "colab": {}
      },
      "source": [
        "# 자카드 유사도\n",
        "\n",
        "s1 = '대부분 원숭이는 바나나를 좋아합니다.'\n",
        "s2 = '코주부 원숭이는 바나나를 싫어합니다.'"
      ],
      "execution_count": 14,
      "outputs": []
    },
    {
      "cell_type": "code",
      "metadata": {
        "id": "rQq_ttM-97rX",
        "colab_type": "code",
        "colab": {
          "base_uri": "https://localhost:8080/",
          "height": 34
        },
        "outputId": "ca6022f8-3e28-4b0c-bb39-d5051f862dbe"
      },
      "source": [
        "# 토큰화\n",
        "s1_t = s1.split()\n",
        "s2_t = s2.split()\n",
        "\n",
        "\n",
        "intersection = set(s1_t).intersection(set(s2_t)) \n",
        "union = set(s1_t).union(set(s2_t))\n",
        "\n",
        "jaccad_sim = len(intersection)/ len(union)\n",
        "\n",
        "jaccad_sim"
      ],
      "execution_count": 17,
      "outputs": [
        {
          "output_type": "execute_result",
          "data": {
            "text/plain": [
              "0.3333333333333333"
            ]
          },
          "metadata": {
            "tags": []
          },
          "execution_count": 17
        }
      ]
    },
    {
      "cell_type": "markdown",
      "metadata": {
        "id": "GDVeO9zu98k3",
        "colab_type": "text"
      },
      "source": [
        "# Naive Baysian"
      ]
    },
    {
      "cell_type": "code",
      "metadata": {
        "id": "ADPmMuLl998P",
        "colab_type": "code",
        "colab": {}
      },
      "source": [
        ""
      ],
      "execution_count": null,
      "outputs": []
    },
    {
      "cell_type": "code",
      "metadata": {
        "id": "aOCs7FdT9-Qn",
        "colab_type": "code",
        "colab": {}
      },
      "source": [
        ""
      ],
      "execution_count": null,
      "outputs": []
    },
    {
      "cell_type": "code",
      "metadata": {
        "id": "NW8gULPa99jP",
        "colab_type": "code",
        "colab": {}
      },
      "source": [
        ""
      ],
      "execution_count": null,
      "outputs": []
    }
  ]
}